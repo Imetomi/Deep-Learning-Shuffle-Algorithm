{
 "cells": [
  {
   "cell_type": "code",
   "execution_count": 1,
   "metadata": {},
   "outputs": [],
   "source": [
    "import numpy as np\n",
    "import matplotlib.pyplot as plt\n",
    "from tensorflow.keras.utils import to_categorical\n",
    "\n",
    "# Both MNIST and Fashion-MNIST can be loaded from Keras\n",
    "from tensorflow.keras.datasets import mnist\n",
    "from tensorflow.keras.datasets import fashion_mnist\n",
    "\n",
    "from tqdm import tqdm\n",
    "from tqdm.autonotebook import tqdm, trange"
   ]
  },
  {
   "cell_type": "code",
   "execution_count": 2,
   "metadata": {},
   "outputs": [],
   "source": [
    "#(x_train, y_train), (x_test, y_test) = mnist.load_data()\n",
    "(x_train, y_train), (x_test, y_test) = fashion_mnist.load_data()\n",
    "\n",
    "# Convert image pixels to floats between 0 and 1\n",
    "X_train = x_train / 255\n",
    "X_test = x_test / 255\n",
    "\n",
    "# Convert output to one hot encoding\n",
    "Y_train = to_categorical(y_train, 10) \n",
    "Y_test = to_categorical(y_test, 10)\n",
    "\n",
    "X_train = np.expand_dims(X_train, -1)\n",
    "X_test = np.expand_dims(X_test, -1)"
   ]
  },
  {
   "cell_type": "code",
   "execution_count": 3,
   "metadata": {},
   "outputs": [
    {
     "output_type": "stream",
     "name": "stdout",
     "text": [
      "Model: \"sequential\"\n_________________________________________________________________\nLayer (type)                 Output Shape              Param #   \n=================================================================\nconv2d (Conv2D)              (None, 26, 26, 32)        320       \n_________________________________________________________________\nmax_pooling2d (MaxPooling2D) (None, 13, 13, 32)        0         \n_________________________________________________________________\nconv2d_1 (Conv2D)            (None, 11, 11, 64)        18496     \n_________________________________________________________________\nmax_pooling2d_1 (MaxPooling2 (None, 5, 5, 64)          0         \n_________________________________________________________________\nflatten (Flatten)            (None, 1600)              0         \n_________________________________________________________________\ndense (Dense)                (None, 10)                16010     \n=================================================================\nTotal params: 34,826\nTrainable params: 34,826\nNon-trainable params: 0\n_________________________________________________________________\nNone\n"
     ]
    }
   ],
   "source": [
    "import tensorflow as tf\n",
    "\n",
    "gpus= tf.config.experimental.list_physical_devices('GPU')\n",
    "tf.config.experimental.set_memory_growth(gpus[0], True)\n",
    "\n",
    "from tensorflow import keras\n",
    "from tensorflow.keras import layers\n",
    "from tensorflow.keras.models import Sequential\n",
    "\n",
    "model = Sequential()\n",
    "model.add(layers.Input(shape = (28, 28, 1,)))\n",
    "model.add(layers.Conv2D(32, kernel_size = (3, 3), activation = \"relu\"))\n",
    "model.add(layers.MaxPooling2D( pool_size = (2, 2)))\n",
    "model.add(layers.Conv2D(64, kernel_size = (3, 3), activation = \"relu\"))\n",
    "model.add(layers.MaxPooling2D(pool_size = (2, 2)))\n",
    "model.add(layers.Flatten())\n",
    "model.add(layers.Dense(10, activation = \"softmax\"))\n",
    "\n",
    "model.compile(loss=\"categorical_crossentropy\", optimizer=\"adam\", metrics=[\"accuracy\"])\n",
    "print( model.summary() )"
   ]
  },
  {
   "cell_type": "code",
   "execution_count": 4,
   "metadata": {},
   "outputs": [],
   "source": [
    "optimizer = keras.optimizers.Adam()\n",
    "loss_fn = keras.losses.CategoricalCrossentropy(from_logits=True)\n",
    "\n",
    "batch_size = 64\n",
    "\n",
    "train_dataset = tf.data.Dataset.from_tensor_slices((X_train, Y_train))\n",
    "train_dataset = train_dataset.shuffle(buffer_size=1024).batch(batch_size, drop_remainder=True)"
   ]
  },
  {
   "cell_type": "code",
   "execution_count": 5,
   "metadata": {},
   "outputs": [],
   "source": [
    "train_data = list(train_dataset)"
   ]
  },
  {
   "cell_type": "code",
   "execution_count": 6,
   "metadata": {},
   "outputs": [],
   "source": [
    "train_acc_metric = keras.metrics.CategoricalAccuracy()"
   ]
  },
  {
   "cell_type": "code",
   "execution_count": 7,
   "metadata": {},
   "outputs": [],
   "source": [
    "@tf.function\n",
    "def train_step(x, y):\n",
    "    with tf.GradientTape() as tape:\n",
    "        logits = model(x, training=True)\n",
    "        loss_value = loss_fn(y, logits)\n",
    "    grads = tape.gradient(loss_value, model.trainable_weights)\n",
    "    optimizer.apply_gradients(zip(grads, model.trainable_weights))\n",
    "    train_acc_metric.update_state(y, logits)\n",
    "    return loss_value"
   ]
  },
  {
   "cell_type": "code",
   "execution_count": 8,
   "metadata": {
    "scrolled": false
   },
   "outputs": [
    {
     "output_type": "stream",
     "name": "stderr",
     "text": [
      "Epoch 1/50\tLoss: 1.6948\tAccuracy: 0.7398: \t100% | 937/937 [00:03<00:00, 269.43it/s]\n",
      "Epoch 2/50\tLoss: 1.6292\tAccuracy: 0.7932: \t100% | 937/937 [00:02<00:00, 419.61it/s]\n",
      "Epoch 3/50\tLoss: 1.6200\tAccuracy: 0.8163: \t100% | 937/937 [00:02<00:00, 412.48it/s]\n",
      "Epoch 4/50\tLoss: 1.6009\tAccuracy: 0.8297: \t100% | 937/937 [00:02<00:00, 424.98it/s]\n",
      "Epoch 5/50\tLoss: 1.5833\tAccuracy: 0.8389: \t100% | 937/937 [00:02<00:00, 412.39it/s]\n",
      "Epoch 6/50\tLoss: 1.5682\tAccuracy: 0.8462: \t100% | 937/937 [00:02<00:00, 420.93it/s]\n",
      "Epoch 7/50\tLoss: 1.5744\tAccuracy: 0.8523: \t100% | 937/937 [00:02<00:00, 419.47it/s]\n",
      "Epoch 8/50\tLoss: 1.5487\tAccuracy: 0.8574: \t100% | 937/937 [00:02<00:00, 423.37it/s]\n",
      "Epoch 9/50\tLoss: 1.5591\tAccuracy: 0.8619: \t100% | 937/937 [00:02<00:00, 424.16it/s]\n",
      "Epoch 10/50\tLoss: 1.5506\tAccuracy: 0.8657: \t100% | 937/937 [00:02<00:00, 413.98it/s]\n",
      "Epoch 11/50\tLoss: 1.5384\tAccuracy: 0.8691: \t100% | 937/937 [00:02<00:00, 419.64it/s]\n",
      "Epoch 12/50\tLoss: 1.5406\tAccuracy: 0.8722: \t100% | 937/937 [00:02<00:00, 416.40it/s]\n",
      "Epoch 13/50\tLoss: 1.5274\tAccuracy: 0.8751: \t100% | 937/937 [00:02<00:00, 417.14it/s]\n",
      "Epoch 14/50\tLoss: 1.5235\tAccuracy: 0.8778: \t100% | 937/937 [00:02<00:00, 411.32it/s]\n",
      "Epoch 15/50\tLoss: 1.5295\tAccuracy: 0.8803: \t100% | 937/937 [00:02<00:00, 411.65it/s]\n",
      "Epoch 16/50\tLoss: 1.5299\tAccuracy: 0.8826: \t100% | 937/937 [00:02<00:00, 415.29it/s]\n",
      "Epoch 17/50\tLoss: 1.5327\tAccuracy: 0.8847: \t100% | 937/937 [00:02<00:00, 410.86it/s]\n",
      "Epoch 18/50\tLoss: 1.5374\tAccuracy: 0.8867: \t100% | 937/937 [00:02<00:00, 408.25it/s]\n",
      "Epoch 19/50\tLoss: 1.5155\tAccuracy: 0.8886: \t100% | 937/937 [00:02<00:00, 401.28it/s]\n",
      "Epoch 20/50\tLoss: 1.5305\tAccuracy: 0.8904: \t100% | 937/937 [00:02<00:00, 412.18it/s]\n",
      "Epoch 21/50\tLoss: 1.5195\tAccuracy: 0.8922: \t100% | 937/937 [00:02<00:00, 407.15it/s]\n",
      "Epoch 22/50\tLoss: 1.5242\tAccuracy: 0.8938: \t100% | 937/937 [00:02<00:00, 411.49it/s]\n",
      "Epoch 23/50\tLoss: 1.5141\tAccuracy: 0.8953: \t100% | 937/937 [00:02<00:00, 411.74it/s]\n",
      "Epoch 24/50\tLoss: 1.5225\tAccuracy: 0.8968: \t100% | 937/937 [00:02<00:00, 411.16it/s]\n",
      "Epoch 25/50\tLoss: 1.5366\tAccuracy: 0.8982: \t100% | 937/937 [00:02<00:00, 419.44it/s]\n",
      "Epoch 26/50\tLoss: 1.5401\tAccuracy: 0.8995: \t100% | 937/937 [00:02<00:00, 406.03it/s]\n",
      "Epoch 27/50\tLoss: 1.5236\tAccuracy: 0.9007: \t100% | 937/937 [00:02<00:00, 413.11it/s]\n",
      "Epoch 28/50\tLoss: 1.5191\tAccuracy: 0.9020: \t100% | 937/937 [00:02<00:00, 406.66it/s]\n",
      "Epoch 29/50\tLoss: 1.5359\tAccuracy: 0.9031: \t100% | 937/937 [00:02<00:00, 411.28it/s]\n",
      "Epoch 30/50\tLoss: 1.5263\tAccuracy: 0.9042: \t100% | 937/937 [00:02<00:00, 400.64it/s]\n",
      "Epoch 31/50\tLoss: 1.5116\tAccuracy: 0.9052: \t100% | 937/937 [00:02<00:00, 406.79it/s]\n",
      "Epoch 32/50\tLoss: 1.5120\tAccuracy: 0.9062: \t100% | 937/937 [00:02<00:00, 407.68it/s]\n",
      "Epoch 33/50\tLoss: 1.5320\tAccuracy: 0.9072: \t100% | 937/937 [00:02<00:00, 403.69it/s]\n",
      "Epoch 34/50\tLoss: 1.5211\tAccuracy: 0.9081: \t100% | 937/937 [00:02<00:00, 411.33it/s]\n",
      "Epoch 35/50\tLoss: 1.5157\tAccuracy: 0.9090: \t100% | 937/937 [00:02<00:00, 419.79it/s]\n",
      "Epoch 36/50\tLoss: 1.5159\tAccuracy: 0.9098: \t100% | 937/937 [00:02<00:00, 418.04it/s]\n",
      "Epoch 37/50\tLoss: 1.5022\tAccuracy: 0.9107: \t100% | 937/937 [00:02<00:00, 416.26it/s]\n",
      "Epoch 38/50\tLoss: 1.5222\tAccuracy: 0.9115: \t100% | 937/937 [00:02<00:00, 414.26it/s]\n",
      "Epoch 39/50\tLoss: 1.5275\tAccuracy: 0.9123: \t100% | 937/937 [00:02<00:00, 405.33it/s]\n",
      "Epoch 40/50\tLoss: 1.5213\tAccuracy: 0.9131: \t100% | 937/937 [00:02<00:00, 408.49it/s]\n",
      "Epoch 41/50\tLoss: 1.5223\tAccuracy: 0.9139: \t100% | 937/937 [00:02<00:00, 416.34it/s]\n",
      "Epoch 42/50\tLoss: 1.5090\tAccuracy: 0.9146: \t100% | 937/937 [00:02<00:00, 417.34it/s]\n",
      "Epoch 43/50\tLoss: 1.5151\tAccuracy: 0.9153: \t100% | 937/937 [00:02<00:00, 419.63it/s]\n",
      "Epoch 44/50\tLoss: 1.5088\tAccuracy: 0.9160: \t100% | 937/937 [00:02<00:00, 416.31it/s]\n",
      "Epoch 45/50\tLoss: 1.5124\tAccuracy: 0.9166: \t100% | 937/937 [00:02<00:00, 415.49it/s]\n",
      "Epoch 46/50\tLoss: 1.5258\tAccuracy: 0.9173: \t100% | 937/937 [00:02<00:00, 412.58it/s]\n",
      "Epoch 47/50\tLoss: 1.4958\tAccuracy: 0.9179: \t100% | 937/937 [00:02<00:00, 404.42it/s]\n",
      "Epoch 48/50\tLoss: 1.4961\tAccuracy: 0.9185: \t100% | 937/937 [00:02<00:00, 422.25it/s]\n",
      "Epoch 49/50\tLoss: 1.4931\tAccuracy: 0.9191: \t100% | 937/937 [00:02<00:00, 410.33it/s]\n",
      "Epoch 50/50\tLoss: 1.4985\tAccuracy: 0.9197: \t100% | 937/937 [00:02<00:00, 404.97it/s]\n"
     ]
    }
   ],
   "source": [
    "epochs = 50\n",
    "\n",
    "for epoch in range(epochs):    \n",
    "    steps = trange(len(train_data), bar_format=\"{desc}\\t{percentage:3.0f}% {r_bar}\")\n",
    "    for i in steps:\n",
    "        step = i\n",
    "        x_batch_train = train_data[i][0]\n",
    "        y_batch_train = train_data[i][1]\n",
    "        \n",
    "        loss_value = train_step(x_batch_train, y_batch_train)\n",
    "        steps.set_description(\"Epoch \" + str(epoch+1) + '/' + str(epochs) + \"\\tLoss: \" + str(float(loss_value))[:6]\n",
    "                              + \"\\tAccuracy: \" + str(float(train_acc_metric.result()))[:6])\n"
   ]
  },
  {
   "cell_type": "code",
   "execution_count": null,
   "metadata": {},
   "outputs": [],
   "source": []
  }
 ],
 "metadata": {
  "kernelspec": {
   "display_name": "Python 3",
   "language": "python",
   "name": "python3"
  },
  "language_info": {
   "codemirror_mode": {
    "name": "ipython",
    "version": 3
   },
   "file_extension": ".py",
   "mimetype": "text/x-python",
   "name": "python",
   "nbconvert_exporter": "python",
   "pygments_lexer": "ipython3",
   "version": "3.8.5-final"
  }
 },
 "nbformat": 4,
 "nbformat_minor": 2
}