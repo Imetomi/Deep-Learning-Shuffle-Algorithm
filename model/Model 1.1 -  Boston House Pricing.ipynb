{
 "cells": [
  {
   "cell_type": "code",
   "execution_count": 7,
   "metadata": {},
   "outputs": [],
   "source": [
    "import numpy as np\n",
    "import pandas as pd\n",
    "import seaborn as sns\n",
    "import matplotlib.pyplot as plt\n",
    "%matplotlib inline\n",
    "import os\n",
    "import tensorflow as tf\n",
    "\n",
    "# needed to avoid a tf error\n",
    "try:\n",
    "    gpus= tf.config.experimental.list_physical_devices('GPU')\n",
    "    tf.config.experimental.set_memory_growth(gpus[0], True)\n",
    "except:\n",
    "    pass\n",
    "\n",
    "from tensorflow.keras.models import Sequential\n",
    "from tensorflow.keras.layers import Dense, Dropout\n",
    "from tensorflow.keras.callbacks import EarlyStopping\n",
    "\n",
    "import tensorflow as tf\n",
    "import numpy as np"
   ]
  },
  {
   "cell_type": "markdown",
   "metadata": {},
   "source": [
    "# Boston Model"
   ]
  },
  {
   "cell_type": "code",
   "execution_count": 8,
   "metadata": {},
   "outputs": [],
   "source": [
    "# loading models that we prepared earlier\n",
    "X_train = np.load(os.path.join('data', 'boston', 'boston_train_vectors.npy'), allow_pickle=True)\n",
    "X_test = np.load(os.path.join('data', 'boston', 'boston_test_vectors.npy'), allow_pickle=True)\n",
    "y_train = np.load(os.path.join('data', 'boston', 'boston_train_labels.npy'), allow_pickle=True)\n",
    "y_test = np.load(os.path.join('data', 'boston', 'boston_test_labels.npy'), allow_pickle=True)"
   ]
  },
  {
   "cell_type": "code",
   "execution_count": 9,
   "metadata": {},
   "outputs": [
    {
     "output_type": "execute_result",
     "data": {
      "text/plain": [
       "((404, 13), (404,))"
      ]
     },
     "metadata": {},
     "execution_count": 9
    }
   ],
   "source": [
    "X_train.shape, y_train.shape"
   ]
  },
  {
   "cell_type": "code",
   "execution_count": 10,
   "metadata": {},
   "outputs": [],
   "source": [
    "# setting seed to get reproducible results\n",
    "tf.random.set_seed(42)\n",
    "np.random.seed(42)\n",
    "\n",
    "# building a small model as an experiment\n",
    "model = Sequential()\n",
    "model.add(Dense(13, activation='sigmoid'))\n",
    "model.add(Dense(50, activation='sigmoid'))\n",
    "model.add(Dense(50, activation='sigmoid'))\n",
    "model.add(Dense(1, activation='linear'))\n",
    "model.compile(loss='mse', optimizer='sgd', metrics=['mae'])"
   ]
  },
  {
   "cell_type": "code",
   "execution_count": 11,
   "metadata": {},
   "outputs": [],
   "source": [
    "# early stopping is not used in the current implementation, but we plan to use it in the final model\n",
    "cb = [EarlyStopping(monitor=\"val_mae\", min_delta=0.01, patience=2, verbose=1, \n",
    "                    mode=\"auto\", baseline=None, restore_best_weights=True)]"
   ]
  },
  {
   "cell_type": "code",
   "execution_count": 12,
   "metadata": {},
   "outputs": [],
   "source": [
    "#model.fit(X_train, y_train, batch_size=1, epochs=20, validation_split=0.1, callbacks=cb)"
   ]
  },
  {
   "source": [
    "# Using the custom training loop"
   ],
   "cell_type": "markdown",
   "metadata": {}
  },
  {
   "cell_type": "code",
   "execution_count": 13,
   "metadata": {},
   "outputs": [],
   "source": [
    "# importing our custom loop\n",
    "from loop import TrainingLoop"
   ]
  },
  {
   "cell_type": "code",
   "execution_count": 15,
   "metadata": {},
   "outputs": [],
   "source": [
    "# using SGD oprimizer for training\n",
    "optimizer = tf.keras.optimizers.SGD()\n",
    "\n",
    "# MSE loss function for this regression task\n",
    "loss_function = tf.keras.losses.MeanSquaredError()\n",
    "\n",
    "batch_size = 8\n",
    "epochs = 20\n",
    "\n",
    "# using MAE as our secondary metric\n",
    "train_metrics = tf.keras.metrics.MeanAbsoluteError()\n",
    "val_metrics = tf.keras.metrics.MeanAbsoluteError()\n",
    "\n",
    "log_path = 'logs/original/boston.csv'"
   ]
  },
  {
   "cell_type": "code",
   "execution_count": 16,
   "metadata": {},
   "outputs": [],
   "source": [
    "@tf.function\n",
    "def calc_loss(x_train, y_train):\n",
    "    with tf.GradientTape() as tape:\n",
    "        logits = model(x_train, training=False)\n",
    "        loss_value = loss_function(y_train, logits)\n",
    "    return loss_value\n",
    "\n",
    "\n",
    "def batch_selector(data, idx):\n",
    "    largest_loss = 0\n",
    "    largest_loss_idx = idx\n",
    "\n",
    "    if idx < len(data) - 5:\n",
    "        for i in range(idx, idx+5):\n",
    "            x_batch_train = data[i][0]\n",
    "            y_batch_train = data[i][1]\n",
    "            loss = calc_loss(x_batch_train, y_batch_train)\n",
    "            if loss > largest_loss:\n",
    "                largest_loss = loss\n",
    "                largest_loss_idx = i\n",
    "        return largest_loss_idx\n",
    "    else:\n",
    "        loss = calc_loss(data[idx][0], data[idx][1])\n",
    "        return idx"
   ]
  },
  {
   "cell_type": "code",
   "execution_count": 17,
   "metadata": {},
   "outputs": [],
   "source": [
    "# defininf the training class\n",
    "training = TrainingLoop(model, X_train, y_train, \n",
    "                        loss_function, \n",
    "                        optimizer, \n",
    "                        train_metrics, \n",
    "                        val_metrics, \n",
    "                        validation_split=0.1, \n",
    "                        batch_size=batch_size,\n",
    "                        log_file=log_path)"
   ]
  },
  {
   "cell_type": "code",
   "execution_count": 18,
   "metadata": {},
   "outputs": [
    {
     "output_type": "stream",
     "name": "stderr",
     "text": [
      "\t  0% | 0/45 [00:00<?, ?it/s]WARNING:tensorflow:Layer dense_4 is casting an input tensor from dtype float64 to the layer's dtype of float32, which is new behavior in TensorFlow 2.  The layer has dtype float32 because its dtype defaults to floatx.\n",
      "\n",
      "If you intended to run this layer in float32, you can safely ignore this warning. If in doubt, this warning is likely only an issue if you are porting a TensorFlow 1.X model to TensorFlow 2.\n",
      "\n",
      "To change all layers to have dtype float64 by default, call `tf.keras.backend.set_floatx('float64')`. To change just this layer, pass dtype='float64' to the layer constructor. If you are the author of this layer, you can disable autocasting by passing autocast=False to the base Layer constructor.\n",
      "\n",
      "Epoch 1/20\tLoss: 19.469\tMetrics: 7.5130: \tValidation metrics: 7.0094: \t100% | 45/45 [00:00<00:00, 78.14it/s]\n",
      "Epoch 2/20\tLoss: 23.681\tMetrics: 6.3559: \tValidation metrics: 5.1452: \t100% | 45/45 [00:00<00:00, 435.77it/s]\n",
      "Epoch 3/20\tLoss: 4.7099\tMetrics: 4.6010: \tValidation metrics: 3.4112: \t100% | 45/45 [00:00<00:00, 387.15it/s]\n",
      "Epoch 4/20\tLoss: 3.7876\tMetrics: 3.9224: \tValidation metrics: 3.2041: \t100% | 45/45 [00:00<00:00, 386.18it/s]\n",
      "Epoch 5/20\tLoss: 7.6496\tMetrics: 3.8658: \tValidation metrics: 3.1627: \t100% | 45/45 [00:00<00:00, 352.39it/s]\n",
      "Epoch 6/20\tLoss: 9.3802\tMetrics: 3.7763: \tValidation metrics: 3.0958: \t100% | 45/45 [00:00<00:00, 329.59it/s]\n",
      "Epoch 7/20\tLoss: 10.023\tMetrics: 3.6885: \tValidation metrics: 3.0502: \t100% | 45/45 [00:00<00:00, 380.01it/s]\n",
      "Epoch 8/20\tLoss: 10.615\tMetrics: 3.5897: \tValidation metrics: 2.9979: \t100% | 45/45 [00:00<00:00, 387.09it/s]\n",
      "Epoch 9/20\tLoss: 11.234\tMetrics: 3.4970: \tValidation metrics: 2.9781: \t100% | 45/45 [00:00<00:00, 402.98it/s]\n",
      "Epoch 10/20\tLoss: 11.686\tMetrics: 3.4142: \tValidation metrics: 2.9694: \t100% | 45/45 [00:00<00:00, 353.48it/s]\n",
      "Epoch 11/20\tLoss: 12.087\tMetrics: 3.3296: \tValidation metrics: 2.9296: \t100% | 45/45 [00:00<00:00, 358.19it/s]\n",
      "Epoch 12/20\tLoss: 12.478\tMetrics: 3.2533: \tValidation metrics: 2.8635: \t100% | 45/45 [00:00<00:00, 354.74it/s]\n",
      "Epoch 13/20\tLoss: 12.757\tMetrics: 3.1791: \tValidation metrics: 2.7765: \t100% | 45/45 [00:00<00:00, 403.04it/s]\n",
      "Epoch 14/20\tLoss: 12.824\tMetrics: 3.1047: \tValidation metrics: 2.6839: \t100% | 45/45 [00:00<00:00, 387.19it/s]\n",
      "Epoch 15/20\tLoss: 12.617\tMetrics: 3.0326: \tValidation metrics: 2.5895: \t100% | 45/45 [00:00<00:00, 348.80it/s]\n",
      "Epoch 16/20\tLoss: 12.180\tMetrics: 2.9591: \tValidation metrics: 2.4987: \t100% | 45/45 [00:00<00:00, 320.59it/s]\n",
      "Epoch 17/20\tLoss: 11.862\tMetrics: 2.8785: \tValidation metrics: 2.4169: \t100% | 45/45 [00:00<00:00, 381.64it/s]\n",
      "Epoch 18/20\tLoss: 11.823\tMetrics: 2.7947: \tValidation metrics: 2.3474: \t100% | 45/45 [00:00<00:00, 381.74it/s]\n",
      "Epoch 19/20\tLoss: 11.842\tMetrics: 2.7162: \tValidation metrics: 2.2976: \t100% | 45/45 [00:00<00:00, 381.77it/s]\n",
      "Epoch 20/20\tLoss: 11.867\tMetrics: 2.6498: \tValidation metrics: 2.2522: \t100% | 45/45 [00:00<00:00, 415.27it/s]\n"
     ]
    }
   ],
   "source": [
    "training.train(epochs)"
   ]
  },
  {
   "cell_type": "code",
   "execution_count": 13,
   "metadata": {},
   "outputs": [
    {
     "output_type": "stream",
     "name": "stdout",
     "text": [
      "4/4 [==============================] - 0s 859us/step - loss: 10.2477 - mae: 2.4130\n",
      "3.2012065818073565 2.41302490234375\n"
     ]
    }
   ],
   "source": [
    "res = model.evaluate(X_test, y_test)\n",
    "print(np.sqrt(res[0]), res[1])"
   ]
  }
 ],
 "metadata": {
  "kernelspec": {
   "display_name": "Python 3",
   "language": "python",
   "name": "python3"
  },
  "language_info": {
   "codemirror_mode": {
    "name": "ipython",
    "version": 3
   },
   "file_extension": ".py",
   "mimetype": "text/x-python",
   "name": "python",
   "nbconvert_exporter": "python",
   "pygments_lexer": "ipython3",
   "version": "3.8.5-final"
  }
 },
 "nbformat": 4,
 "nbformat_minor": 4
}