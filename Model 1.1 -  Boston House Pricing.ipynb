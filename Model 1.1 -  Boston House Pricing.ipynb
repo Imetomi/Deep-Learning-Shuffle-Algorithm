{
 "cells": [
  {
   "cell_type": "code",
   "execution_count": 1,
   "metadata": {},
   "outputs": [],
   "source": [
    "import numpy as np\n",
    "import pandas as pd\n",
    "import seaborn as sns\n",
    "import matplotlib.pyplot as plt\n",
    "%matplotlib inline\n",
    "import os\n",
    "import tensorflow as tf\n",
    "\n",
    "from tensorflow.keras.models import Sequential\n",
    "from tensorflow.keras.layers import Dense, Dropout\n",
    "from tensorflow.keras.callbacks import EarlyStopping\n",
    "\n",
    "import tensorflow as tf\n",
    "import numpy as np"
   ]
  },
  {
   "cell_type": "markdown",
   "metadata": {},
   "source": [
    "# Boston Model"
   ]
  },
  {
   "cell_type": "code",
   "execution_count": 2,
   "metadata": {},
   "outputs": [],
   "source": [
    "X_train = np.load(os.path.join('data', 'boston', 'boston_train_vectors.npy'), allow_pickle=True)\n",
    "X_test = np.load(os.path.join('data', 'boston', 'boston_test_vectors.npy'), allow_pickle=True)\n",
    "y_train = np.load(os.path.join('data', 'boston', 'boston_train_labels.npy'), allow_pickle=True)\n",
    "y_test = np.load(os.path.join('data', 'boston', 'boston_test_labels.npy'), allow_pickle=True)"
   ]
  },
  {
   "cell_type": "code",
   "execution_count": 3,
   "metadata": {},
   "outputs": [
    {
     "output_type": "execute_result",
     "data": {
      "text/plain": [
       "((404, 13), (404,))"
      ]
     },
     "metadata": {},
     "execution_count": 3
    }
   ],
   "source": [
    "X_train.shape, y_train.shape"
   ]
  },
  {
   "cell_type": "code",
   "execution_count": 4,
   "metadata": {},
   "outputs": [],
   "source": [
    "tf.random.set_seed(42)\n",
    "np.random.seed(42)\n",
    "tf.keras.backend.set_floatx('float64')\n",
    "\n",
    "model = Sequential()\n",
    "model.add(Dense(13, activation='sigmoid'))\n",
    "model.add(Dense(50, activation='sigmoid'))\n",
    "model.add(Dense(50, activation='sigmoid'))\n",
    "model.add(Dense(1, activation='linear'))\n",
    "model.compile(loss='mse', optimizer='sgd', metrics=['mae'])"
   ]
  },
  {
   "cell_type": "code",
   "execution_count": 5,
   "metadata": {},
   "outputs": [],
   "source": [
    "cb = [EarlyStopping(monitor=\"val_mae\", min_delta=0.01, patience=2, verbose=1, \n",
    "                    mode=\"auto\", baseline=None, restore_best_weights=True)]"
   ]
  },
  {
   "cell_type": "code",
   "execution_count": 6,
   "metadata": {},
   "outputs": [],
   "source": [
    "#model.fit(X_train, y_train, batch_size=1, epochs=20, validation_split=0.1, callbacks=cb)"
   ]
  },
  {
   "source": [
    "# Using the custom training loop"
   ],
   "cell_type": "markdown",
   "metadata": {}
  },
  {
   "cell_type": "code",
   "execution_count": 7,
   "metadata": {},
   "outputs": [
    {
     "output_type": "stream",
     "name": "stderr",
     "text": [
      "Using TensorFlow backend.\n"
     ]
    }
   ],
   "source": [
    "from loop import TrainingLoop\n",
    "import keras"
   ]
  },
  {
   "cell_type": "code",
   "execution_count": 8,
   "metadata": {},
   "outputs": [],
   "source": [
    "\n",
    "optimizer = tf.keras.optimizers.Adam()\n",
    "loss_function = tf.keras.losses.MeanSquaredError()\n",
    "\n",
    "batch_size = 1\n",
    "epochs = 20\n",
    "\n",
    "train_metrics = tf.keras.metrics.MeanAbsoluteError()\n",
    "val_metrics = tf.keras.metrics.MeanAbsoluteError()"
   ]
  },
  {
   "cell_type": "code",
   "execution_count": 9,
   "metadata": {},
   "outputs": [],
   "source": [
    "training = TrainingLoop(model, X_train, y_train, loss_function, optimizer, train_metrics, val_metrics, validation_split=0.1, batch_size=batch_size)"
   ]
  },
  {
   "cell_type": "code",
   "execution_count": 10,
   "metadata": {},
   "outputs": [
    {
     "output_type": "stream",
     "name": "stderr",
     "text": [
      "Epoch 1/20\tLoss: 72.283\tMetrics: 15.168: \tValidation metrics: 10.229: \t100% | 363/363 [00:01<00:00, 323.23it/s]\n",
      "Epoch 2/20\tLoss: 8.6634\tMetrics: 8.5690: \tValidation metrics: 7.4581: \t100% | 363/363 [00:00<00:00, 588.99it/s]\n",
      "Epoch 3/20\tLoss: 0.0131\tMetrics: 6.8181: \tValidation metrics: 7.4331: \t100% | 363/363 [00:00<00:00, 550.71it/s]\n",
      "Epoch 4/20\tLoss: 0.9017\tMetrics: 6.5793: \tValidation metrics: 7.3604: \t100% | 363/363 [00:00<00:00, 588.35it/s]\n",
      "Epoch 5/20\tLoss: 2.8709\tMetrics: 6.1676: \tValidation metrics: 6.5593: \t100% | 363/363 [00:00<00:00, 601.87it/s]\n",
      "Epoch 6/20\tLoss: 8.0239\tMetrics: 5.5194: \tValidation metrics: 5.6504: \t100% | 363/363 [00:00<00:00, 615.61it/s]\n",
      "Epoch 7/20\tLoss: 15.298\tMetrics: 5.0236: \tValidation metrics: 5.0925: \t100% | 363/363 [00:00<00:00, 605.88it/s]\n",
      "Epoch 8/20\tLoss: 21.717\tMetrics: 4.7738: \tValidation metrics: 4.8580: \t100% | 363/363 [00:00<00:00, 577.68it/s]\n",
      "Epoch 9/20\tLoss: 25.164\tMetrics: 4.6436: \tValidation metrics: 4.6387: \t100% | 363/363 [00:00<00:00, 598.45it/s]\n",
      "Epoch 10/20\tLoss: 24.586\tMetrics: 4.4982: \tValidation metrics: 4.4557: \t100% | 363/363 [00:00<00:00, 614.26it/s]\n",
      "Epoch 11/20\tLoss: 20.320\tMetrics: 4.3598: \tValidation metrics: 4.3615: \t100% | 363/363 [00:00<00:00, 592.99it/s]\n",
      "Epoch 12/20\tLoss: 14.383\tMetrics: 4.2245: \tValidation metrics: 4.2719: \t100% | 363/363 [00:00<00:00, 556.40it/s]\n",
      "Epoch 13/20\tLoss: 8.9153\tMetrics: 4.1007: \tValidation metrics: 4.2106: \t100% | 363/363 [00:00<00:00, 585.77it/s]\n",
      "Epoch 14/20\tLoss: 5.0272\tMetrics: 3.9681: \tValidation metrics: 4.1400: \t100% | 363/363 [00:00<00:00, 577.95it/s]\n",
      "Epoch 15/20\tLoss: 2.6448\tMetrics: 3.8458: \tValidation metrics: 4.0721: \t100% | 363/363 [00:00<00:00, 575.13it/s]\n",
      "Epoch 16/20\tLoss: 1.3086\tMetrics: 3.7357: \tValidation metrics: 4.0224: \t100% | 363/363 [00:00<00:00, 594.58it/s]\n",
      "Epoch 17/20\tLoss: 0.6062\tMetrics: 3.6495: \tValidation metrics: 3.9631: \t100% | 363/363 [00:00<00:00, 615.96it/s]\n",
      "Epoch 18/20\tLoss: 0.2579\tMetrics: 3.5817: \tValidation metrics: 3.9005: \t100% | 363/363 [00:00<00:00, 594.11it/s]\n",
      "Epoch 19/20\tLoss: 0.0958\tMetrics: 3.5201: \tValidation metrics: 3.8374: \t100% | 363/363 [00:00<00:00, 569.56it/s]\n",
      "Epoch 20/20\tLoss: 0.0267\tMetrics: 3.4621: \tValidation metrics: 3.7862: \t100% | 363/363 [00:00<00:00, 534.79it/s]\n"
     ]
    }
   ],
   "source": [
    "training.train(epochs)"
   ]
  },
  {
   "cell_type": "code",
   "execution_count": 23,
   "metadata": {},
   "outputs": [
    {
     "output_type": "stream",
     "name": "stdout",
     "text": [
      "4/4 [==============================] - 0s 859us/step - loss: 18.2496 - mae: 3.0743\n",
      "4.271956026494088 3.0742857456207275\n"
     ]
    }
   ],
   "source": [
    "res = model.evaluate(X_test, y_test)\n",
    "print(np.sqrt(res[0]), res[1])"
   ]
  }
 ],
 "metadata": {
  "kernelspec": {
   "display_name": "Python 3",
   "language": "python",
   "name": "python3"
  },
  "language_info": {
   "codemirror_mode": {
    "name": "ipython",
    "version": 3
   },
   "file_extension": ".py",
   "mimetype": "text/x-python",
   "name": "python",
   "nbconvert_exporter": "python",
   "pygments_lexer": "ipython3",
   "version": "3.8.5-final"
  }
 },
 "nbformat": 4,
 "nbformat_minor": 4
}