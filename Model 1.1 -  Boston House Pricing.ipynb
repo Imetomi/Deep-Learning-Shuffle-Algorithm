{
 "cells": [
  {
   "cell_type": "code",
   "execution_count": 1,
   "metadata": {},
   "outputs": [],
   "source": [
    "import numpy as np\n",
    "import pandas as pd\n",
    "import seaborn as sns\n",
    "import matplotlib.pyplot as plt\n",
    "%matplotlib inline\n",
    "import os\n",
    "import tensorflow as tf\n",
    "try:\n",
    "    gpus= tf.config.experimental.list_physical_devices('GPU')\n",
    "    tf.config.experimental.set_memory_growth(gpus[0], True)\n",
    "except:\n",
    "    pass\n",
    "\n",
    "from tensorflow.keras.models import Sequential\n",
    "from tensorflow.keras.layers import Dense, Dropout\n",
    "from tensorflow.keras.callbacks import EarlyStopping\n",
    "\n",
    "import tensorflow as tf\n",
    "import numpy as np"
   ]
  },
  {
   "cell_type": "markdown",
   "metadata": {},
   "source": [
    "# Boston Model"
   ]
  },
  {
   "cell_type": "code",
   "execution_count": 2,
   "metadata": {},
   "outputs": [],
   "source": [
    "X_train = np.load(os.path.join('data', 'boston', 'boston_train_vectors.npy'), allow_pickle=True)\n",
    "X_test = np.load(os.path.join('data', 'boston', 'boston_test_vectors.npy'), allow_pickle=True)\n",
    "y_train = np.load(os.path.join('data', 'boston', 'boston_train_labels.npy'), allow_pickle=True)\n",
    "y_test = np.load(os.path.join('data', 'boston', 'boston_test_labels.npy'), allow_pickle=True)"
   ]
  },
  {
   "cell_type": "code",
   "execution_count": 3,
   "metadata": {},
   "outputs": [
    {
     "output_type": "execute_result",
     "data": {
      "text/plain": [
       "((404, 13), (404,))"
      ]
     },
     "metadata": {},
     "execution_count": 3
    }
   ],
   "source": [
    "X_train.shape, y_train.shape"
   ]
  },
  {
   "cell_type": "code",
   "execution_count": 4,
   "metadata": {},
   "outputs": [],
   "source": [
    "tf.random.set_seed(42)\n",
    "np.random.seed(42)\n",
    "\n",
    "model = Sequential()\n",
    "model.add(Dense(13, activation='sigmoid'))\n",
    "model.add(Dense(50, activation='sigmoid'))\n",
    "model.add(Dense(50, activation='sigmoid'))\n",
    "model.add(Dense(1, activation='linear'))\n",
    "model.compile(loss='mse', optimizer='sgd', metrics=['mae'])"
   ]
  },
  {
   "cell_type": "code",
   "execution_count": 5,
   "metadata": {},
   "outputs": [],
   "source": [
    "cb = [EarlyStopping(monitor=\"val_mae\", min_delta=0.01, patience=2, verbose=1, \n",
    "                    mode=\"auto\", baseline=None, restore_best_weights=True)]"
   ]
  },
  {
   "cell_type": "code",
   "execution_count": 6,
   "metadata": {},
   "outputs": [],
   "source": [
    "#model.fit(X_train, y_train, batch_size=1, epochs=20, validation_split=0.1, callbacks=cb)"
   ]
  },
  {
   "source": [
    "# Using the custom training loop"
   ],
   "cell_type": "markdown",
   "metadata": {}
  },
  {
   "cell_type": "code",
   "execution_count": 7,
   "metadata": {},
   "outputs": [
    {
     "output_type": "stream",
     "name": "stderr",
     "text": [
      "Using TensorFlow backend.\n"
     ]
    }
   ],
   "source": [
    "from loop import TrainingLoop\n",
    "import keras"
   ]
  },
  {
   "cell_type": "code",
   "execution_count": 8,
   "metadata": {},
   "outputs": [],
   "source": [
    "\n",
    "optimizer = tf.keras.optimizers.Adam()\n",
    "loss_function = tf.keras.losses.MeanSquaredError()\n",
    "\n",
    "batch_size = 1\n",
    "epochs = 20\n",
    "\n",
    "train_metrics = tf.keras.metrics.MeanAbsoluteError()\n",
    "val_metrics = tf.keras.metrics.MeanAbsoluteError()"
   ]
  },
  {
   "cell_type": "code",
   "execution_count": 9,
   "metadata": {},
   "outputs": [],
   "source": [
    "training = TrainingLoop(model, X_train, y_train, loss_function, optimizer, train_metrics, val_metrics, validation_split=0.1, batch_size=batch_size)"
   ]
  },
  {
   "cell_type": "code",
   "execution_count": 10,
   "metadata": {},
   "outputs": [
    {
     "output_type": "stream",
     "name": "stderr",
     "text": [
      "\t  0% | 0/363 [00:00<?, ?it/s]WARNING:tensorflow:Layer dense is casting an input tensor from dtype float64 to the layer's dtype of float32, which is new behavior in TensorFlow 2.  The layer has dtype float32 because it's dtype defaults to floatx.\n",
      "\n",
      "If you intended to run this layer in float32, you can safely ignore this warning. If in doubt, this warning is likely only an issue if you are porting a TensorFlow 1.X model to TensorFlow 2.\n",
      "\n",
      "To change all layers to have dtype float64 by default, call `tf.keras.backend.set_floatx('float64')`. To change just this layer, pass dtype='float64' to the layer constructor. If you are the author of this layer, you can disable autocasting by passing autocast=False to the base Layer constructor.\n",
      "\n",
      "Epoch 1/20\tLoss: 45.585\tMetrics: 13.783: \tValidation metrics: 8.9256: \t100% | 363/363 [00:01<00:00, 316.59it/s]\n",
      "Epoch 2/20\tLoss: 3.2683\tMetrics: 7.7650: \tValidation metrics: 7.4126: \t100% | 363/363 [00:00<00:00, 559.38it/s]\n",
      "Epoch 3/20\tLoss: 0.2155\tMetrics: 6.6912: \tValidation metrics: 7.4902: \t100% | 363/363 [00:00<00:00, 573.69it/s]\n",
      "Epoch 4/20\tLoss: 1.4626\tMetrics: 6.5577: \tValidation metrics: 7.2976: \t100% | 363/363 [00:00<00:00, 582.85it/s]\n",
      "Epoch 5/20\tLoss: 3.6864\tMetrics: 6.1626: \tValidation metrics: 6.7430: \t100% | 363/363 [00:00<00:00, 556.29it/s]\n",
      "Epoch 6/20\tLoss: 7.1449\tMetrics: 5.8126: \tValidation metrics: 6.3327: \t100% | 363/363 [00:00<00:00, 604.35it/s]\n",
      "Epoch 7/20\tLoss: 11.241\tMetrics: 5.5364: \tValidation metrics: 5.8979: \t100% | 363/363 [00:00<00:00, 605.46it/s]\n",
      "Epoch 8/20\tLoss: 16.028\tMetrics: 5.2670: \tValidation metrics: 5.4405: \t100% | 363/363 [00:00<00:00, 597.68it/s]\n",
      "Epoch 9/20\tLoss: 21.142\tMetrics: 5.0124: \tValidation metrics: 5.0181: \t100% | 363/363 [00:00<00:00, 598.13it/s]\n",
      "Epoch 10/20\tLoss: 25.251\tMetrics: 4.7792: \tValidation metrics: 4.7130: \t100% | 363/363 [00:00<00:00, 581.19it/s]\n",
      "Epoch 11/20\tLoss: 26.488\tMetrics: 4.5879: \tValidation metrics: 4.5286: \t100% | 363/363 [00:00<00:00, 599.00it/s]\n",
      "Epoch 12/20\tLoss: 23.651\tMetrics: 4.4626: \tValidation metrics: 4.3810: \t100% | 363/363 [00:00<00:00, 595.31it/s]\n",
      "Epoch 13/20\tLoss: 17.599\tMetrics: 4.3565: \tValidation metrics: 4.2728: \t100% | 363/363 [00:00<00:00, 569.59it/s]\n",
      "Epoch 14/20\tLoss: 10.981\tMetrics: 4.2422: \tValidation metrics: 4.2258: \t100% | 363/363 [00:00<00:00, 577.56it/s]\n",
      "Epoch 15/20\tLoss: 5.9760\tMetrics: 4.1211: \tValidation metrics: 4.1757: \t100% | 363/363 [00:00<00:00, 539.20it/s]\n",
      "Epoch 16/20\tLoss: 2.9558\tMetrics: 4.0086: \tValidation metrics: 4.1161: \t100% | 363/363 [00:00<00:00, 585.51it/s]\n",
      "Epoch 17/20\tLoss: 1.3436\tMetrics: 3.8943: \tValidation metrics: 4.0656: \t100% | 363/363 [00:00<00:00, 575.71it/s]\n",
      "Epoch 18/20\tLoss: 0.5512\tMetrics: 3.7943: \tValidation metrics: 4.0170: \t100% | 363/363 [00:00<00:00, 589.26it/s]\n",
      "Epoch 19/20\tLoss: 0.1921\tMetrics: 3.7105: \tValidation metrics: 3.9793: \t100% | 363/363 [00:00<00:00, 583.99it/s]\n",
      "Epoch 20/20\tLoss: 0.0473\tMetrics: 3.6423: \tValidation metrics: 3.9353: \t100% | 363/363 [00:00<00:00, 590.40it/s]\n"
     ]
    }
   ],
   "source": [
    "training.train(epochs)"
   ]
  },
  {
   "cell_type": "code",
   "execution_count": 11,
   "metadata": {},
   "outputs": [
    {
     "output_type": "stream",
     "name": "stdout",
     "text": [
      "4/4 [==============================] - 0s 810us/step - loss: 20.5288 - mae: 3.2809\n",
      "4.530871145261244 3.280928611755371\n"
     ]
    }
   ],
   "source": [
    "res = model.evaluate(X_test, y_test)\n",
    "print(np.sqrt(res[0]), res[1])"
   ]
  }
 ],
 "metadata": {
  "kernelspec": {
   "display_name": "Python 3",
   "language": "python",
   "name": "python3"
  },
  "language_info": {
   "codemirror_mode": {
    "name": "ipython",
    "version": 3
   },
   "file_extension": ".py",
   "mimetype": "text/x-python",
   "name": "python",
   "nbconvert_exporter": "python",
   "pygments_lexer": "ipython3",
   "version": "3.8.5-final"
  }
 },
 "nbformat": 4,
 "nbformat_minor": 4
}