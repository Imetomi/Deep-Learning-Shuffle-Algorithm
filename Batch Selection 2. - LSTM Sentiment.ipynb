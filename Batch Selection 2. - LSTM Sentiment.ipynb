{
 "metadata": {
  "language_info": {
   "codemirror_mode": {
    "name": "ipython",
    "version": 3
   },
   "file_extension": ".py",
   "mimetype": "text/x-python",
   "name": "python",
   "nbconvert_exporter": "python",
   "pygments_lexer": "ipython3",
   "version": "3.8.5-final"
  },
  "orig_nbformat": 2,
  "kernelspec": {
   "name": "python3",
   "display_name": "Python 3"
  }
 },
 "nbformat": 4,
 "nbformat_minor": 2,
 "cells": [
  {
   "cell_type": "code",
   "execution_count": 1,
   "metadata": {},
   "outputs": [],
   "source": [
    "import pandas as pd\n",
    "import numpy as np\n",
    "import json\n",
    "import os\n",
    "import sys\n",
    "import pickle\n",
    "from tqdm.notebook import tqdm as tqdm_n\n",
    "from nltk.tokenize import word_tokenize \n",
    "from sklearn.model_selection import train_test_split\n",
    "import gc\n",
    "from gensim.models import Word2Vec\n",
    "from gensim.models import KeyedVectors\n",
    "import tensorflow as tf\n",
    "\n",
    "from tensorflow.keras.models import Sequential\n",
    "from tensorflow.keras.layers import LSTM, Dense, Activation, Dropout\n",
    "from tensorflow.keras.callbacks import EarlyStopping\n",
    "\n",
    "from sklearn.metrics import accuracy_score\n",
    "from tensorflow.python.keras import backend as K\n",
    "from loop import TrainingLoop"
   ]
  },
  {
   "cell_type": "code",
   "execution_count": 2,
   "metadata": {},
   "outputs": [],
   "source": [
    "data_path = 'data'\n",
    "train_data = np.load(os.path.join(data_path, 'twitter_train_vectors.npy'), allow_pickle=True)\n",
    "test_data = np.load(os.path.join(data_path, 'twitter_test_vectors.npy'), allow_pickle=True)\n",
    "train_labels = np.load(os.path.join(data_path, 'twitter_train_labels.npy'), allow_pickle=True)\n",
    "test_labels = np.load(os.path.join(data_path, 'twitter_test_labels.npy'), allow_pickle=True)"
   ]
  },
  {
   "cell_type": "code",
   "execution_count": 3,
   "metadata": {},
   "outputs": [],
   "source": [
    "def average_on_window(data, label, size):\n",
    "    new_data = []\n",
    "    new_labels = []\n",
    "    for i in tqdm_n(range(len(data))):\n",
    "        sample = data[i]\n",
    "        if len(sample) >= size:\n",
    "            new_sample = []\n",
    "            count = int(np.floor((len(sample) / size)))\n",
    "            rest = int(len(sample) / size)\n",
    "            for j in range(size-1):\n",
    "                new_sample.append(np.array(sample[j*count:(j+1)*count].mean(axis=0)))\n",
    "            if rest != 0:\n",
    "                new_sample.append(np.array(sample[(size-1)*count:(size)*count+rest].mean(axis=0)))\n",
    "            else:\n",
    "                new_sample.append(np.array(sample[(size-1)*count:(size)*count].mean(axis=0)))\n",
    "            new_data.append(np.array(new_sample))\n",
    "            new_labels.append(label[i])\n",
    "    return np.array(new_data), np.array(new_labels)"
   ]
  },
  {
   "cell_type": "code",
   "execution_count": 4,
   "metadata": {},
   "outputs": [
    {
     "output_type": "display_data",
     "data": {
      "text/plain": "HBox(children=(FloatProgress(value=0.0, max=119999.0), HTML(value='')))",
      "application/vnd.jupyter.widget-view+json": {
       "version_major": 2,
       "version_minor": 0,
       "model_id": "746baadda5cd483f87cafedba847f826"
      }
     },
     "metadata": {}
    },
    {
     "output_type": "stream",
     "name": "stdout",
     "text": [
      "\n"
     ]
    },
    {
     "output_type": "display_data",
     "data": {
      "text/plain": "HBox(children=(FloatProgress(value=0.0, max=40000.0), HTML(value='')))",
      "application/vnd.jupyter.widget-view+json": {
       "version_major": 2,
       "version_minor": 0,
       "model_id": "544c3745a8884d66a7f4e7ba80c7aeee"
      }
     },
     "metadata": {}
    },
    {
     "output_type": "stream",
     "name": "stdout",
     "text": [
      "\n"
     ]
    }
   ],
   "source": [
    "X_train, y_train = average_on_window(train_data, train_labels, 2)\n",
    "X_test, y_test = average_on_window(test_data, test_labels, 2)"
   ]
  },
  {
   "cell_type": "code",
   "execution_count": 5,
   "metadata": {},
   "outputs": [
    {
     "output_type": "execute_result",
     "data": {
      "text/plain": [
       "(39725, 2, 250)"
      ]
     },
     "metadata": {},
     "execution_count": 5
    }
   ],
   "source": [
    "X_test.shape"
   ]
  },
  {
   "cell_type": "code",
   "execution_count": 6,
   "metadata": {},
   "outputs": [
    {
     "output_type": "stream",
     "name": "stdout",
     "text": [
      "WARNING:tensorflow:Layer lstm will not use cuDNN kernel since it doesn't meet the cuDNN kernel criteria. It will use generic GPU kernel as fallback when running on GPU\n",
      "WARNING:tensorflow:Layer lstm_1 will not use cuDNN kernel since it doesn't meet the cuDNN kernel criteria. It will use generic GPU kernel as fallback when running on GPU\n",
      "WARNING:tensorflow:Layer lstm_2 will not use cuDNN kernel since it doesn't meet the cuDNN kernel criteria. It will use generic GPU kernel as fallback when running on GPU\n"
     ]
    }
   ],
   "source": [
    "tf.random.set_seed(42)\n",
    "np.random.seed(42)\n",
    "model = Sequential()\n",
    "\n",
    "model.add(LSTM(5, return_sequences = True, activation='selu'))\n",
    "model.add(Dropout(0.2))\n",
    "model.add(LSTM(200, return_sequences=True, activation='selu'))\n",
    "model.add(Dropout(0.2))\n",
    "model.add(LSTM(100, return_sequences=False, activation='selu'))\n",
    "model.add(Dropout(0.2))\n",
    "model.add(Dense(100, activation='selu'))\n",
    "model.add(Dense(50, activation='selu'))\n",
    "model.add(Dense(1, activation='sigmoid'))\n",
    "\n",
    "model.compile(loss='binary_crossentropy', optimizer='adam', metrics=['acc'])"
   ]
  },
  {
   "cell_type": "code",
   "execution_count": 7,
   "metadata": {},
   "outputs": [],
   "source": [
    "optimizer = tf.keras.optimizers.Adam()\n",
    "loss_function = tf.keras.losses.BinaryCrossentropy()\n",
    "\n",
    "batch_size = 1024\n",
    "epochs = 50"
   ]
  },
  {
   "cell_type": "code",
   "execution_count": 8,
   "metadata": {},
   "outputs": [],
   "source": [
    "train_metrics = tf.keras.metrics.BinaryAccuracy()\n",
    "val_metrics = tf.keras.metrics.BinaryAccuracy()"
   ]
  },
  {
   "cell_type": "code",
   "execution_count": 9,
   "metadata": {},
   "outputs": [],
   "source": [
    "length = 10\n",
    "\n",
    "@tf.function\n",
    "def calc_loss(x_train, y_train):\n",
    "    with tf.GradientTape() as tape:\n",
    "        logits = model(x_train, training=False)\n",
    "        loss_value = loss_function(y_train, logits)\n",
    "    return loss_value\n",
    "\n",
    "\n",
    "def batch_selector(data, idx):\n",
    "    largest_loss = 0\n",
    "    largest_loss_idx = idx\n",
    "\n",
    "    if idx < len(data) - length:\n",
    "        for i in range(idx, idx+length):\n",
    "            x_batch_train = data[i][0]\n",
    "            y_batch_train = data[i][1]\n",
    "            loss = calc_loss(x_batch_train, y_batch_train)\n",
    "            if loss > largest_loss:\n",
    "                largest_loss = loss\n",
    "                largest_loss_idx = i\n",
    "        return largest_loss_idx\n",
    "    else:\n",
    "        loss = calc_loss(data[idx][0], data[idx][1])\n",
    "        return idx"
   ]
  },
  {
   "cell_type": "code",
   "execution_count": 10,
   "metadata": {},
   "outputs": [
    {
     "output_type": "stream",
     "name": "stderr",
     "text": [
      "Epoch 1/50\tLoss: 0.4988\tMetrics: 0.6915: \tValidation metrics: 0.7505: \t100% | 104/104 [00:04<00:00, 24.20it/s]\n",
      "Epoch 2/50\tLoss: 0.4817\tMetrics: 0.7476: \tValidation metrics: 0.7628: \t100% | 104/104 [00:02<00:00, 49.39it/s]\n",
      "Epoch 3/50\tLoss: 0.4756\tMetrics: 0.7578: \tValidation metrics: 0.7681: \t100% | 104/104 [00:02<00:00, 49.83it/s]\n",
      "Epoch 4/50\tLoss: 0.4806\tMetrics: 0.7634: \tValidation metrics: 0.7716: \t100% | 104/104 [00:02<00:00, 50.09it/s]\n",
      "Epoch 5/50\tLoss: 0.4685\tMetrics: 0.7656: \tValidation metrics: 0.7753: \t100% | 104/104 [00:02<00:00, 49.74it/s]\n",
      "Epoch 6/50\tLoss: 0.4646\tMetrics: 0.7706: \tValidation metrics: 0.7763: \t100% | 104/104 [00:02<00:00, 49.49it/s]\n",
      "Epoch 7/50\tLoss: 0.4665\tMetrics: 0.7715: \tValidation metrics: 0.7808: \t100% | 104/104 [00:02<00:00, 49.50it/s]\n",
      "Epoch 8/50\tLoss: 0.4609\tMetrics: 0.7742: \tValidation metrics: 0.7800: \t100% | 104/104 [00:02<00:00, 49.06it/s]\n",
      "Epoch 9/50\tLoss: 0.4531\tMetrics: 0.7747: \tValidation metrics: 0.7822: \t100% | 104/104 [00:02<00:00, 49.06it/s]\n",
      "Epoch 10/50\tLoss: 0.4613\tMetrics: 0.7766: \tValidation metrics: 0.7811: \t100% | 104/104 [00:02<00:00, 48.77it/s]\n",
      "Epoch 11/50\tLoss: 0.4485\tMetrics: 0.7774: \tValidation metrics: 0.7808: \t100% | 104/104 [00:02<00:00, 49.66it/s]\n",
      "Epoch 12/50\tLoss: 0.4545\tMetrics: 0.7781: \tValidation metrics: 0.7823: \t100% | 104/104 [00:02<00:00, 48.66it/s]\n",
      "Epoch 13/50\tLoss: 0.4501\tMetrics: 0.7788: \tValidation metrics: 0.7814: \t100% | 104/104 [00:02<00:00, 48.65it/s]\n",
      "Epoch 14/50\tLoss: 0.4545\tMetrics: 0.7795: \tValidation metrics: 0.7808: \t100% | 104/104 [00:02<00:00, 49.44it/s]\n",
      "Epoch 15/50\tLoss: 0.4417\tMetrics: 0.7814: \tValidation metrics: 0.7828: \t100% | 104/104 [00:02<00:00, 49.10it/s]\n",
      "Epoch 16/50\tLoss: 0.4482\tMetrics: 0.7807: \tValidation metrics: 0.7797: \t100% | 104/104 [00:02<00:00, 48.57it/s]\n",
      "Epoch 17/50\tLoss: 0.4421\tMetrics: 0.7821: \tValidation metrics: 0.7802: \t100% | 104/104 [00:02<00:00, 48.90it/s]\n",
      "Epoch 18/50\tLoss: 0.4442\tMetrics: 0.7828: \tValidation metrics: 0.7820: \t100% | 104/104 [00:02<00:00, 48.93it/s]\n",
      "Epoch 19/50\tLoss: 0.4533\tMetrics: 0.7828: \tValidation metrics: 0.7818: \t100% | 104/104 [00:02<00:00, 49.25it/s]\n",
      "Epoch 20/50\tLoss: 0.4436\tMetrics: 0.7826: \tValidation metrics: 0.7810: \t100% | 104/104 [00:02<00:00, 48.45it/s]\n",
      "Epoch 21/50\tLoss: 0.4463\tMetrics: 0.7847: \tValidation metrics: 0.7809: \t100% | 104/104 [00:02<00:00, 48.26it/s]\n",
      "Epoch 22/50\tLoss: 0.4347\tMetrics: 0.7834: \tValidation metrics: 0.7830: \t100% | 104/104 [00:02<00:00, 48.56it/s]\n",
      "Epoch 23/50\tLoss: 0.4342\tMetrics: 0.7852: \tValidation metrics: 0.7816: \t100% | 104/104 [00:02<00:00, 48.10it/s]\n",
      "Epoch 24/50\tLoss: 0.4366\tMetrics: 0.7850: \tValidation metrics: 0.7819: \t100% | 104/104 [00:02<00:00, 47.99it/s]\n",
      "Epoch 25/50\tLoss: 0.4405\tMetrics: 0.7856: \tValidation metrics: 0.7800: \t100% | 104/104 [00:02<00:00, 46.75it/s]\n",
      "Epoch 26/50\tLoss: 0.4372\tMetrics: 0.7866: \tValidation metrics: 0.7817: \t100% | 104/104 [00:02<00:00, 46.74it/s]\n",
      "Epoch 27/50\tLoss: 0.4337\tMetrics: 0.7857: \tValidation metrics: 0.7809: \t100% | 104/104 [00:02<00:00, 47.23it/s]\n",
      "Epoch 28/50\tLoss: 0.4328\tMetrics: 0.7863: \tValidation metrics: 0.7822: \t100% | 104/104 [00:02<00:00, 47.23it/s]\n",
      "Epoch 29/50\tLoss: 0.4519\tMetrics: 0.7856: \tValidation metrics: 0.7807: \t100% | 104/104 [00:02<00:00, 47.95it/s]\n",
      "Epoch 30/50\tLoss: 0.4355\tMetrics: 0.7863: \tValidation metrics: 0.7814: \t100% | 104/104 [00:02<00:00, 48.60it/s]\n",
      "Epoch 31/50\tLoss: 0.4282\tMetrics: 0.7875: \tValidation metrics: 0.7813: \t100% | 104/104 [00:02<00:00, 47.03it/s]\n",
      "Epoch 32/50\tLoss: 0.4396\tMetrics: 0.7870: \tValidation metrics: 0.7800: \t100% | 104/104 [00:02<00:00, 47.22it/s]\n",
      "Epoch 33/50\tLoss: 0.4303\tMetrics: 0.7879: \tValidation metrics: 0.7815: \t100% | 104/104 [00:02<00:00, 47.81it/s]\n",
      "Epoch 34/50\tLoss: 0.4299\tMetrics: 0.7869: \tValidation metrics: 0.7822: \t100% | 104/104 [00:02<00:00, 47.12it/s]\n",
      "Epoch 35/50\tLoss: 0.4390\tMetrics: 0.7887: \tValidation metrics: 0.7808: \t100% | 104/104 [00:02<00:00, 43.81it/s]\n",
      "Epoch 36/50\tLoss: 0.4317\tMetrics: 0.7892: \tValidation metrics: 0.7810: \t100% | 104/104 [00:02<00:00, 46.91it/s]\n",
      "Epoch 37/50\tLoss: 0.4221\tMetrics: 0.7888: \tValidation metrics: 0.7816: \t100% | 104/104 [00:02<00:00, 47.65it/s]\n",
      "Epoch 38/50\tLoss: 0.4321\tMetrics: 0.7881: \tValidation metrics: 0.7806: \t100% | 104/104 [00:02<00:00, 48.08it/s]\n",
      "Epoch 39/50\tLoss: 0.4309\tMetrics: 0.7894: \tValidation metrics: 0.7801: \t100% | 104/104 [00:02<00:00, 47.52it/s]\n",
      "Epoch 40/50\tLoss: 0.4323\tMetrics: 0.7891: \tValidation metrics: 0.7826: \t100% | 104/104 [00:02<00:00, 47.69it/s]\n",
      "Epoch 41/50\tLoss: 0.4230\tMetrics: 0.7902: \tValidation metrics: 0.7818: \t100% | 104/104 [00:02<00:00, 47.19it/s]\n",
      "Epoch 42/50\tLoss: 0.4309\tMetrics: 0.7893: \tValidation metrics: 0.7827: \t100% | 104/104 [00:02<00:00, 47.84it/s]\n",
      "Epoch 43/50\tLoss: 0.4279\tMetrics: 0.7884: \tValidation metrics: 0.7833: \t100% | 104/104 [00:02<00:00, 48.24it/s]\n",
      "Epoch 44/50\tLoss: 0.4220\tMetrics: 0.7902: \tValidation metrics: 0.7815: \t100% | 104/104 [00:02<00:00, 48.09it/s]\n",
      "Epoch 45/50\tLoss: 0.4328\tMetrics: 0.7901: \tValidation metrics: 0.7810: \t100% | 104/104 [00:02<00:00, 48.41it/s]\n",
      "Epoch 46/50\tLoss: 0.4293\tMetrics: 0.7906: \tValidation metrics: 0.7818: \t100% | 104/104 [00:02<00:00, 48.66it/s]\n",
      "Epoch 47/50\tLoss: 0.4276\tMetrics: 0.7907: \tValidation metrics: 0.7814: \t100% | 104/104 [00:02<00:00, 48.09it/s]\n",
      "Epoch 48/50\tLoss: 0.4384\tMetrics: 0.7904: \tValidation metrics: 0.7806: \t100% | 104/104 [00:02<00:00, 48.43it/s]\n",
      "Epoch 49/50\tLoss: 0.4237\tMetrics: 0.7918: \tValidation metrics: 0.7815: \t100% | 104/104 [00:02<00:00, 49.15it/s]\n",
      "Epoch 50/50\tLoss: 0.4401\tMetrics: 0.7909: \tValidation metrics: 0.7832: \t100% | 104/104 [00:02<00:00, 48.86it/s]\n"
     ]
    }
   ],
   "source": [
    "training = TrainingLoop(model, X_train, y_train, \n",
    "                        loss_function, \n",
    "                        optimizer, \n",
    "                        train_metrics, \n",
    "                        val_metrics, \n",
    "                        validation_split=0.1, \n",
    "                        batch_size=batch_size, \n",
    "                        batch_selection=batch_selector, \n",
    "                        length=length\n",
    "                        )\n",
    "training.train(epochs)"
   ]
  },
  {
   "cell_type": "code",
   "execution_count": 11,
   "metadata": {},
   "outputs": [
    {
     "output_type": "stream",
     "name": "stdout",
     "text": [
      "39/39 [==============================] - 0s 2ms/step - loss: 0.4631 - acc: 0.7830\n"
     ]
    },
    {
     "output_type": "execute_result",
     "data": {
      "text/plain": [
       "[0.4630744457244873, 0.7830333709716797]"
      ]
     },
     "metadata": {},
     "execution_count": 11
    }
   ],
   "source": [
    "model.evaluate(X_test, y_test, batch_size=batch_size)"
   ]
  }
 ]
}