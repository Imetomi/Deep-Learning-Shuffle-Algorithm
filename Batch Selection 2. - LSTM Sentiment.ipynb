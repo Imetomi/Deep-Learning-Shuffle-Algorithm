{
 "metadata": {
  "language_info": {
   "codemirror_mode": {
    "name": "ipython",
    "version": 3
   },
   "file_extension": ".py",
   "mimetype": "text/x-python",
   "name": "python",
   "nbconvert_exporter": "python",
   "pygments_lexer": "ipython3",
   "version": "3.8.5-final"
  },
  "orig_nbformat": 2,
  "kernelspec": {
   "name": "python3",
   "display_name": "Python 3"
  }
 },
 "nbformat": 4,
 "nbformat_minor": 2,
 "cells": [
  {
   "cell_type": "code",
   "execution_count": 1,
   "metadata": {},
   "outputs": [],
   "source": [
    "import pandas as pd\n",
    "import numpy as np\n",
    "import json\n",
    "import os\n",
    "import sys\n",
    "import pickle\n",
    "from tqdm.notebook import tqdm as tqdm_n\n",
    "from nltk.tokenize import word_tokenize \n",
    "from sklearn.model_selection import train_test_split\n",
    "import gc\n",
    "from gensim.models import Word2Vec\n",
    "from gensim.models import KeyedVectors\n",
    "import tensorflow as tf\n",
    "\n",
    "from tensorflow.keras.models import Sequential\n",
    "from tensorflow.keras.layers import LSTM, Dense, Activation, Dropout\n",
    "from tensorflow.keras.callbacks import EarlyStopping\n",
    "\n",
    "from sklearn.metrics import accuracy_score\n",
    "from tensorflow.python.keras import backend as K\n",
    "from loop import TrainingLoop"
   ]
  },
  {
   "cell_type": "code",
   "execution_count": 2,
   "metadata": {},
   "outputs": [],
   "source": [
    "data_path = 'data'\n",
    "train_data = np.load(os.path.join(data_path, 'twitter_train_vectors.npy'), allow_pickle=True)\n",
    "test_data = np.load(os.path.join(data_path, 'twitter_test_vectors.npy'), allow_pickle=True)\n",
    "train_labels = np.load(os.path.join(data_path, 'twitter_train_labels.npy'), allow_pickle=True)\n",
    "test_labels = np.load(os.path.join(data_path, 'twitter_test_labels.npy'), allow_pickle=True)"
   ]
  },
  {
   "cell_type": "code",
   "execution_count": 3,
   "metadata": {},
   "outputs": [],
   "source": [
    "def average_on_window(data, label, size):\n",
    "    new_data = []\n",
    "    new_labels = []\n",
    "    for i in tqdm_n(range(len(data))):\n",
    "        sample = data[i]\n",
    "        if len(sample) >= size:\n",
    "            new_sample = []\n",
    "            count = int(np.floor((len(sample) / size)))\n",
    "            rest = int(len(sample) / size)\n",
    "            for j in range(size-1):\n",
    "                new_sample.append(np.array(sample[j*count:(j+1)*count].mean(axis=0)))\n",
    "            if rest != 0:\n",
    "                new_sample.append(np.array(sample[(size-1)*count:(size)*count+rest].mean(axis=0)))\n",
    "            else:\n",
    "                new_sample.append(np.array(sample[(size-1)*count:(size)*count].mean(axis=0)))\n",
    "            new_data.append(np.array(new_sample))\n",
    "            new_labels.append(label[i])\n",
    "    return np.array(new_data), np.array(new_labels)"
   ]
  },
  {
   "cell_type": "code",
   "execution_count": 4,
   "metadata": {},
   "outputs": [
    {
     "output_type": "display_data",
     "data": {
      "text/plain": "HBox(children=(FloatProgress(value=0.0, max=119999.0), HTML(value='')))",
      "application/vnd.jupyter.widget-view+json": {
       "version_major": 2,
       "version_minor": 0,
       "model_id": "d72f8e5374ef4d9a8e8d1d1958c05b0a"
      }
     },
     "metadata": {}
    },
    {
     "output_type": "stream",
     "name": "stdout",
     "text": [
      "\n"
     ]
    },
    {
     "output_type": "display_data",
     "data": {
      "text/plain": "HBox(children=(FloatProgress(value=0.0, max=40000.0), HTML(value='')))",
      "application/vnd.jupyter.widget-view+json": {
       "version_major": 2,
       "version_minor": 0,
       "model_id": "14beaea60e564f6b9fbb5d1a4d3fe93e"
      }
     },
     "metadata": {}
    },
    {
     "output_type": "stream",
     "name": "stdout",
     "text": [
      "\n"
     ]
    }
   ],
   "source": [
    "X_train, y_train = average_on_window(train_data, train_labels, 2)\n",
    "X_test, y_test = average_on_window(test_data, test_labels, 2)"
   ]
  },
  {
   "cell_type": "code",
   "execution_count": 5,
   "metadata": {},
   "outputs": [
    {
     "output_type": "execute_result",
     "data": {
      "text/plain": [
       "(39725, 2, 250)"
      ]
     },
     "metadata": {},
     "execution_count": 5
    }
   ],
   "source": [
    "X_test.shape"
   ]
  },
  {
   "cell_type": "code",
   "execution_count": 6,
   "metadata": {},
   "outputs": [
    {
     "output_type": "stream",
     "name": "stdout",
     "text": [
      "WARNING:tensorflow:Layer lstm will not use cuDNN kernel since it doesn't meet the cuDNN kernel criteria. It will use generic GPU kernel as fallback when running on GPU\n",
      "WARNING:tensorflow:Layer lstm_1 will not use cuDNN kernel since it doesn't meet the cuDNN kernel criteria. It will use generic GPU kernel as fallback when running on GPU\n",
      "WARNING:tensorflow:Layer lstm_2 will not use cuDNN kernel since it doesn't meet the cuDNN kernel criteria. It will use generic GPU kernel as fallback when running on GPU\n"
     ]
    }
   ],
   "source": [
    "tf.random.set_seed(42)\n",
    "np.random.seed(42)\n",
    "model = Sequential()\n",
    "\n",
    "model.add(LSTM(5, return_sequences = True, activation='selu'))\n",
    "model.add(Dropout(0.2))\n",
    "model.add(LSTM(200, return_sequences=True, activation='selu'))\n",
    "model.add(Dropout(0.2))\n",
    "model.add(LSTM(100, return_sequences=False, activation='selu'))\n",
    "model.add(Dropout(0.2))\n",
    "model.add(Dense(100, activation='selu'))\n",
    "model.add(Dense(50, activation='selu'))\n",
    "model.add(Dense(1, activation='sigmoid'))\n",
    "\n",
    "model.compile(loss='binary_crossentropy', optimizer='adam', metrics=['acc'])"
   ]
  },
  {
   "cell_type": "code",
   "execution_count": 7,
   "metadata": {},
   "outputs": [],
   "source": [
    "optimizer = tf.keras.optimizers.Adam()\n",
    "loss_function = tf.keras.losses.BinaryCrossentropy()\n",
    "\n",
    "batch_size = 1024\n",
    "epochs = 50"
   ]
  },
  {
   "cell_type": "code",
   "execution_count": 8,
   "metadata": {},
   "outputs": [],
   "source": [
    "train_metrics = tf.keras.metrics.BinaryAccuracy()\n",
    "val_metrics = tf.keras.metrics.BinaryAccuracy()"
   ]
  },
  {
   "cell_type": "code",
   "execution_count": 9,
   "metadata": {},
   "outputs": [],
   "source": [
    "@tf.function\n",
    "def calc_loss(x_train, y_train, model, loss_function):\n",
    "    with tf.GradientTape() as tape:\n",
    "        logits = model(x_train, training=False)\n",
    "        loss_value = loss_function(y_train, logits)\n",
    "    return loss_value\n",
    "\n",
    "\n",
    "length = 10\n",
    "def windowed_batch_selector(data, idx, model, loss_function ):\n",
    "    largest_loss = 0\n",
    "    largest_loss_idx = idx\n",
    "\n",
    "    if idx < len(data) - length:\n",
    "        for i in range(idx, idx+length):\n",
    "            x_batch_train = data[i][0]\n",
    "            y_batch_train = data[i][1]\n",
    "            loss = calc_loss(x_batch_train, y_batch_train, model, loss_function)\n",
    "            if loss > largest_loss:\n",
    "                largest_loss = loss\n",
    "                largest_loss_idx = i\n",
    "        return largest_loss_idx\n",
    "    else:\n",
    "        loss = calc_loss(data[idx][0], data[idx][1], model, loss_function)\n",
    "        return idx\n",
    "\n",
    "\n",
    "losses = []\n",
    "def sorting_batch_selector(data, idx, model, loss_function):\n",
    "    global losses\n",
    "    if idx == 0:\n",
    "        for i in range(len(data)):\n",
    "            x_batch_train = data[i][0]\n",
    "            y_batch_train = data[i][1]\n",
    "            losses.append([i, float(calc_loss(x_batch_train, y_batch_train, model, loss_function))])\n",
    "        losses = sorted(losses, key=lambda x:x[1], reverse=True)\n",
    "\n",
    "\n",
    "    return_idx = losses[idx][0]\n",
    "    if idx == len(data)-1:\n",
    "        losses.clear()\n",
    "    \n",
    "    return return_idx"
   ]
  },
  {
   "cell_type": "code",
   "execution_count": 10,
   "metadata": {},
   "outputs": [],
   "source": [
    "log_path = 'logs/sorting/sentiment.csv'"
   ]
  },
  {
   "cell_type": "code",
   "execution_count": 11,
   "metadata": {},
   "outputs": [
    {
     "output_type": "stream",
     "name": "stderr",
     "text": [
      "Epoch 1/50\tLoss: 0.4905\tMetrics: 0.6984: \tValidation metrics: 0.7514: \t100% | 104/104 [00:02<00:00, 35.36it/s]\n",
      "Epoch 2/50\tLoss: 0.4572\tMetrics: 0.7541: \tValidation metrics: 0.7638: \t100% | 104/104 [00:00<00:00, 123.04it/s]\n",
      "Epoch 3/50\tLoss: 0.4504\tMetrics: 0.7658: \tValidation metrics: 0.7721: \t100% | 104/104 [00:00<00:00, 125.08it/s]\n",
      "Epoch 4/50\tLoss: 0.4446\tMetrics: 0.7702: \tValidation metrics: 0.7743: \t100% | 104/104 [00:00<00:00, 126.08it/s]\n",
      "Epoch 5/50\tLoss: 0.4335\tMetrics: 0.7732: \tValidation metrics: 0.7739: \t100% | 104/104 [00:00<00:00, 118.51it/s]\n",
      "Epoch 6/50\tLoss: 0.4292\tMetrics: 0.7760: \tValidation metrics: 0.7742: \t100% | 104/104 [00:00<00:00, 120.78it/s]\n",
      "Epoch 7/50\tLoss: 0.4290\tMetrics: 0.7782: \tValidation metrics: 0.7761: \t100% | 104/104 [00:00<00:00, 125.76it/s]\n",
      "Epoch 8/50\tLoss: 0.4264\tMetrics: 0.7794: \tValidation metrics: 0.7747: \t100% | 104/104 [00:00<00:00, 122.60it/s]\n",
      "Epoch 9/50\tLoss: 0.4291\tMetrics: 0.7813: \tValidation metrics: 0.7772: \t100% | 104/104 [00:00<00:00, 118.69it/s]\n",
      "Epoch 10/50\tLoss: 0.4120\tMetrics: 0.7812: \tValidation metrics: 0.7770: \t100% | 104/104 [00:00<00:00, 119.92it/s]\n",
      "Epoch 11/50\tLoss: 0.3993\tMetrics: 0.7832: \tValidation metrics: 0.7777: \t100% | 104/104 [00:00<00:00, 124.69it/s]\n",
      "Epoch 12/50\tLoss: 0.4135\tMetrics: 0.7826: \tValidation metrics: 0.7830: \t100% | 104/104 [00:00<00:00, 121.74it/s]\n",
      "Epoch 13/50\tLoss: 0.4068\tMetrics: 0.7832: \tValidation metrics: 0.7835: \t100% | 104/104 [00:00<00:00, 123.86it/s]\n",
      "Epoch 14/50\tLoss: 0.4096\tMetrics: 0.7846: \tValidation metrics: 0.7818: \t100% | 104/104 [00:00<00:00, 122.47it/s]\n",
      "Epoch 15/50\tLoss: 0.3967\tMetrics: 0.7854: \tValidation metrics: 0.7811: \t100% | 104/104 [00:00<00:00, 124.20it/s]\n",
      "Epoch 16/50\tLoss: 0.4041\tMetrics: 0.7862: \tValidation metrics: 0.7824: \t100% | 104/104 [00:00<00:00, 118.80it/s]\n",
      "Epoch 17/50\tLoss: 0.4026\tMetrics: 0.7875: \tValidation metrics: 0.7850: \t100% | 104/104 [00:00<00:00, 122.74it/s]\n",
      "Epoch 18/50\tLoss: 0.3979\tMetrics: 0.7878: \tValidation metrics: 0.7832: \t100% | 104/104 [00:00<00:00, 119.65it/s]\n",
      "Epoch 19/50\tLoss: 0.4099\tMetrics: 0.7875: \tValidation metrics: 0.7847: \t100% | 104/104 [00:00<00:00, 126.06it/s]\n",
      "Epoch 20/50\tLoss: 0.3955\tMetrics: 0.7875: \tValidation metrics: 0.7852: \t100% | 104/104 [00:00<00:00, 115.60it/s]\n",
      "Epoch 21/50\tLoss: 0.3934\tMetrics: 0.7880: \tValidation metrics: 0.7862: \t100% | 104/104 [00:00<00:00, 120.40it/s]\n",
      "Epoch 22/50\tLoss: 0.4057\tMetrics: 0.7891: \tValidation metrics: 0.7827: \t100% | 104/104 [00:00<00:00, 122.97it/s]\n",
      "Epoch 23/50\tLoss: 0.4090\tMetrics: 0.7888: \tValidation metrics: 0.7831: \t100% | 104/104 [00:00<00:00, 120.84it/s]\n",
      "Epoch 24/50\tLoss: 0.3942\tMetrics: 0.7899: \tValidation metrics: 0.7842: \t100% | 104/104 [00:00<00:00, 116.29it/s]\n",
      "Epoch 25/50\tLoss: 0.3960\tMetrics: 0.7885: \tValidation metrics: 0.7809: \t100% | 104/104 [00:00<00:00, 116.55it/s]\n",
      "Epoch 26/50\tLoss: 0.4026\tMetrics: 0.7895: \tValidation metrics: 0.7816: \t100% | 104/104 [00:00<00:00, 117.73it/s]\n",
      "Epoch 27/50\tLoss: 0.3980\tMetrics: 0.7892: \tValidation metrics: 0.7829: \t100% | 104/104 [00:00<00:00, 110.26it/s]\n",
      "Epoch 28/50\tLoss: 0.3964\tMetrics: 0.7906: \tValidation metrics: 0.7826: \t100% | 104/104 [00:00<00:00, 122.94it/s]\n",
      "Epoch 29/50\tLoss: 0.3968\tMetrics: 0.7911: \tValidation metrics: 0.7812: \t100% | 104/104 [00:00<00:00, 116.00it/s]\n",
      "Epoch 30/50\tLoss: 0.3948\tMetrics: 0.7909: \tValidation metrics: 0.7848: \t100% | 104/104 [00:00<00:00, 117.69it/s]\n",
      "Epoch 31/50\tLoss: 0.4032\tMetrics: 0.7916: \tValidation metrics: 0.7838: \t100% | 104/104 [00:00<00:00, 120.34it/s]\n",
      "Epoch 32/50\tLoss: 0.3907\tMetrics: 0.7912: \tValidation metrics: 0.7842: \t100% | 104/104 [00:00<00:00, 119.83it/s]\n",
      "Epoch 33/50\tLoss: 0.3855\tMetrics: 0.7911: \tValidation metrics: 0.7880: \t100% | 104/104 [00:00<00:00, 119.69it/s]\n",
      "Epoch 34/50\tLoss: 0.3849\tMetrics: 0.7914: \tValidation metrics: 0.7853: \t100% | 104/104 [00:00<00:00, 117.55it/s]\n",
      "Epoch 35/50\tLoss: 0.3848\tMetrics: 0.7919: \tValidation metrics: 0.7858: \t100% | 104/104 [00:00<00:00, 118.99it/s]\n",
      "Epoch 36/50\tLoss: 0.3817\tMetrics: 0.7914: \tValidation metrics: 0.7864: \t100% | 104/104 [00:00<00:00, 121.89it/s]\n",
      "Epoch 37/50\tLoss: 0.3866\tMetrics: 0.7906: \tValidation metrics: 0.7847: \t100% | 104/104 [00:00<00:00, 121.33it/s]\n",
      "Epoch 38/50\tLoss: 0.3965\tMetrics: 0.7918: \tValidation metrics: 0.7824: \t100% | 104/104 [00:00<00:00, 118.55it/s]\n",
      "Epoch 39/50\tLoss: 0.3880\tMetrics: 0.7926: \tValidation metrics: 0.7830: \t100% | 104/104 [00:00<00:00, 121.09it/s]\n",
      "Epoch 40/50\tLoss: 0.3926\tMetrics: 0.7930: \tValidation metrics: 0.7832: \t100% | 104/104 [00:00<00:00, 127.15it/s]\n",
      "Epoch 41/50\tLoss: 0.3949\tMetrics: 0.7939: \tValidation metrics: 0.7822: \t100% | 104/104 [00:00<00:00, 122.75it/s]\n",
      "Epoch 42/50\tLoss: 0.3871\tMetrics: 0.7939: \tValidation metrics: 0.7814: \t100% | 104/104 [00:00<00:00, 128.75it/s]\n",
      "Epoch 43/50\tLoss: 0.3963\tMetrics: 0.7936: \tValidation metrics: 0.7847: \t100% | 104/104 [00:00<00:00, 115.75it/s]\n",
      "Epoch 44/50\tLoss: 0.3829\tMetrics: 0.7937: \tValidation metrics: 0.7845: \t100% | 104/104 [00:00<00:00, 123.65it/s]\n",
      "Epoch 45/50\tLoss: 0.3948\tMetrics: 0.7951: \tValidation metrics: 0.7847: \t100% | 104/104 [00:00<00:00, 119.27it/s]\n",
      "Epoch 46/50\tLoss: 0.3945\tMetrics: 0.7946: \tValidation metrics: 0.7846: \t100% | 104/104 [00:00<00:00, 121.33it/s]\n",
      "Epoch 47/50\tLoss: 0.3892\tMetrics: 0.7941: \tValidation metrics: 0.7799: \t100% | 104/104 [00:00<00:00, 117.82it/s]\n",
      "Epoch 48/50\tLoss: 0.3882\tMetrics: 0.7946: \tValidation metrics: 0.7842: \t100% | 104/104 [00:00<00:00, 123.01it/s]\n",
      "Epoch 49/50\tLoss: 0.3935\tMetrics: 0.7949: \tValidation metrics: 0.7806: \t100% | 104/104 [00:00<00:00, 121.72it/s]\n",
      "Epoch 50/50\tLoss: 0.3850\tMetrics: 0.7951: \tValidation metrics: 0.7845: \t100% | 104/104 [00:00<00:00, 121.93it/s]\n"
     ]
    }
   ],
   "source": [
    "training = TrainingLoop(model, X_train, y_train, \n",
    "                        loss_function, \n",
    "                        optimizer, \n",
    "                        train_metrics, \n",
    "                        val_metrics, \n",
    "                        validation_split=0.1, \n",
    "                        batch_size=batch_size, \n",
    "                        batch_selection=sorting_batch_selector, \n",
    "                        log_file=log_path\n",
    "                        )\n",
    "training.train(epochs)"
   ]
  },
  {
   "cell_type": "code",
   "execution_count": 12,
   "metadata": {},
   "outputs": [
    {
     "output_type": "stream",
     "name": "stdout",
     "text": [
      "39/39 [==============================] - 0s 2ms/step - loss: 0.4565 - acc: 0.7866\n"
     ]
    },
    {
     "output_type": "execute_result",
     "data": {
      "text/plain": [
       "[0.456454873085022, 0.7865575551986694]"
      ]
     },
     "metadata": {},
     "execution_count": 12
    }
   ],
   "source": [
    "model.evaluate(X_test, y_test, batch_size=batch_size)"
   ]
  }
 ]
}