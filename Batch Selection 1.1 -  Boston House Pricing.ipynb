{
 "cells": [
  {
   "cell_type": "code",
   "execution_count": 1,
   "metadata": {},
   "outputs": [],
   "source": [
    "import numpy as np\n",
    "import pandas as pd\n",
    "import seaborn as sns\n",
    "import matplotlib.pyplot as plt\n",
    "%matplotlib inline\n",
    "import os\n",
    "import tensorflow as tf\n",
    "\n",
    "# needed to avoid a tf error\n",
    "try:\n",
    "    gpus= tf.config.experimental.list_physical_devices('GPU')\n",
    "    tf.config.experimental.set_memory_growth(gpus[0], True)\n",
    "except:\n",
    "    pass\n",
    "\n",
    "from tensorflow.keras.models import Sequential\n",
    "from tensorflow.keras.layers import Dense, Dropout\n",
    "from tensorflow.keras.callbacks import EarlyStopping\n",
    "\n",
    "import tensorflow as tf\n",
    "import numpy as np"
   ]
  },
  {
   "cell_type": "markdown",
   "metadata": {},
   "source": [
    "# Boston Model"
   ]
  },
  {
   "cell_type": "code",
   "execution_count": 2,
   "metadata": {},
   "outputs": [],
   "source": [
    "# loading models that we prepared earlier\n",
    "X_train = np.load(os.path.join('data', 'boston', 'boston_train_vectors.npy'), allow_pickle=True)\n",
    "X_test = np.load(os.path.join('data', 'boston', 'boston_test_vectors.npy'), allow_pickle=True)\n",
    "y_train = np.load(os.path.join('data', 'boston', 'boston_train_labels.npy'), allow_pickle=True)\n",
    "y_test = np.load(os.path.join('data', 'boston', 'boston_test_labels.npy'), allow_pickle=True)"
   ]
  },
  {
   "cell_type": "code",
   "execution_count": 3,
   "metadata": {},
   "outputs": [
    {
     "output_type": "execute_result",
     "data": {
      "text/plain": [
       "((404, 13), (404,))"
      ]
     },
     "metadata": {},
     "execution_count": 3
    }
   ],
   "source": [
    "X_train.shape, y_train.shape"
   ]
  },
  {
   "cell_type": "code",
   "execution_count": 4,
   "metadata": {},
   "outputs": [],
   "source": [
    "# setting seed to get reproducible results\n",
    "tf.random.set_seed(42)\n",
    "np.random.seed(42)\n",
    "\n",
    "# building a small model as an experiment\n",
    "model = Sequential()\n",
    "model.add(Dense(13, activation='sigmoid'))\n",
    "model.add(Dense(50, activation='sigmoid'))\n",
    "model.add(Dense(50, activation='sigmoid'))\n",
    "model.add(Dense(1, activation='linear'))\n",
    "model.compile(loss='mse', optimizer='sgd', metrics=['mae'])"
   ]
  },
  {
   "cell_type": "code",
   "execution_count": 5,
   "metadata": {},
   "outputs": [],
   "source": [
    "# early stopping is not used in the current implementation, but we plan to use it in the final model\n",
    "cb = [EarlyStopping(monitor=\"val_mae\", min_delta=0.01, patience=2, verbose=1, \n",
    "                    mode=\"auto\", baseline=None, restore_best_weights=True)]"
   ]
  },
  {
   "cell_type": "code",
   "execution_count": 6,
   "metadata": {},
   "outputs": [],
   "source": [
    "#model.fit(X_train, y_train, batch_size=1, epochs=20, validation_split=0.1, callbacks=cb)"
   ]
  },
  {
   "source": [
    "# Using the custom training loop"
   ],
   "cell_type": "markdown",
   "metadata": {}
  },
  {
   "cell_type": "code",
   "execution_count": 7,
   "metadata": {},
   "outputs": [],
   "source": [
    "# importing our custom loop\n",
    "from loop import TrainingLoop"
   ]
  },
  {
   "cell_type": "code",
   "execution_count": 8,
   "metadata": {},
   "outputs": [],
   "source": [
    "# using SGD oprimizer for training\n",
    "optimizer = tf.keras.optimizers.SGD()\n",
    "\n",
    "# MSE loss function for this regression task\n",
    "loss_function = tf.keras.losses.MeanSquaredError()\n",
    "\n",
    "batch_size = 8\n",
    "epochs = 20\n",
    "\n",
    "# using MAE as our secondary metric\n",
    "train_metrics = tf.keras.metrics.MeanAbsoluteError()\n",
    "val_metrics = tf.keras.metrics.MeanAbsoluteError()"
   ]
  },
  {
   "cell_type": "code",
   "execution_count": 9,
   "metadata": {},
   "outputs": [],
   "source": [
    "@tf.function\n",
    "def calc_loss(x_train, y_train):\n",
    "    with tf.GradientTape() as tape:\n",
    "        logits = model(x_train, training=False)\n",
    "        loss_value = loss_function(y_train, logits)\n",
    "    return loss_value\n",
    "\n",
    "\n",
    "def batch_selector(data, idx):\n",
    "    largest_loss = 0\n",
    "    largest_loss_idx = idx\n",
    "\n",
    "    if idx < len(data) - 5:\n",
    "        for i in range(idx, idx+5):\n",
    "            x_batch_train = data[i][0]\n",
    "            y_batch_train = data[i][1]\n",
    "            loss = calc_loss(x_batch_train, y_batch_train)\n",
    "            if loss > largest_loss:\n",
    "                largest_loss = loss\n",
    "                largest_loss_idx = i\n",
    "        return largest_loss_idx\n",
    "    else:\n",
    "        loss = calc_loss(data[idx][0], data[idx][1])\n",
    "        return idx"
   ]
  },
  {
   "cell_type": "code",
   "execution_count": 10,
   "metadata": {},
   "outputs": [],
   "source": [
    "# defininf the training class\n",
    "training = TrainingLoop(model, X_train, y_train, \n",
    "                        loss_function, \n",
    "                        optimizer, \n",
    "                        train_metrics, \n",
    "                        val_metrics, \n",
    "                        validation_split=0.1, \n",
    "                        batch_size=batch_size,\n",
    "                        batch_selection=batch_selector,\n",
    "                        length=5\n",
    "                        )"
   ]
  },
  {
   "cell_type": "code",
   "execution_count": 11,
   "metadata": {},
   "outputs": [
    {
     "output_type": "stream",
     "name": "stderr",
     "text": [
      "\t  0% | 0/45 [00:00<?, ?it/s]WARNING:tensorflow:Layer dense is casting an input tensor from dtype float64 to the layer's dtype of float32, which is new behavior in TensorFlow 2.  The layer has dtype float32 because its dtype defaults to floatx.\n",
      "\n",
      "If you intended to run this layer in float32, you can safely ignore this warning. If in doubt, this warning is likely only an issue if you are porting a TensorFlow 1.X model to TensorFlow 2.\n",
      "\n",
      "To change all layers to have dtype float64 by default, call `tf.keras.backend.set_floatx('float64')`. To change just this layer, pass dtype='float64' to the layer constructor. If you are the author of this layer, you can disable autocasting by passing autocast=False to the base Layer constructor.\n",
      "\n",
      "Epoch 1/20\tLoss: 19.631\tMetrics: 9.3871: \tValidation metrics: 6.7541: \t100% | 45/45 [00:00<00:00, 66.93it/s]\n",
      "Epoch 2/20\tLoss: 5.8102\tMetrics: 7.7742: \tValidation metrics: 3.7531: \t100% | 45/45 [00:00<00:00, 224.48it/s]\n",
      "Epoch 3/20\tLoss: 6.7007\tMetrics: 5.5165: \tValidation metrics: 3.3457: \t100% | 45/45 [00:00<00:00, 243.95it/s]\n",
      "Epoch 4/20\tLoss: 11.279\tMetrics: 4.9087: \tValidation metrics: 3.3498: \t100% | 45/45 [00:00<00:00, 234.44it/s]\n",
      "Epoch 5/20\tLoss: 11.096\tMetrics: 4.6255: \tValidation metrics: 3.4344: \t100% | 45/45 [00:00<00:00, 232.57it/s]\n",
      "Epoch 6/20\tLoss: 9.6414\tMetrics: 4.3907: \tValidation metrics: 3.5000: \t100% | 45/45 [00:00<00:00, 249.70it/s]\n",
      "Epoch 7/20\tLoss: 9.3625\tMetrics: 4.1050: \tValidation metrics: 3.5163: \t100% | 45/45 [00:00<00:00, 256.02it/s]\n",
      "Epoch 8/20\tLoss: 8.2540\tMetrics: 3.9317: \tValidation metrics: 3.4744: \t100% | 45/45 [00:00<00:00, 246.45it/s]\n",
      "Epoch 9/20\tLoss: 7.5370\tMetrics: 3.8264: \tValidation metrics: 3.3949: \t100% | 45/45 [00:00<00:00, 258.68it/s]\n",
      "Epoch 10/20\tLoss: 7.8125\tMetrics: 3.6592: \tValidation metrics: 3.3619: \t100% | 45/45 [00:00<00:00, 224.17it/s]\n",
      "Epoch 11/20\tLoss: 7.1620\tMetrics: 3.5248: \tValidation metrics: 3.2820: \t100% | 45/45 [00:00<00:00, 241.02it/s]\n",
      "Epoch 12/20\tLoss: 6.0625\tMetrics: 3.4280: \tValidation metrics: 3.1500: \t100% | 45/45 [00:00<00:00, 222.57it/s]\n",
      "Epoch 13/20\tLoss: 7.8087\tMetrics: 3.3194: \tValidation metrics: 3.1963: \t100% | 45/45 [00:00<00:00, 231.56it/s]\n",
      "Epoch 14/20\tLoss: 5.2506\tMetrics: 3.2660: \tValidation metrics: 3.1508: \t100% | 45/45 [00:00<00:00, 217.71it/s]\n",
      "Epoch 15/20\tLoss: 6.1030\tMetrics: 3.2880: \tValidation metrics: 3.1598: \t100% | 45/45 [00:00<00:00, 246.55it/s]\n",
      "Epoch 16/20\tLoss: 5.8250\tMetrics: 3.1266: \tValidation metrics: 3.1396: \t100% | 45/45 [00:00<00:00, 234.01it/s]\n",
      "Epoch 17/20\tLoss: 6.1370\tMetrics: 3.0999: \tValidation metrics: 3.1385: \t100% | 45/45 [00:00<00:00, 221.50it/s]\n",
      "Epoch 18/20\tLoss: 5.4426\tMetrics: 3.1171: \tValidation metrics: 3.0190: \t100% | 45/45 [00:00<00:00, 232.04it/s]\n",
      "Epoch 19/20\tLoss: 4.7482\tMetrics: 3.0227: \tValidation metrics: 2.9477: \t100% | 45/45 [00:00<00:00, 229.15it/s]\n",
      "Epoch 20/20\tLoss: 4.6989\tMetrics: 2.9833: \tValidation metrics: 2.8949: \t100% | 45/45 [00:00<00:00, 223.05it/s]\n"
     ]
    }
   ],
   "source": [
    "training.train(epochs)"
   ]
  },
  {
   "cell_type": "code",
   "execution_count": 12,
   "metadata": {},
   "outputs": [
    {
     "output_type": "stream",
     "name": "stdout",
     "text": [
      "4/4 [==============================] - 0s 2ms/step - loss: 11.6431 - mae: 2.6134\n",
      "3.412192244852643 2.6133832931518555\n"
     ]
    }
   ],
   "source": [
    "res = model.evaluate(X_test, y_test)\n",
    "print(np.sqrt(res[0]), res[1])"
   ]
  }
 ],
 "metadata": {
  "kernelspec": {
   "display_name": "Python 3",
   "language": "python",
   "name": "python3"
  },
  "language_info": {
   "codemirror_mode": {
    "name": "ipython",
    "version": 3
   },
   "file_extension": ".py",
   "mimetype": "text/x-python",
   "name": "python",
   "nbconvert_exporter": "python",
   "pygments_lexer": "ipython3",
   "version": "3.8.5-final"
  }
 },
 "nbformat": 4,
 "nbformat_minor": 4
}