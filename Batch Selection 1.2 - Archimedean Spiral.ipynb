{
 "metadata": {
  "language_info": {
   "codemirror_mode": {
    "name": "ipython",
    "version": 3
   },
   "file_extension": ".py",
   "mimetype": "text/x-python",
   "name": "python",
   "nbconvert_exporter": "python",
   "pygments_lexer": "ipython3",
   "version": "3.8.5-final"
  },
  "orig_nbformat": 2,
  "kernelspec": {
   "name": "python3",
   "display_name": "Python 3"
  }
 },
 "nbformat": 4,
 "nbformat_minor": 2,
 "cells": [
  {
   "cell_type": "code",
   "execution_count": 1,
   "metadata": {},
   "outputs": [],
   "source": [
    "import numpy as np\n",
    "import pandas as pd\n",
    "import seaborn as sns\n",
    "import matplotlib.pyplot as plt\n",
    "%matplotlib inline\n",
    "import os\n",
    "\n",
    "from tensorflow.keras.models import Sequential\n",
    "from tensorflow.keras.layers import Dense, Dropout\n",
    "from tensorflow.keras.callbacks import EarlyStopping\n",
    "\n",
    "import tensorflow as tf\n",
    "import numpy as np\n",
    "\n",
    "from sklearn.model_selection import train_test_split\n",
    "from sklearn.metrics import accuracy_score\n",
    "from loop import TrainingLoop"
   ]
  },
  {
   "cell_type": "code",
   "execution_count": 2,
   "metadata": {},
   "outputs": [],
   "source": [
    "data = pd.read_csv('data/spirals.csv')\n",
    "X = data.drop('label', axis=1).to_numpy()\n",
    "y = data['label'].to_numpy()\n",
    "X_train, X_test, y_train, y_test = train_test_split(X, y, test_size=0.2, random_state=42, shuffle=True)"
   ]
  },
  {
   "cell_type": "code",
   "execution_count": 3,
   "metadata": {},
   "outputs": [],
   "source": [
    "tf.random.set_seed(42)\n",
    "np.random.seed(42)\n",
    "\n",
    "model = Sequential()\n",
    "model.add(Dense(7, activation='sigmoid'))\n",
    "model.add(Dense(7, activation='sigmoid'))\n",
    "model.add(Dense(1, activation='sigmoid'))\n",
    "\n",
    "#model.compile(loss='binary_crossentropy', optimizer='adam', metrics=['accuracy'])\n",
    "#model.fit(X_train, y_train, batch_size=16, epochs=100)"
   ]
  },
  {
   "cell_type": "code",
   "execution_count": 4,
   "metadata": {},
   "outputs": [],
   "source": [
    "optimizer = tf.keras.optimizers.Adam(learning_rate=0.01)\n",
    "loss_function = tf.keras.losses.BinaryCrossentropy()\n",
    "\n",
    "batch_size = 16\n",
    "epochs = 150\n",
    "\n",
    "train_metrics = tf.keras.metrics.CategoricalAccuracy()\n",
    "val_metrics = tf.keras.metrics.CategoricalAccuracy()"
   ]
  },
  {
   "cell_type": "code",
   "execution_count": 5,
   "metadata": {},
   "outputs": [],
   "source": [
    "@tf.function\n",
    "def calc_loss(x_train, y_train):\n",
    "    with tf.GradientTape() as tape:\n",
    "        logits = model(x_train, training=False)\n",
    "        loss_value = loss_function(y_train, logits)\n",
    "    return loss_value"
   ]
  },
  {
   "cell_type": "code",
   "execution_count": 6,
   "metadata": {},
   "outputs": [],
   "source": [
    "losses = []\n",
    "def batch_sorting(data, idx, model, loss_function):\n",
    "    global losses\n",
    "    if idx == 0:\n",
    "        for i in range(len(data)):\n",
    "            x_batch_train = data[i][0]\n",
    "            y_batch_train = data[i][1]\n",
    "            losses.append([i, float(calc_loss(x_batch_train, y_batch_train))])\n",
    "        losses = sorted(losses, key=lambda x:x[1], reverse=True)\n",
    "        #print(losses)   \n",
    "\n",
    "    return_idx = losses[idx][0]\n",
    "\n",
    "    if idx == len(data)-1:\n",
    "        losses.clear()\n",
    "    \n",
    "    return return_idx"
   ]
  },
  {
   "cell_type": "code",
   "execution_count": 7,
   "metadata": {},
   "outputs": [
    {
     "output_type": "stream",
     "name": "stderr",
     "text": [
      "\t  0% | 0/45 [00:00<?, ?it/s]WARNING:tensorflow:Layer dense is casting an input tensor from dtype float64 to the layer's dtype of float32, which is new behavior in TensorFlow 2.  The layer has dtype float32 because its dtype defaults to floatx.\n",
      "\n",
      "If you intended to run this layer in float32, you can safely ignore this warning. If in doubt, this warning is likely only an issue if you are porting a TensorFlow 1.X model to TensorFlow 2.\n",
      "\n",
      "To change all layers to have dtype float64 by default, call `tf.keras.backend.set_floatx('float64')`. To change just this layer, pass dtype='float64' to the layer constructor. If you are the author of this layer, you can disable autocasting by passing autocast=False to the base Layer constructor.\n",
      "\n",
      "Epoch 1/10\tLoss: 0.6673: \t100% | 45/45 [00:00<00:00, 85.86it/s]\n",
      "Epoch 2/10\tLoss: 0.6031: \t100% | 45/45 [00:00<00:00, 512.35it/s]\n",
      "Epoch 3/10\tLoss: 0.6236: \t100% | 45/45 [00:00<00:00, 509.44it/s]\n",
      "Epoch 4/10\tLoss: 0.5920: \t100% | 45/45 [00:00<00:00, 531.54it/s]\n",
      "Epoch 5/10\tLoss: 0.5370: \t100% | 45/45 [00:00<00:00, 506.29it/s]\n",
      "Epoch 6/10\tLoss: 0.4548: \t100% | 45/45 [00:00<00:00, 544.05it/s]\n",
      "Epoch 7/10\tLoss: 0.3493: \t100% | 45/45 [00:00<00:00, 501.50it/s]\n",
      "Epoch 8/10\tLoss: 0.2604: \t100% | 45/45 [00:00<00:00, 559.83it/s]\n",
      "Epoch 9/10\tLoss: 0.1945: \t100% | 45/45 [00:00<00:00, 501.10it/s]\n",
      "Epoch 10/10\tLoss: 0.1328: \t100% | 45/45 [00:00<00:00, 530.15it/s]\n"
     ]
    }
   ],
   "source": [
    "training = TrainingLoop(model, X_train, y_train, loss_function, optimizer, validation_split=0.1, batch_size=batch_size, batch_selection=batch_sorting)\n",
    "training.train(10)"
   ]
  },
  {
   "cell_type": "code",
   "execution_count": 8,
   "metadata": {},
   "outputs": [
    {
     "output_type": "execute_result",
     "data": {
      "text/plain": [
       "0.875"
      ]
     },
     "metadata": {},
     "execution_count": 8
    }
   ],
   "source": [
    "pred = model.predict(X_test)\n",
    "accuracy_score(y_test, pred.round())"
   ]
  },
  {
   "cell_type": "code",
   "execution_count": null,
   "metadata": {},
   "outputs": [],
   "source": []
  }
 ]
}