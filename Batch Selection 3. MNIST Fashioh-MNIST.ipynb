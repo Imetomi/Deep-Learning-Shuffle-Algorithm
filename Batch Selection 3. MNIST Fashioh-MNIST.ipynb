{
 "metadata": {
  "language_info": {
   "codemirror_mode": {
    "name": "ipython",
    "version": 3
   },
   "file_extension": ".py",
   "mimetype": "text/x-python",
   "name": "python",
   "nbconvert_exporter": "python",
   "pygments_lexer": "ipython3",
   "version": "3.8.5-final"
  },
  "orig_nbformat": 2,
  "kernelspec": {
   "name": "python37432bit9e9055773d944554af9e80dd711a1014",
   "display_name": "Python 3.7.4 32-bit"
  }
 },
 "nbformat": 4,
 "nbformat_minor": 2,
 "cells": [
  {
   "cell_type": "code",
   "execution_count": 1,
   "metadata": {},
   "outputs": [],
   "source": [
    "import os\n",
    "import numpy as np\n",
    "\n",
    "# Function to load dataset from file. This is needed so we can easily load the two datasets without copy pasteing.\n",
    "def load_data( name ):\n",
    "    X_train = np.load(os.path.join('data', name, name + '_train_vectors.npy'))\n",
    "    X_test = np.load(os.path.join('data', name, name + '_test_vectors.npy'))\n",
    "    Y_train = np.load(os.path.join('data', name, name + '_train_labels.npy'))\n",
    "    Y_test = np.load(os.path.join('data', name, name + '_test_labels.npy'))\n",
    "\n",
    "    # The images need to have shape (28, 28, 1), we didn't take care of this in preprocessing.\n",
    "    X_train = np.expand_dims(X_train, -1)\n",
    "    X_test = np.expand_dims(X_test, -1)\n",
    "\n",
    "    return X_train, Y_train, X_test, Y_test\n",
    "\n",
    "# The same model is used for both datasets so it is more convenient to make them in a funtion.\n",
    "def make_model(X_train, Y_train, batch_selection, log_file):\n",
    "\n",
    "    # This is a simple convolutional neural network. It isn't the best possible network for MNIST\n",
    "    # but the point here is to test how much batch selection methods will speed up a CNN, not the CNN itself.\n",
    "    model = Sequential()\n",
    "    model.add(layers.Input(shape = (28, 28, 1,)))\n",
    "    model.add(layers.Conv2D(64, kernel_size = (3, 3), activation = \"relu\"))\n",
    "    model.add(layers.MaxPooling2D( pool_size = (2, 2)))\n",
    "    model.add(layers.Conv2D(64, kernel_size = (3, 3), activation = \"relu\"))\n",
    "    model.add(layers.MaxPooling2D(pool_size = (2, 2)))\n",
    "    model.add(layers.Flatten())\n",
    "    model.add(layers.Dense(10, activation = \"softmax\"))\n",
    "    \n",
    "    # Put the model in our custom training loop.\n",
    "    training = TrainingLoop(\n",
    "        model = model,\n",
    "        X = X_train,\n",
    "        y = Y_train,\n",
    "        optimizer = keras.optimizers.Adam(),\n",
    "        loss_function = keras.losses.CategoricalCrossentropy(from_logits=True),\n",
    "        batch_size = 64,\n",
    "        train_metrics = tf.keras.metrics.CategoricalAccuracy(),\n",
    "        val_metrics = tf.keras.metrics.CategoricalAccuracy(),\n",
    "        validation_split = 0.2,\n",
    "        batch_selection = batch_selection,\n",
    "        log_file = \"logs/\" + log_file + \"/MNIST.csv\",\n",
    "    )\n",
    "\n",
    "    # We still have to compile the model for the test evaluation.\n",
    "    model.compile(loss = \"categorical_crossentropy\", optimizer = \"adam\", metrics=[\"accuracy\"])\n",
    "\n",
    "    return model, training\n"
   ]
  },
  {
   "cell_type": "code",
   "execution_count": 2,
   "metadata": {},
   "outputs": [],
   "source": [
    "from loop import TrainingLoop\n",
    "import tensorflow as tf\n",
    "\n",
    "# These lines will make the gpu not give errors.\n",
    "gpus= tf.config.experimental.list_physical_devices('GPU')\n",
    "tf.config.experimental.set_memory_growth(gpus[0], True)\n",
    "\n",
    "from tensorflow import keras\n",
    "from tensorflow.keras import layers\n",
    "from tensorflow.keras.models import Sequential\n"
   ]
  },
  {
   "cell_type": "code",
   "execution_count": 6,
   "metadata": {},
   "outputs": [
    {
     "output_type": "stream",
     "name": "stdout",
     "text": [
      "\n",
      "\n",
      "original\n",
      "\n",
      "Epoch 1/8\tLoss: 1.5130\tMetrics: 0.9158: \tValidation metrics: 0.9680: \t100% | 750/750 [00:04<00:00, 166.86it/s]\n",
      "Epoch 2/8\tLoss: 1.4928\tMetrics: 0.9716: \tValidation metrics: 0.9751: \t100% | 750/750 [00:04<00:00, 182.32it/s]\n",
      "Epoch 3/8\tLoss: 1.4912\tMetrics: 0.9787: \tValidation metrics: 0.9790: \t100% | 750/750 [00:04<00:00, 172.68it/s]\n",
      "Epoch 4/8\tLoss: 1.5007\tMetrics: 0.9828: \tValidation metrics: 0.9812: \t100% | 750/750 [00:04<00:00, 183.47it/s]\n",
      "Epoch 5/8\tLoss: 1.4764\tMetrics: 0.9847: \tValidation metrics: 0.9836: \t100% | 750/750 [00:04<00:00, 182.85it/s]\n",
      "Epoch 6/8\tLoss: 1.4804\tMetrics: 0.9871: \tValidation metrics: 0.9829: \t100% | 750/750 [00:04<00:00, 173.44it/s]\n",
      "Epoch 7/8\tLoss: 1.4863\tMetrics: 0.9880: \tValidation metrics: 0.9842: \t100% | 750/750 [00:03<00:00, 188.18it/s]\n",
      "Epoch 8/8\tLoss: 1.4925\tMetrics: 0.9890: \tValidation metrics: 0.9852: \t100% | 750/750 [00:04<00:00, 187.40it/s]\n",
      "\n",
      "\n",
      "windowed\n",
      "\n",
      "Epoch 1/8\tLoss: 1.5278\tMetrics: 0.8257: \tValidation metrics: 0.9650: \t100% | 750/750 [00:16<00:00, 46.76it/s]\n",
      "Epoch 2/8\tLoss: 1.4931\tMetrics: 0.9487: \tValidation metrics: 0.9761: \t100% | 750/750 [00:16<00:00, 46.31it/s]\n",
      "Epoch 3/8\tLoss: 1.4892\tMetrics: 0.9583: \tValidation metrics: 0.9756: \t100% | 750/750 [00:15<00:00, 47.21it/s]\n",
      "Epoch 4/8\tLoss: 1.4889\tMetrics: 0.9634: \tValidation metrics: 0.9796: \t100% | 750/750 [00:14<00:00, 50.17it/s]\n",
      "Epoch 5/8\tLoss: 1.4825\tMetrics: 0.9682: \tValidation metrics: 0.9832: \t100% | 750/750 [00:15<00:00, 49.12it/s]\n",
      "Epoch 6/8\tLoss: 1.4784\tMetrics: 0.9706: \tValidation metrics: 0.9827: \t100% | 750/750 [00:17<00:00, 44.04it/s]\n",
      "Epoch 7/8\tLoss: 1.4769\tMetrics: 0.9737: \tValidation metrics: 0.9840: \t100% | 750/750 [00:15<00:00, 47.35it/s]\n",
      "Epoch 8/8\tLoss: 1.4771\tMetrics: 0.9735: \tValidation metrics: 0.9857: \t100% | 750/750 [00:15<00:00, 48.08it/s]\n"
     ]
    }
   ],
   "source": [
    "from batchSelection import bad_batch_selector\n",
    "\n",
    "selectorList = [[None, 'original'], [bad_batch_selector, 'windowed']]\n",
    "\n",
    "X_train, Y_train, X_test, Y_test = load_data( \"mnist\" )\n",
    "for selector in selectorList:\n",
    "    print( \"\\n\\n\" + selector[1] + \"\\n\")\n",
    "    # Set random seed so the comparison of different solutions won't be affected by it.\n",
    "    tf.random.set_seed(42)\n",
    "    np.random.seed(42)\n",
    "    \n",
    "    model, training = make_model( X_train, Y_train, selector[0], selector[1] )\n",
    "\n",
    "    training.train(epochs = 8)\n"
   ]
  },
  {
   "cell_type": "code",
   "execution_count": null,
   "metadata": {},
   "outputs": [],
   "source": []
  }
 ]
}