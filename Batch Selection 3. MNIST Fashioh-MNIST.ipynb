{
 "metadata": {
  "language_info": {
   "codemirror_mode": {
    "name": "ipython",
    "version": 3
   },
   "file_extension": ".py",
   "mimetype": "text/x-python",
   "name": "python",
   "nbconvert_exporter": "python",
   "pygments_lexer": "ipython3",
   "version": "3.8.5-final"
  },
  "orig_nbformat": 2,
  "kernelspec": {
   "name": "python37432bit9e9055773d944554af9e80dd711a1014",
   "display_name": "Python 3.7.4 32-bit"
  }
 },
 "nbformat": 4,
 "nbformat_minor": 2,
 "cells": [
  {
   "cell_type": "code",
   "execution_count": 2,
   "metadata": {},
   "outputs": [],
   "source": [
    "from loop import TrainingLoop\n",
    "import tensorflow as tf\n",
    "\n",
    "length = 10\n",
    "\n",
    "@tf.function\n",
    "def calc_loss(x_train, y_train):\n",
    "    with tf.GradientTape() as tape:\n",
    "        logits = model(x_train, training=False)\n",
    "        loss_value = loss_function(y_train, logits)\n",
    "    return loss_value\n",
    "\n",
    "\n",
    "def batch_selector(data, idx):\n",
    "    largest_loss = 0\n",
    "    largest_loss_idx = idx\n",
    "\n",
    "    if idx < len(data) - length:\n",
    "        for i in range(idx, idx+length):\n",
    "            x_batch_train = data[i][0]\n",
    "            y_batch_train = data[i][1]\n",
    "            loss = calc_loss(x_batch_train, y_batch_train)\n",
    "            if loss > largest_loss:\n",
    "                largest_loss = loss\n",
    "                largest_loss_idx = i\n",
    "        return largest_loss_idx\n",
    "    else:\n",
    "        loss = calc_loss(data[idx][0], data[idx][1])\n",
    "        return idx"
   ]
  },
  {
   "cell_type": "code",
   "execution_count": 3,
   "metadata": {},
   "outputs": [],
   "source": [
    "import os\n",
    "import numpy as np\n",
    "\n",
    "# Function to load dataset from file. This is needed so we can easily load the two datasets without copy pasteing.\n",
    "def load_data( name ):\n",
    "    X_train = np.load(os.path.join('data', name, name + '_train_vectors.npy'))\n",
    "    X_test = np.load(os.path.join('data', name, name + '_test_vectors.npy'))\n",
    "    Y_train = np.load(os.path.join('data', name, name + '_train_labels.npy'))\n",
    "    Y_test = np.load(os.path.join('data', name, name + '_test_labels.npy'))\n",
    "\n",
    "    # The images need to have shape (28, 28, 1), we didn't take care of this in preprocessing.\n",
    "    X_train = np.expand_dims(X_train, -1)\n",
    "    X_test = np.expand_dims(X_test, -1)\n",
    "\n",
    "    return X_train, Y_train, X_test, Y_test\n",
    "\n",
    "# The same model is used for both datasets so it is more convenient to make them in a funtion.\n",
    "def make_model(X_train, Y_train):\n",
    "\n",
    "    # This is a simple convolutional neural network. It isn't the best possible network for MNIST\n",
    "    # but the point here is to test how much batch selection methods will speed up a CNN, not the CNN itself.\n",
    "    model = Sequential()\n",
    "    model.add(layers.Input(shape = (28, 28, 1,)))\n",
    "    model.add(layers.Conv2D(64, kernel_size = (3, 3), activation = \"relu\"))\n",
    "    model.add(layers.MaxPooling2D( pool_size = (2, 2)))\n",
    "    model.add(layers.Conv2D(64, kernel_size = (3, 3), activation = \"relu\"))\n",
    "    model.add(layers.MaxPooling2D(pool_size = (2, 2)))\n",
    "    model.add(layers.Flatten())\n",
    "    model.add(layers.Dense(10, activation = \"softmax\"))\n",
    "    \n",
    "    # Put the model in our custom training loop.\n",
    "    training = TrainingLoop(\n",
    "        model = model,\n",
    "        X = X_train,\n",
    "        y = Y_train,\n",
    "        optimizer = keras.optimizers.Adam(),\n",
    "        loss_function = keras.losses.CategoricalCrossentropy(from_logits=True),\n",
    "        batch_size = 64,\n",
    "        train_metrics = tf.keras.metrics.CategoricalAccuracy(),\n",
    "        val_metrics = tf.keras.metrics.CategoricalAccuracy(),\n",
    "        validation_split = 0.2,\n",
    "        batch_selection = batch_selector,\n",
    "    )\n",
    "\n",
    "    # We still have to compile the model for the test evaluation.\n",
    "    model.compile(loss = \"categorical_crossentropy\", optimizer = \"adam\", metrics=[\"accuracy\"])\n",
    "\n",
    "    return model, training\n"
   ]
  },
  {
   "cell_type": "code",
   "execution_count": 4,
   "metadata": {},
   "outputs": [],
   "source": [
    "from loop import TrainingLoop\n",
    "import tensorflow as tf\n",
    "\n",
    "# These lines will make the gpu not give errors.\n",
    "gpus= tf.config.experimental.list_physical_devices('GPU')\n",
    "tf.config.experimental.set_memory_growth(gpus[0], True)\n",
    "\n",
    "from tensorflow import keras\n",
    "from tensorflow.keras import layers\n",
    "from tensorflow.keras.models import Sequential\n",
    "\n",
    "# Set random seed so the comparison of different solutions won't be affected by it.\n",
    "tf.random.set_seed(42)\n",
    "np.random.seed(42)\n"
   ]
  },
  {
   "cell_type": "code",
   "execution_count": 6,
   "metadata": {},
   "outputs": [
    {
     "output_type": "stream",
     "name": "stderr",
     "text": [
      "Epoch 1/20\tLoss: 1.5052\tMetrics: 0.8748: \tValidation metrics: 0.9642: \t100% | 750/750 [00:09<00:00, 82.65it/s] \n",
      "Epoch 2/20\tLoss: 1.4952\tMetrics: 0.9712: \tValidation metrics: 0.9777: \t100% | 750/750 [00:03<00:00, 222.78it/s]\n",
      "Epoch 3/20\tLoss: 1.4818\tMetrics: 0.9780: \tValidation metrics: 0.9822: \t100% | 750/750 [00:03<00:00, 216.87it/s]\n",
      "Epoch 4/20\tLoss: 1.4821\tMetrics: 0.9828: \tValidation metrics: 0.9826: \t100% | 750/750 [00:03<00:00, 213.20it/s]\n",
      "Epoch 5/20\tLoss: 1.4797\tMetrics: 0.9852: \tValidation metrics: 0.9811: \t100% | 750/750 [00:03<00:00, 218.22it/s]\n",
      "Epoch 6/20\tLoss: 1.4629\tMetrics: 0.9869: \tValidation metrics: 0.9835: \t100% | 750/750 [00:03<00:00, 215.39it/s]\n",
      "Epoch 7/20\tLoss: 1.4672\tMetrics: 0.9882: \tValidation metrics: 0.9848: \t100% | 750/750 [00:03<00:00, 226.16it/s]\n",
      "Epoch 8/20\tLoss: 1.4625\tMetrics: 0.9892: \tValidation metrics: 0.9843: \t100% | 750/750 [00:03<00:00, 217.44it/s]\n",
      "Epoch 9/20\tLoss: 1.4679\tMetrics: 0.9898: \tValidation metrics: 0.9818: \t100% | 750/750 [00:03<00:00, 209.31it/s]\n",
      "Epoch 10/20\tLoss: 1.4616\tMetrics: 0.9903: \tValidation metrics: 0.9862: \t100% | 750/750 [00:03<00:00, 201.11it/s]\n",
      "Epoch 11/20\tLoss: 1.4613\tMetrics: 0.9911: \tValidation metrics: 0.9867: \t100% | 750/750 [00:03<00:00, 202.77it/s]\n",
      "Epoch 12/20\tLoss: 1.4612\tMetrics: 0.9916: \tValidation metrics: 0.9857: \t100% | 750/750 [00:03<00:00, 197.89it/s]\n",
      "Epoch 13/20\tLoss: 1.4613\tMetrics: 0.9925: \tValidation metrics: 0.9872: \t100% | 750/750 [00:03<00:00, 211.34it/s]\n",
      "Epoch 14/20\tLoss: 1.4708\tMetrics: 0.9930: \tValidation metrics: 0.9844: \t100% | 750/750 [00:03<00:00, 215.75it/s]\n",
      "Epoch 15/20\tLoss: 1.4612\tMetrics: 0.9936: \tValidation metrics: 0.9865: \t100% | 750/750 [00:03<00:00, 220.48it/s]\n",
      "Epoch 16/20\tLoss: 1.4630\tMetrics: 0.9934: \tValidation metrics: 0.9865: \t100% | 750/750 [00:03<00:00, 217.02it/s]\n",
      "Epoch 17/20\tLoss: 1.4612\tMetrics: 0.9947: \tValidation metrics: 0.9867: \t100% | 750/750 [00:03<00:00, 212.87it/s]\n",
      "Epoch 18/20\tLoss: 1.4614\tMetrics: 0.9944: \tValidation metrics: 0.9862: \t100% | 750/750 [00:03<00:00, 219.89it/s]\n",
      "Epoch 19/20\tLoss: 1.4612\tMetrics: 0.9946: \tValidation metrics: 0.9869: \t100% | 750/750 [00:03<00:00, 221.70it/s]\n",
      "Epoch 20/20\tLoss: 1.4611\tMetrics: 0.9942: \tValidation metrics: 0.9876: \t100% | 750/750 [00:03<00:00, 220.93it/s]\n"
     ]
    }
   ],
   "source": [
    "# Load and train the MNIST dataset.\n",
    "X_train, Y_train, X_test, Y_test = load_data( \"mnist\" )\n",
    "model, training = make_model( X_train, Y_train )\n",
    "\n",
    "loss_function = training.LossFunction\n",
    "\n",
    "training.train(epochs = 20)"
   ]
  },
  {
   "cell_type": "code",
   "execution_count": 7,
   "metadata": {},
   "outputs": [
    {
     "output_type": "stream",
     "name": "stdout",
     "text": [
      "313/313 [==============================] - 1s 2ms/step - loss: 0.0781 - accuracy: 0.9886\n"
     ]
    },
    {
     "output_type": "execute_result",
     "data": {
      "text/plain": [
       "[0.0780782550573349, 0.9886000156402588]"
      ]
     },
     "metadata": {},
     "execution_count": 7
    }
   ],
   "source": [
    "# Evaluate the MNIST model.\n",
    "model.evaluate( X_test, Y_test )"
   ]
  },
  {
   "cell_type": "code",
   "execution_count": null,
   "metadata": {},
   "outputs": [],
   "source": []
  }
 ]
}