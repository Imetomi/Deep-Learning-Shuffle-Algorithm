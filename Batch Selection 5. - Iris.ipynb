{
 "metadata": {
  "language_info": {
   "codemirror_mode": {
    "name": "ipython",
    "version": 3
   },
   "file_extension": ".py",
   "mimetype": "text/x-python",
   "name": "python",
   "nbconvert_exporter": "python",
   "pygments_lexer": "ipython3",
   "version": "3.8.6-final"
  },
  "orig_nbformat": 2,
  "kernelspec": {
   "name": "python3",
   "display_name": "Python 3.8.6 64-bit",
   "metadata": {
    "interpreter": {
     "hash": "f0b7ef81dbfba64741f51278088cbb108f5f8bdb279b68750dee812d0a6f384d"
    }
   }
  }
 },
 "nbformat": 4,
 "nbformat_minor": 2,
 "cells": [
  {
   "cell_type": "code",
   "execution_count": 1,
   "metadata": {},
   "outputs": [],
   "source": [
    "import os\n",
    "import numpy as np\n",
    "import tensorflow as tf\n",
    "from keras import models, layers\n",
    "\n",
    "from loop import TrainingLoop\n",
    "from batch_selection import windowed_batch_selector, sorting_batch_selector"
   ]
  },
  {
   "cell_type": "code",
   "execution_count": 2,
   "metadata": {},
   "outputs": [],
   "source": [
    "# Loading the dataset from the files saved in the preprocessing notebook.\n",
    "path = 'data/iris'\n",
    "prefix = 'iris_'\n",
    "X_train = np.load(os.path.join(path, prefix+'train_vectors.npy'))\n",
    "y_train = np.load(os.path.join(path, prefix+'train_labels.npy'))\n",
    "X_test  = np.load(os.path.join(path, prefix+'test_vectors.npy'))\n",
    "y_test  = np.load(os.path.join(path, prefix+'test_labels.npy'))"
   ]
  },
  {
   "cell_type": "code",
   "execution_count": 3,
   "metadata": {},
   "outputs": [],
   "source": [
    "def build_model():\n",
    "    # Setting up the model.\n",
    "    model = models.Sequential()\n",
    "    model.add(layers.Dense(50, activation='relu', input_shape=(X_test.shape[1],)))\n",
    "    model.add(layers.Dense(40, activation='relu'))\n",
    "    model.add(layers.Dense(20, activation='relu'))\n",
    "    model.add(layers.Dense(y_train.shape[1], activation='softmax'))\n",
    "    return model"
   ]
  },
  {
   "cell_type": "code",
   "execution_count": 4,
   "metadata": {},
   "outputs": [],
   "source": [
    "def train(model, X_train, y_train, batch_selection, epochs):\n",
    "    log_dir = {windowed_batch_selector: 'windowed', sorting_batch_selector: 'sorting', None: 'original'}\n",
    "    # Put the model in our custom training loop.\n",
    "    TrainingLoop(\n",
    "        model, \n",
    "        X_train, \n",
    "        y_train, \n",
    "        validation_split = 0.1,\n",
    "        batch_size = 4,\n",
    "        optimizer = tf.keras.optimizers.Adam(),\n",
    "        loss_function = tf.keras.losses.CategoricalCrossentropy(),\n",
    "        train_metrics = tf.keras.metrics.CategoricalAccuracy(),\n",
    "        val_metrics = tf.keras.metrics.CategoricalAccuracy(),\n",
    "        batch_selection = batch_selection,\n",
    "        log_file = os.path.join('logs', log_dir[batch_selection], 'iris.csv')\n",
    "    ).train(epochs)  # Training the model."
   ]
  },
  {
   "cell_type": "code",
   "execution_count": 5,
   "metadata": {},
   "outputs": [
    {
     "output_type": "stream",
     "name": "stderr",
     "text": [
      "Epoch 1/20\tLoss: 0.7039\tMetrics: 0.4351: \tValidation metrics: 0.4166: \t100% | 27/27 [00:04<00:00,  6.47it/s]\n",
      "Epoch 2/20\tLoss: 0.3617\tMetrics: 0.6666: \tValidation metrics: 0.5833: \t100% | 27/27 [00:00<00:00, 39.76it/s]\n",
      "Epoch 3/20\tLoss: 0.2019\tMetrics: 0.7685: \tValidation metrics: 0.75: \t100% | 27/27 [00:01<00:00, 26.47it/s]\n",
      "Epoch 4/20\tLoss: 0.1377\tMetrics: 0.8796: \tValidation metrics: 0.8333: \t100% | 27/27 [00:00<00:00, 50.28it/s]\n",
      "Epoch 5/20\tLoss: 0.0952\tMetrics: 0.8611: \tValidation metrics: 0.9166: \t100% | 27/27 [00:00<00:00, 42.45it/s]\n",
      "Epoch 6/20\tLoss: 0.0581\tMetrics: 0.8703: \tValidation metrics: 1.0: \t100% | 27/27 [00:00<00:00, 57.20it/s]\n",
      "Epoch 7/20\tLoss: 0.0372\tMetrics: 0.8888: \tValidation metrics: 0.9166: \t100% | 27/27 [00:00<00:00, 52.84it/s]\n",
      "Epoch 8/20\tLoss: 0.0240\tMetrics: 0.9259: \tValidation metrics: 0.9166: \t100% | 27/27 [00:00<00:00, 61.64it/s]\n",
      "Epoch 9/20\tLoss: 0.0159\tMetrics: 0.9444: \tValidation metrics: 0.9166: \t100% | 27/27 [00:00<00:00, 54.77it/s]\n",
      "Epoch 10/20\tLoss: 0.0105\tMetrics: 0.9629: \tValidation metrics: 1.0: \t100% | 27/27 [00:00<00:00, 44.19it/s]\n",
      "Epoch 11/20\tLoss: 0.0073\tMetrics: 0.9722: \tValidation metrics: 1.0: \t100% | 27/27 [00:00<00:00, 30.34it/s]\n",
      "Epoch 12/20\tLoss: 0.0051\tMetrics: 0.9722: \tValidation metrics: 1.0: \t100% | 27/27 [00:00<00:00, 44.78it/s]\n",
      "Epoch 13/20\tLoss: 0.0035\tMetrics: 0.9629: \tValidation metrics: 1.0: \t100% | 27/27 [00:00<00:00, 62.20it/s]\n",
      "Epoch 14/20\tLoss: 0.0026\tMetrics: 0.9629: \tValidation metrics: 1.0: \t100% | 27/27 [00:00<00:00, 42.45it/s]\n",
      "Epoch 15/20\tLoss: 0.0020\tMetrics: 0.9629: \tValidation metrics: 1.0: \t100% | 27/27 [00:00<00:00, 33.79it/s]\n",
      "Epoch 16/20\tLoss: 0.0015\tMetrics: 0.9722: \tValidation metrics: 1.0: \t100% | 27/27 [00:00<00:00, 47.45it/s]\n",
      "Epoch 17/20\tLoss: 0.0011\tMetrics: 0.9722: \tValidation metrics: 1.0: \t100% | 27/27 [00:00<00:00, 49.36it/s]\n",
      "Epoch 18/20\tLoss: 0.0009\tMetrics: 0.9814: \tValidation metrics: 1.0: \t100% | 27/27 [00:00<00:00, 58.44it/s]\n",
      "Epoch 19/20\tLoss: 0.0007\tMetrics: 0.9907: \tValidation metrics: 1.0: \t100% | 27/27 [00:00<00:00, 53.25it/s]\n",
      "Epoch 20/20\tLoss: 0.0005\tMetrics: 0.9907: \tValidation metrics: 1.0: \t100% | 27/27 [00:00<00:00, 61.93it/s]\n",
      "1/1 [==============================] - 0s 14ms/step - loss: 0.1161 - accuracy: 0.9667\n"
     ]
    },
    {
     "output_type": "execute_result",
     "data": {
      "text/plain": [
       "[0.11605016142129898, 0.9666666388511658]"
      ]
     },
     "metadata": {},
     "execution_count": 5
    }
   ],
   "source": [
    "# Set random seed so the comparison of different solutions won't be affected by it.\n",
    "tf.random.set_seed(42)\n",
    "np.random.seed(42)\n",
    "\n",
    "# Train model with default batch selection.\n",
    "model = build_model()\n",
    "train(model, X_train, y_train, batch_selection=None, epochs=20)\n",
    "\n",
    "# We still have to compile the model for the test evaluation.\n",
    "model.compile(loss='categorical_crossentropy', optimizer='adam', metrics=['accuracy'])\n",
    "# After compiling we can run the evaluation.\n",
    "model.evaluate(X_test, y_test)"
   ]
  },
  {
   "cell_type": "code",
   "execution_count": 6,
   "metadata": {},
   "outputs": [
    {
     "output_type": "stream",
     "name": "stderr",
     "text": [
      "Epoch 1/20\tLoss: 0.8344\tMetrics: 0.5370: \tValidation metrics: 0.75: \t100% | 27/27 [00:04<00:00,  5.69it/s]\n",
      "Epoch 2/20\tLoss: 0.5805\tMetrics: 0.8888: \tValidation metrics: 0.9166: \t100% | 27/27 [00:01<00:00, 20.45it/s]\n",
      "Epoch 3/20\tLoss: 0.3109\tMetrics: 0.8518: \tValidation metrics: 0.9166: \t100% | 27/27 [00:00<00:00, 28.51it/s]\n",
      "Epoch 4/20\tLoss: 0.1584\tMetrics: 0.8611: \tValidation metrics: 0.9166: \t100% | 27/27 [00:00<00:00, 35.25it/s]\n",
      "Epoch 5/20\tLoss: 0.0972\tMetrics: 0.8425: \tValidation metrics: 0.9166: \t100% | 27/27 [00:00<00:00, 29.00it/s]\n",
      "Epoch 6/20\tLoss: 0.0658\tMetrics: 0.8240: \tValidation metrics: 0.9166: \t100% | 27/27 [00:00<00:00, 33.09it/s]\n",
      "Epoch 7/20\tLoss: 0.0433\tMetrics: 0.8518: \tValidation metrics: 0.9166: \t100% | 27/27 [00:01<00:00, 17.90it/s]\n",
      "Epoch 8/20\tLoss: 0.0342\tMetrics: 0.8333: \tValidation metrics: 0.8333: \t100% | 27/27 [00:01<00:00, 20.30it/s]\n",
      "Epoch 9/20\tLoss: 0.0228\tMetrics: 0.8518: \tValidation metrics: 1.0: \t100% | 27/27 [00:00<00:00, 31.25it/s]\n",
      "Epoch 10/20\tLoss: 0.0177\tMetrics: 0.8518: \tValidation metrics: 0.9166: \t100% | 27/27 [00:00<00:00, 28.91it/s]\n",
      "Epoch 11/20\tLoss: 0.0125\tMetrics: 0.8796: \tValidation metrics: 1.0: \t100% | 27/27 [00:00<00:00, 31.76it/s]\n",
      "Epoch 12/20\tLoss: 0.0096\tMetrics: 0.8518: \tValidation metrics: 0.9166: \t100% | 27/27 [00:00<00:00, 31.03it/s]\n",
      "Epoch 13/20\tLoss: 0.0074\tMetrics: 0.9166: \tValidation metrics: 1.0: \t100% | 27/27 [00:01<00:00, 26.92it/s]\n",
      "Epoch 14/20\tLoss: 0.0060\tMetrics: 0.8796: \tValidation metrics: 0.9166: \t100% | 27/27 [00:00<00:00, 28.97it/s]\n",
      "Epoch 15/20\tLoss: 0.0041\tMetrics: 0.9537: \tValidation metrics: 1.0: \t100% | 27/27 [00:00<00:00, 38.30it/s]\n",
      "Epoch 16/20\tLoss: 0.0032\tMetrics: 0.9814: \tValidation metrics: 1.0: \t100% | 27/27 [00:00<00:00, 38.35it/s]\n",
      "Epoch 17/20\tLoss: 0.0029\tMetrics: 0.9444: \tValidation metrics: 1.0: \t100% | 27/27 [00:01<00:00, 21.62it/s]\n",
      "Epoch 18/20\tLoss: 0.0025\tMetrics: 0.9259: \tValidation metrics: 0.9166: \t100% | 27/27 [00:01<00:00, 14.23it/s]\n",
      "Epoch 19/20\tLoss: 0.0015\tMetrics: 0.9722: \tValidation metrics: 1.0: \t100% | 27/27 [00:01<00:00, 20.91it/s]\n",
      "Epoch 20/20\tLoss: 0.0017\tMetrics: 0.9907: \tValidation metrics: 1.0: \t100% | 27/27 [00:02<00:00, 12.83it/s]\n",
      "1/1 [==============================] - 0s 5ms/step - loss: 0.1510 - accuracy: 0.9667\n"
     ]
    },
    {
     "output_type": "execute_result",
     "data": {
      "text/plain": [
       "[0.1510007530450821, 0.9666666388511658]"
      ]
     },
     "metadata": {},
     "execution_count": 6
    }
   ],
   "source": [
    "# Set random seed so the comparison of different solutions won't be affected by it.\n",
    "tf.random.set_seed(42)\n",
    "np.random.seed(42)\n",
    "\n",
    "# Train model with windowed batch selection algorithm.\n",
    "model = build_model()\n",
    "train(model, X_train, y_train, batch_selection=windowed_batch_selector, epochs=20)\n",
    "\n",
    "model.compile(loss='categorical_crossentropy', optimizer='adam', metrics=['accuracy'])\n",
    "model.evaluate(X_test, y_test)"
   ]
  },
  {
   "cell_type": "code",
   "execution_count": 7,
   "metadata": {},
   "outputs": [
    {
     "output_type": "stream",
     "name": "stderr",
     "text": [
      "Epoch 1/20\tLoss: 0.8131\tMetrics: 0.4907: \tValidation metrics: 0.75: \t100% | 27/27 [00:04<00:00,  5.56it/s]\n",
      "Epoch 2/20\tLoss: 0.2476\tMetrics: 0.8333: \tValidation metrics: 0.75: \t100% | 27/27 [00:00<00:00, 32.57it/s]\n",
      "Epoch 3/20\tLoss: 0.0591\tMetrics: 0.8518: \tValidation metrics: 0.8333: \t100% | 27/27 [00:01<00:00, 25.99it/s]\n",
      "Epoch 4/20\tLoss: 0.0206\tMetrics: 0.8703: \tValidation metrics: 0.9166: \t100% | 27/27 [00:02<00:00, 13.22it/s]\n",
      "Epoch 5/20\tLoss: 0.0098\tMetrics: 0.8518: \tValidation metrics: 0.9166: \t100% | 27/27 [00:01<00:00, 25.62it/s]\n",
      "Epoch 6/20\tLoss: 0.0054\tMetrics: 0.8611: \tValidation metrics: 1.0: \t100% | 27/27 [00:00<00:00, 28.42it/s]\n",
      "Epoch 7/20\tLoss: 0.0033\tMetrics: 0.9166: \tValidation metrics: 1.0: \t100% | 27/27 [00:00<00:00, 38.41it/s]\n",
      "Epoch 8/20\tLoss: 0.0021\tMetrics: 0.9166: \tValidation metrics: 0.9166: \t100% | 27/27 [00:00<00:00, 28.75it/s]\n",
      "Epoch 9/20\tLoss: 0.0015\tMetrics: 0.9351: \tValidation metrics: 1.0: \t100% | 27/27 [00:01<00:00, 26.95it/s]\n",
      "Epoch 10/20\tLoss: 0.0011\tMetrics: 0.9537: \tValidation metrics: 1.0: \t100% | 27/27 [00:00<00:00, 35.16it/s]\n",
      "Epoch 11/20\tLoss: 0.0008\tMetrics: 0.9629: \tValidation metrics: 1.0: \t100% | 27/27 [00:00<00:00, 36.24it/s]\n",
      "Epoch 12/20\tLoss: 0.0006\tMetrics: 0.9537: \tValidation metrics: 1.0: \t100% | 27/27 [00:00<00:00, 36.79it/s]\n",
      "Epoch 13/20\tLoss: 0.0004\tMetrics: 0.9537: \tValidation metrics: 1.0: \t100% | 27/27 [00:01<00:00, 19.30it/s]\n",
      "Epoch 14/20\tLoss: 0.0004\tMetrics: 0.9629: \tValidation metrics: 1.0: \t100% | 27/27 [00:01<00:00, 24.98it/s]\n",
      "Epoch 15/20\tLoss: 0.0003\tMetrics: 0.9722: \tValidation metrics: 1.0: \t100% | 27/27 [00:00<00:00, 47.45it/s]\n",
      "Epoch 16/20\tLoss: 0.0002\tMetrics: 0.9722: \tValidation metrics: 1.0: \t100% | 27/27 [00:00<00:00, 60.95it/s]\n",
      "Epoch 17/20\tLoss: 0.0002\tMetrics: 0.9629: \tValidation metrics: 1.0: \t100% | 27/27 [00:00<00:00, 33.29it/s]\n",
      "Epoch 18/20\tLoss: 0.0002\tMetrics: 0.9722: \tValidation metrics: 1.0: \t100% | 27/27 [00:00<00:00, 29.93it/s]\n",
      "Epoch 19/20\tLoss: 0.0001\tMetrics: 0.9814: \tValidation metrics: 1.0: \t100% | 27/27 [00:00<00:00, 42.19it/s]\n",
      "Epoch 20/20\tLoss: 0.0001\tMetrics: 0.9814: \tValidation metrics: 1.0: \t100% | 27/27 [00:00<00:00, 56.25it/s]\n",
      "1/1 [==============================] - 0s 5ms/step - loss: 0.1132 - accuracy: 0.9667\n"
     ]
    },
    {
     "output_type": "execute_result",
     "data": {
      "text/plain": [
       "[0.11316245049238205, 0.9666666388511658]"
      ]
     },
     "metadata": {},
     "execution_count": 7
    }
   ],
   "source": [
    "# Set random seed so the comparison of different solutions won't be affected by it.\n",
    "tf.random.set_seed(42)\n",
    "np.random.seed(42)\n",
    "\n",
    "# Train model with sorting batch selection algorithm.\n",
    "model = build_model()\n",
    "train(model, X_train, y_train, batch_selection=sorting_batch_selector, epochs=20)\n",
    "\n",
    "model.compile(loss='categorical_crossentropy', optimizer='adam', metrics=['accuracy'])\n",
    "model.evaluate(X_test, y_test)"
   ]
  }
 ]
}