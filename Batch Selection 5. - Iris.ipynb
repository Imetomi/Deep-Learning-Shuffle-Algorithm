{
 "metadata": {
  "language_info": {
   "codemirror_mode": {
    "name": "ipython",
    "version": 3
   },
   "file_extension": ".py",
   "mimetype": "text/x-python",
   "name": "python",
   "nbconvert_exporter": "python",
   "pygments_lexer": "ipython3",
   "version": "3.8.6-final"
  },
  "orig_nbformat": 2,
  "kernelspec": {
   "name": "python3",
   "display_name": "Python 3.8.6 64-bit",
   "metadata": {
    "interpreter": {
     "hash": "f0b7ef81dbfba64741f51278088cbb108f5f8bdb279b68750dee812d0a6f384d"
    }
   }
  }
 },
 "nbformat": 4,
 "nbformat_minor": 2,
 "cells": [
  {
   "cell_type": "code",
   "execution_count": 1,
   "metadata": {},
   "outputs": [],
   "source": [
    "import os\n",
    "import numpy as np\n",
    "import tensorflow as tf\n",
    "from keras import models, layers\n",
    "\n",
    "from loop import TrainingLoop\n",
    "from batch_selection import windowed_batch_selector, sorting_batch_selector"
   ]
  },
  {
   "cell_type": "code",
   "execution_count": 2,
   "metadata": {},
   "outputs": [],
   "source": [
    "# Loading the dataset from the files saved in the preprocessing notebook.\n",
    "path = 'data/iris'\n",
    "prefix = 'iris_'\n",
    "X_train = np.load(os.path.join(path, prefix+'train_vectors.npy'))\n",
    "y_train = np.load(os.path.join(path, prefix+'train_labels.npy'))\n",
    "X_test  = np.load(os.path.join(path, prefix+'test_vectors.npy'))\n",
    "y_test  = np.load(os.path.join(path, prefix+'test_labels.npy'))"
   ]
  },
  {
   "cell_type": "code",
   "execution_count": 3,
   "metadata": {},
   "outputs": [],
   "source": [
    "def build_model():\n",
    "    # Setting up the model.\n",
    "    model = models.Sequential()\n",
    "    model.add(layers.Dense(50, activation='relu', input_shape=(X_test.shape[1],)))\n",
    "    model.add(layers.Dense(40, activation='relu'))\n",
    "    model.add(layers.Dense(20, activation='relu'))\n",
    "    model.add(layers.Dense(y_train.shape[1], activation='softmax'))\n",
    "    return model"
   ]
  },
  {
   "cell_type": "code",
   "execution_count": 4,
   "metadata": {},
   "outputs": [],
   "source": [
    "def train(model, X_train, y_train, batch_selector, epochs):\n",
    "    selector_str = {windowed_batch_selector: 'windowed', sorting_batch_selector: 'sorting', None: 'original'}\n",
    "    print('\\n\\n'+selector_str[batch_selector]+'\\n')\n",
    "    # Put the model in our custom training loop.\n",
    "    TrainingLoop(\n",
    "        model, \n",
    "        X_train, \n",
    "        y_train, \n",
    "        validation_split = 0.1,\n",
    "        batch_size = 4,\n",
    "        optimizer = tf.keras.optimizers.Adam(),\n",
    "        loss_function = tf.keras.losses.CategoricalCrossentropy(),\n",
    "        train_metrics = tf.keras.metrics.CategoricalAccuracy(),\n",
    "        val_metrics = tf.keras.metrics.CategoricalAccuracy(),\n",
    "        batch_selection = batch_selector,\n",
    "        log_file = os.path.join('logs',selector_str[batch_selector],'iris.csv')\n",
    "    ).train(epochs)  # Training the model."
   ]
  },
  {
   "cell_type": "code",
   "execution_count": 5,
   "metadata": {},
   "outputs": [],
   "source": [
    "def evaluate(model, X_test, y_test):\n",
    "    # We still have to compile the model for the test evaluation.\n",
    "    model.compile(loss='categorical_crossentropy', optimizer='adam', metrics=['accuracy'])\n",
    "    # After compiling we can run the evaluation.\n",
    "    model.evaluate(X_test, y_test)"
   ]
  },
  {
   "cell_type": "code",
   "execution_count": 6,
   "metadata": {},
   "outputs": [
    {
     "output_type": "stream",
     "name": "stdout",
     "text": [
      "\n",
      "\n",
      "original\n",
      "\n",
      "Epoch 1/20\tLoss: 0.7039\tMetrics: 0.4351: \tValidation metrics: 0.4166: \t100% | 27/27 [00:03<00:00,  7.60it/s]\n",
      "Epoch 2/20\tLoss: 0.3617\tMetrics: 0.6666: \tValidation metrics: 0.5833: \t100% | 27/27 [00:00<00:00, 69.41it/s]\n",
      "Epoch 3/20\tLoss: 0.2019\tMetrics: 0.7685: \tValidation metrics: 0.75: \t100% | 27/27 [00:00<00:00, 39.82it/s]\n",
      "Epoch 4/20\tLoss: 0.1377\tMetrics: 0.8796: \tValidation metrics: 0.8333: \t100% | 27/27 [00:00<00:00, 35.71it/s]\n",
      "Epoch 5/20\tLoss: 0.0952\tMetrics: 0.8611: \tValidation metrics: 0.9166: \t100% | 27/27 [00:00<00:00, 39.71it/s]\n",
      "Epoch 6/20\tLoss: 0.0581\tMetrics: 0.8703: \tValidation metrics: 1.0: \t100% | 27/27 [00:00<00:00, 46.15it/s]\n",
      "Epoch 7/20\tLoss: 0.0372\tMetrics: 0.8888: \tValidation metrics: 0.9166: \t100% | 27/27 [00:00<00:00, 35.34it/s]\n",
      "Epoch 8/20\tLoss: 0.0240\tMetrics: 0.9259: \tValidation metrics: 0.9166: \t100% | 27/27 [00:00<00:00, 65.38it/s]\n",
      "Epoch 9/20\tLoss: 0.0159\tMetrics: 0.9444: \tValidation metrics: 0.9166: \t100% | 27/27 [00:00<00:00, 50.94it/s]\n",
      "Epoch 10/20\tLoss: 0.0105\tMetrics: 0.9629: \tValidation metrics: 1.0: \t100% | 27/27 [00:00<00:00, 50.09it/s]\n",
      "Epoch 11/20\tLoss: 0.0073\tMetrics: 0.9722: \tValidation metrics: 1.0: \t100% | 27/27 [00:00<00:00, 62.35it/s]\n",
      "Epoch 12/20\tLoss: 0.0051\tMetrics: 0.9722: \tValidation metrics: 1.0: \t100% | 27/27 [00:00<00:00, 61.36it/s]\n",
      "Epoch 13/20\tLoss: 0.0035\tMetrics: 0.9629: \tValidation metrics: 1.0: \t100% | 27/27 [00:00<00:00, 40.48it/s]\n",
      "Epoch 14/20\tLoss: 0.0026\tMetrics: 0.9629: \tValidation metrics: 1.0: \t100% | 27/27 [00:00<00:00, 40.54it/s]\n",
      "Epoch 15/20\tLoss: 0.0020\tMetrics: 0.9629: \tValidation metrics: 1.0: \t100% | 27/27 [00:00<00:00, 58.44it/s]\n",
      "Epoch 16/20\tLoss: 0.0015\tMetrics: 0.9722: \tValidation metrics: 1.0: \t100% | 27/27 [00:00<00:00, 70.31it/s]\n",
      "Epoch 17/20\tLoss: 0.0011\tMetrics: 0.9722: \tValidation metrics: 1.0: \t100% | 27/27 [00:00<00:00, 55.67it/s]\n",
      "Epoch 18/20\tLoss: 0.0009\tMetrics: 0.9814: \tValidation metrics: 1.0: \t100% | 27/27 [00:00<00:00, 62.79it/s]\n",
      "Epoch 19/20\tLoss: 0.0007\tMetrics: 0.9907: \tValidation metrics: 1.0: \t100% | 27/27 [00:00<00:00, 65.69it/s]\n",
      "Epoch 20/20\tLoss: 0.0005\tMetrics: 0.9907: \tValidation metrics: 1.0: \t100% | 27/27 [00:00<00:00, 77.81it/s]\n",
      "1/1 [==============================] - 0s 5ms/step - loss: 0.1161 - accuracy: 0.9667\n",
      "\n",
      "\n",
      "windowed\n",
      "\n",
      "Epoch 1/20\tLoss: 0.8344\tMetrics: 0.5370: \tValidation metrics: 0.75: \t100% | 27/27 [00:03<00:00,  6.97it/s]\n",
      "Epoch 2/20\tLoss: 0.5805\tMetrics: 0.8888: \tValidation metrics: 0.9166: \t100% | 27/27 [00:00<00:00, 39.02it/s]\n",
      "Epoch 3/20\tLoss: 0.3109\tMetrics: 0.8518: \tValidation metrics: 0.9166: \t100% | 27/27 [00:00<00:00, 33.79it/s]\n",
      "Epoch 4/20\tLoss: 0.1584\tMetrics: 0.8611: \tValidation metrics: 0.9166: \t100% | 27/27 [00:00<00:00, 46.15it/s]\n",
      "Epoch 5/20\tLoss: 0.0972\tMetrics: 0.8425: \tValidation metrics: 0.9166: \t100% | 27/27 [00:00<00:00, 39.13it/s]\n",
      "Epoch 6/20\tLoss: 0.0658\tMetrics: 0.8240: \tValidation metrics: 0.9166: \t100% | 27/27 [00:00<00:00, 35.48it/s]\n",
      "Epoch 7/20\tLoss: 0.0433\tMetrics: 0.8518: \tValidation metrics: 0.9166: \t100% | 27/27 [00:01<00:00, 26.68it/s]\n",
      "Epoch 8/20\tLoss: 0.0342\tMetrics: 0.8333: \tValidation metrics: 0.8333: \t100% | 27/27 [00:00<00:00, 28.48it/s]\n",
      "Epoch 9/20\tLoss: 0.0228\tMetrics: 0.8518: \tValidation metrics: 1.0: \t100% | 27/27 [00:00<00:00, 32.77it/s]\n",
      "Epoch 10/20\tLoss: 0.0177\tMetrics: 0.8518: \tValidation metrics: 0.9166: \t100% | 27/27 [00:00<00:00, 31.80it/s]\n",
      "Epoch 11/20\tLoss: 0.0125\tMetrics: 0.8796: \tValidation metrics: 1.0: \t100% | 27/27 [00:00<00:00, 41.22it/s]\n",
      "Epoch 12/20\tLoss: 0.0096\tMetrics: 0.8518: \tValidation metrics: 0.9166: \t100% | 27/27 [00:00<00:00, 40.06it/s]\n",
      "Epoch 13/20\tLoss: 0.0074\tMetrics: 0.9166: \tValidation metrics: 1.0: \t100% | 27/27 [00:00<00:00, 37.71it/s]\n",
      "Epoch 14/20\tLoss: 0.0060\tMetrics: 0.8796: \tValidation metrics: 0.9166: \t100% | 27/27 [00:00<00:00, 38.41it/s]\n",
      "Epoch 15/20\tLoss: 0.0041\tMetrics: 0.9537: \tValidation metrics: 1.0: \t100% | 27/27 [00:00<00:00, 37.71it/s]\n",
      "Epoch 16/20\tLoss: 0.0032\tMetrics: 0.9814: \tValidation metrics: 1.0: \t100% | 27/27 [00:00<00:00, 40.79it/s]\n",
      "Epoch 17/20\tLoss: 0.0029\tMetrics: 0.9444: \tValidation metrics: 1.0: \t100% | 27/27 [00:00<00:00, 41.60it/s]\n",
      "Epoch 18/20\tLoss: 0.0025\tMetrics: 0.9259: \tValidation metrics: 0.9166: \t100% | 27/27 [00:00<00:00, 41.54it/s]\n",
      "Epoch 19/20\tLoss: 0.0015\tMetrics: 0.9722: \tValidation metrics: 1.0: \t100% | 27/27 [00:00<00:00, 34.22it/s]\n",
      "Epoch 20/20\tLoss: 0.0017\tMetrics: 0.9907: \tValidation metrics: 1.0: \t100% | 27/27 [00:01<00:00, 25.74it/s]\n",
      "1/1 [==============================] - 0s 5ms/step - loss: 0.1510 - accuracy: 0.9667\n",
      "\t  0% | 0/27 [00:00<?, ?it/s]\n",
      "\n",
      "sorting\n",
      "\n",
      "Epoch 1/20\tLoss: 0.8131\tMetrics: 0.4907: \tValidation metrics: 0.75: \t100% | 27/27 [00:03<00:00,  7.23it/s]\n",
      "Epoch 2/20\tLoss: 0.2476\tMetrics: 0.8333: \tValidation metrics: 0.75: \t100% | 27/27 [00:00<00:00, 62.21it/s]\n",
      "Epoch 3/20\tLoss: 0.0591\tMetrics: 0.8518: \tValidation metrics: 0.8333: \t100% | 27/27 [00:00<00:00, 67.50it/s]\n",
      "Epoch 4/20\tLoss: 0.0206\tMetrics: 0.8703: \tValidation metrics: 0.9166: \t100% | 27/27 [00:00<00:00, 58.06it/s]\n",
      "Epoch 5/20\tLoss: 0.0098\tMetrics: 0.8518: \tValidation metrics: 0.9166: \t100% | 27/27 [00:00<00:00, 52.63it/s]\n",
      "Epoch 6/20\tLoss: 0.0054\tMetrics: 0.8611: \tValidation metrics: 1.0: \t100% | 27/27 [00:00<00:00, 57.57it/s]\n",
      "Epoch 7/20\tLoss: 0.0033\tMetrics: 0.9166: \tValidation metrics: 1.0: \t100% | 27/27 [00:00<00:00, 54.44it/s]\n",
      "Epoch 8/20\tLoss: 0.0021\tMetrics: 0.9166: \tValidation metrics: 0.9166: \t100% | 27/27 [00:00<00:00, 64.14it/s]\n",
      "Epoch 9/20\tLoss: 0.0015\tMetrics: 0.9351: \tValidation metrics: 1.0: \t100% | 27/27 [00:00<00:00, 51.53it/s]\n",
      "Epoch 10/20\tLoss: 0.0011\tMetrics: 0.9537: \tValidation metrics: 1.0: \t100% | 27/27 [00:00<00:00, 62.21it/s]\n",
      "Epoch 11/20\tLoss: 0.0008\tMetrics: 0.9629: \tValidation metrics: 1.0: \t100% | 27/27 [00:00<00:00, 62.94it/s]\n",
      "Epoch 12/20\tLoss: 0.0006\tMetrics: 0.9537: \tValidation metrics: 1.0: \t100% | 27/27 [00:00<00:00, 55.33it/s]\n",
      "Epoch 13/20\tLoss: 0.0004\tMetrics: 0.9537: \tValidation metrics: 1.0: \t100% | 27/27 [00:00<00:00, 48.91it/s]\n",
      "Epoch 14/20\tLoss: 0.0004\tMetrics: 0.9629: \tValidation metrics: 1.0: \t100% | 27/27 [00:00<00:00, 55.21it/s]\n",
      "Epoch 15/20\tLoss: 0.0003\tMetrics: 0.9722: \tValidation metrics: 1.0: \t100% | 27/27 [00:00<00:00, 46.08it/s]\n",
      "Epoch 16/20\tLoss: 0.0002\tMetrics: 0.9722: \tValidation metrics: 1.0: \t100% | 27/27 [00:00<00:00, 50.75it/s]\n",
      "Epoch 17/20\tLoss: 0.0002\tMetrics: 0.9629: \tValidation metrics: 1.0: \t100% | 27/27 [00:00<00:00, 57.82it/s]\n",
      "Epoch 18/20\tLoss: 0.0002\tMetrics: 0.9722: \tValidation metrics: 1.0: \t100% | 27/27 [00:00<00:00, 61.78it/s]\n",
      "Epoch 19/20\tLoss: 0.0001\tMetrics: 0.9814: \tValidation metrics: 1.0: \t100% | 27/27 [00:00<00:00, 68.88it/s]\n",
      "Epoch 20/20\tLoss: 0.0001\tMetrics: 0.9814: \tValidation metrics: 1.0: \t100% | 27/27 [00:00<00:00, 47.28it/s]\n",
      "1/1 [==============================] - 0s 2ms/step - loss: 0.1132 - accuracy: 0.9667\n"
     ]
    }
   ],
   "source": [
    "# Train and evaluate models with different batch selection algorithms.\n",
    "for batch_selector in [None, windowed_batch_selector, sorting_batch_selector]:\n",
    "    # Set random seed so the comparison of different solutions won't be affected by it.\n",
    "    tf.random.set_seed(42)\n",
    "    np.random.seed(42)\n",
    "    \n",
    "    model = build_model()\n",
    "    train(model, X_train, y_train, batch_selector=batch_selector, epochs=20)\n",
    "    evaluate(model, X_test, y_test)"
   ]
  }
 ]
}