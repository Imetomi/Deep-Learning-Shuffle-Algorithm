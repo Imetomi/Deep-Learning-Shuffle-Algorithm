{
 "metadata": {
  "language_info": {
   "codemirror_mode": {
    "name": "ipython",
    "version": 3
   },
   "file_extension": ".py",
   "mimetype": "text/x-python",
   "name": "python",
   "nbconvert_exporter": "python",
   "pygments_lexer": "ipython3",
   "version": "3.8.6-final"
  },
  "orig_nbformat": 2,
  "kernelspec": {
   "name": "python3",
   "display_name": "Python 3.8.6 64-bit",
   "metadata": {
    "interpreter": {
     "hash": "f0b7ef81dbfba64741f51278088cbb108f5f8bdb279b68750dee812d0a6f384d"
    }
   }
  }
 },
 "nbformat": 4,
 "nbformat_minor": 2,
 "cells": [
  {
   "cell_type": "code",
   "execution_count": 1,
   "metadata": {},
   "outputs": [],
   "source": [
    "import os\n",
    "import numpy as np\n",
    "import tensorflow as tf\n",
    "from keras.models import Sequential\n",
    "from keras.layers import Dense\n",
    "from loop import TrainingLoop"
   ]
  },
  {
   "cell_type": "code",
   "execution_count": 2,
   "metadata": {},
   "outputs": [
    {
     "output_type": "stream",
     "name": "stdout",
     "text": [
      "(120, 4) (120, 3)\n"
     ]
    }
   ],
   "source": [
    "path = 'data/iris'\n",
    "prefix = 'iris_'\n",
    "X_train = np.load(os.path.join(path, prefix+'train_vectors.npy'))\n",
    "y_train = np.load(os.path.join(path, prefix+'train_labels.npy'))\n",
    "X_test  = np.load(os.path.join(path, prefix+'test_vectors.npy'))\n",
    "y_test  = np.load(os.path.join(path, prefix+'test_labels.npy'))\n",
    "print(X_train.shape, y_train.shape)"
   ]
  },
  {
   "cell_type": "code",
   "execution_count": 3,
   "metadata": {},
   "outputs": [],
   "source": [
    "tf.random.set_seed(42)\n",
    "np.random.seed(42)"
   ]
  },
  {
   "cell_type": "code",
   "execution_count": 4,
   "metadata": {},
   "outputs": [
    {
     "output_type": "stream",
     "name": "stderr",
     "text": [
      "Epoch 1/20\tLoss: 0.7039\tMetrics: 0.4351: \tValidation metrics: 0.4166: \t100% | 27/27 [00:02<00:00,  9.74it/s]\n",
      "Epoch 2/20\tLoss: 0.3617\tMetrics: 0.6666: \tValidation metrics: 0.5833: \t100% | 27/27 [00:00<00:00, 93.10it/s] \n",
      "Epoch 3/20\tLoss: 0.2019\tMetrics: 0.7685: \tValidation metrics: 0.75: \t100% | 27/27 [00:00<00:00, 82.57it/s]\n",
      "Epoch 4/20\tLoss: 0.1377\tMetrics: 0.8796: \tValidation metrics: 0.8333: \t100% | 27/27 [00:00<00:00, 74.79it/s]\n",
      "Epoch 5/20\tLoss: 0.0952\tMetrics: 0.8611: \tValidation metrics: 0.9166: \t100% | 27/27 [00:00<00:00, 92.47it/s] \n",
      "Epoch 6/20\tLoss: 0.0581\tMetrics: 0.8703: \tValidation metrics: 1.0: \t100% | 27/27 [00:00<00:00, 84.64it/s]\n",
      "Epoch 7/20\tLoss: 0.0372\tMetrics: 0.8888: \tValidation metrics: 0.9166: \t100% | 27/27 [00:00<00:00, 84.11it/s]\n",
      "Epoch 8/20\tLoss: 0.0240\tMetrics: 0.9259: \tValidation metrics: 0.9166: \t100% | 27/27 [00:00<00:00, 73.77it/s]\n",
      "Epoch 9/20\tLoss: 0.0159\tMetrics: 0.9444: \tValidation metrics: 0.9166: \t100% | 27/27 [00:00<00:00, 55.44it/s]\n",
      "Epoch 10/20\tLoss: 0.0105\tMetrics: 0.9629: \tValidation metrics: 1.0: \t100% | 27/27 [00:00<00:00, 39.65it/s]\n",
      "Epoch 11/20\tLoss: 0.0073\tMetrics: 0.9722: \tValidation metrics: 1.0: \t100% | 27/27 [00:00<00:00, 43.34it/s]\n",
      "Epoch 12/20\tLoss: 0.0051\tMetrics: 0.9722: \tValidation metrics: 1.0: \t100% | 27/27 [00:00<00:00, 46.79it/s]\n",
      "Epoch 13/20\tLoss: 0.0035\tMetrics: 0.9629: \tValidation metrics: 1.0: \t100% | 27/27 [00:00<00:00, 75.63it/s]\n",
      "Epoch 14/20\tLoss: 0.0026\tMetrics: 0.9629: \tValidation metrics: 1.0: \t100% | 27/27 [00:00<00:00, 62.50it/s]\n",
      "Epoch 15/20\tLoss: 0.0020\tMetrics: 0.9629: \tValidation metrics: 1.0: \t100% | 27/27 [00:00<00:00, 72.97it/s]\n",
      "Epoch 16/20\tLoss: 0.0015\tMetrics: 0.9722: \tValidation metrics: 1.0: \t100% | 27/27 [00:00<00:00, 86.26it/s] \n",
      "Epoch 17/20\tLoss: 0.0011\tMetrics: 0.9722: \tValidation metrics: 1.0: \t100% | 27/27 [00:00<00:00, 65.38it/s]\n",
      "Epoch 18/20\tLoss: 0.0009\tMetrics: 0.9814: \tValidation metrics: 1.0: \t100% | 27/27 [00:00<00:00, 78.95it/s] \n",
      "Epoch 19/20\tLoss: 0.0007\tMetrics: 0.9907: \tValidation metrics: 1.0: \t100% | 27/27 [00:00<00:00, 52.12it/s]\n",
      "Epoch 20/20\tLoss: 0.0005\tMetrics: 0.9907: \tValidation metrics: 1.0: \t100% | 27/27 [00:00<00:00, 84.64it/s]\n"
     ]
    }
   ],
   "source": [
    "model = Sequential()\n",
    "model.add(Dense(50, activation='relu', input_shape=(X_test.shape[1],)))\n",
    "model.add(Dense(40, activation='relu'))\n",
    "model.add(Dense(20, activation='relu'))\n",
    "model.add(Dense(3, activation='softmax'))\n",
    "\n",
    "t = TrainingLoop(\n",
    "    model, \n",
    "    X_train, \n",
    "    y_train, \n",
    "    validation_split = 0.1,\n",
    "    batch_size = 4,\n",
    "    optimizer = tf.keras.optimizers.Adam(),\n",
    "    loss_function = tf.keras.losses.CategoricalCrossentropy(),\n",
    "    train_metrics = tf.keras.metrics.CategoricalAccuracy(),\n",
    "    val_metrics = tf.keras.metrics.CategoricalAccuracy()\n",
    ")\n",
    "t.train(epochs=20)"
   ]
  },
  {
   "cell_type": "code",
   "execution_count": 5,
   "metadata": {},
   "outputs": [
    {
     "output_type": "stream",
     "name": "stdout",
     "text": [
      "1/1 [==============================] - 0s 5ms/step - loss: 0.1161 - accuracy: 0.9667\n"
     ]
    },
    {
     "output_type": "execute_result",
     "data": {
      "text/plain": [
       "[0.11605016142129898, 0.9666666388511658]"
      ]
     },
     "metadata": {},
     "execution_count": 5
    }
   ],
   "source": [
    "model.compile(loss='categorical_crossentropy', optimizer='adam', metrics=['accuracy'])\n",
    "model.evaluate(X_test, y_test)"
   ]
  },
  {
   "cell_type": "code",
   "execution_count": null,
   "metadata": {},
   "outputs": [],
   "source": []
  }
 ]
}