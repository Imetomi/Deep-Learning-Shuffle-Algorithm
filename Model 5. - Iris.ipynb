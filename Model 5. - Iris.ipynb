{
 "metadata": {
  "language_info": {
   "codemirror_mode": {
    "name": "ipython",
    "version": 3
   },
   "file_extension": ".py",
   "mimetype": "text/x-python",
   "name": "python",
   "nbconvert_exporter": "python",
   "pygments_lexer": "ipython3",
   "version": "3.8.6-final"
  },
  "orig_nbformat": 2,
  "kernelspec": {
   "name": "python3",
   "display_name": "Python 3.8.6 64-bit",
   "metadata": {
    "interpreter": {
     "hash": "f0b7ef81dbfba64741f51278088cbb108f5f8bdb279b68750dee812d0a6f384d"
    }
   }
  }
 },
 "nbformat": 4,
 "nbformat_minor": 2,
 "cells": [
  {
   "cell_type": "code",
   "execution_count": 1,
   "metadata": {},
   "outputs": [],
   "source": [
    "import os\n",
    "import numpy as np\n",
    "import tensorflow as tf\n",
    "from keras.models import Sequential\n",
    "from keras.layers import Dense\n",
    "from keras.callbacks import EarlyStopping"
   ]
  },
  {
   "cell_type": "code",
   "execution_count": 2,
   "metadata": {},
   "outputs": [
    {
     "output_type": "stream",
     "name": "stdout",
     "text": [
      "(120, 4) (120,)\n"
     ]
    }
   ],
   "source": [
    "path = 'data/iris'\n",
    "prefix = 'iris_'\n",
    "X_train = np.load(os.path.join(path, prefix+'train_vectors.npy'))\n",
    "y_train = np.load(os.path.join(path, prefix+'train_labels.npy'))\n",
    "X_test  = np.load(os.path.join(path, prefix+'test_vectors.npy'))\n",
    "y_test  = np.load(os.path.join(path, prefix+'test_labels.npy'))\n",
    "print(X_train.shape, y_train.shape)"
   ]
  },
  {
   "cell_type": "code",
   "execution_count": 3,
   "metadata": {},
   "outputs": [],
   "source": [
    "tf.random.set_seed(42)\n",
    "np.random.seed(42)"
   ]
  },
  {
   "cell_type": "code",
   "execution_count": 4,
   "metadata": {},
   "outputs": [],
   "source": [
    "model = Sequential()\n",
    "model.add(Dense(15, activation='relu', input_shape=(X_test.shape[1],)))\n",
    "model.add(Dense(10, activation='relu'))\n",
    "model.add(Dense(3, activation='softmax'))\n",
    "model.compile(loss='sparse_categorical_crossentropy', optimizer='adam', metrics=['accuracy'])"
   ]
  },
  {
   "cell_type": "code",
   "execution_count": 5,
   "metadata": {},
   "outputs": [
    {
     "output_type": "stream",
     "name": "stdout",
     "text": [
      "Epoch 1/50\n",
      "27/27 [==============================] - 2s 63ms/step - loss: 1.1334 - accuracy: 0.3148 - val_loss: 1.0874 - val_accuracy: 0.3333\n",
      "Epoch 2/50\n",
      "27/27 [==============================] - 0s 13ms/step - loss: 1.0226 - accuracy: 0.4352 - val_loss: 0.9887 - val_accuracy: 0.4167\n",
      "Epoch 3/50\n",
      "27/27 [==============================] - 0s 12ms/step - loss: 0.9395 - accuracy: 0.5093 - val_loss: 0.9057 - val_accuracy: 0.5000\n",
      "Epoch 4/50\n",
      "27/27 [==============================] - 0s 8ms/step - loss: 0.8667 - accuracy: 0.6574 - val_loss: 0.8323 - val_accuracy: 0.5833\n",
      "Epoch 5/50\n",
      "27/27 [==============================] - 0s 14ms/step - loss: 0.7946 - accuracy: 0.7222 - val_loss: 0.7543 - val_accuracy: 0.6667\n",
      "Epoch 6/50\n",
      "27/27 [==============================] - 0s 7ms/step - loss: 0.7199 - accuracy: 0.7685 - val_loss: 0.6808 - val_accuracy: 0.7500\n",
      "Epoch 7/50\n",
      "27/27 [==============================] - 0s 18ms/step - loss: 0.6439 - accuracy: 0.7870 - val_loss: 0.6087 - val_accuracy: 0.7500\n",
      "Epoch 8/50\n",
      "27/27 [==============================] - 1s 28ms/step - loss: 0.5721 - accuracy: 0.8056 - val_loss: 0.5339 - val_accuracy: 0.8333\n",
      "Epoch 9/50\n",
      "27/27 [==============================] - 0s 12ms/step - loss: 0.5085 - accuracy: 0.8333 - val_loss: 0.4715 - val_accuracy: 0.8333\n",
      "Epoch 10/50\n",
      "27/27 [==============================] - 0s 10ms/step - loss: 0.4588 - accuracy: 0.8241 - val_loss: 0.4288 - val_accuracy: 0.9167\n",
      "Epoch 11/50\n",
      "27/27 [==============================] - 1s 53ms/step - loss: 0.4213 - accuracy: 0.8519 - val_loss: 0.3872 - val_accuracy: 0.9167\n",
      "Epoch 12/50\n",
      "27/27 [==============================] - 0s 13ms/step - loss: 0.3926 - accuracy: 0.8241 - val_loss: 0.3590 - val_accuracy: 0.9167\n",
      "Epoch 13/50\n",
      "27/27 [==============================] - 1s 33ms/step - loss: 0.3645 - accuracy: 0.8519 - val_loss: 0.3347 - val_accuracy: 0.9167\n",
      "Epoch 14/50\n",
      "27/27 [==============================] - 0s 10ms/step - loss: 0.3453 - accuracy: 0.8519 - val_loss: 0.3190 - val_accuracy: 0.9167\n",
      "Epoch 15/50\n",
      "27/27 [==============================] - 0s 13ms/step - loss: 0.3294 - accuracy: 0.8611 - val_loss: 0.3004 - val_accuracy: 0.9167\n"
     ]
    },
    {
     "output_type": "execute_result",
     "data": {
      "text/plain": [
       "<tensorflow.python.keras.callbacks.History at 0x299521c16d0>"
      ]
     },
     "metadata": {},
     "execution_count": 5
    }
   ],
   "source": [
    "model.fit(X_train, y_train, epochs=50, validation_split=0.1, batch_size=4, callbacks=[EarlyStopping(monitor='val_accuracy', patience=5)])"
   ]
  },
  {
   "cell_type": "code",
   "execution_count": 6,
   "metadata": {},
   "outputs": [
    {
     "output_type": "stream",
     "name": "stdout",
     "text": [
      "1/1 [==============================] - 0s 3ms/step - loss: 0.2610 - accuracy: 0.9333\n"
     ]
    },
    {
     "output_type": "execute_result",
     "data": {
      "text/plain": [
       "[0.2609991133213043, 0.9333333373069763]"
      ]
     },
     "metadata": {},
     "execution_count": 6
    }
   ],
   "source": [
    "model.evaluate(X_test, y_test)"
   ]
  },
  {
   "cell_type": "code",
   "execution_count": null,
   "metadata": {},
   "outputs": [],
   "source": []
  }
 ]
}