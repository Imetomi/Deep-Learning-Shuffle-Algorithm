{
 "metadata": {
  "language_info": {
   "codemirror_mode": {
    "name": "ipython",
    "version": 3
   },
   "file_extension": ".py",
   "mimetype": "text/x-python",
   "name": "python",
   "nbconvert_exporter": "python",
   "pygments_lexer": "ipython3",
   "version": "3.8.6-final"
  },
  "orig_nbformat": 2,
  "kernelspec": {
   "name": "python3",
   "display_name": "Python 3.8.6 64-bit",
   "metadata": {
    "interpreter": {
     "hash": "f0b7ef81dbfba64741f51278088cbb108f5f8bdb279b68750dee812d0a6f384d"
    }
   }
  }
 },
 "nbformat": 4,
 "nbformat_minor": 2,
 "cells": [
  {
   "cell_type": "code",
   "execution_count": 1,
   "metadata": {},
   "outputs": [],
   "source": [
    "import os\n",
    "import numpy as np\n",
    "import tensorflow as tf\n",
    "from keras.models import Sequential\n",
    "from keras.layers import Dense\n",
    "from keras.callbacks import EarlyStopping"
   ]
  },
  {
   "cell_type": "code",
   "execution_count": 2,
   "metadata": {},
   "outputs": [
    {
     "output_type": "stream",
     "name": "stdout",
     "text": [
      "(120, 4) (120, 3)\n"
     ]
    }
   ],
   "source": [
    "path = 'data/iris'\n",
    "prefix = 'iris_'\n",
    "X_train = np.load(os.path.join(path, prefix+'train_vectors.npy'))\n",
    "y_train = np.load(os.path.join(path, prefix+'train_labels.npy'))\n",
    "X_test  = np.load(os.path.join(path, prefix+'test_vectors.npy'))\n",
    "y_test  = np.load(os.path.join(path, prefix+'test_labels.npy'))\n",
    "print(X_train.shape, y_train.shape)"
   ]
  },
  {
   "cell_type": "code",
   "execution_count": 3,
   "metadata": {},
   "outputs": [],
   "source": [
    "tf.random.set_seed(42)\n",
    "np.random.seed(42)"
   ]
  },
  {
   "cell_type": "code",
   "execution_count": 4,
   "metadata": {},
   "outputs": [],
   "source": [
    "model = Sequential()\n",
    "model.add(Dense(50, activation='relu', input_shape=(X_test.shape[1],)))\n",
    "model.add(Dense(30, activation='relu'))\n",
    "model.add(Dense(10, activation='relu'))\n",
    "model.add(Dense(3, activation='softmax'))\n",
    "model.compile(loss='categorical_crossentropy', optimizer='adam', metrics=['accuracy'])"
   ]
  },
  {
   "cell_type": "code",
   "execution_count": 5,
   "metadata": {},
   "outputs": [
    {
     "output_type": "stream",
     "name": "stdout",
     "text": [
      "Epoch 1/50\n",
      "27/27 [==============================] - 1s 23ms/step - loss: 1.0510 - accuracy: 0.5370 - val_loss: 0.9302 - val_accuracy: 0.6667\n",
      "Epoch 2/50\n",
      "27/27 [==============================] - 0s 8ms/step - loss: 0.8268 - accuracy: 0.7130 - val_loss: 0.7278 - val_accuracy: 0.6667\n",
      "Epoch 3/50\n",
      "27/27 [==============================] - 0s 8ms/step - loss: 0.6485 - accuracy: 0.8241 - val_loss: 0.5997 - val_accuracy: 0.7500\n",
      "Epoch 4/50\n",
      "27/27 [==============================] - 0s 9ms/step - loss: 0.5297 - accuracy: 0.8796 - val_loss: 0.5065 - val_accuracy: 0.7500\n",
      "Epoch 5/50\n",
      "27/27 [==============================] - 0s 10ms/step - loss: 0.4285 - accuracy: 0.8611 - val_loss: 0.4486 - val_accuracy: 0.7500\n",
      "Epoch 6/50\n",
      "27/27 [==============================] - 0s 8ms/step - loss: 0.3615 - accuracy: 0.8426 - val_loss: 0.3876 - val_accuracy: 0.7500\n",
      "Epoch 7/50\n",
      "27/27 [==============================] - 0s 8ms/step - loss: 0.3157 - accuracy: 0.8704 - val_loss: 0.3416 - val_accuracy: 0.7500\n",
      "Epoch 8/50\n",
      "27/27 [==============================] - 0s 8ms/step - loss: 0.2748 - accuracy: 0.8889 - val_loss: 0.3027 - val_accuracy: 0.7500\n",
      "Epoch 9/50\n",
      "27/27 [==============================] - 0s 10ms/step - loss: 0.2403 - accuracy: 0.9259 - val_loss: 0.2449 - val_accuracy: 0.8333\n",
      "Epoch 10/50\n",
      "27/27 [==============================] - 0s 7ms/step - loss: 0.2067 - accuracy: 0.9537 - val_loss: 0.2115 - val_accuracy: 1.0000\n",
      "Epoch 11/50\n",
      "27/27 [==============================] - 0s 8ms/step - loss: 0.1732 - accuracy: 0.9444 - val_loss: 0.1208 - val_accuracy: 1.0000\n",
      "Epoch 12/50\n",
      "27/27 [==============================] - 0s 10ms/step - loss: 0.1574 - accuracy: 0.9537 - val_loss: 0.1127 - val_accuracy: 1.0000\n",
      "Epoch 13/50\n",
      "27/27 [==============================] - 0s 8ms/step - loss: 0.1315 - accuracy: 0.9537 - val_loss: 0.1095 - val_accuracy: 1.0000\n",
      "Epoch 14/50\n",
      "27/27 [==============================] - 0s 9ms/step - loss: 0.1134 - accuracy: 0.9815 - val_loss: 0.0676 - val_accuracy: 1.0000\n",
      "Epoch 15/50\n",
      "27/27 [==============================] - 0s 13ms/step - loss: 0.0991 - accuracy: 0.9722 - val_loss: 0.0594 - val_accuracy: 1.0000\n",
      "Epoch 16/50\n",
      "27/27 [==============================] - 0s 16ms/step - loss: 0.0934 - accuracy: 0.9722 - val_loss: 0.0444 - val_accuracy: 1.0000\n"
     ]
    },
    {
     "output_type": "execute_result",
     "data": {
      "text/plain": [
       "<tensorflow.python.keras.callbacks.History at 0x24eaf5506d0>"
      ]
     },
     "metadata": {},
     "execution_count": 5
    }
   ],
   "source": [
    "model.fit(X_train, y_train, epochs=50, validation_split=0.1, batch_size=4, callbacks=[EarlyStopping(monitor='val_accuracy', patience=6)])"
   ]
  },
  {
   "cell_type": "code",
   "execution_count": 6,
   "metadata": {},
   "outputs": [
    {
     "output_type": "stream",
     "name": "stdout",
     "text": [
      "1/1 [==============================] - 0s 2ms/step - loss: 0.1136 - accuracy: 0.9667\n"
     ]
    },
    {
     "output_type": "execute_result",
     "data": {
      "text/plain": [
       "[0.1136152446269989, 0.9666666388511658]"
      ]
     },
     "metadata": {},
     "execution_count": 6
    }
   ],
   "source": [
    "model.evaluate(X_test, y_test)"
   ]
  },
  {
   "cell_type": "code",
   "execution_count": null,
   "metadata": {},
   "outputs": [],
   "source": []
  }
 ]
}