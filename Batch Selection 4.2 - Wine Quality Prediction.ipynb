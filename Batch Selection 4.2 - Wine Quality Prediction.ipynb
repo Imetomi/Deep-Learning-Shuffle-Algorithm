{
 "cells": [
  {
   "cell_type": "code",
   "execution_count": 1,
   "metadata": {},
   "outputs": [],
   "source": [
    "import os\n",
    "import numpy as np\n",
    "import tensorflow as tf\n",
    "from keras import models, layers\n",
    "\n",
    "from loop import TrainingLoop\n",
    "from batch_selection import windowed_batch_selector, sorting_batch_selector"
   ]
  },
  {
   "cell_type": "code",
   "execution_count": 2,
   "metadata": {},
   "outputs": [],
   "source": [
    "# Loading the dataset from the files saved in the preprocessing notebook.\n",
    "path = 'data/wine'\n",
    "prefix = 'wine_'\n",
    "X_train = np.load(os.path.join(path, prefix+'train_vectors.npy'))\n",
    "y_train = np.load(os.path.join(path, prefix+'train_labels.npy'))\n",
    "X_test  = np.load(os.path.join(path, prefix+'test_vectors.npy'))\n",
    "y_test  = np.load(os.path.join(path, prefix+'test_labels.npy'))"
   ]
  },
  {
   "cell_type": "code",
   "execution_count": 3,
   "metadata": {},
   "outputs": [],
   "source": [
    "def build_model():\n",
    "    # Setting up the model.\n",
    "    model = models.Sequential()\n",
    "    model.add(layers.Dense(15, activation='relu', input_shape=(X_train.shape[1],)))\n",
    "    model.add(layers.Dense(8, activation='relu'))\n",
    "    model.add(layers.Dense(y_train.shape[1], activation='softmax'))\n",
    "    return model"
   ]
  },
  {
   "cell_type": "code",
   "execution_count": 4,
   "metadata": {},
   "outputs": [],
   "source": [
    "def train(model, X_train, y_train, batch_selection, epochs):\n",
    "    log_dir = {windowed_batch_selector: 'windowed', sorting_batch_selector: 'sorting', None: 'original'}\n",
    "    # Put the model in our custom training loop.\n",
    "    TrainingLoop(\n",
    "        model, \n",
    "        X_train, \n",
    "        y_train, \n",
    "        validation_split = 0.1,\n",
    "        batch_size = 8,\n",
    "        optimizer = tf.keras.optimizers.Adam(),\n",
    "        loss_function = tf.keras.losses.CategoricalCrossentropy(),\n",
    "        train_metrics = tf.keras.metrics.CategoricalAccuracy(),\n",
    "        val_metrics = tf.keras.metrics.CategoricalAccuracy(),\n",
    "        batch_selection = batch_selection,\n",
    "        log_file = os.path.join('logs', log_dir[batch_selection], 'wine_quality.csv')\n",
    "    ).train(epochs)  # Training the model."
   ]
  },
  {
   "cell_type": "code",
   "execution_count": 5,
   "metadata": {},
   "outputs": [
    {
     "output_type": "stream",
     "name": "stderr",
     "text": [
      "Epoch 1/20\tLoss: 1.2288\tMetrics: 0.3083: \tValidation metrics: 0.5: \t100% | 15/15 [00:08<00:00,  1.77it/s]\n",
      "Epoch 2/20\tLoss: 1.0411\tMetrics: 0.3333: \tValidation metrics: 0.5: \t100% | 15/15 [00:00<00:00, 20.49it/s]\n",
      "Epoch 3/20\tLoss: 0.9005\tMetrics: 0.4000: \tValidation metrics: 0.625: \t100% | 15/15 [00:00<00:00, 33.71it/s]\n",
      "Epoch 4/20\tLoss: 0.7932\tMetrics: 0.5416: \tValidation metrics: 0.625: \t100% | 15/15 [00:00<00:00, 21.19it/s]\n",
      "Epoch 5/20\tLoss: 0.6862\tMetrics: 0.6000: \tValidation metrics: 0.75: \t100% | 15/15 [00:00<00:00, 18.29it/s]\n",
      "Epoch 6/20\tLoss: 0.5969\tMetrics: 0.6333: \tValidation metrics: 0.75: \t100% | 15/15 [00:00<00:00, 33.63it/s]\n",
      "Epoch 7/20\tLoss: 0.5225\tMetrics: 0.6499: \tValidation metrics: 0.875: \t100% | 15/15 [00:00<00:00, 27.73it/s]\n",
      "Epoch 8/20\tLoss: 0.4646\tMetrics: 0.6750: \tValidation metrics: 0.875: \t100% | 15/15 [00:00<00:00, 25.73it/s]\n",
      "Epoch 9/20\tLoss: 0.4231\tMetrics: 0.7166: \tValidation metrics: 1.0: \t100% | 15/15 [00:00<00:00, 33.26it/s]\n",
      "Epoch 10/20\tLoss: 0.3914\tMetrics: 0.7916: \tValidation metrics: 1.0: \t100% | 15/15 [00:00<00:00, 25.08it/s]\n",
      "Epoch 11/20\tLoss: 0.3658\tMetrics: 0.8000: \tValidation metrics: 1.0: \t100% | 15/15 [00:00<00:00, 22.66it/s]\n",
      "Epoch 12/20\tLoss: 0.3441\tMetrics: 0.8333: \tValidation metrics: 1.0: \t100% | 15/15 [00:00<00:00, 31.65it/s]\n",
      "Epoch 13/20\tLoss: 0.3236\tMetrics: 0.8500: \tValidation metrics: 1.0: \t100% | 15/15 [00:00<00:00, 38.76it/s]\n",
      "Epoch 14/20\tLoss: 0.3004\tMetrics: 0.8666: \tValidation metrics: 1.0: \t100% | 15/15 [00:00<00:00, 42.61it/s]\n",
      "Epoch 15/20\tLoss: 0.2766\tMetrics: 0.8833: \tValidation metrics: 1.0: \t100% | 15/15 [00:00<00:00, 42.73it/s]\n",
      "Epoch 16/20\tLoss: 0.2506\tMetrics: 0.9166: \tValidation metrics: 1.0: \t100% | 15/15 [00:00<00:00, 47.32it/s]\n",
      "Epoch 17/20\tLoss: 0.2231\tMetrics: 0.9333: \tValidation metrics: 1.0: \t100% | 15/15 [00:00<00:00, 32.05it/s]\n",
      "Epoch 18/20\tLoss: 0.1947\tMetrics: 0.9416: \tValidation metrics: 1.0: \t100% | 15/15 [00:00<00:00, 29.13it/s]\n",
      "Epoch 19/20\tLoss: 0.1687\tMetrics: 0.9499: \tValidation metrics: 1.0: \t100% | 15/15 [00:00<00:00, 35.13it/s]\n",
      "Epoch 20/20\tLoss: 0.1456\tMetrics: 0.9666: \tValidation metrics: 1.0: \t100% | 15/15 [00:00<00:00, 46.73it/s]\n",
      "2/2 [==============================] - 0s 9ms/step - loss: 0.2415 - accuracy: 0.9722\n"
     ]
    },
    {
     "output_type": "execute_result",
     "data": {
      "text/plain": [
       "[0.24152790009975433, 0.9722222089767456]"
      ]
     },
     "metadata": {},
     "execution_count": 5
    }
   ],
   "source": [
    "# Set random seed so the comparison of different solutions won't be affected by it.\n",
    "tf.random.set_seed(42)\n",
    "np.random.seed(42)\n",
    "\n",
    "# Train model with default batch selection.\n",
    "model = build_model()\n",
    "train(model, X_train, y_train, batch_selection=None, epochs=20)\n",
    "\n",
    "# We still have to compile the model for the test evaluation.\n",
    "model.compile(loss='categorical_crossentropy', optimizer='adam', metrics=['accuracy'])\n",
    "# After compiling we can run the evaluation.\n",
    "model.evaluate(X_test, y_test)"
   ]
  },
  {
   "cell_type": "code",
   "execution_count": 6,
   "metadata": {},
   "outputs": [
    {
     "output_type": "stream",
     "name": "stderr",
     "text": [
      "Epoch 1/20\tLoss: 1.1952\tMetrics: 0.3083: \tValidation metrics: 0.5: \t100% | 15/15 [00:03<00:00,  3.77it/s]\n",
      "Epoch 2/20\tLoss: 1.0161\tMetrics: 0.3083: \tValidation metrics: 0.625: \t100% | 15/15 [00:00<00:00, 20.03it/s]\n",
      "Epoch 3/20\tLoss: 0.9030\tMetrics: 0.3083: \tValidation metrics: 0.625: \t100% | 15/15 [00:00<00:00, 30.67it/s]\n",
      "Epoch 4/20\tLoss: 0.8162\tMetrics: 0.375: \tValidation metrics: 0.75: \t100% | 15/15 [00:00<00:00, 37.60it/s]\n",
      "Epoch 5/20\tLoss: 0.7363\tMetrics: 0.4583: \tValidation metrics: 0.875: \t100% | 15/15 [00:00<00:00, 46.15it/s]\n",
      "Epoch 6/20\tLoss: 0.6665\tMetrics: 0.4833: \tValidation metrics: 1.0: \t100% | 15/15 [00:00<00:00, 48.23it/s]\n",
      "Epoch 7/20\tLoss: 0.6088\tMetrics: 0.5416: \tValidation metrics: 1.0: \t100% | 15/15 [00:00<00:00, 49.02it/s]\n",
      "Epoch 8/20\tLoss: 0.5553\tMetrics: 0.6166: \tValidation metrics: 1.0: \t100% | 15/15 [00:00<00:00, 39.27it/s]\n",
      "Epoch 9/20\tLoss: 0.5043\tMetrics: 0.6916: \tValidation metrics: 1.0: \t100% | 15/15 [00:00<00:00, 36.50it/s]\n",
      "Epoch 10/20\tLoss: 0.4605\tMetrics: 0.7749: \tValidation metrics: 1.0: \t100% | 15/15 [00:00<00:00, 47.32it/s]\n",
      "Epoch 11/20\tLoss: 0.4241\tMetrics: 0.8000: \tValidation metrics: 1.0: \t100% | 15/15 [00:00<00:00, 33.48it/s]\n",
      "Epoch 12/20\tLoss: 0.3937\tMetrics: 0.8249: \tValidation metrics: 1.0: \t100% | 15/15 [00:00<00:00, 33.78it/s]\n",
      "Epoch 13/20\tLoss: 0.3669\tMetrics: 0.8333: \tValidation metrics: 1.0: \t100% | 15/15 [00:00<00:00, 42.86it/s]\n",
      "Epoch 14/20\tLoss: 0.3338\tMetrics: 0.8666: \tValidation metrics: 1.0: \t100% | 15/15 [00:00<00:00, 20.95it/s]\n",
      "Epoch 15/20\tLoss: 0.2985\tMetrics: 0.9083: \tValidation metrics: 1.0: \t100% | 15/15 [00:00<00:00, 20.83it/s]\n",
      "Epoch 16/20\tLoss: 0.2750\tMetrics: 0.875: \tValidation metrics: 1.0: \t100% | 15/15 [00:00<00:00, 36.95it/s]\n",
      "Epoch 17/20\tLoss: 0.2370\tMetrics: 0.9250: \tValidation metrics: 1.0: \t100% | 15/15 [00:00<00:00, 22.90it/s]\n",
      "Epoch 18/20\tLoss: 0.2144\tMetrics: 0.9499: \tValidation metrics: 1.0: \t100% | 15/15 [00:00<00:00, 28.74it/s]\n",
      "Epoch 19/20\tLoss: 0.1842\tMetrics: 0.9833: \tValidation metrics: 1.0: \t100% | 15/15 [00:00<00:00, 49.83it/s]\n",
      "Epoch 20/20\tLoss: 0.1695\tMetrics: 0.9499: \tValidation metrics: 1.0: \t100% | 15/15 [00:00<00:00, 40.32it/s]\n",
      "2/2 [==============================] - 0s 4ms/step - loss: 0.2500 - accuracy: 0.9722\n"
     ]
    },
    {
     "output_type": "execute_result",
     "data": {
      "text/plain": [
       "[0.2500136196613312, 0.9722222089767456]"
      ]
     },
     "metadata": {},
     "execution_count": 6
    }
   ],
   "source": [
    "# Set random seed so the comparison of different solutions won't be affected by it.\n",
    "tf.random.set_seed(42)\n",
    "np.random.seed(42)\n",
    "\n",
    "# Train model with windowed batch selection algorithm.\n",
    "model = build_model()\n",
    "train(model, X_train, y_train, batch_selection=windowed_batch_selector, epochs=20)\n",
    "\n",
    "model.compile(loss='categorical_crossentropy', optimizer='adam', metrics=['accuracy'])\n",
    "model.evaluate(X_test, y_test)"
   ]
  },
  {
   "cell_type": "code",
   "execution_count": 7,
   "metadata": {},
   "outputs": [
    {
     "output_type": "stream",
     "name": "stderr",
     "text": [
      "Epoch 1/50\tLoss: 0.8694\tMetrics: 0.3083: \tValidation metrics: 0.5: \t100% | 15/15 [00:05<00:00,  2.67it/s]\n",
      "Epoch 2/50\tLoss: 0.8017\tMetrics: 0.3249: \tValidation metrics: 0.5: \t100% | 15/15 [00:00<00:00, 43.23it/s]\n",
      "Epoch 3/50\tLoss: 0.7428\tMetrics: 0.4000: \tValidation metrics: 0.625: \t100% | 15/15 [00:00<00:00, 53.96it/s]\n",
      "Epoch 4/50\tLoss: 0.6960\tMetrics: 0.5083: \tValidation metrics: 0.75: \t100% | 15/15 [00:00<00:00, 51.37it/s]\n",
      "Epoch 5/50\tLoss: 0.6533\tMetrics: 0.5916: \tValidation metrics: 0.75: \t100% | 15/15 [00:00<00:00, 61.23it/s]\n",
      "Epoch 6/50\tLoss: 0.6109\tMetrics: 0.6416: \tValidation metrics: 0.75: \t100% | 15/15 [00:00<00:00, 34.56it/s]\n",
      "Epoch 7/50\tLoss: 0.5723\tMetrics: 0.6583: \tValidation metrics: 0.875: \t100% | 15/15 [00:00<00:00, 47.62it/s]\n",
      "Epoch 8/50\tLoss: 0.4817\tMetrics: 0.6750: \tValidation metrics: 0.875: \t100% | 15/15 [00:00<00:00, 39.27it/s]\n",
      "Epoch 9/50\tLoss: 0.4356\tMetrics: 0.7083: \tValidation metrics: 1.0: \t100% | 15/15 [00:00<00:00, 36.59it/s]\n",
      "Epoch 10/50\tLoss: 0.4018\tMetrics: 0.75: \tValidation metrics: 1.0: \t100% | 15/15 [00:00<00:00, 41.32it/s]\n",
      "Epoch 11/50\tLoss: 0.3740\tMetrics: 0.8083: \tValidation metrics: 1.0: \t100% | 15/15 [00:00<00:00, 28.41it/s]\n",
      "Epoch 12/50\tLoss: 0.3515\tMetrics: 0.8166: \tValidation metrics: 1.0: \t100% | 15/15 [00:00<00:00, 47.32it/s]\n",
      "Epoch 13/50\tLoss: 0.3313\tMetrics: 0.8416: \tValidation metrics: 1.0: \t100% | 15/15 [00:00<00:00, 37.31it/s]\n",
      "Epoch 14/50\tLoss: 0.3063\tMetrics: 0.8583: \tValidation metrics: 1.0: \t100% | 15/15 [00:00<00:00, 33.94it/s]\n",
      "Epoch 15/50\tLoss: 0.2826\tMetrics: 0.875: \tValidation metrics: 1.0: \t100% | 15/15 [00:00<00:00, 27.03it/s]\n",
      "Epoch 16/50\tLoss: 0.2557\tMetrics: 0.8999: \tValidation metrics: 1.0: \t100% | 15/15 [00:00<00:00, 51.02it/s]\n",
      "Epoch 17/50\tLoss: 0.2113\tMetrics: 0.9250: \tValidation metrics: 1.0: \t100% | 15/15 [00:00<00:00, 28.09it/s]\n",
      "Epoch 18/50\tLoss: 0.1756\tMetrics: 0.9499: \tValidation metrics: 1.0: \t100% | 15/15 [00:00<00:00, 41.78it/s]\n",
      "Epoch 19/50\tLoss: 0.1458\tMetrics: 0.9499: \tValidation metrics: 1.0: \t100% | 15/15 [00:00<00:00, 27.47it/s]\n",
      "Epoch 20/50\tLoss: 0.1215\tMetrics: 0.9583: \tValidation metrics: 1.0: \t100% | 15/15 [00:00<00:00, 38.26it/s]\n",
      "Epoch 21/50\tLoss: 0.1013\tMetrics: 0.9666: \tValidation metrics: 1.0: \t100% | 15/15 [00:00<00:00, 36.06it/s]\n",
      "Epoch 22/50\tLoss: 0.0850\tMetrics: 0.9750: \tValidation metrics: 1.0: \t100% | 15/15 [00:00<00:00, 46.73it/s]\n",
      "Epoch 23/50\tLoss: 0.0713\tMetrics: 0.9750: \tValidation metrics: 1.0: \t100% | 15/15 [00:00<00:00, 32.82it/s]\n",
      "Epoch 24/50\tLoss: 0.0601\tMetrics: 0.9750: \tValidation metrics: 1.0: \t100% | 15/15 [00:00<00:00, 29.13it/s]\n",
      "Epoch 25/50\tLoss: 0.0509\tMetrics: 0.9750: \tValidation metrics: 1.0: \t100% | 15/15 [00:00<00:00, 37.22it/s]\n",
      "Epoch 26/50\tLoss: 0.0435\tMetrics: 0.9750: \tValidation metrics: 1.0: \t100% | 15/15 [00:00<00:00, 41.10it/s]\n",
      "Epoch 27/50\tLoss: 0.0373\tMetrics: 0.9750: \tValidation metrics: 1.0: \t100% | 15/15 [00:00<00:00, 58.14it/s]\n",
      "Epoch 28/50\tLoss: 0.0323\tMetrics: 0.9750: \tValidation metrics: 1.0: \t100% | 15/15 [00:00<00:00, 55.35it/s]\n",
      "Epoch 29/50\tLoss: 0.0281\tMetrics: 0.9750: \tValidation metrics: 1.0: \t100% | 15/15 [00:00<00:00, 66.67it/s]\n",
      "Epoch 30/50\tLoss: 0.0246\tMetrics: 0.9916: \tValidation metrics: 1.0: \t100% | 15/15 [00:00<00:00, 61.98it/s]\n",
      "Epoch 31/50\tLoss: 0.0217\tMetrics: 0.9916: \tValidation metrics: 1.0: \t100% | 15/15 [00:00<00:00, 55.14it/s]\n",
      "Epoch 32/50\tLoss: 0.0192\tMetrics: 0.9916: \tValidation metrics: 1.0: \t100% | 15/15 [00:00<00:00, 64.66it/s]\n",
      "Epoch 33/50\tLoss: 0.0170\tMetrics: 0.9916: \tValidation metrics: 1.0: \t100% | 15/15 [00:00<00:00, 59.29it/s]\n",
      "Epoch 34/50\tLoss: 0.0152\tMetrics: 0.9916: \tValidation metrics: 1.0: \t100% | 15/15 [00:00<00:00, 56.82it/s]\n",
      "Epoch 35/50\tLoss: 0.0136\tMetrics: 1.0: \tValidation metrics: 1.0: \t100% | 15/15 [00:00<00:00, 66.08it/s]\n",
      "Epoch 36/50\tLoss: 0.0122\tMetrics: 1.0: \tValidation metrics: 1.0: \t100% | 15/15 [00:00<00:00, 62.76it/s]\n",
      "Epoch 37/50\tLoss: 0.0110\tMetrics: 1.0: \tValidation metrics: 1.0: \t100% | 15/15 [00:00<00:00, 60.73it/s]\n",
      "Epoch 38/50\tLoss: 0.0100\tMetrics: 1.0: \tValidation metrics: 1.0: \t100% | 15/15 [00:00<00:00, 48.70it/s]\n",
      "Epoch 39/50\tLoss: 0.0091\tMetrics: 1.0: \tValidation metrics: 1.0: \t100% | 15/15 [00:00<00:00, 52.82it/s]\n",
      "Epoch 40/50\tLoss: 0.0082\tMetrics: 1.0: \tValidation metrics: 1.0: \t100% | 15/15 [00:00<00:00, 65.50it/s]\n",
      "Epoch 41/50\tLoss: 0.0074\tMetrics: 1.0: \tValidation metrics: 1.0: \t100% | 15/15 [00:00<00:00, 53.19it/s]\n",
      "Epoch 42/50\tLoss: 0.0068\tMetrics: 1.0: \tValidation metrics: 1.0: \t100% | 15/15 [00:00<00:00, 55.35it/s]\n",
      "Epoch 43/50\tLoss: 0.0061\tMetrics: 1.0: \tValidation metrics: 1.0: \t100% | 15/15 [00:00<00:00, 63.29it/s]\n",
      "Epoch 44/50\tLoss: 0.0056\tMetrics: 1.0: \tValidation metrics: 1.0: \t100% | 15/15 [00:00<00:00, 33.04it/s]\n",
      "Epoch 45/50\tLoss: 0.0051\tMetrics: 1.0: \tValidation metrics: 1.0: \t100% | 15/15 [00:00<00:00, 47.92it/s]\n",
      "Epoch 46/50\tLoss: 0.0046\tMetrics: 1.0: \tValidation metrics: 1.0: \t100% | 15/15 [00:00<00:00, 42.25it/s]\n",
      "Epoch 47/50\tLoss: 0.0042\tMetrics: 1.0: \tValidation metrics: 1.0: \t100% | 15/15 [00:00<00:00, 26.88it/s]\n",
      "Epoch 48/50\tLoss: 0.0038\tMetrics: 1.0: \tValidation metrics: 1.0: \t100% | 15/15 [00:00<00:00, 28.79it/s]\n",
      "Epoch 49/50\tLoss: 0.0035\tMetrics: 1.0: \tValidation metrics: 1.0: \t100% | 15/15 [00:00<00:00, 54.54it/s]\n",
      "Epoch 50/50\tLoss: 0.0032\tMetrics: 1.0: \tValidation metrics: 1.0: \t100% | 15/15 [00:00<00:00, 30.86it/s]\n",
      "2/2 [==============================] - 0s 7ms/step - loss: 0.0201 - accuracy: 1.0000\n"
     ]
    },
    {
     "output_type": "execute_result",
     "data": {
      "text/plain": [
       "[0.02011900767683983, 1.0]"
      ]
     },
     "metadata": {},
     "execution_count": 7
    }
   ],
   "source": [
    "# Set random seed so the comparison of different solutions won't be affected by it.\n",
    "tf.random.set_seed(42)\n",
    "np.random.seed(42)\n",
    "\n",
    "# Train model with sorting batch selection algorithm.\n",
    "model = build_model()\n",
    "train(model, X_train, y_train, batch_selection=sorting_batch_selector, epochs=20)\n",
    "\n",
    "model.compile(loss='categorical_crossentropy', optimizer='adam', metrics=['accuracy'])\n",
    "model.evaluate(X_test, y_test)"
   ]
  }
 ],
 "metadata": {
  "kernelspec": {
   "name": "python3",
   "display_name": "Python 3.8.6 64-bit",
   "metadata": {
    "interpreter": {
     "hash": "f0b7ef81dbfba64741f51278088cbb108f5f8bdb279b68750dee812d0a6f384d"
    }
   }
  },
  "language_info": {
   "codemirror_mode": {
    "name": "ipython",
    "version": 3
   },
   "file_extension": ".py",
   "mimetype": "text/x-python",
   "name": "python",
   "nbconvert_exporter": "python",
   "pygments_lexer": "ipython3",
   "version": "3.8.6-final"
  }
 },
 "nbformat": 4,
 "nbformat_minor": 2
}