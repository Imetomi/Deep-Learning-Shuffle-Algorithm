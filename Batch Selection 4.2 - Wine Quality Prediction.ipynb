{
 "cells": [
  {
   "cell_type": "code",
   "execution_count": 1,
   "metadata": {},
   "outputs": [],
   "source": [
    "import os\n",
    "import numpy as np\n",
    "import tensorflow as tf\n",
    "from keras import models, layers\n",
    "\n",
    "from loop import TrainingLoop\n",
    "from batch_selection import windowed_batch_selector, sorting_batch_selector"
   ]
  },
  {
   "cell_type": "code",
   "execution_count": 2,
   "metadata": {},
   "outputs": [],
   "source": [
    "# Loading the dataset from the files saved in the preprocessing notebook.\n",
    "path = 'data/wine'\n",
    "prefix = 'wine_'\n",
    "X_train = np.load(os.path.join(path, prefix+'train_vectors.npy'))\n",
    "y_train = np.load(os.path.join(path, prefix+'train_labels.npy'))\n",
    "X_test  = np.load(os.path.join(path, prefix+'test_vectors.npy'))\n",
    "y_test  = np.load(os.path.join(path, prefix+'test_labels.npy'))"
   ]
  },
  {
   "cell_type": "code",
   "execution_count": 3,
   "metadata": {},
   "outputs": [],
   "source": [
    "def build_model():\n",
    "    # Setting up the model.\n",
    "    model = models.Sequential()\n",
    "    model.add(layers.Dense(15, activation='relu', input_shape=(X_train.shape[1],)))\n",
    "    model.add(layers.Dense(8, activation='relu'))\n",
    "    model.add(layers.Dense(y_train.shape[1], activation='softmax'))\n",
    "    return model"
   ]
  },
  {
   "cell_type": "code",
   "execution_count": 4,
   "metadata": {},
   "outputs": [],
   "source": [
    "def train(model, X_train, y_train, batch_selector, epochs):\n",
    "    selector_str = {windowed_batch_selector: 'windowed', sorting_batch_selector: 'sorting', None: 'original'}\n",
    "    print('\\n\\n'+selector_str[batch_selector]+'\\n')\n",
    "    # Put the model in our custom training loop.\n",
    "    TrainingLoop(\n",
    "        model, \n",
    "        X_train, \n",
    "        y_train, \n",
    "        validation_split = 0.1,\n",
    "        batch_size = 8,\n",
    "        optimizer = tf.keras.optimizers.Adam(),\n",
    "        loss_function = tf.keras.losses.CategoricalCrossentropy(),\n",
    "        train_metrics = tf.keras.metrics.CategoricalAccuracy(),\n",
    "        val_metrics = tf.keras.metrics.CategoricalAccuracy(),\n",
    "        batch_selection = batch_selector,\n",
    "        log_file = os.path.join('logs',selector_str[batch_selector],'wine_quality.csv')\n",
    "    ).train(epochs)  # Training the model."
   ]
  },
  {
   "cell_type": "code",
   "execution_count": 5,
   "metadata": {},
   "outputs": [],
   "source": [
    "def evaluate(model, X_test, y_test):\n",
    "    # We still have to compile the model for the test evaluation.\n",
    "    model.compile(loss='categorical_crossentropy', optimizer='adam', metrics=['accuracy'])\n",
    "    # After compiling we can run the evaluation.\n",
    "    model.evaluate(X_test, y_test)"
   ]
  },
  {
   "cell_type": "code",
   "execution_count": 6,
   "metadata": {},
   "outputs": [
    {
     "output_type": "stream",
     "name": "stdout",
     "text": [
      "\n",
      "\n",
      "original\n",
      "\n",
      "Epoch 1/20\tLoss: 1.2288\tMetrics: 0.3083: \tValidation metrics: 0.5: \t100% | 15/15 [00:03<00:00,  4.71it/s]\n",
      "Epoch 2/20\tLoss: 1.0411\tMetrics: 0.3333: \tValidation metrics: 0.5: \t100% | 15/15 [00:00<00:00, 66.67it/s]\n",
      "Epoch 3/20\tLoss: 0.9005\tMetrics: 0.4000: \tValidation metrics: 0.625: \t100% | 15/15 [00:00<00:00, 38.36it/s]\n",
      "Epoch 4/20\tLoss: 0.7932\tMetrics: 0.5416: \tValidation metrics: 0.625: \t100% | 15/15 [00:00<00:00, 39.27it/s]\n",
      "Epoch 5/20\tLoss: 0.6862\tMetrics: 0.6000: \tValidation metrics: 0.75: \t100% | 15/15 [00:00<00:00, 49.84it/s]\n",
      "Epoch 6/20\tLoss: 0.5969\tMetrics: 0.6333: \tValidation metrics: 0.75: \t100% | 15/15 [00:00<00:00, 42.14it/s]\n",
      "Epoch 7/20\tLoss: 0.5225\tMetrics: 0.6499: \tValidation metrics: 0.875: \t100% | 15/15 [00:00<00:00, 45.59it/s]\n",
      "Epoch 8/20\tLoss: 0.4646\tMetrics: 0.6750: \tValidation metrics: 0.875: \t100% | 15/15 [00:00<00:00, 52.82it/s]\n",
      "Epoch 9/20\tLoss: 0.4231\tMetrics: 0.7166: \tValidation metrics: 1.0: \t100% | 15/15 [00:00<00:00, 56.61it/s]\n",
      "Epoch 10/20\tLoss: 0.3914\tMetrics: 0.7916: \tValidation metrics: 1.0: \t100% | 15/15 [00:00<00:00, 60.00it/s]\n",
      "Epoch 11/20\tLoss: 0.3658\tMetrics: 0.8000: \tValidation metrics: 1.0: \t100% | 15/15 [00:00<00:00, 54.74it/s]\n",
      "Epoch 12/20\tLoss: 0.3441\tMetrics: 0.8333: \tValidation metrics: 1.0: \t100% | 15/15 [00:00<00:00, 48.23it/s]\n",
      "Epoch 13/20\tLoss: 0.3236\tMetrics: 0.8500: \tValidation metrics: 1.0: \t100% | 15/15 [00:00<00:00, 65.22it/s]\n",
      "Epoch 14/20\tLoss: 0.3004\tMetrics: 0.8666: \tValidation metrics: 1.0: \t100% | 15/15 [00:00<00:00, 83.33it/s]\n",
      "Epoch 15/20\tLoss: 0.2766\tMetrics: 0.8833: \tValidation metrics: 1.0: \t100% | 15/15 [00:00<00:00, 57.91it/s]\n",
      "Epoch 16/20\tLoss: 0.2506\tMetrics: 0.9166: \tValidation metrics: 1.0: \t100% | 15/15 [00:00<00:00, 75.38it/s]\n",
      "Epoch 17/20\tLoss: 0.2231\tMetrics: 0.9333: \tValidation metrics: 1.0: \t100% | 15/15 [00:00<00:00, 58.37it/s]\n",
      "Epoch 18/20\tLoss: 0.1947\tMetrics: 0.9416: \tValidation metrics: 1.0: \t100% | 15/15 [00:00<00:00, 72.12it/s]\n",
      "Epoch 19/20\tLoss: 0.1687\tMetrics: 0.9499: \tValidation metrics: 1.0: \t100% | 15/15 [00:00<00:00, 37.50it/s]\n",
      "Epoch 20/20\tLoss: 0.1456\tMetrics: 0.9666: \tValidation metrics: 1.0: \t100% | 15/15 [00:00<00:00, 76.92it/s]\n",
      "2/2 [==============================] - 0s 3ms/step - loss: 0.2415 - accuracy: 0.9722\n",
      "\n",
      "\n",
      "windowed\n",
      "\n",
      "Epoch 1/20\tLoss: 1.1952\tMetrics: 0.3083: \tValidation metrics: 0.5: \t100% | 15/15 [00:02<00:00,  5.50it/s]\n",
      "Epoch 2/20\tLoss: 1.0161\tMetrics: 0.3083: \tValidation metrics: 0.625: \t100% | 15/15 [00:00<00:00, 53.96it/s]\n",
      "Epoch 3/20\tLoss: 0.9030\tMetrics: 0.3083: \tValidation metrics: 0.625: \t100% | 15/15 [00:00<00:00, 49.18it/s]\n",
      "Epoch 4/20\tLoss: 0.8162\tMetrics: 0.375: \tValidation metrics: 0.75: \t100% | 15/15 [00:00<00:00, 49.18it/s]\n",
      "Epoch 5/20\tLoss: 0.7363\tMetrics: 0.4583: \tValidation metrics: 0.875: \t100% | 15/15 [00:00<00:00, 57.47it/s]\n",
      "Epoch 6/20\tLoss: 0.6665\tMetrics: 0.4833: \tValidation metrics: 1.0: \t100% | 15/15 [00:00<00:00, 58.82it/s]\n",
      "Epoch 7/20\tLoss: 0.6088\tMetrics: 0.5416: \tValidation metrics: 1.0: \t100% | 15/15 [00:00<00:00, 49.67it/s]\n",
      "Epoch 8/20\tLoss: 0.5553\tMetrics: 0.6166: \tValidation metrics: 1.0: \t100% | 15/15 [00:00<00:00, 59.29it/s]\n",
      "Epoch 9/20\tLoss: 0.5043\tMetrics: 0.6916: \tValidation metrics: 1.0: \t100% | 15/15 [00:00<00:00, 57.92it/s]\n",
      "Epoch 10/20\tLoss: 0.4605\tMetrics: 0.7749: \tValidation metrics: 1.0: \t100% | 15/15 [00:00<00:00, 54.35it/s]\n",
      "Epoch 11/20\tLoss: 0.4241\tMetrics: 0.8000: \tValidation metrics: 1.0: \t100% | 15/15 [00:00<00:00, 26.50it/s]\n",
      "Epoch 12/20\tLoss: 0.3937\tMetrics: 0.8249: \tValidation metrics: 1.0: \t100% | 15/15 [00:00<00:00, 29.13it/s]\n",
      "Epoch 13/20\tLoss: 0.3669\tMetrics: 0.8333: \tValidation metrics: 1.0: \t100% | 15/15 [00:00<00:00, 59.76it/s]\n",
      "Epoch 14/20\tLoss: 0.3338\tMetrics: 0.8666: \tValidation metrics: 1.0: \t100% | 15/15 [00:00<00:00, 68.81it/s]\n",
      "Epoch 15/20\tLoss: 0.2985\tMetrics: 0.9083: \tValidation metrics: 1.0: \t100% | 15/15 [00:00<00:00, 75.00it/s]\n",
      "Epoch 16/20\tLoss: 0.2750\tMetrics: 0.875: \tValidation metrics: 1.0: \t100% | 15/15 [00:00<00:00, 66.96it/s]\n",
      "Epoch 17/20\tLoss: 0.2370\tMetrics: 0.9250: \tValidation metrics: 1.0: \t100% | 15/15 [00:00<00:00, 68.18it/s]\n",
      "Epoch 18/20\tLoss: 0.2144\tMetrics: 0.9499: \tValidation metrics: 1.0: \t100% | 15/15 [00:00<00:00, 63.30it/s]\n",
      "Epoch 19/20\tLoss: 0.1842\tMetrics: 0.9833: \tValidation metrics: 1.0: \t100% | 15/15 [00:00<00:00, 67.87it/s]\n",
      "Epoch 20/20\tLoss: 0.1695\tMetrics: 0.9499: \tValidation metrics: 1.0: \t100% | 15/15 [00:00<00:00, 57.03it/s]\n",
      "2/2 [==============================] - 0s 3ms/step - loss: 0.2500 - accuracy: 0.9722\n",
      "\t  0% | 0/15 [00:00<?, ?it/s]\n",
      "\n",
      "sorting\n",
      "\n",
      "Epoch 1/20\tLoss: 0.8694\tMetrics: 0.3083: \tValidation metrics: 0.5: \t100% | 15/15 [00:01<00:00,  8.00it/s]\n",
      "Epoch 2/20\tLoss: 0.8017\tMetrics: 0.3249: \tValidation metrics: 0.5: \t100% | 15/15 [00:00<00:00, 84.75it/s]\n",
      "Epoch 3/20\tLoss: 0.7428\tMetrics: 0.4000: \tValidation metrics: 0.625: \t100% | 15/15 [00:00<00:00, 86.70it/s]\n",
      "Epoch 4/20\tLoss: 0.6960\tMetrics: 0.5083: \tValidation metrics: 0.75: \t100% | 15/15 [00:00<00:00, 89.28it/s]\n",
      "Epoch 5/20\tLoss: 0.6533\tMetrics: 0.5916: \tValidation metrics: 0.75: \t100% | 15/15 [00:00<00:00, 100.67it/s]\n",
      "Epoch 6/20\tLoss: 0.6109\tMetrics: 0.6416: \tValidation metrics: 0.75: \t100% | 15/15 [00:00<00:00, 96.78it/s] \n",
      "Epoch 7/20\tLoss: 0.5723\tMetrics: 0.6583: \tValidation metrics: 0.875: \t100% | 15/15 [00:00<00:00, 83.34it/s]\n",
      "Epoch 8/20\tLoss: 0.4817\tMetrics: 0.6750: \tValidation metrics: 0.875: \t100% | 15/15 [00:00<00:00, 83.34it/s]\n",
      "Epoch 9/20\tLoss: 0.4356\tMetrics: 0.7083: \tValidation metrics: 1.0: \t100% | 15/15 [00:00<00:00, 84.75it/s]\n",
      "Epoch 10/20\tLoss: 0.4018\tMetrics: 0.75: \tValidation metrics: 1.0: \t100% | 15/15 [00:00<00:00, 88.23it/s]\n",
      "Epoch 11/20\tLoss: 0.3740\tMetrics: 0.8083: \tValidation metrics: 1.0: \t100% | 15/15 [00:00<00:00, 83.34it/s]\n",
      "Epoch 12/20\tLoss: 0.3515\tMetrics: 0.8166: \tValidation metrics: 1.0: \t100% | 15/15 [00:00<00:00, 84.74it/s]\n",
      "Epoch 13/20\tLoss: 0.3313\tMetrics: 0.8416: \tValidation metrics: 1.0: \t100% | 15/15 [00:00<00:00, 84.26it/s]\n",
      "Epoch 14/20\tLoss: 0.3063\tMetrics: 0.8583: \tValidation metrics: 1.0: \t100% | 15/15 [00:00<00:00, 66.66it/s]\n",
      "Epoch 15/20\tLoss: 0.2826\tMetrics: 0.875: \tValidation metrics: 1.0: \t100% | 15/15 [00:00<00:00, 55.15it/s]\n",
      "Epoch 16/20\tLoss: 0.2557\tMetrics: 0.8999: \tValidation metrics: 1.0: \t100% | 15/15 [00:00<00:00, 73.90it/s]\n",
      "Epoch 17/20\tLoss: 0.2113\tMetrics: 0.9250: \tValidation metrics: 1.0: \t100% | 15/15 [00:00<00:00, 65.22it/s]\n",
      "Epoch 18/20\tLoss: 0.1756\tMetrics: 0.9499: \tValidation metrics: 1.0: \t100% | 15/15 [00:00<00:00, 73.17it/s]\n",
      "Epoch 19/20\tLoss: 0.1458\tMetrics: 0.9499: \tValidation metrics: 1.0: \t100% | 15/15 [00:00<00:00, 80.22it/s]\n",
      "Epoch 20/20\tLoss: 0.1215\tMetrics: 0.9583: \tValidation metrics: 1.0: \t100% | 15/15 [00:00<00:00, 76.14it/s]\n",
      "2/2 [==============================] - 0s 3ms/step - loss: 0.2464 - accuracy: 0.9722\n"
     ]
    }
   ],
   "source": [
    "# Train and evaluate models with different batch selection algorithms.\n",
    "for batch_selector in [None, windowed_batch_selector, sorting_batch_selector]:\n",
    "    # Set random seed so the comparison of different solutions won't be affected by it.\n",
    "    tf.random.set_seed(42)\n",
    "    np.random.seed(42)\n",
    "    \n",
    "    model = build_model()\n",
    "    train(model, X_train, y_train, batch_selector=batch_selector, epochs=20)\n",
    "    evaluate(model, X_test, y_test)"
   ]
  }
 ],
 "metadata": {
  "kernelspec": {
   "name": "python3",
   "display_name": "Python 3.8.6 64-bit",
   "metadata": {
    "interpreter": {
     "hash": "f0b7ef81dbfba64741f51278088cbb108f5f8bdb279b68750dee812d0a6f384d"
    }
   }
  },
  "language_info": {
   "codemirror_mode": {
    "name": "ipython",
    "version": 3
   },
   "file_extension": ".py",
   "mimetype": "text/x-python",
   "name": "python",
   "nbconvert_exporter": "python",
   "pygments_lexer": "ipython3",
   "version": "3.8.6-final"
  }
 },
 "nbformat": 4,
 "nbformat_minor": 2
}