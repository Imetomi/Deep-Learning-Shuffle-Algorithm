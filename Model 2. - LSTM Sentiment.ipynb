{
 "cells": [
  {
   "cell_type": "code",
   "execution_count": 1,
   "metadata": {},
   "outputs": [],
   "source": [
    "import pandas as pd\n",
    "import numpy as np\n",
    "import json\n",
    "import os\n",
    "import sys\n",
    "import pickle\n",
    "from tqdm.notebook import tqdm as tqdm_n\n",
    "from nltk.tokenize import word_tokenize \n",
    "from sklearn.model_selection import train_test_split\n",
    "import gc\n",
    "from gensim.models import Word2Vec\n",
    "from gensim.models import KeyedVectors\n",
    "import tensorflow as tf\n",
    "\n",
    "from tensorflow.keras.models import Sequential\n",
    "from tensorflow.keras.layers import LSTM, Dense, Activation, Dropout\n",
    "from tensorflow.keras.callbacks import EarlyStopping\n",
    "\n",
    "from sklearn.metrics import accuracy_score\n",
    "from tensorflow.python.keras import backend as K"
   ]
  },
  {
   "cell_type": "code",
   "execution_count": 2,
   "metadata": {},
   "outputs": [],
   "source": [
    "data_path = 'data'"
   ]
  },
  {
   "cell_type": "code",
   "execution_count": 3,
   "metadata": {},
   "outputs": [],
   "source": [
    "train_data = np.load(os.path.join(data_path, 'twitter_train_vectors.npy'), allow_pickle=True)\n",
    "test_data = np.load(os.path.join(data_path, 'twitter_test_vectors.npy'), allow_pickle=True)\n",
    "train_labels = np.load(os.path.join(data_path, 'twitter_train_labels.npy'), allow_pickle=True)\n",
    "test_labels = np.load(os.path.join(data_path, 'twitter_test_labels.npy'), allow_pickle=True)"
   ]
  },
  {
   "cell_type": "code",
   "execution_count": 4,
   "metadata": {},
   "outputs": [],
   "source": [
    "def average_on_window(data, label, size):\n",
    "    new_data = []\n",
    "    new_labels = []\n",
    "    for i in tqdm_n(range(len(data))):\n",
    "        sample = data[i]\n",
    "        if len(sample) >= size:\n",
    "            new_sample = []\n",
    "            count = int(np.floor((len(sample) / size)))\n",
    "            rest = int(len(sample) / size)\n",
    "            for j in range(size-1):\n",
    "                new_sample.append(np.array(sample[j*count:(j+1)*count].mean(axis=0)))\n",
    "            if rest != 0:\n",
    "                new_sample.append(np.array(sample[(size-1)*count:(size)*count+rest].mean(axis=0)))\n",
    "            else:\n",
    "                new_sample.append(np.array(sample[(size-1)*count:(size)*count].mean(axis=0)))\n",
    "            new_data.append(np.array(new_sample))\n",
    "            new_labels.append(label[i])\n",
    "    return np.array(new_data), np.array(new_labels)"
   ]
  },
  {
   "cell_type": "code",
   "execution_count": 5,
   "metadata": {},
   "outputs": [
    {
     "output_type": "display_data",
     "data": {
      "text/plain": "HBox(children=(FloatProgress(value=0.0, max=119999.0), HTML(value='')))",
      "application/vnd.jupyter.widget-view+json": {
       "version_major": 2,
       "version_minor": 0,
       "model_id": "5254f1bd33d34fef99cf2bc6860ef3cb"
      }
     },
     "metadata": {}
    },
    {
     "output_type": "stream",
     "name": "stdout",
     "text": [
      "\n"
     ]
    }
   ],
   "source": [
    "X_train, y_train = average_on_window(train_data, train_labels, 2)"
   ]
  },
  {
   "cell_type": "code",
   "execution_count": 6,
   "metadata": {},
   "outputs": [
    {
     "output_type": "display_data",
     "data": {
      "text/plain": "HBox(children=(FloatProgress(value=0.0, max=40000.0), HTML(value='')))",
      "application/vnd.jupyter.widget-view+json": {
       "version_major": 2,
       "version_minor": 0,
       "model_id": "73f7c04f4a22450d9ab55320f2f7f9f2"
      }
     },
     "metadata": {}
    },
    {
     "output_type": "stream",
     "name": "stdout",
     "text": [
      "\n"
     ]
    }
   ],
   "source": [
    "X_test, y_test = average_on_window(test_data, test_labels, 2)"
   ]
  },
  {
   "cell_type": "code",
   "execution_count": 7,
   "metadata": {},
   "outputs": [
    {
     "output_type": "stream",
     "name": "stdout",
     "text": [
      "WARNING:tensorflow:Layer lstm will not use cuDNN kernel since it doesn't meet the cuDNN kernel criteria. It will use generic GPU kernel as fallback when running on GPU\n",
      "WARNING:tensorflow:Layer lstm_1 will not use cuDNN kernel since it doesn't meet the cuDNN kernel criteria. It will use generic GPU kernel as fallback when running on GPU\n",
      "WARNING:tensorflow:Layer lstm_2 will not use cuDNN kernel since it doesn't meet the cuDNN kernel criteria. It will use generic GPU kernel as fallback when running on GPU\n"
     ]
    }
   ],
   "source": [
    "tf.random.set_seed(42)\n",
    "np.random.seed(42)\n",
    "model = Sequential()\n",
    "\n",
    "model.add(LSTM(5, return_sequences = True, activation='selu'))\n",
    "model.add(Dropout(0.2))\n",
    "model.add(LSTM(200, return_sequences=True, activation='selu'))\n",
    "model.add(Dropout(0.2))\n",
    "model.add(LSTM(100, return_sequences=False, activation='selu'))\n",
    "model.add(Dropout(0.2))\n",
    "model.add(Dense(100, activation='selu'))\n",
    "model.add(Dense(50, activation='selu'))\n",
    "model.add(Dense(1, activation='sigmoid'))\n",
    "\n",
    "model.compile(loss='binary_crossentropy', optimizer='adam', metrics=['acc'])"
   ]
  },
  {
   "cell_type": "code",
   "execution_count": 8,
   "metadata": {
    "scrolled": false
   },
   "outputs": [],
   "source": [
    "#model.fit(X_train, y_train, epochs=50, validation_split=0.1, batch_size=1024, callbacks=callbacks)"
   ]
  },
  {
   "cell_type": "code",
   "execution_count": 9,
   "metadata": {},
   "outputs": [],
   "source": [
    "from loop import TrainingLoop"
   ]
  },
  {
   "cell_type": "code",
   "execution_count": 10,
   "metadata": {},
   "outputs": [],
   "source": [
    "optimizer = tf.keras.optimizers.Adam()\n",
    "loss_function = tf.keras.losses.BinaryCrossentropy()\n",
    "\n",
    "batch_size = 1024\n",
    "epochs = 50\n"
   ]
  },
  {
   "cell_type": "code",
   "execution_count": 11,
   "metadata": {},
   "outputs": [],
   "source": [
    "train_metrics = tf.keras.metrics.BinaryAccuracy()\n",
    "val_metrics = tf.keras.metrics.BinaryAccuracy()"
   ]
  },
  {
   "cell_type": "code",
   "execution_count": 12,
   "metadata": {},
   "outputs": [],
   "source": [
    "training = TrainingLoop(model, X_train, y_train, loss_function, optimizer, train_metrics, val_metrics, validation_split=0.1, batch_size=batch_size)"
   ]
  },
  {
   "cell_type": "code",
   "execution_count": 13,
   "metadata": {},
   "outputs": [
    {
     "output_type": "stream",
     "name": "stderr",
     "text": [
      "Epoch 1/50\tLoss: 0.5443\tMetrics: 0.6929: \t100% | 94/94 [00:02<00:00, 43.38it/s]\n",
      "Epoch 2/50\tLoss: 0.5131\tMetrics: 0.7543: \t100% | 94/94 [00:00<00:00, 190.58it/s]\n",
      "Epoch 3/50\tLoss: 0.4963\tMetrics: 0.7658: \t100% | 94/94 [00:00<00:00, 182.17it/s]\n",
      "Epoch 4/50\tLoss: 0.4976\tMetrics: 0.7696: \t100% | 94/94 [00:00<00:00, 185.43it/s]\n",
      "Epoch 5/50\tLoss: 0.4915\tMetrics: 0.7735: \t100% | 94/94 [00:00<00:00, 189.05it/s]\n",
      "Epoch 6/50\tLoss: 0.4872\tMetrics: 0.7762: \t100% | 94/94 [00:00<00:00, 191.88it/s]\n",
      "Epoch 7/50\tLoss: 0.4862\tMetrics: 0.7765: \t100% | 94/94 [00:00<00:00, 186.93it/s]\n",
      "Epoch 8/50\tLoss: 0.4832\tMetrics: 0.7780: \t100% | 94/94 [00:00<00:00, 191.28it/s]\n",
      "Epoch 9/50\tLoss: 0.4813\tMetrics: 0.7796: \t100% | 94/94 [00:00<00:00, 187.42it/s]\n",
      "Epoch 10/50\tLoss: 0.4772\tMetrics: 0.7802: \t100% | 94/94 [00:00<00:00, 182.00it/s]\n",
      "Epoch 11/50\tLoss: 0.4736\tMetrics: 0.7816: \t100% | 94/94 [00:00<00:00, 190.42it/s]\n",
      "Epoch 12/50\tLoss: 0.4705\tMetrics: 0.7820: \t100% | 94/94 [00:00<00:00, 185.25it/s]\n",
      "Epoch 13/50\tLoss: 0.4713\tMetrics: 0.7827: \t100% | 94/94 [00:00<00:00, 190.52it/s]\n",
      "Epoch 14/50\tLoss: 0.4757\tMetrics: 0.7830: \t100% | 94/94 [00:00<00:00, 189.61it/s]\n",
      "Epoch 15/50\tLoss: 0.4710\tMetrics: 0.7842: \t100% | 94/94 [00:00<00:00, 186.13it/s]\n",
      "Epoch 16/50\tLoss: 0.4654\tMetrics: 0.7848: \t100% | 94/94 [00:00<00:00, 187.94it/s]\n",
      "Epoch 17/50\tLoss: 0.4692\tMetrics: 0.7843: \t100% | 94/94 [00:00<00:00, 184.62it/s]\n",
      "Epoch 18/50\tLoss: 0.4638\tMetrics: 0.7854: \t100% | 94/94 [00:00<00:00, 187.12it/s]\n",
      "Epoch 19/50\tLoss: 0.4719\tMetrics: 0.7851: \t100% | 94/94 [00:00<00:00, 182.62it/s]\n",
      "Epoch 20/50\tLoss: 0.4612\tMetrics: 0.7876: \t100% | 94/94 [00:00<00:00, 189.95it/s]\n",
      "Epoch 21/50\tLoss: 0.4594\tMetrics: 0.7860: \t100% | 94/94 [00:00<00:00, 186.81it/s]\n",
      "Epoch 22/50\tLoss: 0.4594\tMetrics: 0.7861: \t100% | 94/94 [00:00<00:00, 178.57it/s]\n",
      "Epoch 23/50\tLoss: 0.4645\tMetrics: 0.7869: \t100% | 94/94 [00:00<00:00, 179.76it/s]\n",
      "Epoch 24/50\tLoss: 0.4634\tMetrics: 0.7876: \t100% | 94/94 [00:00<00:00, 174.18it/s]\n",
      "Epoch 25/50\tLoss: 0.4570\tMetrics: 0.7882: \t100% | 94/94 [00:00<00:00, 182.91it/s]\n",
      "Epoch 26/50\tLoss: 0.4598\tMetrics: 0.7876: \t100% | 94/94 [00:00<00:00, 179.37it/s]\n",
      "Epoch 27/50\tLoss: 0.4594\tMetrics: 0.7886: \t100% | 94/94 [00:00<00:00, 180.94it/s]\n",
      "Epoch 28/50\tLoss: 0.4605\tMetrics: 0.7883: \t100% | 94/94 [00:00<00:00, 174.59it/s]\n",
      "Epoch 29/50\tLoss: 0.4551\tMetrics: 0.7889: \t100% | 94/94 [00:00<00:00, 180.22it/s]\n",
      "Epoch 30/50\tLoss: 0.4597\tMetrics: 0.7892: \t100% | 94/94 [00:00<00:00, 182.78it/s]\n",
      "Epoch 31/50\tLoss: 0.4549\tMetrics: 0.7893: \t100% | 94/94 [00:00<00:00, 181.71it/s]\n",
      "Epoch 32/50\tLoss: 0.4560\tMetrics: 0.7903: \t100% | 94/94 [00:00<00:00, 182.58it/s]\n",
      "Epoch 33/50\tLoss: 0.4573\tMetrics: 0.7895: \t100% | 94/94 [00:00<00:00, 175.93it/s]\n",
      "Epoch 34/50\tLoss: 0.4557\tMetrics: 0.7901: \t100% | 94/94 [00:00<00:00, 182.15it/s]\n",
      "Epoch 35/50\tLoss: 0.4586\tMetrics: 0.7899: \t100% | 94/94 [00:00<00:00, 180.89it/s]\n",
      "Epoch 36/50\tLoss: 0.4569\tMetrics: 0.7910: \t100% | 94/94 [00:00<00:00, 179.67it/s]\n",
      "Epoch 37/50\tLoss: 0.4524\tMetrics: 0.7913: \t100% | 94/94 [00:00<00:00, 180.12it/s]\n",
      "Epoch 38/50\tLoss: 0.4588\tMetrics: 0.7906: \t100% | 94/94 [00:00<00:00, 179.53it/s]\n",
      "Epoch 39/50\tLoss: 0.4524\tMetrics: 0.7926: \t100% | 94/94 [00:00<00:00, 172.37it/s]\n",
      "Epoch 40/50\tLoss: 0.4518\tMetrics: 0.7915: \t100% | 94/94 [00:00<00:00, 183.91it/s]\n",
      "Epoch 41/50\tLoss: 0.4512\tMetrics: 0.7907: \t100% | 94/94 [00:00<00:00, 183.30it/s]\n",
      "Epoch 42/50\tLoss: 0.4484\tMetrics: 0.7920: \t100% | 94/94 [00:00<00:00, 177.86it/s]\n",
      "Epoch 43/50\tLoss: 0.4546\tMetrics: 0.7929: \t100% | 94/94 [00:00<00:00, 182.97it/s]\n",
      "Epoch 44/50\tLoss: 0.4561\tMetrics: 0.7915: \t100% | 94/94 [00:00<00:00, 175.34it/s]\n",
      "Epoch 45/50\tLoss: 0.4474\tMetrics: 0.7921: \t100% | 94/94 [00:00<00:00, 176.30it/s]\n",
      "Epoch 46/50\tLoss: 0.4471\tMetrics: 0.7935: \t100% | 94/94 [00:00<00:00, 180.92it/s]\n",
      "Epoch 47/50\tLoss: 0.4520\tMetrics: 0.7928: \t100% | 94/94 [00:00<00:00, 179.48it/s]\n",
      "Epoch 48/50\tLoss: 0.4385\tMetrics: 0.7937: \t100% | 94/94 [00:00<00:00, 181.60it/s]\n",
      "Epoch 49/50\tLoss: 0.4486\tMetrics: 0.7931: \t100% | 94/94 [00:00<00:00, 178.77it/s]\n",
      "Epoch 50/50\tLoss: 0.4490\tMetrics: 0.7938: \t100% | 94/94 [00:00<00:00, 177.67it/s]\n"
     ]
    }
   ],
   "source": [
    "training.train(epochs)"
   ]
  },
  {
   "cell_type": "code",
   "execution_count": 14,
   "metadata": {},
   "outputs": [
    {
     "output_type": "stream",
     "name": "stdout",
     "text": [
      "39/39 [==============================] - 0s 2ms/step - loss: 0.4530 - acc: 0.7866\n"
     ]
    },
    {
     "output_type": "execute_result",
     "data": {
      "text/plain": [
       "[0.45297864079475403, 0.7865575551986694]"
      ]
     },
     "metadata": {},
     "execution_count": 14
    }
   ],
   "source": [
    "model.evaluate(X_test, y_test, batch_size=batch_size)"
   ]
  },
  {
   "cell_type": "markdown",
   "metadata": {},
   "source": [
    "Usually they get an accuracy of about 83% on this dataset. I am using only a tenth of the original size and I achieved 78% with an LSTM network. This could be better with some more tuning but in this project we're focusing on our batch selection algorithm."
   ]
  }
 ],
 "metadata": {
  "kernelspec": {
   "display_name": "Python 3",
   "language": "python",
   "name": "python3"
  },
  "language_info": {
   "codemirror_mode": {
    "name": "ipython",
    "version": 3
   },
   "file_extension": ".py",
   "mimetype": "text/x-python",
   "name": "python",
   "nbconvert_exporter": "python",
   "pygments_lexer": "ipython3",
   "version": "3.8.5-final"
  }
 },
 "nbformat": 4,
 "nbformat_minor": 4
}