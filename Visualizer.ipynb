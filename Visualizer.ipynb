{
 "metadata": {
  "language_info": {
   "codemirror_mode": {
    "name": "ipython",
    "version": 3
   },
   "file_extension": ".py",
   "mimetype": "text/x-python",
   "name": "python",
   "nbconvert_exporter": "python",
   "pygments_lexer": "ipython3",
   "version": "3.7.6-final"
  },
  "orig_nbformat": 2,
  "kernelspec": {
   "name": "python3",
   "display_name": "Python 3",
   "language": "python"
  }
 },
 "nbformat": 4,
 "nbformat_minor": 2,
 "cells": [
  {
   "cell_type": "code",
   "execution_count": 1,
   "metadata": {},
   "outputs": [],
   "source": [
    "import pandas as pd\n",
    "import matplotlib.pyplot as plt\n",
    "import os\n",
    "import numpy as np\n",
    "\n",
    "import chart_studio.plotly as py\t\n",
    "import plotly.graph_objs as go\n",
    "from plotly import subplots\n",
    "import plotly.express as px\n",
    "from plotly.offline import download_plotlyjs, init_notebook_mode, iplot, plot\n",
    "import plotly.express as px"
   ]
  },
  {
   "cell_type": "code",
   "execution_count": 2,
   "metadata": {},
   "outputs": [],
   "source": [
    "log_path = 'logs'\n",
    "batch_selection_methods = [o for o in os.listdir(log_path) if os.path.isdir(os.path.join(log_path,o))]\n",
    "files = [[os.path.join(log_path, o, f) for f in os.listdir(os.path.join(log_path, o)) if os.path.isfile(os.path.join(log_path, o, f))] for o in batch_selection_methods]"
   ]
  },
  {
   "cell_type": "code",
   "execution_count": 3,
   "metadata": {},
   "outputs": [],
   "source": [
    "files = np.array(files)"
   ]
  },
  {
   "cell_type": "code",
   "execution_count": 4,
   "metadata": {},
   "outputs": [
    {
     "output_type": "execute_result",
     "data": {
      "text/plain": [
       "(3, 8)"
      ]
     },
     "metadata": {},
     "execution_count": 4
    }
   ],
   "source": [
    "files.shape"
   ]
  },
  {
   "cell_type": "code",
   "execution_count": 5,
   "metadata": {},
   "outputs": [],
   "source": [
    "plot_matrix = np.empty((files.T.shape), dtype=object)\n",
    "for i in range(files.shape[0]):\n",
    "    for j in range(files.shape[1]):\n",
    "        f = files[i][j]\n",
    "        data = pd.read_csv(f)\n",
    "        plot_matrix[j][i] = [data, f.split('\\\\')[2].split('.')[0], f.split('\\\\')[1]]\n"
   ]
  },
  {
   "cell_type": "code",
   "execution_count": 6,
   "metadata": {},
   "outputs": [],
   "source": [
    "color_list = px.colors.qualitative.T10"
   ]
  },
  {
   "cell_type": "code",
   "execution_count": null,
   "metadata": {},
   "outputs": [],
   "source": [
    "for i in range(plot_matrix.shape[0]):\n",
    "    fig = subplots.make_subplots(rows=3, cols=2, vertical_spacing=0.06, horizontal_spacing=0.03, \n",
    "                            subplot_titles=(\"Time-based Loss\", \"Epoch-based Loss\", \n",
    "                                            \"Time-based Training Metrics\", \"Epoch-based Training Metrics\",\n",
    "                                            \"Time-based Validation Metrics\" , \"Epoch-based Validation Metrics\"))\n",
    "        \n",
    "    for j in range(plot_matrix.shape[1]):\n",
    "        plot_data = plot_matrix[i][j][0]\n",
    "        name = plot_matrix[i][j][1].upper()\n",
    "        selection = plot_matrix[i][j][2].title()\n",
    "        color = color_list[j]\n",
    "        time_based_loss_plot = go.Scatter(x=plot_data['Time'], y=plot_data['Loss'], name = selection + ' Loss Time', mode='lines', line_color=color)\n",
    "        time_based_metrics_plot = go.Scatter(x=plot_data['Time'], y=plot_data['Metrics'], name = selection + ' Metrics Time', mode='lines', line_color=color)\n",
    "        time_based_vl_plot = go.Scatter(x=plot_data['Time'], y=plot_data['Validation'], name =  selection + ' Validation Time', mode='lines', line_color=color)\n",
    "\n",
    "        epoch_based_loss_plot = go.Scatter(x=plot_data['Epoch'], y=plot_data['Loss'], name = selection + ' Loss Epoch', mode='lines', line_color=color)\n",
    "        epoch_based_metrics_plot = go.Scatter(x=plot_data['Epoch'], y=plot_data['Metrics'], name = selection + ' Metrics Epoch', mode='lines', line_color=color)\n",
    "        epoch_based_vl_plot = go.Scatter(x=plot_data['Epoch'], y=plot_data['Validation'], name = selection + ' Validation Epoch', mode='lines',line_color=color)\n",
    "\n",
    "        fig.append_trace(time_based_loss_plot, 1, 1)\n",
    "        fig.append_trace(time_based_metrics_plot, 2, 1)\n",
    "        fig.append_trace(time_based_vl_plot, 3, 1)\n",
    "\n",
    "        fig.append_trace(epoch_based_loss_plot, 1, 2)\n",
    "        fig.append_trace(epoch_based_metrics_plot, 2, 2)\n",
    "        fig.append_trace(epoch_based_vl_plot, 3, 2)\n",
    "\n",
    "        fig.update_layout(title=go.layout.Title(text = name))\n",
    "\n",
    "    plot(fig, filename='plots/' + str(i) + '.html')"
   ]
  },
  {
   "cell_type": "code",
   "execution_count": 7,
   "metadata": {},
   "outputs": [],
   "source": [
    "# Columns = Algo name, Total time, Average time per epoch, Max acc., Max Validation acc., Min loss, Max acc. index, Max Validation acc. index, Min Loss index, \n",
    "# Max acc. timestamp, Max Validation acc. timestamp, Min Loss timestamp\n",
    "results = pd.DataFrame(columns=['Model', 'algorithm', 'total_time', 'avg_epoch', 'max_metric', 'max_validation', 'min_loss', 'max_metrics_epoch', 'max_validation_epoch', 'min_loss_epoch', 'max_metrics_ts', 'max_validation_ts', 'min_loss_ts'])"
   ]
  },
  {
   "cell_type": "code",
   "execution_count": 8,
   "metadata": {},
   "outputs": [],
   "source": [
    "for i in range(plot_matrix.shape[0]):\n",
    "    for j in range(plot_matrix.shape[1]):\n",
    "        data = plot_matrix[i][j][0]\n",
    "        name = plot_matrix[i][j][1].upper()\n",
    "        # that is the only regression task, easier to silve it like this:\n",
    "        if name != 'BOSTON_HOUSES':\n",
    "            algorithm = plot_matrix[i][j][2].title()\n",
    "            total_time = data['Time'][len(data)-1]\n",
    "            avg_epoch = data['Time'].diff().mean()\n",
    "            max_metric = data['Metrics'].max()\n",
    "            max_validation = data['Validation'].max()\n",
    "            min_loss = data['Loss'].min()\n",
    "\n",
    "            max_metrics_epoch = data['Metrics'].idxmax()\n",
    "            max_validation_epoch = data['Validation'].idxmax()\n",
    "            min_loss_epoch = data['Loss'].idxmin()\n",
    "\n",
    "            max_metrics_ts = data['Time'][max_metrics_epoch]\n",
    "            max_validation_ts = data['Time'][max_validation_epoch]\n",
    "            min_loss_ts = data['Time'][min_loss_epoch]\n",
    "        else:\n",
    "            algorithm = plot_matrix[i][j][2].title()\n",
    "            total_time = data['Time'][len(data)-1]\n",
    "            avg_epoch = data['Time'].diff().mean()\n",
    "            data['Metrics'] = data['Metrics'].max() - data['Metrics']\n",
    "            data['Validation'] = data['Validation'].max() - data['Validation']\n",
    "            max_metric = data['Metrics'].max()\n",
    "            max_validation = data['Validation'].max()\n",
    "            min_loss = data['Loss'].min()\n",
    "\n",
    "            max_metrics_epoch = data['Metrics'].idxmax()\n",
    "            max_validation_epoch = data['Validation'].idxmax()\n",
    "            min_loss_epoch = data['Loss'].idxmin()\n",
    "\n",
    "            max_metrics_ts = data['Time'][max_metrics_epoch]\n",
    "            max_validation_ts = data['Time'][max_validation_epoch]\n",
    "            min_loss_ts = data['Time'][min_loss_epoch]\n",
    "\n",
    "        results.loc[len(results)] = [name, algorithm, total_time, avg_epoch, max_metric, max_validation, min_loss, max_metrics_epoch, max_validation_epoch, min_loss_epoch, max_metrics_ts, max_validation_ts, min_loss_ts]\n"
   ]
  },
  {
   "cell_type": "code",
   "execution_count": 9,
   "metadata": {},
   "outputs": [
    {
     "output_type": "execute_result",
     "data": {
      "text/plain": [
       "            Model algorithm  total_time  avg_epoch  max_metric  \\\n",
       "0     ARCHIMEDEAN  Original   18.735745   0.125743    0.966667   \n",
       "1     ARCHIMEDEAN   Sorting   22.599882   0.151677    0.965278   \n",
       "2     ARCHIMEDEAN  Windowed   33.729510   0.226373    0.958333   \n",
       "3   BOSTON_HOUSES  Original    2.692392   0.141705    4.863170   \n",
       "4   BOSTON_HOUSES   Sorting    2.770498   0.145816    4.637230   \n",
       "5   BOSTON_HOUSES  Windowed    5.397580   0.284083    6.949940   \n",
       "6   FASHION_MNIST  Original   96.344000   5.070737    0.926687   \n",
       "7   FASHION_MNIST   Sorting   99.626000   5.243474    0.854042   \n",
       "8   FASHION_MNIST  Windowed  303.345000  15.965526    0.890375   \n",
       "9            IRIS  Original   15.311000   0.805842    0.990741   \n",
       "10           IRIS   Sorting   21.955000   1.155526    0.981481   \n",
       "11           IRIS  Windowed   23.953000   1.260684    0.990741   \n",
       "12          MNIST  Original   52.946526   2.786659    0.995229   \n",
       "13          MNIST   Sorting   63.665524   3.350817    0.995354   \n",
       "14          MNIST  Windowed  199.979743  10.525250    0.983708   \n",
       "15   MUSIC_GENRES  Original   46.548000   0.949959    0.845833   \n",
       "16   MUSIC_GENRES   Sorting   58.827000   1.200551    0.861111   \n",
       "17   MUSIC_GENRES  Windowed   91.357000   1.864429    0.848611   \n",
       "18      SENTIMENT  Original   35.353767   0.721505    0.794706   \n",
       "19      SENTIMENT   Sorting   44.357231   0.905250    0.795185   \n",
       "20      SENTIMENT  Windowed  110.588332   2.256905    0.792189   \n",
       "21   WINE_QUALITY  Original    8.126000   0.427684    0.966667   \n",
       "22   WINE_QUALITY   Sorting    8.734000   0.459684    0.958333   \n",
       "23   WINE_QUALITY  Windowed   11.641000   0.612684    0.983333   \n",
       "\n",
       "    max_validation  min_loss max_metrics_epoch max_validation_epoch  \\\n",
       "0         0.950000  0.097041               148                  138   \n",
       "1         0.950000  0.039666               148                  141   \n",
       "2         0.962500  0.063966               149                  122   \n",
       "3         4.757124  3.787659                19                   19   \n",
       "4         3.940103  1.590696                18                   19   \n",
       "5         3.633950  4.003263                19                   18   \n",
       "6         0.904746  1.520450                19                   19   \n",
       "7         0.832052  1.499295                19                   17   \n",
       "8         0.893633  1.551183                19                   19   \n",
       "9         1.000000  0.000599                18                    5   \n",
       "10        1.000000  0.000144                18                    5   \n",
       "11        1.000000  0.001543                19                    8   \n",
       "12        0.988720  1.461272                18                   15   \n",
       "13        0.988553  1.461150                19                   10   \n",
       "14        0.987132  1.461157                18                    9   \n",
       "15        0.708333  0.779585                43                   47   \n",
       "16        0.694444  0.026859                48                   49   \n",
       "17        0.708333  0.851191                45                   49   \n",
       "18        0.785689  0.416892                46                   49   \n",
       "19        0.788086  0.381779                44                   32   \n",
       "20        0.784535  0.422456                49                   44   \n",
       "21        1.000000  0.145620                19                    8   \n",
       "22        1.000000  0.121567                19                    8   \n",
       "23        1.000000  0.169513                18                    5   \n",
       "\n",
       "   min_loss_epoch  max_metrics_ts  max_validation_ts  min_loss_ts  \n",
       "0             149       18.608615          17.432301    18.735745  \n",
       "1             149       22.448273          21.528064    22.599882  \n",
       "2             149       33.729510          27.624132    33.729510  \n",
       "3               3        2.692392           2.692392     0.742943  \n",
       "4              15        2.635360           2.770498     2.210228  \n",
       "5              19        5.397580           5.099245     5.397580  \n",
       "6              17       96.344000          96.344000    86.203000  \n",
       "7              17       99.626000          89.579000    89.579000  \n",
       "8              19      303.345000         303.345000   303.345000  \n",
       "9              19       14.780000           7.108000    15.311000  \n",
       "10             19       21.284000           9.908000    21.955000  \n",
       "11             18       23.953000          12.452000    22.656000  \n",
       "12             19       50.216254          42.108878    52.946526  \n",
       "13             10       63.665524          33.868595    33.868595  \n",
       "14             19      190.021651          95.786024   199.979743  \n",
       "15             35       42.625000          45.189000    36.439000  \n",
       "16             35       57.202000          58.827000    39.983000  \n",
       "17             49       83.060000          91.357000    91.357000  \n",
       "18             48       33.261388          35.353767    34.652275  \n",
       "19             35       40.038883          29.733243    32.367318  \n",
       "20             40      110.588332          99.350437    90.436412  \n",
       "21             19        8.126000           4.453000     8.126000  \n",
       "22             19        8.734000           5.671000     8.734000  \n",
       "23             19       11.297000           6.547000    11.641000  "
      ],
      "text/html": "<div>\n<style scoped>\n    .dataframe tbody tr th:only-of-type {\n        vertical-align: middle;\n    }\n\n    .dataframe tbody tr th {\n        vertical-align: top;\n    }\n\n    .dataframe thead th {\n        text-align: right;\n    }\n</style>\n<table border=\"1\" class=\"dataframe\">\n  <thead>\n    <tr style=\"text-align: right;\">\n      <th></th>\n      <th>Model</th>\n      <th>algorithm</th>\n      <th>total_time</th>\n      <th>avg_epoch</th>\n      <th>max_metric</th>\n      <th>max_validation</th>\n      <th>min_loss</th>\n      <th>max_metrics_epoch</th>\n      <th>max_validation_epoch</th>\n      <th>min_loss_epoch</th>\n      <th>max_metrics_ts</th>\n      <th>max_validation_ts</th>\n      <th>min_loss_ts</th>\n    </tr>\n  </thead>\n  <tbody>\n    <tr>\n      <th>0</th>\n      <td>ARCHIMEDEAN</td>\n      <td>Original</td>\n      <td>18.735745</td>\n      <td>0.125743</td>\n      <td>0.966667</td>\n      <td>0.950000</td>\n      <td>0.097041</td>\n      <td>148</td>\n      <td>138</td>\n      <td>149</td>\n      <td>18.608615</td>\n      <td>17.432301</td>\n      <td>18.735745</td>\n    </tr>\n    <tr>\n      <th>1</th>\n      <td>ARCHIMEDEAN</td>\n      <td>Sorting</td>\n      <td>22.599882</td>\n      <td>0.151677</td>\n      <td>0.965278</td>\n      <td>0.950000</td>\n      <td>0.039666</td>\n      <td>148</td>\n      <td>141</td>\n      <td>149</td>\n      <td>22.448273</td>\n      <td>21.528064</td>\n      <td>22.599882</td>\n    </tr>\n    <tr>\n      <th>2</th>\n      <td>ARCHIMEDEAN</td>\n      <td>Windowed</td>\n      <td>33.729510</td>\n      <td>0.226373</td>\n      <td>0.958333</td>\n      <td>0.962500</td>\n      <td>0.063966</td>\n      <td>149</td>\n      <td>122</td>\n      <td>149</td>\n      <td>33.729510</td>\n      <td>27.624132</td>\n      <td>33.729510</td>\n    </tr>\n    <tr>\n      <th>3</th>\n      <td>BOSTON_HOUSES</td>\n      <td>Original</td>\n      <td>2.692392</td>\n      <td>0.141705</td>\n      <td>4.863170</td>\n      <td>4.757124</td>\n      <td>3.787659</td>\n      <td>19</td>\n      <td>19</td>\n      <td>3</td>\n      <td>2.692392</td>\n      <td>2.692392</td>\n      <td>0.742943</td>\n    </tr>\n    <tr>\n      <th>4</th>\n      <td>BOSTON_HOUSES</td>\n      <td>Sorting</td>\n      <td>2.770498</td>\n      <td>0.145816</td>\n      <td>4.637230</td>\n      <td>3.940103</td>\n      <td>1.590696</td>\n      <td>18</td>\n      <td>19</td>\n      <td>15</td>\n      <td>2.635360</td>\n      <td>2.770498</td>\n      <td>2.210228</td>\n    </tr>\n    <tr>\n      <th>5</th>\n      <td>BOSTON_HOUSES</td>\n      <td>Windowed</td>\n      <td>5.397580</td>\n      <td>0.284083</td>\n      <td>6.949940</td>\n      <td>3.633950</td>\n      <td>4.003263</td>\n      <td>19</td>\n      <td>18</td>\n      <td>19</td>\n      <td>5.397580</td>\n      <td>5.099245</td>\n      <td>5.397580</td>\n    </tr>\n    <tr>\n      <th>6</th>\n      <td>FASHION_MNIST</td>\n      <td>Original</td>\n      <td>96.344000</td>\n      <td>5.070737</td>\n      <td>0.926687</td>\n      <td>0.904746</td>\n      <td>1.520450</td>\n      <td>19</td>\n      <td>19</td>\n      <td>17</td>\n      <td>96.344000</td>\n      <td>96.344000</td>\n      <td>86.203000</td>\n    </tr>\n    <tr>\n      <th>7</th>\n      <td>FASHION_MNIST</td>\n      <td>Sorting</td>\n      <td>99.626000</td>\n      <td>5.243474</td>\n      <td>0.854042</td>\n      <td>0.832052</td>\n      <td>1.499295</td>\n      <td>19</td>\n      <td>17</td>\n      <td>17</td>\n      <td>99.626000</td>\n      <td>89.579000</td>\n      <td>89.579000</td>\n    </tr>\n    <tr>\n      <th>8</th>\n      <td>FASHION_MNIST</td>\n      <td>Windowed</td>\n      <td>303.345000</td>\n      <td>15.965526</td>\n      <td>0.890375</td>\n      <td>0.893633</td>\n      <td>1.551183</td>\n      <td>19</td>\n      <td>19</td>\n      <td>19</td>\n      <td>303.345000</td>\n      <td>303.345000</td>\n      <td>303.345000</td>\n    </tr>\n    <tr>\n      <th>9</th>\n      <td>IRIS</td>\n      <td>Original</td>\n      <td>15.311000</td>\n      <td>0.805842</td>\n      <td>0.990741</td>\n      <td>1.000000</td>\n      <td>0.000599</td>\n      <td>18</td>\n      <td>5</td>\n      <td>19</td>\n      <td>14.780000</td>\n      <td>7.108000</td>\n      <td>15.311000</td>\n    </tr>\n    <tr>\n      <th>10</th>\n      <td>IRIS</td>\n      <td>Sorting</td>\n      <td>21.955000</td>\n      <td>1.155526</td>\n      <td>0.981481</td>\n      <td>1.000000</td>\n      <td>0.000144</td>\n      <td>18</td>\n      <td>5</td>\n      <td>19</td>\n      <td>21.284000</td>\n      <td>9.908000</td>\n      <td>21.955000</td>\n    </tr>\n    <tr>\n      <th>11</th>\n      <td>IRIS</td>\n      <td>Windowed</td>\n      <td>23.953000</td>\n      <td>1.260684</td>\n      <td>0.990741</td>\n      <td>1.000000</td>\n      <td>0.001543</td>\n      <td>19</td>\n      <td>8</td>\n      <td>18</td>\n      <td>23.953000</td>\n      <td>12.452000</td>\n      <td>22.656000</td>\n    </tr>\n    <tr>\n      <th>12</th>\n      <td>MNIST</td>\n      <td>Original</td>\n      <td>52.946526</td>\n      <td>2.786659</td>\n      <td>0.995229</td>\n      <td>0.988720</td>\n      <td>1.461272</td>\n      <td>18</td>\n      <td>15</td>\n      <td>19</td>\n      <td>50.216254</td>\n      <td>42.108878</td>\n      <td>52.946526</td>\n    </tr>\n    <tr>\n      <th>13</th>\n      <td>MNIST</td>\n      <td>Sorting</td>\n      <td>63.665524</td>\n      <td>3.350817</td>\n      <td>0.995354</td>\n      <td>0.988553</td>\n      <td>1.461150</td>\n      <td>19</td>\n      <td>10</td>\n      <td>10</td>\n      <td>63.665524</td>\n      <td>33.868595</td>\n      <td>33.868595</td>\n    </tr>\n    <tr>\n      <th>14</th>\n      <td>MNIST</td>\n      <td>Windowed</td>\n      <td>199.979743</td>\n      <td>10.525250</td>\n      <td>0.983708</td>\n      <td>0.987132</td>\n      <td>1.461157</td>\n      <td>18</td>\n      <td>9</td>\n      <td>19</td>\n      <td>190.021651</td>\n      <td>95.786024</td>\n      <td>199.979743</td>\n    </tr>\n    <tr>\n      <th>15</th>\n      <td>MUSIC_GENRES</td>\n      <td>Original</td>\n      <td>46.548000</td>\n      <td>0.949959</td>\n      <td>0.845833</td>\n      <td>0.708333</td>\n      <td>0.779585</td>\n      <td>43</td>\n      <td>47</td>\n      <td>35</td>\n      <td>42.625000</td>\n      <td>45.189000</td>\n      <td>36.439000</td>\n    </tr>\n    <tr>\n      <th>16</th>\n      <td>MUSIC_GENRES</td>\n      <td>Sorting</td>\n      <td>58.827000</td>\n      <td>1.200551</td>\n      <td>0.861111</td>\n      <td>0.694444</td>\n      <td>0.026859</td>\n      <td>48</td>\n      <td>49</td>\n      <td>35</td>\n      <td>57.202000</td>\n      <td>58.827000</td>\n      <td>39.983000</td>\n    </tr>\n    <tr>\n      <th>17</th>\n      <td>MUSIC_GENRES</td>\n      <td>Windowed</td>\n      <td>91.357000</td>\n      <td>1.864429</td>\n      <td>0.848611</td>\n      <td>0.708333</td>\n      <td>0.851191</td>\n      <td>45</td>\n      <td>49</td>\n      <td>49</td>\n      <td>83.060000</td>\n      <td>91.357000</td>\n      <td>91.357000</td>\n    </tr>\n    <tr>\n      <th>18</th>\n      <td>SENTIMENT</td>\n      <td>Original</td>\n      <td>35.353767</td>\n      <td>0.721505</td>\n      <td>0.794706</td>\n      <td>0.785689</td>\n      <td>0.416892</td>\n      <td>46</td>\n      <td>49</td>\n      <td>48</td>\n      <td>33.261388</td>\n      <td>35.353767</td>\n      <td>34.652275</td>\n    </tr>\n    <tr>\n      <th>19</th>\n      <td>SENTIMENT</td>\n      <td>Sorting</td>\n      <td>44.357231</td>\n      <td>0.905250</td>\n      <td>0.795185</td>\n      <td>0.788086</td>\n      <td>0.381779</td>\n      <td>44</td>\n      <td>32</td>\n      <td>35</td>\n      <td>40.038883</td>\n      <td>29.733243</td>\n      <td>32.367318</td>\n    </tr>\n    <tr>\n      <th>20</th>\n      <td>SENTIMENT</td>\n      <td>Windowed</td>\n      <td>110.588332</td>\n      <td>2.256905</td>\n      <td>0.792189</td>\n      <td>0.784535</td>\n      <td>0.422456</td>\n      <td>49</td>\n      <td>44</td>\n      <td>40</td>\n      <td>110.588332</td>\n      <td>99.350437</td>\n      <td>90.436412</td>\n    </tr>\n    <tr>\n      <th>21</th>\n      <td>WINE_QUALITY</td>\n      <td>Original</td>\n      <td>8.126000</td>\n      <td>0.427684</td>\n      <td>0.966667</td>\n      <td>1.000000</td>\n      <td>0.145620</td>\n      <td>19</td>\n      <td>8</td>\n      <td>19</td>\n      <td>8.126000</td>\n      <td>4.453000</td>\n      <td>8.126000</td>\n    </tr>\n    <tr>\n      <th>22</th>\n      <td>WINE_QUALITY</td>\n      <td>Sorting</td>\n      <td>8.734000</td>\n      <td>0.459684</td>\n      <td>0.958333</td>\n      <td>1.000000</td>\n      <td>0.121567</td>\n      <td>19</td>\n      <td>8</td>\n      <td>19</td>\n      <td>8.734000</td>\n      <td>5.671000</td>\n      <td>8.734000</td>\n    </tr>\n    <tr>\n      <th>23</th>\n      <td>WINE_QUALITY</td>\n      <td>Windowed</td>\n      <td>11.641000</td>\n      <td>0.612684</td>\n      <td>0.983333</td>\n      <td>1.000000</td>\n      <td>0.169513</td>\n      <td>18</td>\n      <td>5</td>\n      <td>19</td>\n      <td>11.297000</td>\n      <td>6.547000</td>\n      <td>11.641000</td>\n    </tr>\n  </tbody>\n</table>\n</div>"
     },
     "metadata": {},
     "execution_count": 9
    }
   ],
   "source": [
    "results"
   ]
  },
  {
   "cell_type": "code",
   "execution_count": 10,
   "metadata": {},
   "outputs": [
    {
     "output_type": "stream",
     "name": "stdout",
     "text": [
      "Original    3\nWindowed    3\nSorting     3\nName: algorithm, dtype: int64\n"
     ]
    },
    {
     "output_type": "execute_result",
     "data": {
      "text/plain": [
       "            Model algorithm  total_time  avg_epoch  max_metric  \\\n",
       "0     ARCHIMEDEAN  Original   18.735745   0.125743    0.966667   \n",
       "5   BOSTON_HOUSES  Windowed    5.397580   0.284083    6.949940   \n",
       "6   FASHION_MNIST  Original   96.344000   5.070737    0.926687   \n",
       "9            IRIS  Original   15.311000   0.805842    0.990741   \n",
       "11           IRIS  Windowed   23.953000   1.260684    0.990741   \n",
       "13          MNIST   Sorting   63.665524   3.350817    0.995354   \n",
       "16   MUSIC_GENRES   Sorting   58.827000   1.200551    0.861111   \n",
       "19      SENTIMENT   Sorting   44.357231   0.905250    0.795185   \n",
       "23   WINE_QUALITY  Windowed   11.641000   0.612684    0.983333   \n",
       "\n",
       "    max_validation  min_loss max_metrics_epoch max_validation_epoch  \\\n",
       "0         0.950000  0.097041               148                  138   \n",
       "5         3.633950  4.003263                19                   18   \n",
       "6         0.904746  1.520450                19                   19   \n",
       "9         1.000000  0.000599                18                    5   \n",
       "11        1.000000  0.001543                19                    8   \n",
       "13        0.988553  1.461150                19                   10   \n",
       "16        0.694444  0.026859                48                   49   \n",
       "19        0.788086  0.381779                44                   32   \n",
       "23        1.000000  0.169513                18                    5   \n",
       "\n",
       "   min_loss_epoch  max_metrics_ts  max_validation_ts  min_loss_ts  \n",
       "0             149       18.608615          17.432301    18.735745  \n",
       "5              19        5.397580           5.099245     5.397580  \n",
       "6              17       96.344000          96.344000    86.203000  \n",
       "9              19       14.780000           7.108000    15.311000  \n",
       "11             18       23.953000          12.452000    22.656000  \n",
       "13             10       63.665524          33.868595    33.868595  \n",
       "16             35       57.202000          58.827000    39.983000  \n",
       "19             35       40.038883          29.733243    32.367318  \n",
       "23             19       11.297000           6.547000    11.641000  "
      ],
      "text/html": "<div>\n<style scoped>\n    .dataframe tbody tr th:only-of-type {\n        vertical-align: middle;\n    }\n\n    .dataframe tbody tr th {\n        vertical-align: top;\n    }\n\n    .dataframe thead th {\n        text-align: right;\n    }\n</style>\n<table border=\"1\" class=\"dataframe\">\n  <thead>\n    <tr style=\"text-align: right;\">\n      <th></th>\n      <th>Model</th>\n      <th>algorithm</th>\n      <th>total_time</th>\n      <th>avg_epoch</th>\n      <th>max_metric</th>\n      <th>max_validation</th>\n      <th>min_loss</th>\n      <th>max_metrics_epoch</th>\n      <th>max_validation_epoch</th>\n      <th>min_loss_epoch</th>\n      <th>max_metrics_ts</th>\n      <th>max_validation_ts</th>\n      <th>min_loss_ts</th>\n    </tr>\n  </thead>\n  <tbody>\n    <tr>\n      <th>0</th>\n      <td>ARCHIMEDEAN</td>\n      <td>Original</td>\n      <td>18.735745</td>\n      <td>0.125743</td>\n      <td>0.966667</td>\n      <td>0.950000</td>\n      <td>0.097041</td>\n      <td>148</td>\n      <td>138</td>\n      <td>149</td>\n      <td>18.608615</td>\n      <td>17.432301</td>\n      <td>18.735745</td>\n    </tr>\n    <tr>\n      <th>5</th>\n      <td>BOSTON_HOUSES</td>\n      <td>Windowed</td>\n      <td>5.397580</td>\n      <td>0.284083</td>\n      <td>6.949940</td>\n      <td>3.633950</td>\n      <td>4.003263</td>\n      <td>19</td>\n      <td>18</td>\n      <td>19</td>\n      <td>5.397580</td>\n      <td>5.099245</td>\n      <td>5.397580</td>\n    </tr>\n    <tr>\n      <th>6</th>\n      <td>FASHION_MNIST</td>\n      <td>Original</td>\n      <td>96.344000</td>\n      <td>5.070737</td>\n      <td>0.926687</td>\n      <td>0.904746</td>\n      <td>1.520450</td>\n      <td>19</td>\n      <td>19</td>\n      <td>17</td>\n      <td>96.344000</td>\n      <td>96.344000</td>\n      <td>86.203000</td>\n    </tr>\n    <tr>\n      <th>9</th>\n      <td>IRIS</td>\n      <td>Original</td>\n      <td>15.311000</td>\n      <td>0.805842</td>\n      <td>0.990741</td>\n      <td>1.000000</td>\n      <td>0.000599</td>\n      <td>18</td>\n      <td>5</td>\n      <td>19</td>\n      <td>14.780000</td>\n      <td>7.108000</td>\n      <td>15.311000</td>\n    </tr>\n    <tr>\n      <th>11</th>\n      <td>IRIS</td>\n      <td>Windowed</td>\n      <td>23.953000</td>\n      <td>1.260684</td>\n      <td>0.990741</td>\n      <td>1.000000</td>\n      <td>0.001543</td>\n      <td>19</td>\n      <td>8</td>\n      <td>18</td>\n      <td>23.953000</td>\n      <td>12.452000</td>\n      <td>22.656000</td>\n    </tr>\n    <tr>\n      <th>13</th>\n      <td>MNIST</td>\n      <td>Sorting</td>\n      <td>63.665524</td>\n      <td>3.350817</td>\n      <td>0.995354</td>\n      <td>0.988553</td>\n      <td>1.461150</td>\n      <td>19</td>\n      <td>10</td>\n      <td>10</td>\n      <td>63.665524</td>\n      <td>33.868595</td>\n      <td>33.868595</td>\n    </tr>\n    <tr>\n      <th>16</th>\n      <td>MUSIC_GENRES</td>\n      <td>Sorting</td>\n      <td>58.827000</td>\n      <td>1.200551</td>\n      <td>0.861111</td>\n      <td>0.694444</td>\n      <td>0.026859</td>\n      <td>48</td>\n      <td>49</td>\n      <td>35</td>\n      <td>57.202000</td>\n      <td>58.827000</td>\n      <td>39.983000</td>\n    </tr>\n    <tr>\n      <th>19</th>\n      <td>SENTIMENT</td>\n      <td>Sorting</td>\n      <td>44.357231</td>\n      <td>0.905250</td>\n      <td>0.795185</td>\n      <td>0.788086</td>\n      <td>0.381779</td>\n      <td>44</td>\n      <td>32</td>\n      <td>35</td>\n      <td>40.038883</td>\n      <td>29.733243</td>\n      <td>32.367318</td>\n    </tr>\n    <tr>\n      <th>23</th>\n      <td>WINE_QUALITY</td>\n      <td>Windowed</td>\n      <td>11.641000</td>\n      <td>0.612684</td>\n      <td>0.983333</td>\n      <td>1.000000</td>\n      <td>0.169513</td>\n      <td>18</td>\n      <td>5</td>\n      <td>19</td>\n      <td>11.297000</td>\n      <td>6.547000</td>\n      <td>11.641000</td>\n    </tr>\n  </tbody>\n</table>\n</div>"
     },
     "metadata": {},
     "execution_count": 10
    }
   ],
   "source": [
    "# best metrics\n",
    "print(results[results.groupby('Model')['max_metric'].transform(max) == results['max_metric']]['algorithm'].value_counts())\n",
    "results[results.groupby('Model')['max_metric'].transform(max) == results['max_metric']]"
   ]
  },
  {
   "cell_type": "code",
   "execution_count": 44,
   "metadata": {},
   "outputs": [
    {
     "output_type": "execute_result",
     "data": {
      "text/plain": [
       "Sorting    8\n",
       "Name: algorithm, dtype: int64"
      ]
     },
     "metadata": {},
     "execution_count": 44
    }
   ],
   "source": [
    "# best loss\n",
    "results[results.groupby('Model')['min_loss'].transform(min) == results['min_loss']]['algorithm'].value_counts()"
   ]
  },
  {
   "cell_type": "code",
   "execution_count": 45,
   "metadata": {},
   "outputs": [
    {
     "output_type": "execute_result",
     "data": {
      "text/plain": [
       "Original    6\n",
       "Windowed    4\n",
       "Sorting     3\n",
       "Name: algorithm, dtype: int64"
      ]
     },
     "metadata": {},
     "execution_count": 45
    }
   ],
   "source": [
    "# best validation accuracy\n",
    "results[results.groupby('Model')['max_validation'].transform(max) == results['max_validation']]['algorithm'].value_counts()"
   ]
  },
  {
   "cell_type": "code",
   "execution_count": 16,
   "metadata": {},
   "outputs": [],
   "source": [
    "# fastest best accuracy per epoch\n",
    "results['mme'] = (1 / results['max_metric']) * results['max_metrics_epoch']\n",
    "results['mve'] = (1 / results['max_validation']) * results['max_validation_epoch']\n",
    "results['mle'] = results['min_loss'] * results['min_loss_epoch']\n",
    "\n",
    "results['mmts'] = (1 / results['max_metric']) * results['max_metrics_ts']\n",
    "results['mvts'] = (1 / results['max_validation']) * results['max_validation_ts']\n",
    "results['mlts'] = results['min_loss'] * results['min_loss_ts']\n"
   ]
  },
  {
   "cell_type": "code",
   "execution_count": 17,
   "metadata": {},
   "outputs": [
    {
     "output_type": "execute_result",
     "data": {
      "text/plain": [
       "            Model algorithm  total_time  avg_epoch  max_metric  \\\n",
       "0     ARCHIMEDEAN  Original   18.735745   0.125743    0.966667   \n",
       "1     ARCHIMEDEAN   Sorting   22.599882   0.151677    0.965278   \n",
       "2     ARCHIMEDEAN  Windowed   33.729510   0.226373    0.958333   \n",
       "3   BOSTON_HOUSES  Original    2.692392   0.141705    4.863170   \n",
       "4   BOSTON_HOUSES   Sorting    2.770498   0.145816    4.637230   \n",
       "5   BOSTON_HOUSES  Windowed    5.397580   0.284083    6.949940   \n",
       "6   FASHION_MNIST  Original   96.344000   5.070737    0.926687   \n",
       "7   FASHION_MNIST   Sorting   99.626000   5.243474    0.854042   \n",
       "8   FASHION_MNIST  Windowed  303.345000  15.965526    0.890375   \n",
       "9            IRIS  Original   15.311000   0.805842    0.990741   \n",
       "10           IRIS   Sorting   21.955000   1.155526    0.981481   \n",
       "11           IRIS  Windowed   23.953000   1.260684    0.990741   \n",
       "12          MNIST  Original   52.946526   2.786659    0.995229   \n",
       "13          MNIST   Sorting   63.665524   3.350817    0.995354   \n",
       "14          MNIST  Windowed  199.979743  10.525250    0.983708   \n",
       "15   MUSIC_GENRES  Original   46.548000   0.949959    0.845833   \n",
       "16   MUSIC_GENRES   Sorting   58.827000   1.200551    0.861111   \n",
       "17   MUSIC_GENRES  Windowed   91.357000   1.864429    0.848611   \n",
       "18      SENTIMENT  Original   35.353767   0.721505    0.794706   \n",
       "19      SENTIMENT   Sorting   44.357231   0.905250    0.795185   \n",
       "20      SENTIMENT  Windowed  110.588332   2.256905    0.792189   \n",
       "21   WINE_QUALITY  Original    8.126000   0.427684    0.966667   \n",
       "22   WINE_QUALITY   Sorting    8.734000   0.459684    0.958333   \n",
       "23   WINE_QUALITY  Windowed   11.641000   0.612684    0.983333   \n",
       "\n",
       "    max_validation  min_loss max_metrics_epoch max_validation_epoch  \\\n",
       "0         0.950000  0.097041               148                  138   \n",
       "1         0.950000  0.039666               148                  141   \n",
       "2         0.962500  0.063966               149                  122   \n",
       "3         4.757124  3.787659                19                   19   \n",
       "4         3.940103  1.590696                18                   19   \n",
       "5         3.633950  4.003263                19                   18   \n",
       "6         0.904746  1.520450                19                   19   \n",
       "7         0.832052  1.499295                19                   17   \n",
       "8         0.893633  1.551183                19                   19   \n",
       "9         1.000000  0.000599                18                    5   \n",
       "10        1.000000  0.000144                18                    5   \n",
       "11        1.000000  0.001543                19                    8   \n",
       "12        0.988720  1.461272                18                   15   \n",
       "13        0.988553  1.461150                19                   10   \n",
       "14        0.987132  1.461157                18                    9   \n",
       "15        0.708333  0.779585                43                   47   \n",
       "16        0.694444  0.026859                48                   49   \n",
       "17        0.708333  0.851191                45                   49   \n",
       "18        0.785689  0.416892                46                   49   \n",
       "19        0.788086  0.381779                44                   32   \n",
       "20        0.784535  0.422456                49                   44   \n",
       "21        1.000000  0.145620                19                    8   \n",
       "22        1.000000  0.121567                19                    8   \n",
       "23        1.000000  0.169513                18                    5   \n",
       "\n",
       "   min_loss_epoch  max_metrics_ts  max_validation_ts  min_loss_ts      mme  \\\n",
       "0             149       18.608615          17.432301    18.735745  153.103   \n",
       "1             149       22.448273          21.528064    22.599882  153.324   \n",
       "2             149       33.729510          27.624132    33.729510  155.478   \n",
       "3               3        2.692392           2.692392     0.742943  3.90692   \n",
       "4              15        2.635360           2.770498     2.210228  3.88163   \n",
       "5              19        5.397580           5.099245     5.397580  2.73384   \n",
       "6              17       96.344000          96.344000    86.203000  20.5031   \n",
       "7              17       99.626000          89.579000    89.579000  22.2472   \n",
       "8              19      303.345000         303.345000   303.345000  21.3393   \n",
       "9              19       14.780000           7.108000    15.311000  18.1682   \n",
       "10             19       21.284000           9.908000    21.955000  18.3396   \n",
       "11             18       23.953000          12.452000    22.656000  19.1776   \n",
       "12             19       50.216254          42.108878    52.946526  18.0863   \n",
       "13             10       63.665524          33.868595    33.868595  19.0887   \n",
       "14             19      190.021651          95.786024   199.979743  18.2981   \n",
       "15             35       42.625000          45.189000    36.439000  50.8374   \n",
       "16             35       57.202000          58.827000    39.983000  55.7419   \n",
       "17             49       83.060000          91.357000    91.357000  53.0278   \n",
       "18             48       33.261388          35.353767    34.652275   57.883   \n",
       "19             35       40.038883          29.733243    32.367318  55.3331   \n",
       "20             40      110.588332          99.350437    90.436412  61.8539   \n",
       "21             19        8.126000           4.453000     8.126000  19.6552   \n",
       "22             19        8.734000           5.671000     8.734000  19.8261   \n",
       "23             19       11.297000           6.547000    11.641000  18.3051   \n",
       "\n",
       "        mve         mle        mmts        mvts        mlts  \n",
       "0   145.263     14.4591   19.250292   18.349791    1.818130  \n",
       "1   148.421     5.91024   23.255764   22.661120    0.896448  \n",
       "2   126.753     9.53088   35.196011   28.700398    2.157530  \n",
       "3   3.99401      11.363    0.553629    0.565970    2.814016  \n",
       "4   4.82221     23.8604    0.568305    0.703154    3.515800  \n",
       "5   4.95329      76.062    0.776637    1.403224   21.607937  \n",
       "6   21.0004     25.8477  103.966010  106.487346  131.067361  \n",
       "7   20.4314      25.488  116.652384  107.660324  134.305325  \n",
       "8   21.2615     29.4725  340.693521  339.451427  470.543530  \n",
       "9         5   0.0113722   14.918131    7.108000    0.009164  \n",
       "10        5  0.00274096   21.685585    9.908000    0.003167  \n",
       "11        8   0.0277708   24.176860   12.452000    0.034954  \n",
       "12  15.1711     27.7642   50.456975   42.589287   77.369302  \n",
       "13  10.1158     14.6115   63.962683   34.260784   49.487103  \n",
       "14  9.11732      27.762  193.168693   97.034630  292.201723  \n",
       "15  66.3529     27.2855   50.394087   63.796237   28.407285  \n",
       "16    70.56    0.940077   66.428130   84.710883    1.073917  \n",
       "17  69.1765     41.7084   97.877577  128.974592   77.762244  \n",
       "18  62.3656     20.0108   41.853706   44.997156   14.446268  \n",
       "19  40.6047     13.3623   50.351671   37.728427   12.357157  \n",
       "20  56.0842     16.8982  139.598355  126.636111   38.205386  \n",
       "21        8     2.76678    8.406207    4.453000    1.183307  \n",
       "22        8     2.30978    9.113739    5.671000    1.061771  \n",
       "23        5     3.22074   11.488474    6.547000    1.973297  "
      ],
      "text/html": "<div>\n<style scoped>\n    .dataframe tbody tr th:only-of-type {\n        vertical-align: middle;\n    }\n\n    .dataframe tbody tr th {\n        vertical-align: top;\n    }\n\n    .dataframe thead th {\n        text-align: right;\n    }\n</style>\n<table border=\"1\" class=\"dataframe\">\n  <thead>\n    <tr style=\"text-align: right;\">\n      <th></th>\n      <th>Model</th>\n      <th>algorithm</th>\n      <th>total_time</th>\n      <th>avg_epoch</th>\n      <th>max_metric</th>\n      <th>max_validation</th>\n      <th>min_loss</th>\n      <th>max_metrics_epoch</th>\n      <th>max_validation_epoch</th>\n      <th>min_loss_epoch</th>\n      <th>max_metrics_ts</th>\n      <th>max_validation_ts</th>\n      <th>min_loss_ts</th>\n      <th>mme</th>\n      <th>mve</th>\n      <th>mle</th>\n      <th>mmts</th>\n      <th>mvts</th>\n      <th>mlts</th>\n    </tr>\n  </thead>\n  <tbody>\n    <tr>\n      <th>0</th>\n      <td>ARCHIMEDEAN</td>\n      <td>Original</td>\n      <td>18.735745</td>\n      <td>0.125743</td>\n      <td>0.966667</td>\n      <td>0.950000</td>\n      <td>0.097041</td>\n      <td>148</td>\n      <td>138</td>\n      <td>149</td>\n      <td>18.608615</td>\n      <td>17.432301</td>\n      <td>18.735745</td>\n      <td>153.103</td>\n      <td>145.263</td>\n      <td>14.4591</td>\n      <td>19.250292</td>\n      <td>18.349791</td>\n      <td>1.818130</td>\n    </tr>\n    <tr>\n      <th>1</th>\n      <td>ARCHIMEDEAN</td>\n      <td>Sorting</td>\n      <td>22.599882</td>\n      <td>0.151677</td>\n      <td>0.965278</td>\n      <td>0.950000</td>\n      <td>0.039666</td>\n      <td>148</td>\n      <td>141</td>\n      <td>149</td>\n      <td>22.448273</td>\n      <td>21.528064</td>\n      <td>22.599882</td>\n      <td>153.324</td>\n      <td>148.421</td>\n      <td>5.91024</td>\n      <td>23.255764</td>\n      <td>22.661120</td>\n      <td>0.896448</td>\n    </tr>\n    <tr>\n      <th>2</th>\n      <td>ARCHIMEDEAN</td>\n      <td>Windowed</td>\n      <td>33.729510</td>\n      <td>0.226373</td>\n      <td>0.958333</td>\n      <td>0.962500</td>\n      <td>0.063966</td>\n      <td>149</td>\n      <td>122</td>\n      <td>149</td>\n      <td>33.729510</td>\n      <td>27.624132</td>\n      <td>33.729510</td>\n      <td>155.478</td>\n      <td>126.753</td>\n      <td>9.53088</td>\n      <td>35.196011</td>\n      <td>28.700398</td>\n      <td>2.157530</td>\n    </tr>\n    <tr>\n      <th>3</th>\n      <td>BOSTON_HOUSES</td>\n      <td>Original</td>\n      <td>2.692392</td>\n      <td>0.141705</td>\n      <td>4.863170</td>\n      <td>4.757124</td>\n      <td>3.787659</td>\n      <td>19</td>\n      <td>19</td>\n      <td>3</td>\n      <td>2.692392</td>\n      <td>2.692392</td>\n      <td>0.742943</td>\n      <td>3.90692</td>\n      <td>3.99401</td>\n      <td>11.363</td>\n      <td>0.553629</td>\n      <td>0.565970</td>\n      <td>2.814016</td>\n    </tr>\n    <tr>\n      <th>4</th>\n      <td>BOSTON_HOUSES</td>\n      <td>Sorting</td>\n      <td>2.770498</td>\n      <td>0.145816</td>\n      <td>4.637230</td>\n      <td>3.940103</td>\n      <td>1.590696</td>\n      <td>18</td>\n      <td>19</td>\n      <td>15</td>\n      <td>2.635360</td>\n      <td>2.770498</td>\n      <td>2.210228</td>\n      <td>3.88163</td>\n      <td>4.82221</td>\n      <td>23.8604</td>\n      <td>0.568305</td>\n      <td>0.703154</td>\n      <td>3.515800</td>\n    </tr>\n    <tr>\n      <th>5</th>\n      <td>BOSTON_HOUSES</td>\n      <td>Windowed</td>\n      <td>5.397580</td>\n      <td>0.284083</td>\n      <td>6.949940</td>\n      <td>3.633950</td>\n      <td>4.003263</td>\n      <td>19</td>\n      <td>18</td>\n      <td>19</td>\n      <td>5.397580</td>\n      <td>5.099245</td>\n      <td>5.397580</td>\n      <td>2.73384</td>\n      <td>4.95329</td>\n      <td>76.062</td>\n      <td>0.776637</td>\n      <td>1.403224</td>\n      <td>21.607937</td>\n    </tr>\n    <tr>\n      <th>6</th>\n      <td>FASHION_MNIST</td>\n      <td>Original</td>\n      <td>96.344000</td>\n      <td>5.070737</td>\n      <td>0.926687</td>\n      <td>0.904746</td>\n      <td>1.520450</td>\n      <td>19</td>\n      <td>19</td>\n      <td>17</td>\n      <td>96.344000</td>\n      <td>96.344000</td>\n      <td>86.203000</td>\n      <td>20.5031</td>\n      <td>21.0004</td>\n      <td>25.8477</td>\n      <td>103.966010</td>\n      <td>106.487346</td>\n      <td>131.067361</td>\n    </tr>\n    <tr>\n      <th>7</th>\n      <td>FASHION_MNIST</td>\n      <td>Sorting</td>\n      <td>99.626000</td>\n      <td>5.243474</td>\n      <td>0.854042</td>\n      <td>0.832052</td>\n      <td>1.499295</td>\n      <td>19</td>\n      <td>17</td>\n      <td>17</td>\n      <td>99.626000</td>\n      <td>89.579000</td>\n      <td>89.579000</td>\n      <td>22.2472</td>\n      <td>20.4314</td>\n      <td>25.488</td>\n      <td>116.652384</td>\n      <td>107.660324</td>\n      <td>134.305325</td>\n    </tr>\n    <tr>\n      <th>8</th>\n      <td>FASHION_MNIST</td>\n      <td>Windowed</td>\n      <td>303.345000</td>\n      <td>15.965526</td>\n      <td>0.890375</td>\n      <td>0.893633</td>\n      <td>1.551183</td>\n      <td>19</td>\n      <td>19</td>\n      <td>19</td>\n      <td>303.345000</td>\n      <td>303.345000</td>\n      <td>303.345000</td>\n      <td>21.3393</td>\n      <td>21.2615</td>\n      <td>29.4725</td>\n      <td>340.693521</td>\n      <td>339.451427</td>\n      <td>470.543530</td>\n    </tr>\n    <tr>\n      <th>9</th>\n      <td>IRIS</td>\n      <td>Original</td>\n      <td>15.311000</td>\n      <td>0.805842</td>\n      <td>0.990741</td>\n      <td>1.000000</td>\n      <td>0.000599</td>\n      <td>18</td>\n      <td>5</td>\n      <td>19</td>\n      <td>14.780000</td>\n      <td>7.108000</td>\n      <td>15.311000</td>\n      <td>18.1682</td>\n      <td>5</td>\n      <td>0.0113722</td>\n      <td>14.918131</td>\n      <td>7.108000</td>\n      <td>0.009164</td>\n    </tr>\n    <tr>\n      <th>10</th>\n      <td>IRIS</td>\n      <td>Sorting</td>\n      <td>21.955000</td>\n      <td>1.155526</td>\n      <td>0.981481</td>\n      <td>1.000000</td>\n      <td>0.000144</td>\n      <td>18</td>\n      <td>5</td>\n      <td>19</td>\n      <td>21.284000</td>\n      <td>9.908000</td>\n      <td>21.955000</td>\n      <td>18.3396</td>\n      <td>5</td>\n      <td>0.00274096</td>\n      <td>21.685585</td>\n      <td>9.908000</td>\n      <td>0.003167</td>\n    </tr>\n    <tr>\n      <th>11</th>\n      <td>IRIS</td>\n      <td>Windowed</td>\n      <td>23.953000</td>\n      <td>1.260684</td>\n      <td>0.990741</td>\n      <td>1.000000</td>\n      <td>0.001543</td>\n      <td>19</td>\n      <td>8</td>\n      <td>18</td>\n      <td>23.953000</td>\n      <td>12.452000</td>\n      <td>22.656000</td>\n      <td>19.1776</td>\n      <td>8</td>\n      <td>0.0277708</td>\n      <td>24.176860</td>\n      <td>12.452000</td>\n      <td>0.034954</td>\n    </tr>\n    <tr>\n      <th>12</th>\n      <td>MNIST</td>\n      <td>Original</td>\n      <td>52.946526</td>\n      <td>2.786659</td>\n      <td>0.995229</td>\n      <td>0.988720</td>\n      <td>1.461272</td>\n      <td>18</td>\n      <td>15</td>\n      <td>19</td>\n      <td>50.216254</td>\n      <td>42.108878</td>\n      <td>52.946526</td>\n      <td>18.0863</td>\n      <td>15.1711</td>\n      <td>27.7642</td>\n      <td>50.456975</td>\n      <td>42.589287</td>\n      <td>77.369302</td>\n    </tr>\n    <tr>\n      <th>13</th>\n      <td>MNIST</td>\n      <td>Sorting</td>\n      <td>63.665524</td>\n      <td>3.350817</td>\n      <td>0.995354</td>\n      <td>0.988553</td>\n      <td>1.461150</td>\n      <td>19</td>\n      <td>10</td>\n      <td>10</td>\n      <td>63.665524</td>\n      <td>33.868595</td>\n      <td>33.868595</td>\n      <td>19.0887</td>\n      <td>10.1158</td>\n      <td>14.6115</td>\n      <td>63.962683</td>\n      <td>34.260784</td>\n      <td>49.487103</td>\n    </tr>\n    <tr>\n      <th>14</th>\n      <td>MNIST</td>\n      <td>Windowed</td>\n      <td>199.979743</td>\n      <td>10.525250</td>\n      <td>0.983708</td>\n      <td>0.987132</td>\n      <td>1.461157</td>\n      <td>18</td>\n      <td>9</td>\n      <td>19</td>\n      <td>190.021651</td>\n      <td>95.786024</td>\n      <td>199.979743</td>\n      <td>18.2981</td>\n      <td>9.11732</td>\n      <td>27.762</td>\n      <td>193.168693</td>\n      <td>97.034630</td>\n      <td>292.201723</td>\n    </tr>\n    <tr>\n      <th>15</th>\n      <td>MUSIC_GENRES</td>\n      <td>Original</td>\n      <td>46.548000</td>\n      <td>0.949959</td>\n      <td>0.845833</td>\n      <td>0.708333</td>\n      <td>0.779585</td>\n      <td>43</td>\n      <td>47</td>\n      <td>35</td>\n      <td>42.625000</td>\n      <td>45.189000</td>\n      <td>36.439000</td>\n      <td>50.8374</td>\n      <td>66.3529</td>\n      <td>27.2855</td>\n      <td>50.394087</td>\n      <td>63.796237</td>\n      <td>28.407285</td>\n    </tr>\n    <tr>\n      <th>16</th>\n      <td>MUSIC_GENRES</td>\n      <td>Sorting</td>\n      <td>58.827000</td>\n      <td>1.200551</td>\n      <td>0.861111</td>\n      <td>0.694444</td>\n      <td>0.026859</td>\n      <td>48</td>\n      <td>49</td>\n      <td>35</td>\n      <td>57.202000</td>\n      <td>58.827000</td>\n      <td>39.983000</td>\n      <td>55.7419</td>\n      <td>70.56</td>\n      <td>0.940077</td>\n      <td>66.428130</td>\n      <td>84.710883</td>\n      <td>1.073917</td>\n    </tr>\n    <tr>\n      <th>17</th>\n      <td>MUSIC_GENRES</td>\n      <td>Windowed</td>\n      <td>91.357000</td>\n      <td>1.864429</td>\n      <td>0.848611</td>\n      <td>0.708333</td>\n      <td>0.851191</td>\n      <td>45</td>\n      <td>49</td>\n      <td>49</td>\n      <td>83.060000</td>\n      <td>91.357000</td>\n      <td>91.357000</td>\n      <td>53.0278</td>\n      <td>69.1765</td>\n      <td>41.7084</td>\n      <td>97.877577</td>\n      <td>128.974592</td>\n      <td>77.762244</td>\n    </tr>\n    <tr>\n      <th>18</th>\n      <td>SENTIMENT</td>\n      <td>Original</td>\n      <td>35.353767</td>\n      <td>0.721505</td>\n      <td>0.794706</td>\n      <td>0.785689</td>\n      <td>0.416892</td>\n      <td>46</td>\n      <td>49</td>\n      <td>48</td>\n      <td>33.261388</td>\n      <td>35.353767</td>\n      <td>34.652275</td>\n      <td>57.883</td>\n      <td>62.3656</td>\n      <td>20.0108</td>\n      <td>41.853706</td>\n      <td>44.997156</td>\n      <td>14.446268</td>\n    </tr>\n    <tr>\n      <th>19</th>\n      <td>SENTIMENT</td>\n      <td>Sorting</td>\n      <td>44.357231</td>\n      <td>0.905250</td>\n      <td>0.795185</td>\n      <td>0.788086</td>\n      <td>0.381779</td>\n      <td>44</td>\n      <td>32</td>\n      <td>35</td>\n      <td>40.038883</td>\n      <td>29.733243</td>\n      <td>32.367318</td>\n      <td>55.3331</td>\n      <td>40.6047</td>\n      <td>13.3623</td>\n      <td>50.351671</td>\n      <td>37.728427</td>\n      <td>12.357157</td>\n    </tr>\n    <tr>\n      <th>20</th>\n      <td>SENTIMENT</td>\n      <td>Windowed</td>\n      <td>110.588332</td>\n      <td>2.256905</td>\n      <td>0.792189</td>\n      <td>0.784535</td>\n      <td>0.422456</td>\n      <td>49</td>\n      <td>44</td>\n      <td>40</td>\n      <td>110.588332</td>\n      <td>99.350437</td>\n      <td>90.436412</td>\n      <td>61.8539</td>\n      <td>56.0842</td>\n      <td>16.8982</td>\n      <td>139.598355</td>\n      <td>126.636111</td>\n      <td>38.205386</td>\n    </tr>\n    <tr>\n      <th>21</th>\n      <td>WINE_QUALITY</td>\n      <td>Original</td>\n      <td>8.126000</td>\n      <td>0.427684</td>\n      <td>0.966667</td>\n      <td>1.000000</td>\n      <td>0.145620</td>\n      <td>19</td>\n      <td>8</td>\n      <td>19</td>\n      <td>8.126000</td>\n      <td>4.453000</td>\n      <td>8.126000</td>\n      <td>19.6552</td>\n      <td>8</td>\n      <td>2.76678</td>\n      <td>8.406207</td>\n      <td>4.453000</td>\n      <td>1.183307</td>\n    </tr>\n    <tr>\n      <th>22</th>\n      <td>WINE_QUALITY</td>\n      <td>Sorting</td>\n      <td>8.734000</td>\n      <td>0.459684</td>\n      <td>0.958333</td>\n      <td>1.000000</td>\n      <td>0.121567</td>\n      <td>19</td>\n      <td>8</td>\n      <td>19</td>\n      <td>8.734000</td>\n      <td>5.671000</td>\n      <td>8.734000</td>\n      <td>19.8261</td>\n      <td>8</td>\n      <td>2.30978</td>\n      <td>9.113739</td>\n      <td>5.671000</td>\n      <td>1.061771</td>\n    </tr>\n    <tr>\n      <th>23</th>\n      <td>WINE_QUALITY</td>\n      <td>Windowed</td>\n      <td>11.641000</td>\n      <td>0.612684</td>\n      <td>0.983333</td>\n      <td>1.000000</td>\n      <td>0.169513</td>\n      <td>18</td>\n      <td>5</td>\n      <td>19</td>\n      <td>11.297000</td>\n      <td>6.547000</td>\n      <td>11.641000</td>\n      <td>18.3051</td>\n      <td>5</td>\n      <td>3.22074</td>\n      <td>11.488474</td>\n      <td>6.547000</td>\n      <td>1.973297</td>\n    </tr>\n  </tbody>\n</table>\n</div>"
     },
     "metadata": {},
     "execution_count": 17
    }
   ],
   "source": [
    "results"
   ]
  },
  {
   "cell_type": "code",
   "execution_count": 18,
   "metadata": {},
   "outputs": [
    {
     "output_type": "stream",
     "name": "stdout",
     "text": [
      "Original    5\nWindowed    2\nSorting     1\nName: algorithm, dtype: int64\n"
     ]
    },
    {
     "output_type": "execute_result",
     "data": {
      "text/plain": [
       "            Model algorithm  total_time  avg_epoch  max_metric  \\\n",
       "0     ARCHIMEDEAN  Original   18.735745   0.125743    0.966667   \n",
       "5   BOSTON_HOUSES  Windowed    5.397580   0.284083    6.949940   \n",
       "6   FASHION_MNIST  Original   96.344000   5.070737    0.926687   \n",
       "9            IRIS  Original   15.311000   0.805842    0.990741   \n",
       "12          MNIST  Original   52.946526   2.786659    0.995229   \n",
       "15   MUSIC_GENRES  Original   46.548000   0.949959    0.845833   \n",
       "19      SENTIMENT   Sorting   44.357231   0.905250    0.795185   \n",
       "23   WINE_QUALITY  Windowed   11.641000   0.612684    0.983333   \n",
       "\n",
       "    max_validation  min_loss max_metrics_epoch max_validation_epoch  \\\n",
       "0         0.950000  0.097041               148                  138   \n",
       "5         3.633950  4.003263                19                   18   \n",
       "6         0.904746  1.520450                19                   19   \n",
       "9         1.000000  0.000599                18                    5   \n",
       "12        0.988720  1.461272                18                   15   \n",
       "15        0.708333  0.779585                43                   47   \n",
       "19        0.788086  0.381779                44                   32   \n",
       "23        1.000000  0.169513                18                    5   \n",
       "\n",
       "   min_loss_epoch  max_metrics_ts  max_validation_ts  min_loss_ts      mme  \\\n",
       "0             149       18.608615          17.432301    18.735745  153.103   \n",
       "5              19        5.397580           5.099245     5.397580  2.73384   \n",
       "6              17       96.344000          96.344000    86.203000  20.5031   \n",
       "9              19       14.780000           7.108000    15.311000  18.1682   \n",
       "12             19       50.216254          42.108878    52.946526  18.0863   \n",
       "15             35       42.625000          45.189000    36.439000  50.8374   \n",
       "19             35       40.038883          29.733243    32.367318  55.3331   \n",
       "23             19       11.297000           6.547000    11.641000  18.3051   \n",
       "\n",
       "        mve        mle        mmts        mvts        mlts  \n",
       "0   145.263    14.4591   19.250292   18.349791    1.818130  \n",
       "5   4.95329     76.062    0.776637    1.403224   21.607937  \n",
       "6   21.0004    25.8477  103.966010  106.487346  131.067361  \n",
       "9         5  0.0113722   14.918131    7.108000    0.009164  \n",
       "12  15.1711    27.7642   50.456975   42.589287   77.369302  \n",
       "15  66.3529    27.2855   50.394087   63.796237   28.407285  \n",
       "19  40.6047    13.3623   50.351671   37.728427   12.357157  \n",
       "23        5    3.22074   11.488474    6.547000    1.973297  "
      ],
      "text/html": "<div>\n<style scoped>\n    .dataframe tbody tr th:only-of-type {\n        vertical-align: middle;\n    }\n\n    .dataframe tbody tr th {\n        vertical-align: top;\n    }\n\n    .dataframe thead th {\n        text-align: right;\n    }\n</style>\n<table border=\"1\" class=\"dataframe\">\n  <thead>\n    <tr style=\"text-align: right;\">\n      <th></th>\n      <th>Model</th>\n      <th>algorithm</th>\n      <th>total_time</th>\n      <th>avg_epoch</th>\n      <th>max_metric</th>\n      <th>max_validation</th>\n      <th>min_loss</th>\n      <th>max_metrics_epoch</th>\n      <th>max_validation_epoch</th>\n      <th>min_loss_epoch</th>\n      <th>max_metrics_ts</th>\n      <th>max_validation_ts</th>\n      <th>min_loss_ts</th>\n      <th>mme</th>\n      <th>mve</th>\n      <th>mle</th>\n      <th>mmts</th>\n      <th>mvts</th>\n      <th>mlts</th>\n    </tr>\n  </thead>\n  <tbody>\n    <tr>\n      <th>0</th>\n      <td>ARCHIMEDEAN</td>\n      <td>Original</td>\n      <td>18.735745</td>\n      <td>0.125743</td>\n      <td>0.966667</td>\n      <td>0.950000</td>\n      <td>0.097041</td>\n      <td>148</td>\n      <td>138</td>\n      <td>149</td>\n      <td>18.608615</td>\n      <td>17.432301</td>\n      <td>18.735745</td>\n      <td>153.103</td>\n      <td>145.263</td>\n      <td>14.4591</td>\n      <td>19.250292</td>\n      <td>18.349791</td>\n      <td>1.818130</td>\n    </tr>\n    <tr>\n      <th>5</th>\n      <td>BOSTON_HOUSES</td>\n      <td>Windowed</td>\n      <td>5.397580</td>\n      <td>0.284083</td>\n      <td>6.949940</td>\n      <td>3.633950</td>\n      <td>4.003263</td>\n      <td>19</td>\n      <td>18</td>\n      <td>19</td>\n      <td>5.397580</td>\n      <td>5.099245</td>\n      <td>5.397580</td>\n      <td>2.73384</td>\n      <td>4.95329</td>\n      <td>76.062</td>\n      <td>0.776637</td>\n      <td>1.403224</td>\n      <td>21.607937</td>\n    </tr>\n    <tr>\n      <th>6</th>\n      <td>FASHION_MNIST</td>\n      <td>Original</td>\n      <td>96.344000</td>\n      <td>5.070737</td>\n      <td>0.926687</td>\n      <td>0.904746</td>\n      <td>1.520450</td>\n      <td>19</td>\n      <td>19</td>\n      <td>17</td>\n      <td>96.344000</td>\n      <td>96.344000</td>\n      <td>86.203000</td>\n      <td>20.5031</td>\n      <td>21.0004</td>\n      <td>25.8477</td>\n      <td>103.966010</td>\n      <td>106.487346</td>\n      <td>131.067361</td>\n    </tr>\n    <tr>\n      <th>9</th>\n      <td>IRIS</td>\n      <td>Original</td>\n      <td>15.311000</td>\n      <td>0.805842</td>\n      <td>0.990741</td>\n      <td>1.000000</td>\n      <td>0.000599</td>\n      <td>18</td>\n      <td>5</td>\n      <td>19</td>\n      <td>14.780000</td>\n      <td>7.108000</td>\n      <td>15.311000</td>\n      <td>18.1682</td>\n      <td>5</td>\n      <td>0.0113722</td>\n      <td>14.918131</td>\n      <td>7.108000</td>\n      <td>0.009164</td>\n    </tr>\n    <tr>\n      <th>12</th>\n      <td>MNIST</td>\n      <td>Original</td>\n      <td>52.946526</td>\n      <td>2.786659</td>\n      <td>0.995229</td>\n      <td>0.988720</td>\n      <td>1.461272</td>\n      <td>18</td>\n      <td>15</td>\n      <td>19</td>\n      <td>50.216254</td>\n      <td>42.108878</td>\n      <td>52.946526</td>\n      <td>18.0863</td>\n      <td>15.1711</td>\n      <td>27.7642</td>\n      <td>50.456975</td>\n      <td>42.589287</td>\n      <td>77.369302</td>\n    </tr>\n    <tr>\n      <th>15</th>\n      <td>MUSIC_GENRES</td>\n      <td>Original</td>\n      <td>46.548000</td>\n      <td>0.949959</td>\n      <td>0.845833</td>\n      <td>0.708333</td>\n      <td>0.779585</td>\n      <td>43</td>\n      <td>47</td>\n      <td>35</td>\n      <td>42.625000</td>\n      <td>45.189000</td>\n      <td>36.439000</td>\n      <td>50.8374</td>\n      <td>66.3529</td>\n      <td>27.2855</td>\n      <td>50.394087</td>\n      <td>63.796237</td>\n      <td>28.407285</td>\n    </tr>\n    <tr>\n      <th>19</th>\n      <td>SENTIMENT</td>\n      <td>Sorting</td>\n      <td>44.357231</td>\n      <td>0.905250</td>\n      <td>0.795185</td>\n      <td>0.788086</td>\n      <td>0.381779</td>\n      <td>44</td>\n      <td>32</td>\n      <td>35</td>\n      <td>40.038883</td>\n      <td>29.733243</td>\n      <td>32.367318</td>\n      <td>55.3331</td>\n      <td>40.6047</td>\n      <td>13.3623</td>\n      <td>50.351671</td>\n      <td>37.728427</td>\n      <td>12.357157</td>\n    </tr>\n    <tr>\n      <th>23</th>\n      <td>WINE_QUALITY</td>\n      <td>Windowed</td>\n      <td>11.641000</td>\n      <td>0.612684</td>\n      <td>0.983333</td>\n      <td>1.000000</td>\n      <td>0.169513</td>\n      <td>18</td>\n      <td>5</td>\n      <td>19</td>\n      <td>11.297000</td>\n      <td>6.547000</td>\n      <td>11.641000</td>\n      <td>18.3051</td>\n      <td>5</td>\n      <td>3.22074</td>\n      <td>11.488474</td>\n      <td>6.547000</td>\n      <td>1.973297</td>\n    </tr>\n  </tbody>\n</table>\n</div>"
     },
     "metadata": {},
     "execution_count": 18
    }
   ],
   "source": [
    "# best epoch based metrics\n",
    "print(results[results.groupby('Model')['mme'].transform(min) == results['mme']]['algorithm'].value_counts())\n",
    "results[results.groupby('Model')['mme'].transform(min) == results['mme']]\n"
   ]
  },
  {
   "cell_type": "code",
   "execution_count": 19,
   "metadata": {},
   "outputs": [
    {
     "output_type": "stream",
     "name": "stdout",
     "text": [
      "Windowed    3\nOriginal    3\nSorting     3\nName: algorithm, dtype: int64\n"
     ]
    },
    {
     "output_type": "execute_result",
     "data": {
      "text/plain": [
       "            Model algorithm  total_time  avg_epoch  max_metric  \\\n",
       "2     ARCHIMEDEAN  Windowed   33.729510   0.226373    0.958333   \n",
       "3   BOSTON_HOUSES  Original    2.692392   0.141705    4.863170   \n",
       "7   FASHION_MNIST   Sorting   99.626000   5.243474    0.854042   \n",
       "9            IRIS  Original   15.311000   0.805842    0.990741   \n",
       "10           IRIS   Sorting   21.955000   1.155526    0.981481   \n",
       "14          MNIST  Windowed  199.979743  10.525250    0.983708   \n",
       "15   MUSIC_GENRES  Original   46.548000   0.949959    0.845833   \n",
       "19      SENTIMENT   Sorting   44.357231   0.905250    0.795185   \n",
       "23   WINE_QUALITY  Windowed   11.641000   0.612684    0.983333   \n",
       "\n",
       "    max_validation  min_loss max_metrics_epoch max_validation_epoch  \\\n",
       "2         0.962500  0.063966               149                  122   \n",
       "3         4.757124  3.787659                19                   19   \n",
       "7         0.832052  1.499295                19                   17   \n",
       "9         1.000000  0.000599                18                    5   \n",
       "10        1.000000  0.000144                18                    5   \n",
       "14        0.987132  1.461157                18                    9   \n",
       "15        0.708333  0.779585                43                   47   \n",
       "19        0.788086  0.381779                44                   32   \n",
       "23        1.000000  0.169513                18                    5   \n",
       "\n",
       "   min_loss_epoch  max_metrics_ts  max_validation_ts  min_loss_ts      mme  \\\n",
       "2             149       33.729510          27.624132    33.729510  155.478   \n",
       "3               3        2.692392           2.692392     0.742943  3.90692   \n",
       "7              17       99.626000          89.579000    89.579000  22.2472   \n",
       "9              19       14.780000           7.108000    15.311000  18.1682   \n",
       "10             19       21.284000           9.908000    21.955000  18.3396   \n",
       "14             19      190.021651          95.786024   199.979743  18.2981   \n",
       "15             35       42.625000          45.189000    36.439000  50.8374   \n",
       "19             35       40.038883          29.733243    32.367318  55.3331   \n",
       "23             19       11.297000           6.547000    11.641000  18.3051   \n",
       "\n",
       "        mve         mle        mmts        mvts        mlts  \n",
       "2   126.753     9.53088   35.196011   28.700398    2.157530  \n",
       "3   3.99401      11.363    0.553629    0.565970    2.814016  \n",
       "7   20.4314      25.488  116.652384  107.660324  134.305325  \n",
       "9         5   0.0113722   14.918131    7.108000    0.009164  \n",
       "10        5  0.00274096   21.685585    9.908000    0.003167  \n",
       "14  9.11732      27.762  193.168693   97.034630  292.201723  \n",
       "15  66.3529     27.2855   50.394087   63.796237   28.407285  \n",
       "19  40.6047     13.3623   50.351671   37.728427   12.357157  \n",
       "23        5     3.22074   11.488474    6.547000    1.973297  "
      ],
      "text/html": "<div>\n<style scoped>\n    .dataframe tbody tr th:only-of-type {\n        vertical-align: middle;\n    }\n\n    .dataframe tbody tr th {\n        vertical-align: top;\n    }\n\n    .dataframe thead th {\n        text-align: right;\n    }\n</style>\n<table border=\"1\" class=\"dataframe\">\n  <thead>\n    <tr style=\"text-align: right;\">\n      <th></th>\n      <th>Model</th>\n      <th>algorithm</th>\n      <th>total_time</th>\n      <th>avg_epoch</th>\n      <th>max_metric</th>\n      <th>max_validation</th>\n      <th>min_loss</th>\n      <th>max_metrics_epoch</th>\n      <th>max_validation_epoch</th>\n      <th>min_loss_epoch</th>\n      <th>max_metrics_ts</th>\n      <th>max_validation_ts</th>\n      <th>min_loss_ts</th>\n      <th>mme</th>\n      <th>mve</th>\n      <th>mle</th>\n      <th>mmts</th>\n      <th>mvts</th>\n      <th>mlts</th>\n    </tr>\n  </thead>\n  <tbody>\n    <tr>\n      <th>2</th>\n      <td>ARCHIMEDEAN</td>\n      <td>Windowed</td>\n      <td>33.729510</td>\n      <td>0.226373</td>\n      <td>0.958333</td>\n      <td>0.962500</td>\n      <td>0.063966</td>\n      <td>149</td>\n      <td>122</td>\n      <td>149</td>\n      <td>33.729510</td>\n      <td>27.624132</td>\n      <td>33.729510</td>\n      <td>155.478</td>\n      <td>126.753</td>\n      <td>9.53088</td>\n      <td>35.196011</td>\n      <td>28.700398</td>\n      <td>2.157530</td>\n    </tr>\n    <tr>\n      <th>3</th>\n      <td>BOSTON_HOUSES</td>\n      <td>Original</td>\n      <td>2.692392</td>\n      <td>0.141705</td>\n      <td>4.863170</td>\n      <td>4.757124</td>\n      <td>3.787659</td>\n      <td>19</td>\n      <td>19</td>\n      <td>3</td>\n      <td>2.692392</td>\n      <td>2.692392</td>\n      <td>0.742943</td>\n      <td>3.90692</td>\n      <td>3.99401</td>\n      <td>11.363</td>\n      <td>0.553629</td>\n      <td>0.565970</td>\n      <td>2.814016</td>\n    </tr>\n    <tr>\n      <th>7</th>\n      <td>FASHION_MNIST</td>\n      <td>Sorting</td>\n      <td>99.626000</td>\n      <td>5.243474</td>\n      <td>0.854042</td>\n      <td>0.832052</td>\n      <td>1.499295</td>\n      <td>19</td>\n      <td>17</td>\n      <td>17</td>\n      <td>99.626000</td>\n      <td>89.579000</td>\n      <td>89.579000</td>\n      <td>22.2472</td>\n      <td>20.4314</td>\n      <td>25.488</td>\n      <td>116.652384</td>\n      <td>107.660324</td>\n      <td>134.305325</td>\n    </tr>\n    <tr>\n      <th>9</th>\n      <td>IRIS</td>\n      <td>Original</td>\n      <td>15.311000</td>\n      <td>0.805842</td>\n      <td>0.990741</td>\n      <td>1.000000</td>\n      <td>0.000599</td>\n      <td>18</td>\n      <td>5</td>\n      <td>19</td>\n      <td>14.780000</td>\n      <td>7.108000</td>\n      <td>15.311000</td>\n      <td>18.1682</td>\n      <td>5</td>\n      <td>0.0113722</td>\n      <td>14.918131</td>\n      <td>7.108000</td>\n      <td>0.009164</td>\n    </tr>\n    <tr>\n      <th>10</th>\n      <td>IRIS</td>\n      <td>Sorting</td>\n      <td>21.955000</td>\n      <td>1.155526</td>\n      <td>0.981481</td>\n      <td>1.000000</td>\n      <td>0.000144</td>\n      <td>18</td>\n      <td>5</td>\n      <td>19</td>\n      <td>21.284000</td>\n      <td>9.908000</td>\n      <td>21.955000</td>\n      <td>18.3396</td>\n      <td>5</td>\n      <td>0.00274096</td>\n      <td>21.685585</td>\n      <td>9.908000</td>\n      <td>0.003167</td>\n    </tr>\n    <tr>\n      <th>14</th>\n      <td>MNIST</td>\n      <td>Windowed</td>\n      <td>199.979743</td>\n      <td>10.525250</td>\n      <td>0.983708</td>\n      <td>0.987132</td>\n      <td>1.461157</td>\n      <td>18</td>\n      <td>9</td>\n      <td>19</td>\n      <td>190.021651</td>\n      <td>95.786024</td>\n      <td>199.979743</td>\n      <td>18.2981</td>\n      <td>9.11732</td>\n      <td>27.762</td>\n      <td>193.168693</td>\n      <td>97.034630</td>\n      <td>292.201723</td>\n    </tr>\n    <tr>\n      <th>15</th>\n      <td>MUSIC_GENRES</td>\n      <td>Original</td>\n      <td>46.548000</td>\n      <td>0.949959</td>\n      <td>0.845833</td>\n      <td>0.708333</td>\n      <td>0.779585</td>\n      <td>43</td>\n      <td>47</td>\n      <td>35</td>\n      <td>42.625000</td>\n      <td>45.189000</td>\n      <td>36.439000</td>\n      <td>50.8374</td>\n      <td>66.3529</td>\n      <td>27.2855</td>\n      <td>50.394087</td>\n      <td>63.796237</td>\n      <td>28.407285</td>\n    </tr>\n    <tr>\n      <th>19</th>\n      <td>SENTIMENT</td>\n      <td>Sorting</td>\n      <td>44.357231</td>\n      <td>0.905250</td>\n      <td>0.795185</td>\n      <td>0.788086</td>\n      <td>0.381779</td>\n      <td>44</td>\n      <td>32</td>\n      <td>35</td>\n      <td>40.038883</td>\n      <td>29.733243</td>\n      <td>32.367318</td>\n      <td>55.3331</td>\n      <td>40.6047</td>\n      <td>13.3623</td>\n      <td>50.351671</td>\n      <td>37.728427</td>\n      <td>12.357157</td>\n    </tr>\n    <tr>\n      <th>23</th>\n      <td>WINE_QUALITY</td>\n      <td>Windowed</td>\n      <td>11.641000</td>\n      <td>0.612684</td>\n      <td>0.983333</td>\n      <td>1.000000</td>\n      <td>0.169513</td>\n      <td>18</td>\n      <td>5</td>\n      <td>19</td>\n      <td>11.297000</td>\n      <td>6.547000</td>\n      <td>11.641000</td>\n      <td>18.3051</td>\n      <td>5</td>\n      <td>3.22074</td>\n      <td>11.488474</td>\n      <td>6.547000</td>\n      <td>1.973297</td>\n    </tr>\n  </tbody>\n</table>\n</div>"
     },
     "metadata": {},
     "execution_count": 19
    }
   ],
   "source": [
    "# best epoch based validation\n",
    "print(results[results.groupby('Model')['mve'].transform(min) == results['mve']]['algorithm'].value_counts())\n",
    "results[results.groupby('Model')['mve'].transform(min) == results['mve']]\n"
   ]
  },
  {
   "cell_type": "code",
   "execution_count": 50,
   "metadata": {},
   "outputs": [
    {
     "output_type": "stream",
     "name": "stdout",
     "text": [
      "Sorting     7\nOriginal    1\nName: algorithm, dtype: int64\n"
     ]
    }
   ],
   "source": [
    "# best epoch based loss\n",
    "print(results[results.groupby('Model')['mle'].transform(min) == results['mle']]['algorithm'].value_counts())"
   ]
  },
  {
   "cell_type": "code",
   "execution_count": 51,
   "metadata": {},
   "outputs": [
    {
     "output_type": "stream",
     "name": "stdout",
     "text": [
      "Original    8\nName: algorithm, dtype: int64\n"
     ]
    }
   ],
   "source": [
    "# best time based metrics\n",
    "print(results[results.groupby('Model')['mmts'].transform(min) == results['mmts']]['algorithm'].value_counts())\n"
   ]
  },
  {
   "cell_type": "code",
   "execution_count": 21,
   "metadata": {},
   "outputs": [
    {
     "output_type": "stream",
     "name": "stdout",
     "text": [
      "Original    6\nSorting     2\nName: algorithm, dtype: int64\n"
     ]
    },
    {
     "output_type": "execute_result",
     "data": {
      "text/plain": [
       "            Model algorithm  total_time  avg_epoch  max_metric  \\\n",
       "0     ARCHIMEDEAN  Original   18.735745   0.125743    0.966667   \n",
       "3   BOSTON_HOUSES  Original    2.692392   0.141705    4.863170   \n",
       "6   FASHION_MNIST  Original   96.344000   5.070737    0.926687   \n",
       "9            IRIS  Original   15.311000   0.805842    0.990741   \n",
       "13          MNIST   Sorting   63.665524   3.350817    0.995354   \n",
       "15   MUSIC_GENRES  Original   46.548000   0.949959    0.845833   \n",
       "19      SENTIMENT   Sorting   44.357231   0.905250    0.795185   \n",
       "21   WINE_QUALITY  Original    8.126000   0.427684    0.966667   \n",
       "\n",
       "    max_validation  min_loss max_metrics_epoch max_validation_epoch  \\\n",
       "0         0.950000  0.097041               148                  138   \n",
       "3         4.757124  3.787659                19                   19   \n",
       "6         0.904746  1.520450                19                   19   \n",
       "9         1.000000  0.000599                18                    5   \n",
       "13        0.988553  1.461150                19                   10   \n",
       "15        0.708333  0.779585                43                   47   \n",
       "19        0.788086  0.381779                44                   32   \n",
       "21        1.000000  0.145620                19                    8   \n",
       "\n",
       "   min_loss_epoch  max_metrics_ts  max_validation_ts  min_loss_ts      mme  \\\n",
       "0             149       18.608615          17.432301    18.735745  153.103   \n",
       "3               3        2.692392           2.692392     0.742943  3.90692   \n",
       "6              17       96.344000          96.344000    86.203000  20.5031   \n",
       "9              19       14.780000           7.108000    15.311000  18.1682   \n",
       "13             10       63.665524          33.868595    33.868595  19.0887   \n",
       "15             35       42.625000          45.189000    36.439000  50.8374   \n",
       "19             35       40.038883          29.733243    32.367318  55.3331   \n",
       "21             19        8.126000           4.453000     8.126000  19.6552   \n",
       "\n",
       "        mve        mle        mmts        mvts        mlts  \n",
       "0   145.263    14.4591   19.250292   18.349791    1.818130  \n",
       "3   3.99401     11.363    0.553629    0.565970    2.814016  \n",
       "6   21.0004    25.8477  103.966010  106.487346  131.067361  \n",
       "9         5  0.0113722   14.918131    7.108000    0.009164  \n",
       "13  10.1158    14.6115   63.962683   34.260784   49.487103  \n",
       "15  66.3529    27.2855   50.394087   63.796237   28.407285  \n",
       "19  40.6047    13.3623   50.351671   37.728427   12.357157  \n",
       "21        8    2.76678    8.406207    4.453000    1.183307  "
      ],
      "text/html": "<div>\n<style scoped>\n    .dataframe tbody tr th:only-of-type {\n        vertical-align: middle;\n    }\n\n    .dataframe tbody tr th {\n        vertical-align: top;\n    }\n\n    .dataframe thead th {\n        text-align: right;\n    }\n</style>\n<table border=\"1\" class=\"dataframe\">\n  <thead>\n    <tr style=\"text-align: right;\">\n      <th></th>\n      <th>Model</th>\n      <th>algorithm</th>\n      <th>total_time</th>\n      <th>avg_epoch</th>\n      <th>max_metric</th>\n      <th>max_validation</th>\n      <th>min_loss</th>\n      <th>max_metrics_epoch</th>\n      <th>max_validation_epoch</th>\n      <th>min_loss_epoch</th>\n      <th>max_metrics_ts</th>\n      <th>max_validation_ts</th>\n      <th>min_loss_ts</th>\n      <th>mme</th>\n      <th>mve</th>\n      <th>mle</th>\n      <th>mmts</th>\n      <th>mvts</th>\n      <th>mlts</th>\n    </tr>\n  </thead>\n  <tbody>\n    <tr>\n      <th>0</th>\n      <td>ARCHIMEDEAN</td>\n      <td>Original</td>\n      <td>18.735745</td>\n      <td>0.125743</td>\n      <td>0.966667</td>\n      <td>0.950000</td>\n      <td>0.097041</td>\n      <td>148</td>\n      <td>138</td>\n      <td>149</td>\n      <td>18.608615</td>\n      <td>17.432301</td>\n      <td>18.735745</td>\n      <td>153.103</td>\n      <td>145.263</td>\n      <td>14.4591</td>\n      <td>19.250292</td>\n      <td>18.349791</td>\n      <td>1.818130</td>\n    </tr>\n    <tr>\n      <th>3</th>\n      <td>BOSTON_HOUSES</td>\n      <td>Original</td>\n      <td>2.692392</td>\n      <td>0.141705</td>\n      <td>4.863170</td>\n      <td>4.757124</td>\n      <td>3.787659</td>\n      <td>19</td>\n      <td>19</td>\n      <td>3</td>\n      <td>2.692392</td>\n      <td>2.692392</td>\n      <td>0.742943</td>\n      <td>3.90692</td>\n      <td>3.99401</td>\n      <td>11.363</td>\n      <td>0.553629</td>\n      <td>0.565970</td>\n      <td>2.814016</td>\n    </tr>\n    <tr>\n      <th>6</th>\n      <td>FASHION_MNIST</td>\n      <td>Original</td>\n      <td>96.344000</td>\n      <td>5.070737</td>\n      <td>0.926687</td>\n      <td>0.904746</td>\n      <td>1.520450</td>\n      <td>19</td>\n      <td>19</td>\n      <td>17</td>\n      <td>96.344000</td>\n      <td>96.344000</td>\n      <td>86.203000</td>\n      <td>20.5031</td>\n      <td>21.0004</td>\n      <td>25.8477</td>\n      <td>103.966010</td>\n      <td>106.487346</td>\n      <td>131.067361</td>\n    </tr>\n    <tr>\n      <th>9</th>\n      <td>IRIS</td>\n      <td>Original</td>\n      <td>15.311000</td>\n      <td>0.805842</td>\n      <td>0.990741</td>\n      <td>1.000000</td>\n      <td>0.000599</td>\n      <td>18</td>\n      <td>5</td>\n      <td>19</td>\n      <td>14.780000</td>\n      <td>7.108000</td>\n      <td>15.311000</td>\n      <td>18.1682</td>\n      <td>5</td>\n      <td>0.0113722</td>\n      <td>14.918131</td>\n      <td>7.108000</td>\n      <td>0.009164</td>\n    </tr>\n    <tr>\n      <th>13</th>\n      <td>MNIST</td>\n      <td>Sorting</td>\n      <td>63.665524</td>\n      <td>3.350817</td>\n      <td>0.995354</td>\n      <td>0.988553</td>\n      <td>1.461150</td>\n      <td>19</td>\n      <td>10</td>\n      <td>10</td>\n      <td>63.665524</td>\n      <td>33.868595</td>\n      <td>33.868595</td>\n      <td>19.0887</td>\n      <td>10.1158</td>\n      <td>14.6115</td>\n      <td>63.962683</td>\n      <td>34.260784</td>\n      <td>49.487103</td>\n    </tr>\n    <tr>\n      <th>15</th>\n      <td>MUSIC_GENRES</td>\n      <td>Original</td>\n      <td>46.548000</td>\n      <td>0.949959</td>\n      <td>0.845833</td>\n      <td>0.708333</td>\n      <td>0.779585</td>\n      <td>43</td>\n      <td>47</td>\n      <td>35</td>\n      <td>42.625000</td>\n      <td>45.189000</td>\n      <td>36.439000</td>\n      <td>50.8374</td>\n      <td>66.3529</td>\n      <td>27.2855</td>\n      <td>50.394087</td>\n      <td>63.796237</td>\n      <td>28.407285</td>\n    </tr>\n    <tr>\n      <th>19</th>\n      <td>SENTIMENT</td>\n      <td>Sorting</td>\n      <td>44.357231</td>\n      <td>0.905250</td>\n      <td>0.795185</td>\n      <td>0.788086</td>\n      <td>0.381779</td>\n      <td>44</td>\n      <td>32</td>\n      <td>35</td>\n      <td>40.038883</td>\n      <td>29.733243</td>\n      <td>32.367318</td>\n      <td>55.3331</td>\n      <td>40.6047</td>\n      <td>13.3623</td>\n      <td>50.351671</td>\n      <td>37.728427</td>\n      <td>12.357157</td>\n    </tr>\n    <tr>\n      <th>21</th>\n      <td>WINE_QUALITY</td>\n      <td>Original</td>\n      <td>8.126000</td>\n      <td>0.427684</td>\n      <td>0.966667</td>\n      <td>1.000000</td>\n      <td>0.145620</td>\n      <td>19</td>\n      <td>8</td>\n      <td>19</td>\n      <td>8.126000</td>\n      <td>4.453000</td>\n      <td>8.126000</td>\n      <td>19.6552</td>\n      <td>8</td>\n      <td>2.76678</td>\n      <td>8.406207</td>\n      <td>4.453000</td>\n      <td>1.183307</td>\n    </tr>\n  </tbody>\n</table>\n</div>"
     },
     "metadata": {},
     "execution_count": 21
    }
   ],
   "source": [
    "# best time based validation\n",
    "print(results[results.groupby('Model')['mvts'].transform(min) == results['mvts']]['algorithm'].value_counts())\n",
    "results[results.groupby('Model')['mvts'].transform(min) == results['mvts']]"
   ]
  },
  {
   "cell_type": "code",
   "execution_count": 53,
   "metadata": {},
   "outputs": [
    {
     "output_type": "stream",
     "name": "stdout",
     "text": [
      "Sorting     6\nOriginal    2\nName: algorithm, dtype: int64\n"
     ]
    }
   ],
   "source": [
    "# best time based loss\n",
    "print(results[results.groupby('Model')['mlts'].transform(min) == results['mlts']]['algorithm'].value_counts())\n"
   ]
  },
  {
   "cell_type": "code",
   "execution_count": null,
   "metadata": {},
   "outputs": [],
   "source": []
  }
 ]
}