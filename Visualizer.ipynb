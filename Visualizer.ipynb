{
 "metadata": {
  "language_info": {
   "codemirror_mode": {
    "name": "ipython",
    "version": 3
   },
   "file_extension": ".py",
   "mimetype": "text/x-python",
   "name": "python",
   "nbconvert_exporter": "python",
   "pygments_lexer": "ipython3",
   "version": "3.8.5-final"
  },
  "orig_nbformat": 2,
  "kernelspec": {
   "name": "python3",
   "display_name": "Python 3"
  }
 },
 "nbformat": 4,
 "nbformat_minor": 2,
 "cells": [
  {
   "cell_type": "code",
   "execution_count": 8,
   "metadata": {},
   "outputs": [],
   "source": [
    "import pandas as pd\n",
    "import matplotlib.pyplot as plt\n",
    "import os\n",
    "import numpy as np\n",
    "\n",
    "import chart_studio.plotly as py\t\n",
    "import plotly.graph_objs as go\n",
    "from plotly import subplots\n",
    "import plotly.express as px\n",
    "from plotly.offline import download_plotlyjs, init_notebook_mode, iplot, plot\n",
    "import plotly.express as px"
   ]
  },
  {
   "cell_type": "code",
   "execution_count": 9,
   "metadata": {},
   "outputs": [],
   "source": [
    "log_path = 'logs'\n",
    "batch_selection_methods = [o for o in os.listdir(log_path) if os.path.isdir(os.path.join(log_path,o))]\n",
    "files = [[os.path.join(log_path, o, f) for f in os.listdir(os.path.join(log_path, o)) if os.path.isfile(os.path.join(log_path, o, f))] for o in batch_selection_methods]"
   ]
  },
  {
   "cell_type": "code",
   "execution_count": 10,
   "metadata": {},
   "outputs": [],
   "source": [
    "files = np.array(files)"
   ]
  },
  {
   "cell_type": "code",
   "execution_count": 11,
   "metadata": {},
   "outputs": [
    {
     "output_type": "execute_result",
     "data": {
      "text/plain": [
       "(3, 7)"
      ]
     },
     "metadata": {},
     "execution_count": 11
    }
   ],
   "source": [
    "files.shape"
   ]
  },
  {
   "cell_type": "code",
   "execution_count": 12,
   "metadata": {},
   "outputs": [],
   "source": [
    "plot_matrix = np.empty((files.T.shape), dtype=object)\n",
    "for i in range(files.shape[0]):\n",
    "    for j in range(files.shape[1]):\n",
    "        f = files[i][j]\n",
    "        data = pd.read_csv(f)\n",
    "        plot_matrix[j][i] = [data, f.split('/')[2].split('.')[0], f.split('/')[1]]\n"
   ]
  },
  {
   "cell_type": "code",
   "execution_count": 13,
   "metadata": {},
   "outputs": [],
   "source": [
    "color_list = px.colors.qualitative.T10"
   ]
  },
  {
   "cell_type": "code",
   "execution_count": 14,
   "metadata": {},
   "outputs": [],
   "source": [
    "for i in range(plot_matrix.shape[0]):\n",
    "    fig = subplots.make_subplots(rows=3, cols=2, vertical_spacing=0.06, horizontal_spacing=0.02, \n",
    "                            subplot_titles=(\"Time-based Loss\", \"Epoch-based Loss\", \n",
    "                                            \"Time-based Training Metrics\", \"Epoch-based Training Metrics\",\n",
    "                                            \"Time-based Validation Metrics\" , \"Epoch-based Validation Metrics\"))\n",
    "        \n",
    "    for j in range(plot_matrix.shape[1]):\n",
    "        plot_data = plot_matrix[i][j][0]\n",
    "        name = plot_matrix[i][j][1].upper()\n",
    "        selection = plot_matrix[i][j][2].title()\n",
    "        color = color_list[j]\n",
    "        time_based_loss_plot = go.Scatter(x=plot_data['Time'], y=plot_data['Loss'], name = selection + ' Loss Time', mode='lines', line_color=color)\n",
    "        time_based_metrics_plot = go.Scatter(x=plot_data['Time'], y=plot_data['Metrics'], name = selection + ' Metrics Time', mode='lines', line_color=color)\n",
    "        time_based_vl_plot = go.Scatter(x=plot_data['Time'], y=plot_data['Validation'], name =  selection + ' Validation Time', mode='lines', line_color=color)\n",
    "\n",
    "        epoch_based_loss_plot = go.Scatter(x=plot_data['Epoch'], y=plot_data['Loss'], name = selection + ' Loss Epoch', mode='lines', line_color=color)\n",
    "        epoch_based_metrics_plot = go.Scatter(x=plot_data['Epoch'], y=plot_data['Metrics'], name = selection + ' Metrics Epoch', mode='lines', line_color=color)\n",
    "        epoch_based_vl_plot = go.Scatter(x=plot_data['Epoch'], y=plot_data['Validation'], name = selection + ' Validation Epoch', mode='lines',line_color=color)\n",
    "\n",
    "        fig.append_trace(time_based_loss_plot, 1, 1)\n",
    "        fig.append_trace(time_based_metrics_plot, 2, 1)\n",
    "        fig.append_trace(time_based_vl_plot, 3, 1)\n",
    "\n",
    "        fig.append_trace(epoch_based_loss_plot, 1, 2)\n",
    "        fig.append_trace(epoch_based_metrics_plot, 2, 2)\n",
    "        fig.append_trace(epoch_based_vl_plot, 3, 2)\n",
    "\n",
    "        fig.update_layout(title=go.layout.Title(text = name))\n",
    "\n",
    "    plot(fig, filename='plots/' + str(i) + '.html')"
   ]
  },
  {
   "cell_type": "code",
   "execution_count": null,
   "metadata": {},
   "outputs": [],
   "source": [
    "for i in range(plot_matrix.shape[0]):\n",
    "    for j in range(plot_matrix.shape[1]):\n",
    "        plot_data = plot_matrix[i][j][0]\n",
    "        name = plot_matrix[i][j][1].upper()\n",
    "        selection = plot_matrix[i][j][2].title()"
   ]
  }
 ]
}