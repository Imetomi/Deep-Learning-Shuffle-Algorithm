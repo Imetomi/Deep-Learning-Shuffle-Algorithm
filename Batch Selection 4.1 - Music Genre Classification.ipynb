{
 "metadata": {
  "language_info": {
   "codemirror_mode": {
    "name": "ipython",
    "version": 3
   },
   "file_extension": ".py",
   "mimetype": "text/x-python",
   "name": "python",
   "nbconvert_exporter": "python",
   "pygments_lexer": "ipython3",
   "version": "3.8.6-final"
  },
  "orig_nbformat": 2,
  "kernelspec": {
   "name": "python3",
   "display_name": "Python 3.8.6 64-bit",
   "metadata": {
    "interpreter": {
     "hash": "f0b7ef81dbfba64741f51278088cbb108f5f8bdb279b68750dee812d0a6f384d"
    }
   }
  }
 },
 "nbformat": 4,
 "nbformat_minor": 2,
 "cells": [
  {
   "cell_type": "code",
   "execution_count": 1,
   "metadata": {},
   "outputs": [],
   "source": [
    "import os\n",
    "import numpy as np\n",
    "import tensorflow as tf\n",
    "from keras.models import Sequential\n",
    "from keras.layers import Dense, Dropout\n",
    "from keras.regularizers import l2\n",
    "from loop import TrainingLoop\n",
    "from batchSelection import bad_batch_selector"
   ]
  },
  {
   "cell_type": "code",
   "execution_count": 2,
   "metadata": {},
   "outputs": [],
   "source": [
    "# Loading the dataset from the files saved in the preprocessing notebook.\n",
    "path = 'data/music_genres'\n",
    "prefix = 'music_genres_'\n",
    "X_train = np.load(os.path.join(path, prefix+'train_vectors.npy'))\n",
    "y_train = np.load(os.path.join(path, prefix+'train_labels.npy'))\n",
    "X_test  = np.load(os.path.join(path, prefix+'test_vectors.npy'))\n",
    "y_test  = np.load(os.path.join(path, prefix+'test_labels.npy'))"
   ]
  },
  {
   "cell_type": "code",
   "execution_count": 3,
   "metadata": {},
   "outputs": [],
   "source": [
    "def build_model():\n",
    "    # Setting up the model.\n",
    "    model = Sequential()\n",
    "    model.add(Dense(250, activation='relu', input_shape=(X_train.shape[1],)))\n",
    "    model.add(Dropout(0.4))\n",
    "    model.add(Dense(100, activation='relu', kernel_regularizer=l2(0.01)))\n",
    "    model.add(Dropout(0.4))\n",
    "    model.add(Dense(50, activation='relu', kernel_regularizer=l2(0.01)))\n",
    "    model.add(Dense(y_train.shape[1], activation='softmax'))\n",
    "    return model"
   ]
  },
  {
   "cell_type": "code",
   "execution_count": 4,
   "metadata": {},
   "outputs": [],
   "source": [
    "def train(model, X_train, y_train, batch_selection, epochs):\n",
    "    log_dir = {bad_batch_selector: 'windowed', None: 'original'}\n",
    "    # Put the model in our custom training loop.\n",
    "    TrainingLoop(\n",
    "        model,\n",
    "        X_train,\n",
    "        y_train,\n",
    "        validation_split = 0.1,\n",
    "        batch_size = 12,\n",
    "        optimizer = tf.keras.optimizers.Adam(),\n",
    "        loss_function = tf.keras.losses.CategoricalCrossentropy(),\n",
    "        train_metrics = tf.keras.metrics.CategoricalAccuracy(),\n",
    "        val_metrics = tf.keras.metrics.CategoricalAccuracy(),\n",
    "        batch_selection = batch_selection,\n",
    "        log_file = os.path.join('logs', log_dir[batch_selection], 'music_genres.csv')\n",
    "    ).train(epochs)  # Training model."
   ]
  },
  {
   "cell_type": "code",
   "execution_count": 5,
   "metadata": {},
   "outputs": [
    {
     "output_type": "stream",
     "name": "stderr",
     "text": [
      "Epoch 1/50\tLoss: 1.8535\tMetrics: 0.2055: \tValidation metrics: 0.375: \t100% | 60/60 [00:07<00:00,  8.36it/s]\n",
      "Epoch 2/50\tLoss: 1.5358\tMetrics: 0.3638: \tValidation metrics: 0.4444: \t100% | 60/60 [00:01<00:00, 39.01it/s]\n",
      "Epoch 3/50\tLoss: 1.4155\tMetrics: 0.4583: \tValidation metrics: 0.5138: \t100% | 60/60 [00:01<00:00, 57.58it/s]\n",
      "Epoch 4/50\tLoss: 1.6259\tMetrics: 0.4819: \tValidation metrics: 0.4722: \t100% | 60/60 [00:00<00:00, 63.29it/s]\n",
      "Epoch 5/50\tLoss: 1.3714\tMetrics: 0.5430: \tValidation metrics: 0.5138: \t100% | 60/60 [00:00<00:00, 67.04it/s]\n",
      "Epoch 6/50\tLoss: 1.4894\tMetrics: 0.5722: \tValidation metrics: 0.5277: \t100% | 60/60 [00:01<00:00, 58.82it/s]\n",
      "Epoch 7/50\tLoss: 1.5168\tMetrics: 0.5638: \tValidation metrics: 0.5277: \t100% | 60/60 [00:01<00:00, 47.58it/s]\n",
      "Epoch 8/50\tLoss: 1.6092\tMetrics: 0.6013: \tValidation metrics: 0.5416: \t100% | 60/60 [00:01<00:00, 32.28it/s]\n",
      "Epoch 9/50\tLoss: 1.4755\tMetrics: 0.6041: \tValidation metrics: 0.5833: \t100% | 60/60 [00:01<00:00, 44.12it/s]\n",
      "Epoch 10/50\tLoss: 1.8161\tMetrics: 0.6374: \tValidation metrics: 0.5555: \t100% | 60/60 [00:02<00:00, 22.67it/s]\n",
      "Epoch 11/50\tLoss: 1.6130\tMetrics: 0.6416: \tValidation metrics: 0.5833: \t100% | 60/60 [00:01<00:00, 31.38it/s]\n",
      "Epoch 12/50\tLoss: 1.5259\tMetrics: 0.6583: \tValidation metrics: 0.5416: \t100% | 60/60 [00:01<00:00, 33.61it/s]\n",
      "Epoch 13/50\tLoss: 1.7933\tMetrics: 0.6444: \tValidation metrics: 0.6111: \t100% | 60/60 [00:01<00:00, 39.24it/s]\n",
      "Epoch 14/50\tLoss: 1.3726\tMetrics: 0.6694: \tValidation metrics: 0.5972: \t100% | 60/60 [00:01<00:00, 33.17it/s]\n",
      "Epoch 15/50\tLoss: 1.3087\tMetrics: 0.6763: \tValidation metrics: 0.5833: \t100% | 60/60 [00:00<00:00, 64.59it/s]\n",
      "Epoch 16/50\tLoss: 1.5583\tMetrics: 0.6763: \tValidation metrics: 0.5833: \t100% | 60/60 [00:00<00:00, 60.18it/s]\n",
      "Epoch 17/50\tLoss: 1.3243\tMetrics: 0.7166: \tValidation metrics: 0.5694: \t100% | 60/60 [00:01<00:00, 46.01it/s]\n",
      "Epoch 18/50\tLoss: 1.7268\tMetrics: 0.6930: \tValidation metrics: 0.6111: \t100% | 60/60 [00:01<00:00, 32.41it/s]\n",
      "Epoch 19/50\tLoss: 1.2828\tMetrics: 0.7013: \tValidation metrics: 0.6111: \t100% | 60/60 [00:01<00:00, 32.03it/s]\n",
      "Epoch 20/50\tLoss: 1.4605\tMetrics: 0.7250: \tValidation metrics: 0.5833: \t100% | 60/60 [00:01<00:00, 39.42it/s]\n",
      "Epoch 21/50\tLoss: 1.4371\tMetrics: 0.7097: \tValidation metrics: 0.625: \t100% | 60/60 [00:02<00:00, 23.40it/s]\n",
      "Epoch 22/50\tLoss: 1.5002\tMetrics: 0.7236: \tValidation metrics: 0.625: \t100% | 60/60 [00:01<00:00, 39.29it/s]\n",
      "Epoch 23/50\tLoss: 1.7146\tMetrics: 0.7277: \tValidation metrics: 0.6388: \t100% | 60/60 [00:01<00:00, 41.44it/s]\n",
      "Epoch 24/50\tLoss: 1.5504\tMetrics: 0.7347: \tValidation metrics: 0.6388: \t100% | 60/60 [00:01<00:00, 34.36it/s]\n",
      "Epoch 25/50\tLoss: 1.4156\tMetrics: 0.7388: \tValidation metrics: 0.5972: \t100% | 60/60 [00:01<00:00, 43.45it/s]\n",
      "Epoch 26/50\tLoss: 1.7074\tMetrics: 0.7569: \tValidation metrics: 0.6527: \t100% | 60/60 [00:01<00:00, 42.49it/s]\n",
      "Epoch 27/50\tLoss: 1.1863\tMetrics: 0.75: \tValidation metrics: 0.6527: \t100% | 60/60 [00:01<00:00, 59.88it/s]\n",
      "Epoch 28/50\tLoss: 1.5624\tMetrics: 0.7541: \tValidation metrics: 0.625: \t100% | 60/60 [00:01<00:00, 54.15it/s]\n",
      "Epoch 29/50\tLoss: 1.4793\tMetrics: 0.7833: \tValidation metrics: 0.625: \t100% | 60/60 [00:00<00:00, 64.17it/s]\n",
      "Epoch 30/50\tLoss: 1.0118\tMetrics: 0.7861: \tValidation metrics: 0.6388: \t100% | 60/60 [00:01<00:00, 31.43it/s]\n",
      "Epoch 31/50\tLoss: 1.4515\tMetrics: 0.7902: \tValidation metrics: 0.6527: \t100% | 60/60 [00:01<00:00, 48.00it/s]\n",
      "Epoch 32/50\tLoss: 1.0801\tMetrics: 0.7833: \tValidation metrics: 0.625: \t100% | 60/60 [00:01<00:00, 37.81it/s]\n",
      "Epoch 33/50\tLoss: 0.8185\tMetrics: 0.7777: \tValidation metrics: 0.6527: \t100% | 60/60 [00:01<00:00, 51.33it/s]\n",
      "Epoch 34/50\tLoss: 1.2359\tMetrics: 0.7708: \tValidation metrics: 0.6805: \t100% | 60/60 [00:03<00:00, 15.12it/s]\n",
      "Epoch 35/50\tLoss: 1.3720\tMetrics: 0.7902: \tValidation metrics: 0.6527: \t100% | 60/60 [00:03<00:00, 17.35it/s]\n",
      "Epoch 36/50\tLoss: 0.7795\tMetrics: 0.8000: \tValidation metrics: 0.625: \t100% | 60/60 [00:02<00:00, 27.27it/s]\n",
      "Epoch 37/50\tLoss: 1.3498\tMetrics: 0.7972: \tValidation metrics: 0.6666: \t100% | 60/60 [00:03<00:00, 19.89it/s]\n",
      "Epoch 38/50\tLoss: 0.8870\tMetrics: 0.7986: \tValidation metrics: 0.6944: \t100% | 60/60 [00:02<00:00, 27.97it/s]\n",
      "Epoch 39/50\tLoss: 0.8206\tMetrics: 0.8111: \tValidation metrics: 0.6666: \t100% | 60/60 [00:01<00:00, 44.09it/s]\n",
      "Epoch 40/50\tLoss: 1.0373\tMetrics: 0.8333: \tValidation metrics: 0.6944: \t100% | 60/60 [00:01<00:00, 41.32it/s]\n",
      "Epoch 41/50\tLoss: 0.8089\tMetrics: 0.8236: \tValidation metrics: 0.6666: \t100% | 60/60 [00:02<00:00, 27.41it/s]\n",
      "Epoch 42/50\tLoss: 1.1343\tMetrics: 0.8138: \tValidation metrics: 0.6666: \t100% | 60/60 [00:02<00:00, 25.84it/s]\n",
      "Epoch 43/50\tLoss: 1.2238\tMetrics: 0.8291: \tValidation metrics: 0.6666: \t100% | 60/60 [00:01<00:00, 41.10it/s]\n",
      "Epoch 44/50\tLoss: 1.1460\tMetrics: 0.8458: \tValidation metrics: 0.6388: \t100% | 60/60 [00:01<00:00, 33.00it/s]\n",
      "Epoch 45/50\tLoss: 0.8889\tMetrics: 0.8388: \tValidation metrics: 0.6805: \t100% | 60/60 [00:02<00:00, 28.14it/s]\n",
      "Epoch 46/50\tLoss: 0.8213\tMetrics: 0.8347: \tValidation metrics: 0.6805: \t100% | 60/60 [00:01<00:00, 30.55it/s]\n",
      "Epoch 47/50\tLoss: 0.9093\tMetrics: 0.8430: \tValidation metrics: 0.6666: \t100% | 60/60 [00:02<00:00, 27.31it/s]\n",
      "Epoch 48/50\tLoss: 1.1917\tMetrics: 0.8305: \tValidation metrics: 0.7083: \t100% | 60/60 [00:01<00:00, 37.34it/s]\n",
      "Epoch 49/50\tLoss: 0.8061\tMetrics: 0.8194: \tValidation metrics: 0.6527: \t100% | 60/60 [00:02<00:00, 29.40it/s]\n",
      "Epoch 50/50\tLoss: 0.9961\tMetrics: 0.8444: \tValidation metrics: 0.6944: \t100% | 60/60 [00:01<00:00, 45.87it/s]\n"
     ]
    }
   ],
   "source": [
    "# Set random seed so the comparison of different solutions won't be affected by it.\n",
    "tf.random.set_seed(42)\n",
    "np.random.seed(42)\n",
    "\n",
    "# Train model with default batch selection.\n",
    "model = build_model()\n",
    "train(model, X_train, y_train, batch_selection=None, epochs=50)"
   ]
  },
  {
   "cell_type": "code",
   "execution_count": 6,
   "metadata": {},
   "outputs": [
    {
     "output_type": "stream",
     "name": "stdout",
     "text": [
      "7/7 [==============================] - 0s 7ms/step - loss: 5.2332 - accuracy: 0.6850\n"
     ]
    },
    {
     "output_type": "execute_result",
     "data": {
      "text/plain": [
       "[5.233212947845459, 0.6850000023841858]"
      ]
     },
     "metadata": {},
     "execution_count": 6
    }
   ],
   "source": [
    "# We still have to compile the model for the test evaluation.\n",
    "model.compile(loss='categorical_crossentropy', optimizer='adam', metrics=['accuracy'])\n",
    "# After compiling we can run the evaluation.\n",
    "model.evaluate(X_test, y_test)"
   ]
  },
  {
   "cell_type": "code",
   "execution_count": 7,
   "metadata": {},
   "outputs": [
    {
     "output_type": "stream",
     "name": "stderr",
     "text": [
      "Epoch 1/50\tLoss: 2.0496\tMetrics: 0.1958: \tValidation metrics: 0.4305: \t100% | 60/60 [00:06<00:00,  9.68it/s]\n",
      "Epoch 2/50\tLoss: 1.5194\tMetrics: 0.2874: \tValidation metrics: 0.4166: \t100% | 60/60 [00:02<00:00, 27.62it/s]\n",
      "Epoch 3/50\tLoss: 1.4034\tMetrics: 0.3597: \tValidation metrics: 0.4583: \t100% | 60/60 [00:02<00:00, 24.06it/s]\n",
      "Epoch 4/50\tLoss: 1.6548\tMetrics: 0.4486: \tValidation metrics: 0.4722: \t100% | 60/60 [00:02<00:00, 29.73it/s]\n",
      "Epoch 5/50\tLoss: 1.3414\tMetrics: 0.4430: \tValidation metrics: 0.4722: \t100% | 60/60 [00:01<00:00, 31.15it/s]\n",
      "Epoch 6/50\tLoss: 1.3222\tMetrics: 0.4986: \tValidation metrics: 0.5555: \t100% | 60/60 [00:02<00:00, 26.93it/s]\n",
      "Epoch 7/50\tLoss: 1.5119\tMetrics: 0.5319: \tValidation metrics: 0.5555: \t100% | 60/60 [00:03<00:00, 19.61it/s]\n",
      "Epoch 8/50\tLoss: 1.6802\tMetrics: 0.5402: \tValidation metrics: 0.5277: \t100% | 60/60 [00:03<00:00, 18.50it/s]\n",
      "Epoch 9/50\tLoss: 1.2591\tMetrics: 0.5680: \tValidation metrics: 0.5277: \t100% | 60/60 [00:01<00:00, 31.15it/s]\n",
      "Epoch 10/50\tLoss: 1.4951\tMetrics: 0.5777: \tValidation metrics: 0.5277: \t100% | 60/60 [00:01<00:00, 31.46it/s]\n",
      "Epoch 11/50\tLoss: 1.4153\tMetrics: 0.6041: \tValidation metrics: 0.5555: \t100% | 60/60 [00:01<00:00, 32.79it/s]\n",
      "Epoch 12/50\tLoss: 1.4998\tMetrics: 0.6277: \tValidation metrics: 0.5833: \t100% | 60/60 [00:02<00:00, 29.88it/s]\n",
      "Epoch 13/50\tLoss: 1.6821\tMetrics: 0.5916: \tValidation metrics: 0.5277: \t100% | 60/60 [00:02<00:00, 28.17it/s]\n",
      "Epoch 14/50\tLoss: 1.3991\tMetrics: 0.6402: \tValidation metrics: 0.5833: \t100% | 60/60 [00:02<00:00, 29.87it/s]\n",
      "Epoch 15/50\tLoss: 1.4112\tMetrics: 0.6652: \tValidation metrics: 0.6111: \t100% | 60/60 [00:01<00:00, 31.14it/s]\n",
      "Epoch 16/50\tLoss: 1.5496\tMetrics: 0.6777: \tValidation metrics: 0.5416: \t100% | 60/60 [00:01<00:00, 33.92it/s]\n",
      "Epoch 17/50\tLoss: 1.4158\tMetrics: 0.6458: \tValidation metrics: 0.6111: \t100% | 60/60 [00:02<00:00, 29.08it/s]\n",
      "Epoch 18/50\tLoss: 1.6529\tMetrics: 0.6694: \tValidation metrics: 0.5694: \t100% | 60/60 [00:01<00:00, 31.90it/s]\n",
      "Epoch 19/50\tLoss: 1.1745\tMetrics: 0.6805: \tValidation metrics: 0.5833: \t100% | 60/60 [00:01<00:00, 30.58it/s]\n",
      "Epoch 20/50\tLoss: 1.3080\tMetrics: 0.6999: \tValidation metrics: 0.5694: \t100% | 60/60 [00:03<00:00, 15.10it/s]\n",
      "Epoch 21/50\tLoss: 1.2899\tMetrics: 0.6944: \tValidation metrics: 0.625: \t100% | 60/60 [00:03<00:00, 19.54it/s]\n",
      "Epoch 22/50\tLoss: 1.2707\tMetrics: 0.6999: \tValidation metrics: 0.5833: \t100% | 60/60 [00:02<00:00, 28.78it/s]\n",
      "Epoch 23/50\tLoss: 1.5379\tMetrics: 0.7180: \tValidation metrics: 0.625: \t100% | 60/60 [00:02<00:00, 27.76it/s]\n",
      "Epoch 24/50\tLoss: 1.4356\tMetrics: 0.6875: \tValidation metrics: 0.5972: \t100% | 60/60 [00:01<00:00, 31.98it/s]\n",
      "Epoch 25/50\tLoss: 1.4250\tMetrics: 0.7208: \tValidation metrics: 0.6111: \t100% | 60/60 [00:01<00:00, 31.32it/s]\n",
      "Epoch 26/50\tLoss: 1.6431\tMetrics: 0.7347: \tValidation metrics: 0.6111: \t100% | 60/60 [00:02<00:00, 29.56it/s]\n",
      "Epoch 27/50\tLoss: 1.3412\tMetrics: 0.7486: \tValidation metrics: 0.5972: \t100% | 60/60 [00:02<00:00, 26.42it/s]\n",
      "Epoch 28/50\tLoss: 1.3188\tMetrics: 0.7555: \tValidation metrics: 0.5972: \t100% | 60/60 [00:02<00:00, 25.42it/s]\n",
      "Epoch 29/50\tLoss: 1.5435\tMetrics: 0.7541: \tValidation metrics: 0.5833: \t100% | 60/60 [00:01<00:00, 32.91it/s]\n",
      "Epoch 30/50\tLoss: 1.0493\tMetrics: 0.7694: \tValidation metrics: 0.6111: \t100% | 60/60 [00:02<00:00, 23.40it/s]\n",
      "Epoch 31/50\tLoss: 1.5593\tMetrics: 0.7444: \tValidation metrics: 0.625: \t100% | 60/60 [00:02<00:00, 22.24it/s]\n",
      "Epoch 32/50\tLoss: 1.5062\tMetrics: 0.7736: \tValidation metrics: 0.625: \t100% | 60/60 [00:02<00:00, 23.99it/s]\n",
      "Epoch 33/50\tLoss: 1.2459\tMetrics: 0.7680: \tValidation metrics: 0.6388: \t100% | 60/60 [00:02<00:00, 27.17it/s]\n",
      "Epoch 34/50\tLoss: 1.2188\tMetrics: 0.7763: \tValidation metrics: 0.6388: \t100% | 60/60 [00:02<00:00, 22.09it/s]\n",
      "Epoch 35/50\tLoss: 1.1370\tMetrics: 0.7652: \tValidation metrics: 0.625: \t100% | 60/60 [00:01<00:00, 30.09it/s]\n",
      "Epoch 36/50\tLoss: 1.2361\tMetrics: 0.7805: \tValidation metrics: 0.6388: \t100% | 60/60 [00:01<00:00, 31.32it/s]\n",
      "Epoch 37/50\tLoss: 0.9577\tMetrics: 0.7833: \tValidation metrics: 0.6527: \t100% | 60/60 [00:02<00:00, 29.31it/s]\n",
      "Epoch 38/50\tLoss: 0.9942\tMetrics: 0.7875: \tValidation metrics: 0.625: \t100% | 60/60 [00:02<00:00, 29.24it/s]\n",
      "Epoch 39/50\tLoss: 0.8619\tMetrics: 0.8055: \tValidation metrics: 0.6111: \t100% | 60/60 [00:01<00:00, 30.71it/s]\n",
      "Epoch 40/50\tLoss: 0.9715\tMetrics: 0.7819: \tValidation metrics: 0.6388: \t100% | 60/60 [00:01<00:00, 31.75it/s]\n",
      "Epoch 41/50\tLoss: 1.2373\tMetrics: 0.8069: \tValidation metrics: 0.5972: \t100% | 60/60 [00:02<00:00, 21.53it/s]\n",
      "Epoch 42/50\tLoss: 1.0657\tMetrics: 0.8152: \tValidation metrics: 0.6527: \t100% | 60/60 [00:01<00:00, 30.90it/s]\n",
      "Epoch 43/50\tLoss: 1.2891\tMetrics: 0.8125: \tValidation metrics: 0.6527: \t100% | 60/60 [00:01<00:00, 39.58it/s]\n",
      "Epoch 44/50\tLoss: 1.2244\tMetrics: 0.8249: \tValidation metrics: 0.6527: \t100% | 60/60 [00:01<00:00, 35.50it/s]\n",
      "Epoch 45/50\tLoss: 1.2885\tMetrics: 0.8152: \tValidation metrics: 0.6388: \t100% | 60/60 [00:01<00:00, 36.19it/s]\n",
      "Epoch 46/50\tLoss: 0.9947\tMetrics: 0.8486: \tValidation metrics: 0.625: \t100% | 60/60 [00:01<00:00, 35.19it/s]\n",
      "Epoch 47/50\tLoss: 1.1241\tMetrics: 0.8083: \tValidation metrics: 0.6527: \t100% | 60/60 [00:01<00:00, 37.50it/s]\n",
      "Epoch 48/50\tLoss: 1.2000\tMetrics: 0.8236: \tValidation metrics: 0.6111: \t100% | 60/60 [00:01<00:00, 39.97it/s]\n",
      "Epoch 49/50\tLoss: 0.8779\tMetrics: 0.8138: \tValidation metrics: 0.6527: \t100% | 60/60 [00:01<00:00, 38.94it/s]\n",
      "Epoch 50/50\tLoss: 0.8511\tMetrics: 0.8458: \tValidation metrics: 0.7083: \t100% | 60/60 [00:01<00:00, 36.30it/s]\n"
     ]
    }
   ],
   "source": [
    "tf.random.set_seed(42)\n",
    "np.random.seed(42)\n",
    "\n",
    "# Train model with windowed batch selection algorithm.\n",
    "model = build_model()\n",
    "train(model, X_train, y_train, batch_selection=bad_batch_selector, epochs=50)"
   ]
  },
  {
   "cell_type": "code",
   "execution_count": 8,
   "metadata": {},
   "outputs": [
    {
     "output_type": "stream",
     "name": "stdout",
     "text": [
      "7/7 [==============================] - 0s 3ms/step - loss: 5.2678 - accuracy: 0.6600\n"
     ]
    },
    {
     "output_type": "execute_result",
     "data": {
      "text/plain": [
       "[5.26779317855835, 0.6600000262260437]"
      ]
     },
     "metadata": {},
     "execution_count": 8
    }
   ],
   "source": [
    "model.compile(loss='categorical_crossentropy', optimizer='adam', metrics=['accuracy'])\n",
    "model.evaluate(X_test, y_test)"
   ]
  }
 ]
}