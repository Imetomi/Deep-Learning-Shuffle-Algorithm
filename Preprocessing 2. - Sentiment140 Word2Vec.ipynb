{
 "cells": [
  {
   "cell_type": "markdown",
   "metadata": {},
   "source": [
    "# Dataset Preparation\n",
    "\n",
    "In this notebook we train a Word2Vec model for preprocessing data for the LSTM benchmark neural network."
   ]
  },
  {
   "cell_type": "code",
   "execution_count": 1,
   "metadata": {},
   "outputs": [],
   "source": [
    "import pandas as pd\n",
    "import numpy as np\n",
    "import json\n",
    "import os\n",
    "import sys\n",
    "import pickle\n",
    "from tqdm.notebook import tqdm\n",
    "from nltk.tokenize import word_tokenize \n",
    "from sklearn.model_selection import train_test_split\n",
    "import gc\n",
    "from gensim.models import Word2Vec\n",
    "from gensim.models import KeyedVectors"
   ]
  },
  {
   "cell_type": "code",
   "execution_count": 2,
   "metadata": {},
   "outputs": [],
   "source": [
    "folder_path_it = \"C:\\\\Users\\\\Imetomi\\\\Documents\\\\MEGA\\\\Uni\\\\5. Felev\\\\Deep Learning\\\\Deep-Learning-Shuffle-Algorithms\"\n",
    "data_path = 'data'\n",
    "file_name = 'twitter_sentiment.csv'"
   ]
  },
  {
   "cell_type": "code",
   "execution_count": 3,
   "metadata": {},
   "outputs": [],
   "source": [
    "data = pd.read_csv(os.path.join(data_path, file_name), encoding = \"cp1252\")\n",
    "data.columns = ['Label', 'ID', 'Date', 'IDK', 'User', 'Post']"
   ]
  },
  {
   "cell_type": "code",
   "execution_count": 4,
   "metadata": {},
   "outputs": [
    {
     "data": {
      "text/html": [
       "<div>\n",
       "<style scoped>\n",
       "    .dataframe tbody tr th:only-of-type {\n",
       "        vertical-align: middle;\n",
       "    }\n",
       "\n",
       "    .dataframe tbody tr th {\n",
       "        vertical-align: top;\n",
       "    }\n",
       "\n",
       "    .dataframe thead th {\n",
       "        text-align: right;\n",
       "    }\n",
       "</style>\n",
       "<table border=\"1\" class=\"dataframe\">\n",
       "  <thead>\n",
       "    <tr style=\"text-align: right;\">\n",
       "      <th></th>\n",
       "      <th>Label</th>\n",
       "      <th>ID</th>\n",
       "      <th>Date</th>\n",
       "      <th>IDK</th>\n",
       "      <th>User</th>\n",
       "      <th>Post</th>\n",
       "    </tr>\n",
       "  </thead>\n",
       "  <tbody>\n",
       "    <tr>\n",
       "      <th>0</th>\n",
       "      <td>0</td>\n",
       "      <td>1467810672</td>\n",
       "      <td>Mon Apr 06 22:19:49 PDT 2009</td>\n",
       "      <td>NO_QUERY</td>\n",
       "      <td>scotthamilton</td>\n",
       "      <td>is upset that he can't update his Facebook by ...</td>\n",
       "    </tr>\n",
       "    <tr>\n",
       "      <th>1</th>\n",
       "      <td>0</td>\n",
       "      <td>1467810917</td>\n",
       "      <td>Mon Apr 06 22:19:53 PDT 2009</td>\n",
       "      <td>NO_QUERY</td>\n",
       "      <td>mattycus</td>\n",
       "      <td>@Kenichan I dived many times for the ball. Man...</td>\n",
       "    </tr>\n",
       "    <tr>\n",
       "      <th>2</th>\n",
       "      <td>0</td>\n",
       "      <td>1467811184</td>\n",
       "      <td>Mon Apr 06 22:19:57 PDT 2009</td>\n",
       "      <td>NO_QUERY</td>\n",
       "      <td>ElleCTF</td>\n",
       "      <td>my whole body feels itchy and like its on fire</td>\n",
       "    </tr>\n",
       "    <tr>\n",
       "      <th>3</th>\n",
       "      <td>0</td>\n",
       "      <td>1467811193</td>\n",
       "      <td>Mon Apr 06 22:19:57 PDT 2009</td>\n",
       "      <td>NO_QUERY</td>\n",
       "      <td>Karoli</td>\n",
       "      <td>@nationwideclass no, it's not behaving at all....</td>\n",
       "    </tr>\n",
       "    <tr>\n",
       "      <th>4</th>\n",
       "      <td>0</td>\n",
       "      <td>1467811372</td>\n",
       "      <td>Mon Apr 06 22:20:00 PDT 2009</td>\n",
       "      <td>NO_QUERY</td>\n",
       "      <td>joy_wolf</td>\n",
       "      <td>@Kwesidei not the whole crew</td>\n",
       "    </tr>\n",
       "  </tbody>\n",
       "</table>\n",
       "</div>"
      ],
      "text/plain": [
       "   Label          ID                          Date       IDK           User  \\\n",
       "0      0  1467810672  Mon Apr 06 22:19:49 PDT 2009  NO_QUERY  scotthamilton   \n",
       "1      0  1467810917  Mon Apr 06 22:19:53 PDT 2009  NO_QUERY       mattycus   \n",
       "2      0  1467811184  Mon Apr 06 22:19:57 PDT 2009  NO_QUERY        ElleCTF   \n",
       "3      0  1467811193  Mon Apr 06 22:19:57 PDT 2009  NO_QUERY         Karoli   \n",
       "4      0  1467811372  Mon Apr 06 22:20:00 PDT 2009  NO_QUERY       joy_wolf   \n",
       "\n",
       "                                                Post  \n",
       "0  is upset that he can't update his Facebook by ...  \n",
       "1  @Kenichan I dived many times for the ball. Man...  \n",
       "2    my whole body feels itchy and like its on fire   \n",
       "3  @nationwideclass no, it's not behaving at all....  \n",
       "4                      @Kwesidei not the whole crew   "
      ]
     },
     "execution_count": 4,
     "metadata": {},
     "output_type": "execute_result"
    }
   ],
   "source": [
    "data.head()"
   ]
  },
  {
   "cell_type": "code",
   "execution_count": 5,
   "metadata": {},
   "outputs": [],
   "source": [
    "delimiters = '!?/-_\\\\.’\\'' \n",
    "filters = '!\"#$%&()*+,-./:;<=>?@[\\\\]^_`{|}~\\t\\n‘'\n",
    "posts = data['Post']\n",
    "labels = data['Label']"
   ]
  },
  {
   "cell_type": "markdown",
   "metadata": {},
   "source": [
    "This filtering and preprocessing method is a really naive approach but it only has to be good enough to have a great representation for key words for sentiment classification."
   ]
  },
  {
   "cell_type": "code",
   "execution_count": 6,
   "metadata": {},
   "outputs": [
    {
     "data": {
      "application/vnd.jupyter.widget-view+json": {
       "model_id": "426e5aaf640b4d1397bb5f3b4061fa7d",
       "version_major": 2,
       "version_minor": 0
      },
      "text/plain": [
       "HBox(children=(FloatProgress(value=0.0, max=9.0), HTML(value='')))"
      ]
     },
     "metadata": {},
     "output_type": "display_data"
    },
    {
     "name": "stdout",
     "output_type": "stream",
     "text": [
      "\n"
     ]
    },
    {
     "data": {
      "application/vnd.jupyter.widget-view+json": {
       "model_id": "e04c0561d6d64707b18fb13f1bcf6064",
       "version_major": 2,
       "version_minor": 0
      },
      "text/plain": [
       "HBox(children=(FloatProgress(value=0.0, max=34.0), HTML(value='')))"
      ]
     },
     "metadata": {},
     "output_type": "display_data"
    },
    {
     "name": "stdout",
     "output_type": "stream",
     "text": [
      "\n"
     ]
    }
   ],
   "source": [
    "posts = posts.str.lower()\n",
    "posts = posts.str.rstrip()\n",
    "\n",
    "for d in tqdm(delimiters):\n",
    "    posts = posts.str.replace(d, ' ')\n",
    "    \n",
    "for f in tqdm(filters):\n",
    "    posts = posts.str.replace(f, '')\n",
    "\n",
    "posts = posts.str.replace('  ', ' ')\n",
    "posts = posts.str.split(' ')"
   ]
  },
  {
   "cell_type": "code",
   "execution_count": 7,
   "metadata": {},
   "outputs": [
    {
     "data": {
      "text/plain": [
       "0          [is, upset, that, he, can, t, update, his, fac...\n",
       "1          [kenichan, i, dived, many, times, for, the, ba...\n",
       "2          [my, whole, body, feels, itchy, and, like, its...\n",
       "3          [nationwideclass, no, it, s, not, behaving, at...\n",
       "4                          [kwesidei, not, the, whole, crew]\n",
       "                                 ...                        \n",
       "1599994    [just, woke, up, having, no, school, is, the, ...\n",
       "1599995    [thewdb, com, , very, cool, to, hear, old, wal...\n",
       "1599996    [are, you, ready, for, your, mojo, makeover, a...\n",
       "1599997    [happy, 38th, birthday, to, my, boo, of, alll,...\n",
       "1599998    [happy, charitytuesday, thenspcc, sparkscharit...\n",
       "Name: Post, Length: 1599999, dtype: object"
      ]
     },
     "execution_count": 7,
     "metadata": {},
     "output_type": "execute_result"
    }
   ],
   "source": [
    "posts"
   ]
  },
  {
   "cell_type": "markdown",
   "metadata": {},
   "source": [
    "## Training Word2Vec\n",
    "\n",
    "Before training this model we split the dataset into training and testing sets so the W2V model will not see the testing dataset."
   ]
  },
  {
   "cell_type": "code",
   "execution_count": 9,
   "metadata": {},
   "outputs": [],
   "source": [
    "X_train, X_test, y_train, y_test = train_test_split(posts, labels, shuffle=True, random_state=42)"
   ]
  },
  {
   "cell_type": "code",
   "execution_count": 10,
   "metadata": {},
   "outputs": [
    {
     "data": {
      "text/plain": [
       "66270                                       [working, madly]\n",
       "428045     [how, can, it, be, this, cold, it, s, june, , ...\n",
       "1307927    [jojoalexander, ight, i, let, they, lil, white...\n",
       "1112400    [tweetlater, pro, is, the, way, to, go, for, t...\n",
       "840793     [quoti, wanna, wake, up, where, you, arequot, ...\n",
       "                                 ...                        \n",
       "259178                   [i, didn, t, the, link, was, wrong]\n",
       "1414414    [tommcfly, yes, , mcfly, twitter, profile, is,...\n",
       "131932     [sarahftw, i, know, sometimes, i, just, preten...\n",
       "671155     [cant, believe, you, came, and, asked, me, tha...\n",
       "121958                                    [back, from, bali]\n",
       "Name: Post, Length: 1199999, dtype: object"
      ]
     },
     "execution_count": 10,
     "metadata": {},
     "output_type": "execute_result"
    }
   ],
   "source": [
    "X_train"
   ]
  },
  {
   "cell_type": "code",
   "execution_count": 32,
   "metadata": {},
   "outputs": [],
   "source": [
    "model = Word2Vec(X_train, size=250, window=8, min_count=5, workers=8)"
   ]
  },
  {
   "cell_type": "code",
   "execution_count": 33,
   "metadata": {},
   "outputs": [
    {
     "data": {
      "text/plain": [
       "[('lovely', 0.6832084655761719),\n",
       " ('great', 0.6388952136039734),\n",
       " ('cool', 0.5888252854347229),\n",
       " ('lush', 0.5723758935928345),\n",
       " ('pleasant', 0.5713949203491211),\n",
       " ('fantastic', 0.5628350377082825),\n",
       " ('fab', 0.562271773815155),\n",
       " ('beautiful', 0.5509770512580872),\n",
       " ('good', 0.5485318303108215),\n",
       " ('wonderful', 0.5428882241249084)]"
      ]
     },
     "execution_count": 33,
     "metadata": {},
     "output_type": "execute_result"
    }
   ],
   "source": [
    "model.wv.most_similar('nice')"
   ]
  },
  {
   "cell_type": "code",
   "execution_count": 34,
   "metadata": {},
   "outputs": [
    {
     "data": {
      "text/plain": [
       "[('terrible', 0.5930500626564026),\n",
       " ('horrible', 0.5832663774490356),\n",
       " ('shitty', 0.5423679351806641),\n",
       " ('good', 0.5274155139923096),\n",
       " ('shabby', 0.5255607962608337),\n",
       " ('weak', 0.506283700466156),\n",
       " ('baaad', 0.49840688705444336),\n",
       " ('badly', 0.4821602702140808),\n",
       " ('crappy', 0.4775882959365845),\n",
       " ('nasty', 0.46078673005104065)]"
      ]
     },
     "execution_count": 34,
     "metadata": {},
     "output_type": "execute_result"
    }
   ],
   "source": [
    "model.wv.most_similar('bad')"
   ]
  },
  {
   "cell_type": "code",
   "execution_count": 35,
   "metadata": {},
   "outputs": [],
   "source": [
    "model.save('models/w2v.model')"
   ]
  },
  {
   "cell_type": "code",
   "execution_count": 11,
   "metadata": {},
   "outputs": [],
   "source": [
    "model = Word2Vec.load('models/w2v.model')"
   ]
  },
  {
   "cell_type": "markdown",
   "metadata": {},
   "source": [
    "Intuitively I would say this is a reliable representation and we can go on to translate every post to vectors. "
   ]
  },
  {
   "cell_type": "markdown",
   "metadata": {},
   "source": [
    "## Converting and Saving Data\n",
    "\n",
    "We don't know yet how we want to use this dataset. By that I mean it is not clear if we want to add the vectors, calculate the mean of them or just use them as they are with an LSTM network. As a best solution I will convert every sentence into matrices and save them as a numpy array, which is a slow process but this way we can reuse the whole dataset later."
   ]
  },
  {
   "cell_type": "code",
   "execution_count": 12,
   "metadata": {},
   "outputs": [],
   "source": [
    "y_train = (y_train / 4).astype(int)"
   ]
  },
  {
   "cell_type": "code",
   "execution_count": 13,
   "metadata": {},
   "outputs": [],
   "source": [
    "y_test = (y_test / 4).astype(int)"
   ]
  },
  {
   "cell_type": "code",
   "execution_count": 14,
   "metadata": {},
   "outputs": [],
   "source": [
    "def vectorize_sentece(model, sentence, verbose=False):\n",
    "    errors = 0\n",
    "    data = []\n",
    "    for word in sentence:\n",
    "        try:\n",
    "            data.append(model.wv[word])\n",
    "        except:\n",
    "            errors += 1\n",
    "    if verbose:\n",
    "        print(str(errors) + ' error occured during vectorization.')\n",
    "    return np.array(data)"
   ]
  },
  {
   "cell_type": "code",
   "execution_count": 16,
   "metadata": {},
   "outputs": [
    {
     "data": {
      "application/vnd.jupyter.widget-view+json": {
       "model_id": "93cda40207b34d50abdb6a08e5d856b6",
       "version_major": 2,
       "version_minor": 0
      },
      "text/plain": [
       "HBox(children=(FloatProgress(value=0.0, max=119999.0), HTML(value='')))"
      ]
     },
     "metadata": {},
     "output_type": "display_data"
    },
    {
     "name": "stdout",
     "output_type": "stream",
     "text": [
      "\n"
     ]
    }
   ],
   "source": [
    "# because of memory problems we only work with part of the data\n",
    "X_train_vectorized = np.array([vectorize_sentece(model, sentence) for sentence in tqdm(X_train[:int(len(X_train)/10)])])"
   ]
  },
  {
   "cell_type": "code",
   "execution_count": 17,
   "metadata": {},
   "outputs": [],
   "source": [
    "np.save(os.path.join(data_path, 'twitter_train_vectors.npy'), X_train_vectorized)"
   ]
  },
  {
   "cell_type": "code",
   "execution_count": 19,
   "metadata": {},
   "outputs": [],
   "source": [
    "np.save(os.path.join(data_path, 'twitter_train_labels.npy'), y_train[:int(len(y_train)/10)])"
   ]
  },
  {
   "cell_type": "code",
   "execution_count": 20,
   "metadata": {},
   "outputs": [
    {
     "data": {
      "application/vnd.jupyter.widget-view+json": {
       "model_id": "d23cce1553444598beb4417d528618c7",
       "version_major": 2,
       "version_minor": 0
      },
      "text/plain": [
       "HBox(children=(FloatProgress(value=0.0, max=40000.0), HTML(value='')))"
      ]
     },
     "metadata": {},
     "output_type": "display_data"
    },
    {
     "name": "stdout",
     "output_type": "stream",
     "text": [
      "\n"
     ]
    }
   ],
   "source": [
    "X_test_vectorized = np.array([vectorize_sentece(model, sentence) for sentence in tqdm(X_test[:int(len(X_test)/10)])])"
   ]
  },
  {
   "cell_type": "code",
   "execution_count": 21,
   "metadata": {},
   "outputs": [],
   "source": [
    "np.save(os.path.join(data_path, 'twitter_test_vectors.npy'), X_test_vectorized)"
   ]
  },
  {
   "cell_type": "code",
   "execution_count": 22,
   "metadata": {},
   "outputs": [],
   "source": [
    "np.save(os.path.join(data_path, 'twitter_test_labels.npy'), y_test[:int(len(y_test)/10)])"
   ]
  }
 ],
 "metadata": {
  "kernelspec": {
   "display_name": "Python 3",
   "language": "python",
   "name": "python3"
  },
  "language_info": {
   "codemirror_mode": {
    "name": "ipython",
    "version": 3
   },
   "file_extension": ".py",
   "mimetype": "text/x-python",
   "name": "python",
   "nbconvert_exporter": "python",
   "pygments_lexer": "ipython3",
   "version": "3.8.2"
  }
 },
 "nbformat": 4,
 "nbformat_minor": 4
}
