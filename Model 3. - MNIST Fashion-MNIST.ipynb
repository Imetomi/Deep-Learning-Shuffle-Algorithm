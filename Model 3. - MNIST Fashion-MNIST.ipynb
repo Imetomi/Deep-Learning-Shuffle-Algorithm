{
 "cells": [
  {
   "cell_type": "code",
   "execution_count": 3,
   "metadata": {},
   "outputs": [],
   "source": [
    "from loop import TrainingLoop\n",
    "import os\n",
    "import numpy as np\n",
    "import tensorflow as tf\n",
    "\n",
    "# These lines will make the gpu not give errors.\n",
    "gpus= tf.config.experimental.list_physical_devices('GPU')\n",
    "tf.config.experimental.set_memory_growth(gpus[0], True)\n",
    "\n",
    "from tensorflow import keras\n",
    "from tensorflow.keras import layers\n",
    "from tensorflow.keras.models import Sequential\n",
    "\n",
    "# Set random seed so the comparison of different solutions won't be affected by it.\n",
    "tf.random.set_seed(42)\n",
    "np.random.seed(42)\n"
   ]
  },
  {
   "cell_type": "code",
   "execution_count": 6,
   "metadata": {},
   "outputs": [],
   "source": [
    "length = 75\n",
    "\n",
    "@tf.function\n",
    "def calc_loss(x_train, y_train):\n",
    "    with tf.GradientTape() as tape:\n",
    "        logits = model(x_train, training=False)\n",
    "        loss_value = keras.losses.CategoricalCrossentropy(from_logits=True)(y_train, logits)\n",
    "    return loss_value\n",
    "\n",
    "\n",
    "def batch_selector(data, idx):\n",
    "    largest_loss = 0\n",
    "    largest_loss_idx = idx\n",
    "\n",
    "    if idx < len(data) - length:\n",
    "        for i in range(idx, idx+length):\n",
    "            x_batch_train = data[i][0]\n",
    "            y_batch_train = data[i][1]\n",
    "            loss = calc_loss(x_batch_train, y_batch_train)\n",
    "            if loss > largest_loss:\n",
    "                largest_loss = loss\n",
    "                largest_loss_idx = i\n",
    "        return largest_loss_idx\n",
    "    else:\n",
    "        loss = calc_loss(data[idx][0], data[idx][1])\n",
    "        return idx\n",
    "\n",
    "# Function to load dataset from file. This is needed so we can easily load the two datasets without copy pasteing.\n",
    "def load_data( name ):\n",
    "    X_train = np.load(os.path.join('data', name, name + '_train_vectors.npy'))\n",
    "    X_test = np.load(os.path.join('data', name, name + '_test_vectors.npy'))\n",
    "    Y_train = np.load(os.path.join('data', name, name + '_train_labels.npy'))\n",
    "    Y_test = np.load(os.path.join('data', name, name + '_test_labels.npy'))\n",
    "\n",
    "    # The images need to have shape (28, 28, 1), we didn't take care of this in preprocessing.\n",
    "    X_train = np.expand_dims(X_train, -1)\n",
    "    X_test = np.expand_dims(X_test, -1)\n",
    "\n",
    "    return X_train, Y_train, X_test, Y_test\n",
    "\n",
    "# The same model is used for both datasets so it is more convenient to make them in a funtion.\n",
    "def make_model(X_train, Y_train):\n",
    "\n",
    "    # This is a simple convolutional neural network. It isn't the best possible network for MNIST\n",
    "    # but the point here is to test how much batch selection methods will speed up a CNN, not the CNN itself.\n",
    "    model = Sequential()\n",
    "    model.add(layers.Input(shape = (28, 28, 1,)))\n",
    "    model.add(layers.Conv2D(64, kernel_size = (3, 3), activation = \"relu\"))\n",
    "    model.add(layers.MaxPooling2D( pool_size = (2, 2)))\n",
    "    model.add(layers.Conv2D(64, kernel_size = (3, 3), activation = \"relu\"))\n",
    "    model.add(layers.MaxPooling2D(pool_size = (2, 2)))\n",
    "    model.add(layers.Flatten())\n",
    "    model.add(layers.Dense(10, activation = \"softmax\"))\n",
    "    \n",
    "    # Put the model in our custom training loop.\n",
    "    training = TrainingLoop(\n",
    "        model = model,\n",
    "        X = X_train,\n",
    "        y = Y_train,\n",
    "        optimizer = keras.optimizers.Adam(),\n",
    "        loss_function = keras.losses.CategoricalCrossentropy(from_logits=True),\n",
    "        batch_size = 64,\n",
    "        train_metrics = tf.keras.metrics.CategoricalAccuracy(),\n",
    "        val_metrics = tf.keras.metrics.CategoricalAccuracy(),\n",
    "        validation_split = 0.2,\n",
    "        batch_selection = batch_selector,\n",
    "        length=length\n",
    "    )\n",
    "\n",
    "    # We still have to compile the model for the test evaluation.\n",
    "    model.compile(loss = \"categorical_crossentropy\", optimizer = \"adam\", metrics=[\"accuracy\"])\n",
    "\n",
    "    return model, training\n",
    "\n"
   ]
  },
  {
   "cell_type": "code",
   "execution_count": 7,
   "metadata": {},
   "outputs": [
    {
     "output_type": "stream",
     "name": "stderr",
     "text": [
      "Epoch 1/20\tLoss: 1.5254\tMetrics: 0.8929: \tValidation metrics: 0.9703: \t100% | 750/750 [00:52<00:00, 14.37it/s]\n",
      "Epoch 2/20\tLoss: 1.4960\tMetrics: 0.9506: \tValidation metrics: 0.9744: \t100% | 750/750 [00:50<00:00, 14.73it/s]\n",
      "Epoch 3/20\tLoss: 1.4933\tMetrics: 0.9602: \tValidation metrics: 0.9799: \t100% | 750/750 [00:50<00:00, 14.80it/s]\n",
      "Epoch 4/20\tLoss: 1.4761\tMetrics: 0.9667: \tValidation metrics: 0.9827: \t100% | 750/750 [00:51<00:00, 14.62it/s]\n",
      "Epoch 5/20\tLoss: 1.4677\tMetrics: 0.9690: \tValidation metrics: 0.9839: \t100% | 750/750 [00:51<00:00, 14.67it/s]\n",
      "Epoch 6/20\tLoss: 1.4785\tMetrics: 0.9706: \tValidation metrics: 0.9805: \t100% | 750/750 [00:50<00:00, 14.90it/s]\n",
      "Epoch 7/20\tLoss: 1.4627\tMetrics: 0.9707: \tValidation metrics: 0.9838: \t100% | 750/750 [00:50<00:00, 14.85it/s]\n",
      "Epoch 8/20\tLoss: 1.4814\tMetrics: 0.9721: \tValidation metrics: 0.9839: \t100% | 750/750 [00:51<00:00, 14.58it/s]\n",
      "Epoch 9/20\tLoss: 1.4745\tMetrics: 0.9745: \tValidation metrics: 0.9850: \t100% | 750/750 [00:50<00:00, 14.96it/s]\n",
      "Epoch 10/20\tLoss: 1.4795\tMetrics: 0.9762: \tValidation metrics: 0.9847: \t100% | 750/750 [00:51<00:00, 14.53it/s]\n",
      "Epoch 11/20\tLoss: 1.4921\tMetrics: 0.9771: \tValidation metrics: 0.9787: \t100% | 750/750 [00:50<00:00, 14.77it/s]\n",
      "Epoch 12/20\tLoss: 1.4703\tMetrics: 0.9787: \tValidation metrics: 0.9859: \t100% | 750/750 [00:52<00:00, 14.42it/s]\n",
      "Epoch 13/20\tLoss: 1.4760\tMetrics: 0.9802: \tValidation metrics: 0.9850: \t100% | 750/750 [00:51<00:00, 14.52it/s]\n",
      "Epoch 14/20\tLoss: 1.4762\tMetrics: 0.9810: \tValidation metrics: 0.9847: \t100% | 750/750 [00:51<00:00, 14.68it/s]\n",
      "Epoch 15/20\tLoss: 1.4760\tMetrics: 0.9806: \tValidation metrics: 0.9840: \t100% | 750/750 [00:50<00:00, 14.81it/s]\n",
      "Epoch 16/20\tLoss: 1.4887\tMetrics: 0.9807: \tValidation metrics: 0.9831: \t100% | 750/750 [00:50<00:00, 14.74it/s]\n",
      "Epoch 17/20\tLoss: 1.4612\tMetrics: 0.9814: \tValidation metrics: 0.9832: \t100% | 750/750 [00:50<00:00, 14.84it/s]\n",
      "Epoch 18/20\tLoss: 1.4735\tMetrics: 0.9816: \tValidation metrics: 0.9861: \t100% | 750/750 [00:51<00:00, 14.68it/s]\n",
      "Epoch 19/20\tLoss: 1.4702\tMetrics: 0.9810: \tValidation metrics: 0.9838: \t100% | 750/750 [00:51<00:00, 14.50it/s]\n",
      "Epoch 20/20\tLoss: 1.4614\tMetrics: 0.9817: \tValidation metrics: 0.9862: \t100% | 750/750 [00:50<00:00, 14.85it/s]\n"
     ]
    }
   ],
   "source": [
    "# Load and train the MNIST dataset.\n",
    "X_train, Y_train, X_test, Y_test = load_data( \"mnist\" )\n",
    "model, training = make_model( X_train, Y_train )\n",
    "\n",
    "training.train(epochs = 20)"
   ]
  },
  {
   "cell_type": "code",
   "execution_count": 19,
   "metadata": {},
   "outputs": [
    {
     "output_type": "stream",
     "name": "stdout",
     "text": [
      "313/313 [==============================] - 1s 2ms/step - loss: 0.0858 - accuracy: 0.9886\n"
     ]
    },
    {
     "output_type": "execute_result",
     "data": {
      "text/plain": [
       "[0.08575702458620071, 0.9886000156402588]"
      ]
     },
     "metadata": {},
     "execution_count": 19
    }
   ],
   "source": [
    "# Evaluate the MNIST model.\n",
    "model.evaluate( X_test, Y_test )"
   ]
  },
  {
   "cell_type": "code",
   "execution_count": 22,
   "metadata": {},
   "outputs": [
    {
     "output_type": "stream",
     "name": "stderr",
     "text": [
      "Epoch 1/20\tLoss: 1.7991\tMetrics: 0.7199: \tValidation metrics: 0.8159: \t100% | 750/750 [00:03<00:00, 212.10it/s]\n",
      "Epoch 2/20\tLoss: 1.7035\tMetrics: 0.8386: \tValidation metrics: 0.8521: \t100% | 750/750 [00:03<00:00, 236.91it/s]\n",
      "Epoch 3/20\tLoss: 1.6982\tMetrics: 0.8594: \tValidation metrics: 0.8611: \t100% | 750/750 [00:03<00:00, 241.20it/s]\n",
      "Epoch 4/20\tLoss: 1.6852\tMetrics: 0.8693: \tValidation metrics: 0.8684: \t100% | 750/750 [00:03<00:00, 248.74it/s]\n",
      "Epoch 5/20\tLoss: 1.6428\tMetrics: 0.8760: \tValidation metrics: 0.8741: \t100% | 750/750 [00:02<00:00, 259.69it/s]\n",
      "Epoch 6/20\tLoss: 1.6612\tMetrics: 0.8815: \tValidation metrics: 0.8759: \t100% | 750/750 [00:02<00:00, 266.28it/s]\n",
      "Epoch 7/20\tLoss: 1.6398\tMetrics: 0.8863: \tValidation metrics: 0.8815: \t100% | 750/750 [00:02<00:00, 270.67it/s]\n",
      "Epoch 8/20\tLoss: 1.6129\tMetrics: 0.8909: \tValidation metrics: 0.8857: \t100% | 750/750 [00:02<00:00, 266.67it/s]\n",
      "Epoch 9/20\tLoss: 1.6226\tMetrics: 0.8959: \tValidation metrics: 0.8871: \t100% | 750/750 [00:02<00:00, 268.37it/s]\n",
      "Epoch 10/20\tLoss: 1.6010\tMetrics: 0.8993: \tValidation metrics: 0.8892: \t100% | 750/750 [00:02<00:00, 269.70it/s]\n",
      "Epoch 11/20\tLoss: 1.5951\tMetrics: 0.9034: \tValidation metrics: 0.8907: \t100% | 750/750 [00:02<00:00, 270.79it/s]\n",
      "Epoch 12/20\tLoss: 1.5896\tMetrics: 0.9070: \tValidation metrics: 0.8914: \t100% | 750/750 [00:02<00:00, 269.72it/s]\n",
      "Epoch 13/20\tLoss: 1.5661\tMetrics: 0.9103: \tValidation metrics: 0.8910: \t100% | 750/750 [00:02<00:00, 270.02it/s]\n",
      "Epoch 14/20\tLoss: 1.5864\tMetrics: 0.9117: \tValidation metrics: 0.8925: \t100% | 750/750 [00:02<00:00, 269.05it/s]\n",
      "Epoch 15/20\tLoss: 1.5747\tMetrics: 0.9131: \tValidation metrics: 0.8961: \t100% | 750/750 [00:02<00:00, 268.91it/s]\n",
      "Epoch 16/20\tLoss: 1.5717\tMetrics: 0.9167: \tValidation metrics: 0.8982: \t100% | 750/750 [00:03<00:00, 242.80it/s]\n",
      "Epoch 17/20\tLoss: 1.5472\tMetrics: 0.9191: \tValidation metrics: 0.8985: \t100% | 750/750 [00:03<00:00, 239.64it/s]\n",
      "Epoch 18/20\tLoss: 1.5659\tMetrics: 0.9212: \tValidation metrics: 0.8997: \t100% | 750/750 [00:03<00:00, 238.59it/s]\n",
      "Epoch 19/20\tLoss: 1.5615\tMetrics: 0.9230: \tValidation metrics: 0.8997: \t100% | 750/750 [00:03<00:00, 238.61it/s]\n",
      "Epoch 20/20\tLoss: 1.5418\tMetrics: 0.9253: \tValidation metrics: 0.9010: \t100% | 750/750 [00:03<00:00, 239.95it/s]\n"
     ]
    }
   ],
   "source": [
    "# Load and train the Fashion-MNIST dataset.\n",
    "X_train_f, Y_train_f, X_test_f, Y_test_f = load_data( \"fashion_mnist\" )\n",
    "model_f, training_f = make_model( X_train_f, Y_train_f )\n",
    "\n",
    "training_f.train(epochs = 20)"
   ]
  },
  {
   "cell_type": "code",
   "execution_count": 28,
   "metadata": {},
   "outputs": [
    {
     "output_type": "stream",
     "name": "stdout",
     "text": [
      "313/313 [==============================] - 1s 2ms/step - loss: 1.0972 - accuracy: 0.8968\n"
     ]
    },
    {
     "output_type": "execute_result",
     "data": {
      "text/plain": [
       "[1.0972380638122559, 0.8967999815940857]"
      ]
     },
     "metadata": {},
     "execution_count": 28
    }
   ],
   "source": [
    "# Evaluate the Fashion-MNIST dataset.\n",
    "model_f.evaluate( X_test_f, Y_test_f )"
   ]
  },
  {
   "cell_type": "code",
   "execution_count": null,
   "metadata": {},
   "outputs": [],
   "source": []
  }
 ],
 "metadata": {
  "kernelspec": {
   "name": "python3",
   "display_name": "Python 3"
  },
  "language_info": {
   "codemirror_mode": {
    "name": "ipython",
    "version": 3
   },
   "file_extension": ".py",
   "mimetype": "text/x-python",
   "name": "python",
   "nbconvert_exporter": "python",
   "pygments_lexer": "ipython3",
   "version": "3.8.5-final"
  }
 },
 "nbformat": 4,
 "nbformat_minor": 2
}