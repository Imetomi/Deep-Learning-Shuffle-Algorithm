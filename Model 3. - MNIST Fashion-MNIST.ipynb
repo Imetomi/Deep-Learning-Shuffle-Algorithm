{
 "metadata": {
  "language_info": {
   "codemirror_mode": {
    "name": "ipython",
    "version": 3
   },
   "file_extension": ".py",
   "mimetype": "text/x-python",
   "name": "python",
   "nbconvert_exporter": "python",
   "pygments_lexer": "ipython3",
   "version": "3.8.5-final"
  },
  "orig_nbformat": 2,
  "kernelspec": {
   "name": "python3",
   "display_name": "Python 3.8.5 64-bit",
   "metadata": {
    "interpreter": {
     "hash": "cf4af9ee918b5a5b3067fdac4b348919d4ad21094d0c4f61db57f74f1725edc4"
    }
   }
  }
 },
 "nbformat": 4,
 "nbformat_minor": 2,
 "cells": [
  {
   "cell_type": "code",
   "execution_count": 22,
   "metadata": {},
   "outputs": [],
   "source": [
    "import os\n",
    "import numpy as np\n",
    "\n",
    "#name = \"mnist\"\n",
    "name = \"fashion_mnist\"\n",
    "\n",
    "X_train = np.load(os.path.join('data', name, name + '_train_vectors.npy'))\n",
    "X_test = np.load(os.path.join('data', name, name + '_test_vectors.npy'))\n",
    "Y_train = np.load(os.path.join('data', name, name + '_train_labels.npy'))\n",
    "Y_test = np.load(os.path.join('data', name, name + '_test_labels.npy'))\n",
    "\n",
    "X_train = np.expand_dims(X_train, -1)\n",
    "X_test = np.expand_dims(X_test, -1)"
   ]
  },
  {
   "cell_type": "code",
   "execution_count": 23,
   "metadata": {},
   "outputs": [],
   "source": [
    "import tensorflow as tf\n",
    "from tensorflow import keras\n",
    "from tensorflow.keras import layers\n",
    "from tensorflow.keras.models import Sequential\n",
    "\n",
    "tf.random.set_seed(42)\n",
    "np.random.seed(42)\n",
    "\n",
    "model = Sequential()\n",
    "model.add(layers.Input(shape = (28, 28, 1,)))\n",
    "model.add(layers.Conv2D(64, kernel_size = (3, 3), activation = \"relu\"))\n",
    "model.add(layers.MaxPooling2D( pool_size = (2, 2)))\n",
    "model.add(layers.Conv2D(64, kernel_size = (3, 3), activation = \"relu\"))\n",
    "model.add(layers.MaxPooling2D(pool_size = (2, 2)))\n",
    "model.add(layers.Flatten())\n",
    "model.add(layers.Dense(10, activation = \"softmax\"))\n",
    "\n",
    "model.compile(loss = \"categorical_crossentropy\", optimizer = \"adam\", metrics=[\"accuracy\"])"
   ]
  },
  {
   "cell_type": "code",
   "execution_count": 24,
   "metadata": {},
   "outputs": [
    {
     "output_type": "stream",
     "name": "stdout",
     "text": [
      "Epoch 1/20\n",
      "  1/750 [..............................] - ETA: 1s - loss: 2.3142 - accuracy: 0.0000e+00WARNING:tensorflow:Callbacks method `on_train_batch_end` is slow compared to the batch time (batch time: 0.0010s vs `on_train_batch_end` time: 0.0030s). Check your callbacks.\n",
      "750/750 [==============================] - 3s 4ms/step - loss: 0.5449 - accuracy: 0.8040 - val_loss: 0.3887 - val_accuracy: 0.8674\n",
      "Epoch 2/20\n",
      "750/750 [==============================] - 3s 4ms/step - loss: 0.3585 - accuracy: 0.8738 - val_loss: 0.3378 - val_accuracy: 0.8798\n",
      "Epoch 3/20\n",
      "750/750 [==============================] - 3s 4ms/step - loss: 0.3147 - accuracy: 0.8865 - val_loss: 0.3297 - val_accuracy: 0.8833\n",
      "Epoch 4/20\n",
      "750/750 [==============================] - 3s 4ms/step - loss: 0.2881 - accuracy: 0.8969 - val_loss: 0.3109 - val_accuracy: 0.8871\n",
      "Epoch 5/20\n",
      "750/750 [==============================] - 3s 4ms/step - loss: 0.2685 - accuracy: 0.9029 - val_loss: 0.3027 - val_accuracy: 0.8914\n",
      "Epoch 6/20\n",
      "750/750 [==============================] - 3s 4ms/step - loss: 0.2468 - accuracy: 0.9113 - val_loss: 0.2761 - val_accuracy: 0.9004\n",
      "Epoch 7/20\n",
      "750/750 [==============================] - 3s 4ms/step - loss: 0.2337 - accuracy: 0.9151 - val_loss: 0.2647 - val_accuracy: 0.9064\n",
      "Epoch 8/20\n",
      "750/750 [==============================] - 3s 4ms/step - loss: 0.2194 - accuracy: 0.9198 - val_loss: 0.2662 - val_accuracy: 0.9045\n",
      "Epoch 9/20\n",
      "750/750 [==============================] - 3s 4ms/step - loss: 0.2075 - accuracy: 0.9252 - val_loss: 0.2587 - val_accuracy: 0.9069\n",
      "Epoch 10/20\n",
      "750/750 [==============================] - 3s 4ms/step - loss: 0.1955 - accuracy: 0.9287 - val_loss: 0.2599 - val_accuracy: 0.9093\n",
      "Epoch 11/20\n",
      "750/750 [==============================] - 3s 4ms/step - loss: 0.1840 - accuracy: 0.9335 - val_loss: 0.2581 - val_accuracy: 0.9095\n",
      "Epoch 12/20\n",
      "750/750 [==============================] - 3s 4ms/step - loss: 0.1746 - accuracy: 0.9376 - val_loss: 0.2623 - val_accuracy: 0.9059\n",
      "Epoch 13/20\n",
      "750/750 [==============================] - 3s 4ms/step - loss: 0.1641 - accuracy: 0.9400 - val_loss: 0.2776 - val_accuracy: 0.9032\n",
      "Epoch 14/20\n",
      "750/750 [==============================] - 3s 4ms/step - loss: 0.1562 - accuracy: 0.9431 - val_loss: 0.2792 - val_accuracy: 0.9045\n",
      "Epoch 15/20\n",
      "750/750 [==============================] - 3s 4ms/step - loss: 0.1482 - accuracy: 0.9469 - val_loss: 0.2681 - val_accuracy: 0.9089\n",
      "Epoch 16/20\n",
      "750/750 [==============================] - 3s 4ms/step - loss: 0.1429 - accuracy: 0.9486 - val_loss: 0.2800 - val_accuracy: 0.9087\n",
      "Epoch 17/20\n",
      "750/750 [==============================] - 3s 4ms/step - loss: 0.1334 - accuracy: 0.9515 - val_loss: 0.2755 - val_accuracy: 0.9110\n",
      "Epoch 18/20\n",
      "750/750 [==============================] - 3s 4ms/step - loss: 0.1260 - accuracy: 0.9547 - val_loss: 0.2816 - val_accuracy: 0.9068\n",
      "Epoch 19/20\n",
      "750/750 [==============================] - 3s 4ms/step - loss: 0.1196 - accuracy: 0.9569 - val_loss: 0.3356 - val_accuracy: 0.8997\n",
      "Epoch 20/20\n",
      "750/750 [==============================] - 3s 4ms/step - loss: 0.1155 - accuracy: 0.9578 - val_loss: 0.3045 - val_accuracy: 0.9002\n"
     ]
    }
   ],
   "source": [
    "\n",
    "hist = model.fit(X_train, Y_train, batch_size = 64, epochs= 20, validation_split = 0.2 )"
   ]
  },
  {
   "cell_type": "code",
   "execution_count": 26,
   "metadata": {},
   "outputs": [
    {
     "output_type": "stream",
     "name": "stdout",
     "text": [
      "313/313 [==============================] - 1s 2ms/step - loss: 0.3248 - accuracy: 0.9002\n"
     ]
    },
    {
     "output_type": "execute_result",
     "data": {
      "text/plain": [
       "[0.32475078105926514, 0.9002000093460083]"
      ]
     },
     "metadata": {},
     "execution_count": 26
    }
   ],
   "source": [
    "model.evaluate( X_test, Y_test )"
   ]
  }
 ]
}