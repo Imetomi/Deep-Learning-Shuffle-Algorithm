{
 "cells": [
  {
   "cell_type": "code",
   "execution_count": 16,
   "metadata": {},
   "outputs": [],
   "source": [
    "import os\n",
    "import numpy as np\n",
    "\n",
    "# Function to load dataset from file. This is needed so we can easily load the two datasets without copy pasteing.\n",
    "def load_data( name ):\n",
    "    X_train = np.load(os.path.join('data', name, name + '_train_vectors.npy'))\n",
    "    X_test = np.load(os.path.join('data', name, name + '_test_vectors.npy'))\n",
    "    Y_train = np.load(os.path.join('data', name, name + '_train_labels.npy'))\n",
    "    Y_test = np.load(os.path.join('data', name, name + '_test_labels.npy'))\n",
    "\n",
    "    # The images need to have shape (28, 28, 1), we didn't take care of this in preprocessing.\n",
    "    X_train = np.expand_dims(X_train, -1)\n",
    "    X_test = np.expand_dims(X_test, -1)\n",
    "\n",
    "    return X_train, Y_train, X_test, Y_test\n",
    "\n",
    "# The same model is used for both datasets so it is more convenient to make them in a funtion.\n",
    "def make_model(X_train, Y_train):\n",
    "\n",
    "    # This is a simple convolutional neural network. It isn't the best possible network for MNIST\n",
    "    # but the point here is to test how much batch selection methods will speed up a CNN, not the CNN itself.\n",
    "    model = Sequential()\n",
    "    model.add(layers.Input(shape = (28, 28, 1,)))\n",
    "    model.add(layers.Conv2D(64, kernel_size = (3, 3), activation = \"relu\"))\n",
    "    model.add(layers.MaxPooling2D( pool_size = (2, 2)))\n",
    "    model.add(layers.Conv2D(64, kernel_size = (3, 3), activation = \"relu\"))\n",
    "    model.add(layers.MaxPooling2D(pool_size = (2, 2)))\n",
    "    model.add(layers.Flatten())\n",
    "    model.add(layers.Dense(10, activation = \"softmax\"))\n",
    "    \n",
    "    # Put this model in our custom training loop.\n",
    "    training = TrainingLoop(\n",
    "        model = model,\n",
    "        X = X_train,\n",
    "        y = Y_train,\n",
    "        optimizer = keras.optimizers.Adam(),\n",
    "        loss_function = keras.losses.CategoricalCrossentropy(from_logits=True),\n",
    "        batch_size = 64,\n",
    "        train_metrics = tf.keras.metrics.CategoricalAccuracy(),\n",
    "        val_metrics = tf.keras.metrics.CategoricalAccuracy(),\n",
    "        validation_split = 0.2,\n",
    "    )\n",
    "\n",
    "    # We still have to compile the model for the test evaluation.\n",
    "    model.compile(loss = \"categorical_crossentropy\", optimizer = \"adam\", metrics=[\"accuracy\"])\n",
    "\n",
    "    return model, training\n",
    "\n"
   ]
  },
  {
   "cell_type": "code",
   "execution_count": 17,
   "metadata": {},
   "outputs": [],
   "source": [
    "from loop import TrainingLoop\n",
    "import tensorflow as tf\n",
    "\n",
    "# These lines will make the gpu not give errors.\n",
    "gpus= tf.config.experimental.list_physical_devices('GPU')\n",
    "tf.config.experimental.set_memory_growth(gpus[0], True)\n",
    "\n",
    "from tensorflow import keras\n",
    "from tensorflow.keras import layers\n",
    "from tensorflow.keras.models import Sequential\n",
    "\n",
    "# Set random seed so the comparison of different solutions won't be affected by it.\n",
    "tf.random.set_seed(42)\n",
    "np.random.seed(42)\n"
   ]
  },
  {
   "cell_type": "code",
   "execution_count": 29,
   "metadata": {},
   "outputs": [
    {
     "output_type": "stream",
     "name": "stderr",
     "text": [
      "Epoch 1/20\tLoss: 1.5155\tMetrics: 0.8753: \tValidation metrics: 0.9670: \t100% | 750/750 [00:03<00:00, 204.67it/s]\n",
      "Epoch 2/20\tLoss: 1.5112\tMetrics: 0.9709: \tValidation metrics: 0.9775: \t100% | 750/750 [00:03<00:00, 227.31it/s]\n",
      "Epoch 3/20\tLoss: 1.4868\tMetrics: 0.9780: \tValidation metrics: 0.9811: \t100% | 750/750 [00:03<00:00, 240.33it/s]\n",
      "Epoch 4/20\tLoss: 1.4905\tMetrics: 0.9825: \tValidation metrics: 0.9813: \t100% | 750/750 [00:03<00:00, 228.77it/s]\n",
      "Epoch 5/20\tLoss: 1.4799\tMetrics: 0.9846: \tValidation metrics: 0.9822: \t100% | 750/750 [00:03<00:00, 231.94it/s]\n",
      "Epoch 6/20\tLoss: 1.4883\tMetrics: 0.9866: \tValidation metrics: 0.9822: \t100% | 750/750 [00:03<00:00, 226.34it/s]\n",
      "Epoch 7/20\tLoss: 1.4767\tMetrics: 0.9878: \tValidation metrics: 0.9854: \t100% | 750/750 [00:03<00:00, 233.35it/s]\n",
      "Epoch 8/20\tLoss: 1.4720\tMetrics: 0.9895: \tValidation metrics: 0.9855: \t100% | 750/750 [00:03<00:00, 220.44it/s]\n",
      "Epoch 9/20\tLoss: 1.4637\tMetrics: 0.9896: \tValidation metrics: 0.9847: \t100% | 750/750 [00:03<00:00, 231.36it/s]\n",
      "Epoch 10/20\tLoss: 1.4636\tMetrics: 0.9906: \tValidation metrics: 0.9859: \t100% | 750/750 [00:03<00:00, 237.07it/s]\n",
      "Epoch 11/20\tLoss: 1.4745\tMetrics: 0.9915: \tValidation metrics: 0.9855: \t100% | 750/750 [00:03<00:00, 237.72it/s]\n",
      "Epoch 12/20\tLoss: 1.4736\tMetrics: 0.9919: \tValidation metrics: 0.9846: \t100% | 750/750 [00:03<00:00, 239.42it/s]\n",
      "Epoch 13/20\tLoss: 1.4614\tMetrics: 0.9919: \tValidation metrics: 0.9848: \t100% | 750/750 [00:03<00:00, 237.18it/s]\n",
      "Epoch 14/20\tLoss: 1.4618\tMetrics: 0.9925: \tValidation metrics: 0.9854: \t100% | 750/750 [00:03<00:00, 237.25it/s]\n",
      "Epoch 15/20\tLoss: 1.4623\tMetrics: 0.9932: \tValidation metrics: 0.9864: \t100% | 750/750 [00:03<00:00, 237.75it/s]\n",
      "Epoch 16/20\tLoss: 1.4712\tMetrics: 0.9930: \tValidation metrics: 0.9877: \t100% | 750/750 [00:03<00:00, 235.67it/s]\n",
      "Epoch 17/20\tLoss: 1.4613\tMetrics: 0.9942: \tValidation metrics: 0.9873: \t100% | 750/750 [00:03<00:00, 238.05it/s]\n",
      "Epoch 18/20\tLoss: 1.4612\tMetrics: 0.9945: \tValidation metrics: 0.9885: \t100% | 750/750 [00:03<00:00, 237.99it/s]\n",
      "Epoch 19/20\tLoss: 1.4613\tMetrics: 0.9944: \tValidation metrics: 0.9872: \t100% | 750/750 [00:03<00:00, 239.28it/s]\n",
      "Epoch 20/20\tLoss: 1.4620\tMetrics: 0.9942: \tValidation metrics: 0.9856: \t100% | 750/750 [00:03<00:00, 240.92it/s]\n"
     ]
    }
   ],
   "source": [
    "# Load and train the MNIST dataset.\n",
    "X_train, Y_train, X_test, Y_test = load_data( \"mnist\" )\n",
    "model, training = make_model( X_train, Y_train )\n",
    "\n",
    "training.train(epochs = 20)"
   ]
  },
  {
   "cell_type": "code",
   "execution_count": 19,
   "metadata": {},
   "outputs": [
    {
     "output_type": "stream",
     "name": "stdout",
     "text": [
      "313/313 [==============================] - 1s 2ms/step - loss: 0.0858 - accuracy: 0.9886\n"
     ]
    },
    {
     "output_type": "execute_result",
     "data": {
      "text/plain": [
       "[0.08575702458620071, 0.9886000156402588]"
      ]
     },
     "metadata": {},
     "execution_count": 19
    }
   ],
   "source": [
    "# Evaluate the MNIST model.\n",
    "model.evaluate( X_test, Y_test )"
   ]
  },
  {
   "cell_type": "code",
   "execution_count": 22,
   "metadata": {},
   "outputs": [
    {
     "output_type": "stream",
     "name": "stderr",
     "text": [
      "Epoch 1/20\tLoss: 1.7991\tMetrics: 0.7199: \tValidation metrics: 0.8159: \t100% | 750/750 [00:03<00:00, 212.10it/s]\n",
      "Epoch 2/20\tLoss: 1.7035\tMetrics: 0.8386: \tValidation metrics: 0.8521: \t100% | 750/750 [00:03<00:00, 236.91it/s]\n",
      "Epoch 3/20\tLoss: 1.6982\tMetrics: 0.8594: \tValidation metrics: 0.8611: \t100% | 750/750 [00:03<00:00, 241.20it/s]\n",
      "Epoch 4/20\tLoss: 1.6852\tMetrics: 0.8693: \tValidation metrics: 0.8684: \t100% | 750/750 [00:03<00:00, 248.74it/s]\n",
      "Epoch 5/20\tLoss: 1.6428\tMetrics: 0.8760: \tValidation metrics: 0.8741: \t100% | 750/750 [00:02<00:00, 259.69it/s]\n",
      "Epoch 6/20\tLoss: 1.6612\tMetrics: 0.8815: \tValidation metrics: 0.8759: \t100% | 750/750 [00:02<00:00, 266.28it/s]\n",
      "Epoch 7/20\tLoss: 1.6398\tMetrics: 0.8863: \tValidation metrics: 0.8815: \t100% | 750/750 [00:02<00:00, 270.67it/s]\n",
      "Epoch 8/20\tLoss: 1.6129\tMetrics: 0.8909: \tValidation metrics: 0.8857: \t100% | 750/750 [00:02<00:00, 266.67it/s]\n",
      "Epoch 9/20\tLoss: 1.6226\tMetrics: 0.8959: \tValidation metrics: 0.8871: \t100% | 750/750 [00:02<00:00, 268.37it/s]\n",
      "Epoch 10/20\tLoss: 1.6010\tMetrics: 0.8993: \tValidation metrics: 0.8892: \t100% | 750/750 [00:02<00:00, 269.70it/s]\n",
      "Epoch 11/20\tLoss: 1.5951\tMetrics: 0.9034: \tValidation metrics: 0.8907: \t100% | 750/750 [00:02<00:00, 270.79it/s]\n",
      "Epoch 12/20\tLoss: 1.5896\tMetrics: 0.9070: \tValidation metrics: 0.8914: \t100% | 750/750 [00:02<00:00, 269.72it/s]\n",
      "Epoch 13/20\tLoss: 1.5661\tMetrics: 0.9103: \tValidation metrics: 0.8910: \t100% | 750/750 [00:02<00:00, 270.02it/s]\n",
      "Epoch 14/20\tLoss: 1.5864\tMetrics: 0.9117: \tValidation metrics: 0.8925: \t100% | 750/750 [00:02<00:00, 269.05it/s]\n",
      "Epoch 15/20\tLoss: 1.5747\tMetrics: 0.9131: \tValidation metrics: 0.8961: \t100% | 750/750 [00:02<00:00, 268.91it/s]\n",
      "Epoch 16/20\tLoss: 1.5717\tMetrics: 0.9167: \tValidation metrics: 0.8982: \t100% | 750/750 [00:03<00:00, 242.80it/s]\n",
      "Epoch 17/20\tLoss: 1.5472\tMetrics: 0.9191: \tValidation metrics: 0.8985: \t100% | 750/750 [00:03<00:00, 239.64it/s]\n",
      "Epoch 18/20\tLoss: 1.5659\tMetrics: 0.9212: \tValidation metrics: 0.8997: \t100% | 750/750 [00:03<00:00, 238.59it/s]\n",
      "Epoch 19/20\tLoss: 1.5615\tMetrics: 0.9230: \tValidation metrics: 0.8997: \t100% | 750/750 [00:03<00:00, 238.61it/s]\n",
      "Epoch 20/20\tLoss: 1.5418\tMetrics: 0.9253: \tValidation metrics: 0.9010: \t100% | 750/750 [00:03<00:00, 239.95it/s]\n"
     ]
    }
   ],
   "source": [
    "# Load and train the Fashion-MNIST dataset.\n",
    "X_train_f, Y_train_f, X_test_f, Y_test_f = load_data( \"fashion_mnist\" )\n",
    "model_f, training_f = make_model( X_train_f, Y_train_f )\n",
    "\n",
    "training_f.train(epochs = 20)"
   ]
  },
  {
   "cell_type": "code",
   "execution_count": 28,
   "metadata": {},
   "outputs": [
    {
     "output_type": "stream",
     "name": "stdout",
     "text": [
      "313/313 [==============================] - 1s 2ms/step - loss: 1.0972 - accuracy: 0.8968\n"
     ]
    },
    {
     "output_type": "execute_result",
     "data": {
      "text/plain": [
       "[1.0972380638122559, 0.8967999815940857]"
      ]
     },
     "metadata": {},
     "execution_count": 28
    }
   ],
   "source": [
    "# Evaluate the Fashion-MNIST dataset.\n",
    "model_f.evaluate( X_test_f, Y_test_f )"
   ]
  },
  {
   "cell_type": "code",
   "execution_count": null,
   "metadata": {},
   "outputs": [],
   "source": []
  }
 ],
 "metadata": {
  "kernelspec": {
   "name": "python3",
   "display_name": "Python 3.8.5 64-bit",
   "metadata": {
    "interpreter": {
     "hash": "cf4af9ee918b5a5b3067fdac4b348919d4ad21094d0c4f61db57f74f1725edc4"
    }
   }
  },
  "language_info": {
   "codemirror_mode": {
    "name": "ipython",
    "version": 3
   },
   "file_extension": ".py",
   "mimetype": "text/x-python",
   "name": "python",
   "nbconvert_exporter": "python",
   "pygments_lexer": "ipython3",
   "version": "3.8.5-final"
  }
 },
 "nbformat": 4,
 "nbformat_minor": 2
}