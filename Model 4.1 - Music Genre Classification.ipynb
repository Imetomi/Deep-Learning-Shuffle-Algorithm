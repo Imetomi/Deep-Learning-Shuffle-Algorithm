{
 "cells": [
  {
   "cell_type": "code",
   "execution_count": 1,
   "metadata": {},
   "outputs": [],
   "source": [
    "import os\n",
    "import numpy as np\n",
    "import tensorflow as tf\n",
    "from keras.models import Sequential\n",
    "from keras.layers import Dense, Dropout\n",
    "from keras.regularizers import l2\n",
    "from loop import TrainingLoop"
   ]
  },
  {
   "cell_type": "code",
   "execution_count": 2,
   "metadata": {},
   "outputs": [
    {
     "output_type": "stream",
     "name": "stdout",
     "text": [
      "(800, 26) (800, 10)\n"
     ]
    }
   ],
   "source": [
    "path = 'data/music_genres'\n",
    "prefix = 'music_genres_'\n",
    "X_train = np.load(os.path.join(path, prefix+'train_vectors.npy'))\n",
    "y_train = np.load(os.path.join(path, prefix+'train_labels.npy'))\n",
    "X_test  = np.load(os.path.join(path, prefix+'test_vectors.npy'))\n",
    "y_test  = np.load(os.path.join(path, prefix+'test_labels.npy'))\n",
    "print(X_train.shape, y_train.shape)"
   ]
  },
  {
   "cell_type": "code",
   "execution_count": 3,
   "metadata": {},
   "outputs": [],
   "source": [
    "tf.random.set_seed(42)\n",
    "np.random.seed(42)"
   ]
  },
  {
   "cell_type": "code",
   "execution_count": 4,
   "metadata": {},
   "outputs": [
    {
     "output_type": "stream",
     "name": "stderr",
     "text": [
      "Epoch 1/50\tLoss: 1.8535\tMetrics: 0.2055: \tValidation metrics: 0.375: \t100% | 60/60 [00:02<00:00, 22.08it/s]\n",
      "Epoch 2/50\tLoss: 1.5358\tMetrics: 0.3638: \tValidation metrics: 0.4444: \t100% | 60/60 [00:00<00:00, 72.73it/s]\n",
      "Epoch 3/50\tLoss: 1.4155\tMetrics: 0.4583: \tValidation metrics: 0.5138: \t100% | 60/60 [00:00<00:00, 65.93it/s]\n",
      "Epoch 4/50\tLoss: 1.6259\tMetrics: 0.4819: \tValidation metrics: 0.4722: \t100% | 60/60 [00:00<00:00, 70.84it/s]\n",
      "Epoch 5/50\tLoss: 1.3714\tMetrics: 0.5430: \tValidation metrics: 0.5138: \t100% | 60/60 [00:00<00:00, 79.05it/s]\n",
      "Epoch 6/50\tLoss: 1.4894\tMetrics: 0.5722: \tValidation metrics: 0.5277: \t100% | 60/60 [00:00<00:00, 82.76it/s]\n",
      "Epoch 7/50\tLoss: 1.5168\tMetrics: 0.5638: \tValidation metrics: 0.5277: \t100% | 60/60 [00:00<00:00, 80.64it/s]\n",
      "Epoch 8/50\tLoss: 1.6092\tMetrics: 0.6013: \tValidation metrics: 0.5416: \t100% | 60/60 [00:00<00:00, 77.72it/s]\n",
      "Epoch 9/50\tLoss: 1.4755\tMetrics: 0.6041: \tValidation metrics: 0.5833: \t100% | 60/60 [00:00<00:00, 75.00it/s]\n",
      "Epoch 10/50\tLoss: 1.8161\tMetrics: 0.6374: \tValidation metrics: 0.5555: \t100% | 60/60 [00:00<00:00, 74.26it/s]\n",
      "Epoch 11/50\tLoss: 1.6130\tMetrics: 0.6416: \tValidation metrics: 0.5833: \t100% | 60/60 [00:01<00:00, 48.70it/s]\n",
      "Epoch 12/50\tLoss: 1.5259\tMetrics: 0.6583: \tValidation metrics: 0.5416: \t100% | 60/60 [00:00<00:00, 65.15it/s]\n",
      "Epoch 13/50\tLoss: 1.7933\tMetrics: 0.6444: \tValidation metrics: 0.6111: \t100% | 60/60 [00:00<00:00, 75.09it/s]\n",
      "Epoch 14/50\tLoss: 1.3726\tMetrics: 0.6694: \tValidation metrics: 0.5972: \t100% | 60/60 [00:00<00:00, 64.03it/s]\n",
      "Epoch 15/50\tLoss: 1.3087\tMetrics: 0.6763: \tValidation metrics: 0.5833: \t100% | 60/60 [00:01<00:00, 57.75it/s]\n",
      "Epoch 16/50\tLoss: 1.5583\tMetrics: 0.6763: \tValidation metrics: 0.5833: \t100% | 60/60 [00:00<00:00, 72.46it/s]\n",
      "Epoch 17/50\tLoss: 1.3243\tMetrics: 0.7166: \tValidation metrics: 0.5694: \t100% | 60/60 [00:00<00:00, 79.37it/s]\n",
      "Epoch 18/50\tLoss: 1.7268\tMetrics: 0.6930: \tValidation metrics: 0.6111: \t100% | 60/60 [00:00<00:00, 78.23it/s]\n",
      "Epoch 19/50\tLoss: 1.2828\tMetrics: 0.7013: \tValidation metrics: 0.6111: \t100% | 60/60 [00:00<00:00, 76.44it/s]\n",
      "Epoch 20/50\tLoss: 1.4605\tMetrics: 0.7250: \tValidation metrics: 0.5833: \t100% | 60/60 [00:00<00:00, 79.26it/s]\n",
      "Epoch 21/50\tLoss: 1.4371\tMetrics: 0.7097: \tValidation metrics: 0.625: \t100% | 60/60 [00:00<00:00, 77.02it/s]\n",
      "Epoch 22/50\tLoss: 1.5002\tMetrics: 0.7236: \tValidation metrics: 0.625: \t100% | 60/60 [00:00<00:00, 73.98it/s]\n",
      "Epoch 23/50\tLoss: 1.7146\tMetrics: 0.7277: \tValidation metrics: 0.6388: \t100% | 60/60 [00:00<00:00, 70.84it/s]\n",
      "Epoch 24/50\tLoss: 1.5504\tMetrics: 0.7347: \tValidation metrics: 0.6388: \t100% | 60/60 [00:00<00:00, 65.01it/s]\n",
      "Epoch 25/50\tLoss: 1.4156\tMetrics: 0.7388: \tValidation metrics: 0.5972: \t100% | 60/60 [00:00<00:00, 78.84it/s]\n",
      "Epoch 26/50\tLoss: 1.7074\tMetrics: 0.7569: \tValidation metrics: 0.6527: \t100% | 60/60 [00:00<00:00, 75.09it/s]\n",
      "Epoch 27/50\tLoss: 1.1863\tMetrics: 0.75: \tValidation metrics: 0.6527: \t100% | 60/60 [00:00<00:00, 67.11it/s]\n",
      "Epoch 28/50\tLoss: 1.5624\tMetrics: 0.7541: \tValidation metrics: 0.625: \t100% | 60/60 [00:01<00:00, 53.38it/s]\n",
      "Epoch 29/50\tLoss: 1.4793\tMetrics: 0.7833: \tValidation metrics: 0.625: \t100% | 60/60 [00:00<00:00, 82.31it/s]\n",
      "Epoch 30/50\tLoss: 1.0118\tMetrics: 0.7861: \tValidation metrics: 0.6388: \t100% | 60/60 [00:00<00:00, 69.20it/s]\n",
      "Epoch 31/50\tLoss: 1.4515\tMetrics: 0.7902: \tValidation metrics: 0.6527: \t100% | 60/60 [00:00<00:00, 72.99it/s]\n",
      "Epoch 32/50\tLoss: 1.0801\tMetrics: 0.7833: \tValidation metrics: 0.625: \t100% | 60/60 [00:00<00:00, 70.51it/s]\n",
      "Epoch 33/50\tLoss: 0.8185\tMetrics: 0.7777: \tValidation metrics: 0.6527: \t100% | 60/60 [00:00<00:00, 75.76it/s]\n",
      "Epoch 34/50\tLoss: 1.2359\tMetrics: 0.7708: \tValidation metrics: 0.6805: \t100% | 60/60 [00:00<00:00, 78.74it/s]\n",
      "Epoch 35/50\tLoss: 1.3720\tMetrics: 0.7902: \tValidation metrics: 0.6527: \t100% | 60/60 [00:00<00:00, 79.26it/s]\n",
      "Epoch 36/50\tLoss: 0.7795\tMetrics: 0.8000: \tValidation metrics: 0.625: \t100% | 60/60 [00:00<00:00, 75.95it/s]\n",
      "Epoch 37/50\tLoss: 1.3498\tMetrics: 0.7972: \tValidation metrics: 0.6666: \t100% | 60/60 [00:00<00:00, 78.53it/s]\n",
      "Epoch 38/50\tLoss: 0.8870\tMetrics: 0.7986: \tValidation metrics: 0.6944: \t100% | 60/60 [00:00<00:00, 78.23it/s]\n",
      "Epoch 39/50\tLoss: 0.8206\tMetrics: 0.8111: \tValidation metrics: 0.6666: \t100% | 60/60 [00:00<00:00, 75.19it/s]\n",
      "Epoch 40/50\tLoss: 1.0373\tMetrics: 0.8333: \tValidation metrics: 0.6944: \t100% | 60/60 [00:00<00:00, 73.71it/s]\n",
      "Epoch 41/50\tLoss: 0.8089\tMetrics: 0.8236: \tValidation metrics: 0.6666: \t100% | 60/60 [00:00<00:00, 81.19it/s]\n",
      "Epoch 42/50\tLoss: 1.1343\tMetrics: 0.8138: \tValidation metrics: 0.6666: \t100% | 60/60 [00:00<00:00, 75.38it/s]\n",
      "Epoch 43/50\tLoss: 1.2238\tMetrics: 0.8291: \tValidation metrics: 0.6666: \t100% | 60/60 [00:00<00:00, 74.17it/s]\n",
      "Epoch 44/50\tLoss: 1.1460\tMetrics: 0.8458: \tValidation metrics: 0.6388: \t100% | 60/60 [00:00<00:00, 70.09it/s]\n",
      "Epoch 45/50\tLoss: 0.8889\tMetrics: 0.8388: \tValidation metrics: 0.6805: \t100% | 60/60 [00:00<00:00, 88.11it/s] \n",
      "Epoch 46/50\tLoss: 0.8213\tMetrics: 0.8347: \tValidation metrics: 0.6805: \t100% | 60/60 [00:00<00:00, 78.13it/s]\n",
      "Epoch 47/50\tLoss: 0.9093\tMetrics: 0.8430: \tValidation metrics: 0.6666: \t100% | 60/60 [00:00<00:00, 74.35it/s]\n",
      "Epoch 48/50\tLoss: 1.1917\tMetrics: 0.8305: \tValidation metrics: 0.7083: \t100% | 60/60 [00:00<00:00, 76.43it/s]\n",
      "Epoch 49/50\tLoss: 0.8061\tMetrics: 0.8194: \tValidation metrics: 0.6527: \t100% | 60/60 [00:00<00:00, 78.43it/s]\n",
      "Epoch 50/50\tLoss: 0.9961\tMetrics: 0.8444: \tValidation metrics: 0.6944: \t100% | 60/60 [00:00<00:00, 79.16it/s]\n"
     ]
    }
   ],
   "source": [
    "model = Sequential()\n",
    "model.add(Dense(250, activation='relu', input_shape=(X_train.shape[1],)))\n",
    "model.add(Dropout(0.4))\n",
    "model.add(Dense(100, activation='relu', kernel_regularizer=l2(0.01)))\n",
    "model.add(Dropout(0.4))\n",
    "model.add(Dense(50, activation='relu', kernel_regularizer=l2(0.01)))\n",
    "model.add(Dense(y_train.shape[1], activation='softmax'))\n",
    "\n",
    "t = TrainingLoop(\n",
    "    model, \n",
    "    X_train, \n",
    "    y_train, \n",
    "    validation_split = 0.1,\n",
    "    batch_size = 12,\n",
    "    optimizer = tf.keras.optimizers.Adam(),\n",
    "    loss_function = tf.keras.losses.CategoricalCrossentropy(),\n",
    "    train_metrics = tf.keras.metrics.CategoricalAccuracy(),\n",
    "    val_metrics = tf.keras.metrics.CategoricalAccuracy()\n",
    ")\n",
    "t.train(epochs=50)"
   ]
  },
  {
   "cell_type": "code",
   "execution_count": 5,
   "metadata": {},
   "outputs": [
    {
     "output_type": "stream",
     "name": "stdout",
     "text": [
      "7/7 [==============================] - 0s 4ms/step - loss: 5.2332 - accuracy: 0.6850\n"
     ]
    },
    {
     "output_type": "execute_result",
     "data": {
      "text/plain": [
       "[5.233212947845459, 0.6850000023841858]"
      ]
     },
     "metadata": {},
     "execution_count": 5
    }
   ],
   "source": [
    "model.compile(loss='categorical_crossentropy', optimizer='adam', metrics=['accuracy'])\n",
    "model.evaluate(X_test, y_test)"
   ]
  },
  {
   "cell_type": "code",
   "execution_count": null,
   "metadata": {},
   "outputs": [],
   "source": []
  }
 ],
 "metadata": {
  "kernelspec": {
   "name": "python3",
   "display_name": "Python 3.8.6 64-bit",
   "metadata": {
    "interpreter": {
     "hash": "f0b7ef81dbfba64741f51278088cbb108f5f8bdb279b68750dee812d0a6f384d"
    }
   }
  },
  "language_info": {
   "codemirror_mode": {
    "name": "ipython",
    "version": 3
   },
   "file_extension": ".py",
   "mimetype": "text/x-python",
   "name": "python",
   "nbconvert_exporter": "python",
   "pygments_lexer": "ipython3",
   "version": "3.8.6-final"
  }
 },
 "nbformat": 4,
 "nbformat_minor": 2
}