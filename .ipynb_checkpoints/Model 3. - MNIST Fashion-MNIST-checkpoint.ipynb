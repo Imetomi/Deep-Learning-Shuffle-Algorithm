{
 "cells": [
  {
   "cell_type": "code",
   "execution_count": 13,
   "metadata": {},
   "outputs": [],
   "source": [
    "import os\n",
    "import numpy as np\n",
    "\n",
    "#name = \"mnist\"\n",
    "name = \"fashion_mnist\"\n",
    "\n",
    "X_train = np.load(os.path.join('data', name, name + '_train_vectors.npy'))\n",
    "X_test = np.load(os.path.join('data', name, name + '_test_vectors.npy'))\n",
    "Y_train = np.load(os.path.join('data', name, name + '_train_labels.npy'))\n",
    "Y_test = np.load(os.path.join('data', name, name + '_test_labels.npy'))\n",
    "\n",
    "X_train = np.expand_dims(X_train, -1)\n",
    "X_test = np.expand_dims(X_test, -1)"
   ]
  },
  {
   "cell_type": "code",
   "execution_count": 14,
   "metadata": {},
   "outputs": [],
   "source": [
    "import tensorflow as tf\n",
    "\n",
    "gpus= tf.config.experimental.list_physical_devices('GPU')\n",
    "tf.config.experimental.set_memory_growth(gpus[0], True)\n",
    "\n",
    "from tensorflow import keras\n",
    "from tensorflow.keras import layers\n",
    "from tensorflow.keras.models import Sequential\n",
    "\n",
    "tf.random.set_seed(42)\n",
    "np.random.seed(42)\n",
    "\n",
    "model = Sequential()\n",
    "model.add(layers.Input(shape = (28, 28, 1,)))\n",
    "model.add(layers.Conv2D(64, kernel_size = (3, 3), activation = \"relu\"))\n",
    "model.add(layers.MaxPooling2D( pool_size = (2, 2)))\n",
    "model.add(layers.Conv2D(64, kernel_size = (3, 3), activation = \"relu\"))\n",
    "model.add(layers.MaxPooling2D(pool_size = (2, 2)))\n",
    "model.add(layers.Flatten())\n",
    "model.add(layers.Dense(10, activation = \"softmax\"))\n",
    "\n",
    "model.compile(loss = \"categorical_crossentropy\", optimizer = \"adam\", metrics=[\"accuracy\"])"
   ]
  },
  {
   "cell_type": "code",
   "execution_count": 15,
   "metadata": {},
   "outputs": [
    {
     "name": "stdout",
     "output_type": "stream",
     "text": [
      "Epoch 1/20\n",
      "750/750 [==============================] - 2s 3ms/step - loss: 0.5446 - accuracy: 0.8045 - val_loss: 0.3873 - val_accuracy: 0.8683\n",
      "Epoch 2/20\n",
      "750/750 [==============================] - 2s 3ms/step - loss: 0.3587 - accuracy: 0.8742 - val_loss: 0.3383 - val_accuracy: 0.8789\n",
      "Epoch 3/20\n",
      "750/750 [==============================] - 3s 4ms/step - loss: 0.3152 - accuracy: 0.8868 - val_loss: 0.3282 - val_accuracy: 0.8840\n",
      "Epoch 4/20\n",
      "750/750 [==============================] - 2s 3ms/step - loss: 0.2879 - accuracy: 0.8972 - val_loss: 0.3091 - val_accuracy: 0.8887\n",
      "Epoch 5/20\n",
      "750/750 [==============================] - 2s 3ms/step - loss: 0.2689 - accuracy: 0.9028 - val_loss: 0.3008 - val_accuracy: 0.8936\n",
      "Epoch 6/20\n",
      "750/750 [==============================] - 2s 3ms/step - loss: 0.2477 - accuracy: 0.9104 - val_loss: 0.2789 - val_accuracy: 0.9012\n",
      "Epoch 7/20\n",
      "750/750 [==============================] - 2s 3ms/step - loss: 0.2343 - accuracy: 0.9149 - val_loss: 0.2628 - val_accuracy: 0.9046\n",
      "Epoch 8/20\n",
      "750/750 [==============================] - 2s 3ms/step - loss: 0.2198 - accuracy: 0.9199 - val_loss: 0.2644 - val_accuracy: 0.9065\n",
      "Epoch 9/20\n",
      "750/750 [==============================] - 2s 3ms/step - loss: 0.2076 - accuracy: 0.9246 - val_loss: 0.2617 - val_accuracy: 0.9049\n",
      "Epoch 10/20\n",
      "750/750 [==============================] - 2s 3ms/step - loss: 0.1959 - accuracy: 0.9291 - val_loss: 0.2622 - val_accuracy: 0.9057\n",
      "Epoch 11/20\n",
      "750/750 [==============================] - 3s 4ms/step - loss: 0.1845 - accuracy: 0.9328 - val_loss: 0.2627 - val_accuracy: 0.9100\n",
      "Epoch 12/20\n",
      "750/750 [==============================] - 2s 3ms/step - loss: 0.1747 - accuracy: 0.9369 - val_loss: 0.2625 - val_accuracy: 0.9056\n",
      "Epoch 13/20\n",
      "750/750 [==============================] - 2s 3ms/step - loss: 0.1649 - accuracy: 0.9399 - val_loss: 0.2807 - val_accuracy: 0.9003\n",
      "Epoch 14/20\n",
      "750/750 [==============================] - 2s 3ms/step - loss: 0.1568 - accuracy: 0.9436 - val_loss: 0.2833 - val_accuracy: 0.9017\n",
      "Epoch 15/20\n",
      "750/750 [==============================] - 3s 3ms/step - loss: 0.1491 - accuracy: 0.9468 - val_loss: 0.2672 - val_accuracy: 0.9078\n",
      "Epoch 16/20\n",
      "750/750 [==============================] - 3s 4ms/step - loss: 0.1430 - accuracy: 0.9482 - val_loss: 0.2757 - val_accuracy: 0.9087\n",
      "Epoch 17/20\n",
      "750/750 [==============================] - 2s 3ms/step - loss: 0.1358 - accuracy: 0.9503 - val_loss: 0.2761 - val_accuracy: 0.9093\n",
      "Epoch 18/20\n",
      "750/750 [==============================] - 2s 3ms/step - loss: 0.1266 - accuracy: 0.9542 - val_loss: 0.2750 - val_accuracy: 0.9089\n",
      "Epoch 19/20\n",
      "750/750 [==============================] - 2s 3ms/step - loss: 0.1213 - accuracy: 0.9569 - val_loss: 0.3254 - val_accuracy: 0.9012\n",
      "Epoch 20/20\n",
      "750/750 [==============================] - 2s 3ms/step - loss: 0.1151 - accuracy: 0.9581 - val_loss: 0.3018 - val_accuracy: 0.9021\n"
     ]
    }
   ],
   "source": [
    "hist = model.fit(X_train, Y_train, batch_size = 64, epochs= 20, validation_split = 0.2)"
   ]
  },
  {
   "cell_type": "code",
   "execution_count": 17,
   "metadata": {},
   "outputs": [
    {
     "name": "stdout",
     "output_type": "stream",
     "text": [
      "313/313 [==============================] - 1s 2ms/step - loss: 0.3167 - accuracy: 0.9008\n"
     ]
    },
    {
     "data": {
      "text/plain": [
       "[0.3166975975036621, 0.9007999897003174]"
      ]
     },
     "execution_count": 17,
     "metadata": {},
     "output_type": "execute_result"
    }
   ],
   "source": [
    "model.evaluate( X_test, Y_test )"
   ]
  }
 ],
 "metadata": {
  "kernelspec": {
   "display_name": "Python 3",
   "language": "python",
   "name": "python3"
  },
  "language_info": {
   "codemirror_mode": {
    "name": "ipython",
    "version": 3
   },
   "file_extension": ".py",
   "mimetype": "text/x-python",
   "name": "python",
   "nbconvert_exporter": "python",
   "pygments_lexer": "ipython3",
   "version": "3.8.5"
  }
 },
 "nbformat": 4,
 "nbformat_minor": 2
}
