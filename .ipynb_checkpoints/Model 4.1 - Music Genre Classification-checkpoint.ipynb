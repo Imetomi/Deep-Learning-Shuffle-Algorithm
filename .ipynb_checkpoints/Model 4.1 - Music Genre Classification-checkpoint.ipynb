{
 "cells": [
  {
   "cell_type": "code",
   "execution_count": 1,
   "metadata": {},
   "outputs": [],
   "source": [
    "import os\n",
    "import numpy as np\n",
    "import tensorflow as tf\n",
    "from keras.models import Sequential\n",
    "from keras.layers import Dense, Dropout\n",
    "from tensorflow.keras.regularizers import l2"
   ]
  },
  {
   "cell_type": "code",
   "execution_count": 2,
   "metadata": {},
   "outputs": [
    {
     "name": "stdout",
     "output_type": "stream",
     "text": [
      "(800, 26) (800, 10)\n"
     ]
    }
   ],
   "source": [
    "path = 'data/music_genres'\n",
    "prefix = 'music_genres_'\n",
    "X_train = np.load(os.path.join(path, prefix+'train_vectors.npy'))\n",
    "y_train = np.load(os.path.join(path, prefix+'train_labels.npy'))\n",
    "X_test  = np.load(os.path.join(path, prefix+'test_vectors.npy'))\n",
    "y_test  = np.load(os.path.join(path, prefix+'test_labels.npy'))\n",
    "print(X_train.shape, y_train.shape)"
   ]
  },
  {
   "cell_type": "code",
   "execution_count": 7,
   "metadata": {},
   "outputs": [],
   "source": [
    "tf.random.set_seed(42)\n",
    "np.random.seed(42)"
   ]
  },
  {
   "cell_type": "code",
   "execution_count": 8,
   "metadata": {},
   "outputs": [],
   "source": [
    "model = Sequential()\n",
    "model.add(Dense(250, activation='relu', input_shape=(X_train.shape[1],)))\n",
    "model.add(Dropout(0.4))\n",
    "model.add(Dense(100, activation='relu', kernel_regularizer=l2(0.01)))\n",
    "model.add(Dropout(0.4))\n",
    "model.add(Dense(50, activation='relu', kernel_regularizer=l2(0.01)))\n",
    "model.add(Dense(10, activation='softmax'))\n",
    "model.compile(loss='categorical_crossentropy', optimizer='adam', metrics=['accuracy'])"
   ]
  },
  {
   "cell_type": "code",
   "execution_count": 9,
   "metadata": {},
   "outputs": [
    {
     "name": "stdout",
     "output_type": "stream",
     "text": [
      "Epoch 1/50\n",
      "60/60 [==============================] - 2s 29ms/step - loss: 3.9026 - accuracy: 0.2278 - val_loss: 3.3748 - val_accuracy: 0.2875\n",
      "Epoch 2/50\n",
      "60/60 [==============================] - 0s 8ms/step - loss: 3.0580 - accuracy: 0.3792 - val_loss: 2.7570 - val_accuracy: 0.3875\n",
      "Epoch 3/50\n",
      "60/60 [==============================] - 1s 11ms/step - loss: 2.6259 - accuracy: 0.4250 - val_loss: 2.4438 - val_accuracy: 0.4625\n",
      "Epoch 4/50\n",
      "60/60 [==============================] - 0s 8ms/step - loss: 2.3143 - accuracy: 0.4736 - val_loss: 2.2044 - val_accuracy: 0.5125\n",
      "Epoch 5/50\n",
      "60/60 [==============================] - 0s 8ms/step - loss: 2.1018 - accuracy: 0.5125 - val_loss: 2.0537 - val_accuracy: 0.5750\n",
      "Epoch 6/50\n",
      "60/60 [==============================] - 0s 8ms/step - loss: 1.9211 - accuracy: 0.5347 - val_loss: 1.9414 - val_accuracy: 0.5000\n",
      "Epoch 7/50\n",
      "60/60 [==============================] - 0s 8ms/step - loss: 1.8569 - accuracy: 0.5264 - val_loss: 1.8762 - val_accuracy: 0.5500\n",
      "Epoch 8/50\n",
      "60/60 [==============================] - 0s 6ms/step - loss: 1.7643 - accuracy: 0.5583 - val_loss: 1.8123 - val_accuracy: 0.5125\n",
      "Epoch 9/50\n",
      "60/60 [==============================] - 0s 7ms/step - loss: 1.6663 - accuracy: 0.5889 - val_loss: 1.7258 - val_accuracy: 0.5750\n",
      "Epoch 10/50\n",
      "60/60 [==============================] - 0s 8ms/step - loss: 1.5689 - accuracy: 0.6153 - val_loss: 1.6274 - val_accuracy: 0.6375\n",
      "Epoch 11/50\n",
      "60/60 [==============================] - 1s 8ms/step - loss: 1.5217 - accuracy: 0.6125 - val_loss: 1.6119 - val_accuracy: 0.6250\n",
      "Epoch 12/50\n",
      "60/60 [==============================] - 1s 8ms/step - loss: 1.4840 - accuracy: 0.6097 - val_loss: 1.6082 - val_accuracy: 0.6125\n",
      "Epoch 13/50\n",
      "60/60 [==============================] - 0s 7ms/step - loss: 1.4302 - accuracy: 0.6292 - val_loss: 1.6099 - val_accuracy: 0.5375\n",
      "Epoch 14/50\n",
      "60/60 [==============================] - 0s 8ms/step - loss: 1.3643 - accuracy: 0.6597 - val_loss: 1.6066 - val_accuracy: 0.5875\n",
      "Epoch 15/50\n",
      "60/60 [==============================] - 1s 9ms/step - loss: 1.3607 - accuracy: 0.6625 - val_loss: 1.5610 - val_accuracy: 0.5375\n",
      "Epoch 16/50\n",
      "60/60 [==============================] - 1s 10ms/step - loss: 1.3199 - accuracy: 0.6764 - val_loss: 1.4822 - val_accuracy: 0.5500\n",
      "Epoch 17/50\n",
      "60/60 [==============================] - 0s 7ms/step - loss: 1.2995 - accuracy: 0.6500 - val_loss: 1.5166 - val_accuracy: 0.6000\n",
      "Epoch 18/50\n",
      "60/60 [==============================] - 0s 8ms/step - loss: 1.2748 - accuracy: 0.6778 - val_loss: 1.4852 - val_accuracy: 0.6125\n",
      "Epoch 19/50\n",
      "60/60 [==============================] - 0s 8ms/step - loss: 1.2456 - accuracy: 0.6764 - val_loss: 1.4571 - val_accuracy: 0.6125\n",
      "Epoch 20/50\n",
      "60/60 [==============================] - 1s 9ms/step - loss: 1.2250 - accuracy: 0.6931 - val_loss: 1.4719 - val_accuracy: 0.5750\n",
      "Epoch 21/50\n",
      "60/60 [==============================] - 0s 8ms/step - loss: 1.2184 - accuracy: 0.6750 - val_loss: 1.4720 - val_accuracy: 0.5750\n",
      "Epoch 22/50\n",
      "60/60 [==============================] - 0s 8ms/step - loss: 1.1918 - accuracy: 0.7069 - val_loss: 1.4346 - val_accuracy: 0.6250\n",
      "Epoch 23/50\n",
      "60/60 [==============================] - 0s 7ms/step - loss: 1.1354 - accuracy: 0.7125 - val_loss: 1.4191 - val_accuracy: 0.6125\n",
      "Epoch 24/50\n",
      "60/60 [==============================] - 1s 15ms/step - loss: 1.1368 - accuracy: 0.7056 - val_loss: 1.4627 - val_accuracy: 0.5750\n",
      "Epoch 25/50\n",
      "60/60 [==============================] - 0s 8ms/step - loss: 1.1840 - accuracy: 0.6667 - val_loss: 1.3998 - val_accuracy: 0.6000\n",
      "Epoch 26/50\n",
      "60/60 [==============================] - 1s 13ms/step - loss: 1.1756 - accuracy: 0.6972 - val_loss: 1.3875 - val_accuracy: 0.6125\n",
      "Epoch 27/50\n",
      "60/60 [==============================] - 1s 19ms/step - loss: 1.1396 - accuracy: 0.7181 - val_loss: 1.4213 - val_accuracy: 0.6125\n",
      "Epoch 28/50\n",
      "60/60 [==============================] - 1s 13ms/step - loss: 1.1257 - accuracy: 0.7014 - val_loss: 1.4607 - val_accuracy: 0.5875\n",
      "Epoch 29/50\n",
      "60/60 [==============================] - 1s 20ms/step - loss: 1.1016 - accuracy: 0.7125 - val_loss: 1.3901 - val_accuracy: 0.6125\n",
      "Epoch 30/50\n",
      "60/60 [==============================] - 1s 17ms/step - loss: 1.0779 - accuracy: 0.7417 - val_loss: 1.3632 - val_accuracy: 0.6250\n",
      "Epoch 31/50\n",
      "60/60 [==============================] - 1s 13ms/step - loss: 1.0550 - accuracy: 0.7389 - val_loss: 1.4012 - val_accuracy: 0.5750\n",
      "Epoch 32/50\n",
      "60/60 [==============================] - 1s 11ms/step - loss: 1.0767 - accuracy: 0.7153 - val_loss: 1.4336 - val_accuracy: 0.5750\n",
      "Epoch 33/50\n",
      "60/60 [==============================] - 1s 10ms/step - loss: 1.0172 - accuracy: 0.7514 - val_loss: 1.3595 - val_accuracy: 0.5875\n",
      "Epoch 34/50\n",
      "60/60 [==============================] - 1s 9ms/step - loss: 1.0546 - accuracy: 0.7417 - val_loss: 1.4101 - val_accuracy: 0.6000\n",
      "Epoch 35/50\n",
      "60/60 [==============================] - 1s 9ms/step - loss: 1.0768 - accuracy: 0.7347 - val_loss: 1.3513 - val_accuracy: 0.6625\n",
      "Epoch 36/50\n",
      "60/60 [==============================] - 0s 6ms/step - loss: 1.0339 - accuracy: 0.7319 - val_loss: 1.4742 - val_accuracy: 0.5875\n",
      "Epoch 37/50\n",
      "60/60 [==============================] - 0s 7ms/step - loss: 0.9907 - accuracy: 0.7583 - val_loss: 1.4102 - val_accuracy: 0.6000\n",
      "Epoch 38/50\n",
      "60/60 [==============================] - 0s 8ms/step - loss: 1.0255 - accuracy: 0.7458 - val_loss: 1.3791 - val_accuracy: 0.6375\n",
      "Epoch 39/50\n",
      "60/60 [==============================] - 0s 7ms/step - loss: 1.0092 - accuracy: 0.7500 - val_loss: 1.4445 - val_accuracy: 0.6125\n",
      "Epoch 40/50\n",
      "60/60 [==============================] - 0s 8ms/step - loss: 0.9783 - accuracy: 0.7542 - val_loss: 1.4559 - val_accuracy: 0.6500\n",
      "Epoch 41/50\n",
      "60/60 [==============================] - 1s 9ms/step - loss: 0.9896 - accuracy: 0.7431 - val_loss: 1.4403 - val_accuracy: 0.6125\n",
      "Epoch 42/50\n",
      "60/60 [==============================] - 1s 9ms/step - loss: 1.0304 - accuracy: 0.7500 - val_loss: 1.4746 - val_accuracy: 0.6250\n",
      "Epoch 43/50\n",
      "60/60 [==============================] - 0s 8ms/step - loss: 0.9411 - accuracy: 0.7653 - val_loss: 1.4104 - val_accuracy: 0.6375\n",
      "Epoch 44/50\n",
      "60/60 [==============================] - 1s 9ms/step - loss: 0.9748 - accuracy: 0.7569 - val_loss: 1.4239 - val_accuracy: 0.5875\n",
      "Epoch 45/50\n",
      "60/60 [==============================] - 0s 8ms/step - loss: 0.9601 - accuracy: 0.7778 - val_loss: 1.3926 - val_accuracy: 0.6000\n",
      "Epoch 46/50\n",
      "60/60 [==============================] - 0s 8ms/step - loss: 0.9623 - accuracy: 0.7681 - val_loss: 1.3991 - val_accuracy: 0.6125\n",
      "Epoch 47/50\n",
      "60/60 [==============================] - 1s 16ms/step - loss: 0.9322 - accuracy: 0.7764 - val_loss: 1.4167 - val_accuracy: 0.6375\n",
      "Epoch 48/50\n",
      "60/60 [==============================] - 0s 8ms/step - loss: 0.9592 - accuracy: 0.7708 - val_loss: 1.3793 - val_accuracy: 0.6500\n",
      "Epoch 49/50\n",
      "60/60 [==============================] - 0s 8ms/step - loss: 0.9551 - accuracy: 0.7681 - val_loss: 1.3844 - val_accuracy: 0.6625\n",
      "Epoch 50/50\n",
      "60/60 [==============================] - 1s 9ms/step - loss: 0.9102 - accuracy: 0.7819 - val_loss: 1.3981 - val_accuracy: 0.6250\n"
     ]
    },
    {
     "data": {
      "text/plain": [
       "<tensorflow.python.keras.callbacks.History at 0x2a919f5b460>"
      ]
     },
     "execution_count": 9,
     "metadata": {},
     "output_type": "execute_result"
    }
   ],
   "source": [
    "model.fit(X_train, y_train, epochs=50, validation_split=0.1, batch_size=12)"
   ]
  },
  {
   "cell_type": "code",
   "execution_count": 10,
   "metadata": {},
   "outputs": [
    {
     "name": "stdout",
     "output_type": "stream",
     "text": [
      "7/7 [==============================] - 0s 4ms/step - loss: 1.5271 - accuracy: 0.6500\n"
     ]
    },
    {
     "data": {
      "text/plain": [
       "[1.5270943641662598, 0.6499999761581421]"
      ]
     },
     "execution_count": 10,
     "metadata": {},
     "output_type": "execute_result"
    }
   ],
   "source": [
    "model.evaluate(X_test, y_test)"
   ]
  },
  {
   "cell_type": "code",
   "execution_count": null,
   "metadata": {},
   "outputs": [],
   "source": []
  }
 ],
 "metadata": {
  "kernelspec": {
   "display_name": "Python 3",
   "language": "python",
   "name": "python3"
  },
  "language_info": {
   "codemirror_mode": {
    "name": "ipython",
    "version": 3
   },
   "file_extension": ".py",
   "mimetype": "text/x-python",
   "name": "python",
   "nbconvert_exporter": "python",
   "pygments_lexer": "ipython3",
   "version": "3.8.5"
  }
 },
 "nbformat": 4,
 "nbformat_minor": 2
}
