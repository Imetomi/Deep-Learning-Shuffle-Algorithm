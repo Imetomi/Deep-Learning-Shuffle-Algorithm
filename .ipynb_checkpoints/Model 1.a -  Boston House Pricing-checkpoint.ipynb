{
 "cells": [
  {
   "cell_type": "code",
   "execution_count": 1,
   "metadata": {},
   "outputs": [
    {
     "name": "stderr",
     "output_type": "stream",
     "text": [
      "Using TensorFlow backend.\n"
     ]
    }
   ],
   "source": [
    "import numpy as np\n",
    "import pandas as pd\n",
    "import seaborn as sns\n",
    "import matplotlib.pyplot as plt\n",
    "%matplotlib inline\n",
    "import os\n",
    "\n",
    "from keras.models import Sequential\n",
    "from keras.layers import Dense, Dropout\n",
    "from keras.callbacks import EarlyStopping\n",
    "\n",
    "import tensorflow as tf\n",
    "import numpy as np"
   ]
  },
  {
   "cell_type": "markdown",
   "metadata": {},
   "source": [
    "# Boston Model"
   ]
  },
  {
   "cell_type": "code",
   "execution_count": 2,
   "metadata": {},
   "outputs": [],
   "source": [
    "X_train = np.load(os.path.join('data', 'boston', 'boston_train_vectors.npy'), allow_pickle=True)\n",
    "X_test = np.load(os.path.join('data', 'boston', 'boston_test_vectors.npy'), allow_pickle=True)\n",
    "y_train = np.load(os.path.join('data', 'boston', 'boston_train_labels.npy'), allow_pickle=True)\n",
    "y_test = np.load(os.path.join('data', 'boston', 'boston_test_labels.npy'), allow_pickle=True)"
   ]
  },
  {
   "cell_type": "code",
   "execution_count": 3,
   "metadata": {},
   "outputs": [
    {
     "data": {
      "text/plain": [
       "((404, 13), (404,))"
      ]
     },
     "execution_count": 3,
     "metadata": {},
     "output_type": "execute_result"
    }
   ],
   "source": [
    "X_train.shape, y_train.shape"
   ]
  },
  {
   "cell_type": "code",
   "execution_count": 4,
   "metadata": {},
   "outputs": [],
   "source": [
    "tf.random.set_seed(42)\n",
    "np.random.seed(42)\n",
    "\n",
    "model = Sequential()\n",
    "model.add(Dense(13, activation='sigmoid'))\n",
    "model.add(Dense(50, activation='sigmoid'))\n",
    "model.add(Dense(50, activation='sigmoid'))\n",
    "model.add(Dense(1, activation='linear'))\n",
    "model.compile(loss='mse', optimizer='sgd', metrics=['mae'])"
   ]
  },
  {
   "cell_type": "code",
   "execution_count": 5,
   "metadata": {},
   "outputs": [],
   "source": [
    "cb = [EarlyStopping(monitor=\"val_mae\", min_delta=0.01, patience=2, verbose=1, \n",
    "                    mode=\"auto\", baseline=None, restore_best_weights=True)]"
   ]
  },
  {
   "cell_type": "code",
   "execution_count": 6,
   "metadata": {},
   "outputs": [
    {
     "name": "stdout",
     "output_type": "stream",
     "text": [
      "Train on 363 samples, validate on 41 samples\n",
      "Epoch 1/20\n",
      "363/363 [==============================] - 1s 2ms/step - loss: 72.4254 - mae: 6.1388 - val_loss: 51.9674 - val_mae: 5.2538\n",
      "Epoch 2/20\n",
      "363/363 [==============================] - 0s 1ms/step - loss: 38.8273 - mae: 4.4947 - val_loss: 64.7959 - val_mae: 6.0049\n",
      "Epoch 3/20\n",
      "363/363 [==============================] - 1s 1ms/step - loss: 30.5920 - mae: 3.8334 - val_loss: 32.2411 - val_mae: 4.1105\n",
      "Epoch 4/20\n",
      "363/363 [==============================] - 1s 2ms/step - loss: 24.1614 - mae: 3.2710 - val_loss: 35.6574 - val_mae: 4.0103\n",
      "Epoch 5/20\n",
      "363/363 [==============================] - 1s 2ms/step - loss: 24.8811 - mae: 3.4144 - val_loss: 34.6653 - val_mae: 4.6723\n",
      "Epoch 6/20\n",
      "363/363 [==============================] - 1s 2ms/step - loss: 25.0474 - mae: 3.3594 - val_loss: 19.1495 - val_mae: 3.1042\n",
      "Epoch 7/20\n",
      "363/363 [==============================] - 1s 2ms/step - loss: 22.0923 - mae: 3.1093 - val_loss: 34.5551 - val_mae: 3.8941\n",
      "Epoch 8/20\n",
      "363/363 [==============================] - 1s 2ms/step - loss: 18.1919 - mae: 2.9032 - val_loss: 22.7996 - val_mae: 2.8728\n",
      "Epoch 9/20\n",
      "363/363 [==============================] - 1s 1ms/step - loss: 21.1177 - mae: 3.0374 - val_loss: 26.8352 - val_mae: 3.6018\n",
      "Epoch 10/20\n",
      "363/363 [==============================] - 0s 1ms/step - loss: 16.9145 - mae: 2.8465 - val_loss: 14.9761 - val_mae: 2.7024\n",
      "Epoch 11/20\n",
      "363/363 [==============================] - 1s 2ms/step - loss: 18.2182 - mae: 2.9272 - val_loss: 18.1917 - val_mae: 3.0002\n",
      "Epoch 12/20\n",
      "363/363 [==============================] - 1s 2ms/step - loss: 15.2716 - mae: 2.6465 - val_loss: 23.9879 - val_mae: 3.0522\n",
      "Restoring model weights from the end of the best epoch\n",
      "Epoch 00012: early stopping\n"
     ]
    },
    {
     "data": {
      "text/plain": [
       "<keras.callbacks.callbacks.History at 0x7f2be42651c0>"
      ]
     },
     "execution_count": 6,
     "metadata": {},
     "output_type": "execute_result"
    }
   ],
   "source": [
    "model.fit(X_train, y_train, batch_size=1, epochs=20, validation_split=0.1, callbacks=cb)"
   ]
  },
  {
   "cell_type": "code",
   "execution_count": 7,
   "metadata": {},
   "outputs": [
    {
     "name": "stdout",
     "output_type": "stream",
     "text": [
      "102/102 [==============================] - 0s 85us/step\n",
      "3.887973731859721 2.7426886558532715\n"
     ]
    }
   ],
   "source": [
    "res = model.evaluate(X_test, y_test)\n",
    "print(np.sqrt(res[0]), res[1])"
   ]
  }
 ],
 "metadata": {
  "kernelspec": {
   "display_name": "Python 3",
   "language": "python",
   "name": "python3"
  },
  "language_info": {
   "codemirror_mode": {
    "name": "ipython",
    "version": 3
   },
   "file_extension": ".py",
   "mimetype": "text/x-python",
   "name": "python",
   "nbconvert_exporter": "python",
   "pygments_lexer": "ipython3",
   "version": "3.8.5"
  }
 },
 "nbformat": 4,
 "nbformat_minor": 4
}
