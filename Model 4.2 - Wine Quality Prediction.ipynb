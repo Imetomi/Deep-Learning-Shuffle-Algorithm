{
 "cells": [
  {
   "cell_type": "code",
   "execution_count": 1,
   "metadata": {},
   "outputs": [],
   "source": [
    "import os\n",
    "import numpy as np\n",
    "import tensorflow as tf\n",
    "from keras.models import Sequential\n",
    "from keras.layers import Dense\n",
    "from keras.callbacks import EarlyStopping"
   ]
  },
  {
   "cell_type": "code",
   "execution_count": 7,
   "metadata": {},
   "outputs": [
    {
     "name": "stdout",
     "output_type": "stream",
     "text": [
      "(142, 13) (142, 3)\n"
     ]
    }
   ],
   "source": [
    "path = 'data/wine'\n",
    "prefix = 'wine_'\n",
    "X_train = np.load(os.path.join(path, prefix+'train_vectors.npy'))\n",
    "y_train = np.load(os.path.join(path, prefix+'train_labels.npy'))\n",
    "X_test  = np.load(os.path.join(path, prefix+'test_vectors.npy'))\n",
    "y_test  = np.load(os.path.join(path, prefix+'test_labels.npy'))\n",
    "print(X_train.shape, y_train.shape)"
   ]
  },
  {
   "cell_type": "code",
   "execution_count": 8,
   "metadata": {},
   "outputs": [],
   "source": [
    "tf.random.set_seed(42)\n",
    "np.random.seed(42)"
   ]
  },
  {
   "cell_type": "code",
   "execution_count": 9,
   "metadata": {},
   "outputs": [],
   "source": [
    "model = Sequential()\n",
    "model.add(Dense(30, activation='relu', input_shape=(X_test.shape[1],)))\n",
    "model.add(Dense(10, activation='relu'))\n",
    "model.add(Dense(3, activation='softmax'))\n",
    "model.compile(loss='categorical_crossentropy', optimizer='adam', metrics=['accuracy'])"
   ]
  },
  {
   "cell_type": "code",
   "execution_count": 10,
   "metadata": {},
   "outputs": [
    {
     "name": "stdout",
     "output_type": "stream",
     "text": [
      "Epoch 1/50\n",
      "16/16 [==============================] - 1s 35ms/step - loss: 0.9651 - accuracy: 0.4331 - val_loss: 0.7929 - val_accuracy: 0.7333\n",
      "Epoch 2/50\n",
      "16/16 [==============================] - 0s 9ms/step - loss: 0.8232 - accuracy: 0.6142 - val_loss: 0.6553 - val_accuracy: 0.8000\n",
      "Epoch 3/50\n",
      "16/16 [==============================] - 0s 9ms/step - loss: 0.7114 - accuracy: 0.7008 - val_loss: 0.5493 - val_accuracy: 0.8000\n",
      "Epoch 4/50\n",
      "16/16 [==============================] - 0s 13ms/step - loss: 0.6155 - accuracy: 0.7795 - val_loss: 0.4631 - val_accuracy: 0.9333\n",
      "Epoch 5/50\n",
      "16/16 [==============================] - 0s 9ms/step - loss: 0.5302 - accuracy: 0.8583 - val_loss: 0.3799 - val_accuracy: 0.9333\n",
      "Epoch 6/50\n",
      "16/16 [==============================] - 0s 11ms/step - loss: 0.4547 - accuracy: 0.9213 - val_loss: 0.3135 - val_accuracy: 0.9333\n",
      "Epoch 7/50\n",
      "16/16 [==============================] - 0s 9ms/step - loss: 0.3836 - accuracy: 0.9606 - val_loss: 0.2612 - val_accuracy: 0.9333\n",
      "Epoch 8/50\n",
      "16/16 [==============================] - 0s 10ms/step - loss: 0.3203 - accuracy: 0.9843 - val_loss: 0.2216 - val_accuracy: 0.9333\n",
      "Epoch 9/50\n",
      "16/16 [==============================] - 0s 8ms/step - loss: 0.2679 - accuracy: 0.9921 - val_loss: 0.1896 - val_accuracy: 1.0000\n",
      "Epoch 10/50\n",
      "16/16 [==============================] - 0s 10ms/step - loss: 0.2258 - accuracy: 0.9921 - val_loss: 0.1643 - val_accuracy: 1.0000\n",
      "Epoch 11/50\n",
      "16/16 [==============================] - 0s 12ms/step - loss: 0.1879 - accuracy: 0.9921 - val_loss: 0.1444 - val_accuracy: 1.0000\n",
      "Epoch 12/50\n",
      "16/16 [==============================] - 0s 10ms/step - loss: 0.1608 - accuracy: 0.9921 - val_loss: 0.1233 - val_accuracy: 1.0000\n",
      "Epoch 13/50\n",
      "16/16 [==============================] - 0s 12ms/step - loss: 0.1364 - accuracy: 0.9921 - val_loss: 0.1119 - val_accuracy: 1.0000\n",
      "Epoch 14/50\n",
      "16/16 [==============================] - 0s 15ms/step - loss: 0.1169 - accuracy: 0.9921 - val_loss: 0.1005 - val_accuracy: 1.0000\n"
     ]
    },
    {
     "data": {
      "text/plain": [
       "<tensorflow.python.keras.callbacks.History at 0x18da499c700>"
      ]
     },
     "execution_count": 10,
     "metadata": {},
     "output_type": "execute_result"
    }
   ],
   "source": [
    "model.fit(X_train, y_train, epochs=50, validation_split=0.1, batch_size=8, callbacks=[EarlyStopping(monitor='val_accuracy', patience=5)])"
   ]
  },
  {
   "cell_type": "code",
   "execution_count": 11,
   "metadata": {},
   "outputs": [
    {
     "name": "stdout",
     "output_type": "stream",
     "text": [
      "2/2 [==============================] - 0s 6ms/step - loss: 0.1281 - accuracy: 1.0000\n"
     ]
    },
    {
     "data": {
      "text/plain": [
       "[0.12806323170661926, 1.0]"
      ]
     },
     "execution_count": 11,
     "metadata": {},
     "output_type": "execute_result"
    }
   ],
   "source": [
    "model.evaluate(X_test, y_test)"
   ]
  },
  {
   "cell_type": "code",
   "execution_count": null,
   "metadata": {},
   "outputs": [],
   "source": []
  }
 ],
 "metadata": {
  "kernelspec": {
   "display_name": "Python 3",
   "language": "python",
   "name": "python3"
  },
  "language_info": {
   "codemirror_mode": {
    "name": "ipython",
    "version": 3
   },
   "file_extension": ".py",
   "mimetype": "text/x-python",
   "name": "python",
   "nbconvert_exporter": "python",
   "pygments_lexer": "ipython3",
   "version": "3.8.5"
  }
 },
 "nbformat": 4,
 "nbformat_minor": 2
}
