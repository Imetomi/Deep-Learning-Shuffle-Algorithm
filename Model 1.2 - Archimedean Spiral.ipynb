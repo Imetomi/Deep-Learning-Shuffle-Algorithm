{
 "cells": [
  {
   "cell_type": "code",
   "execution_count": 96,
   "metadata": {},
   "outputs": [],
   "source": [
    "import numpy as np\n",
    "import pandas as pd\n",
    "import seaborn as sns\n",
    "import matplotlib.pyplot as plt\n",
    "%matplotlib inline\n",
    "import os\n",
    "\n",
    "from keras.models import Sequential\n",
    "from keras.layers import Dense, Dropout\n",
    "from keras.callbacks import EarlyStopping\n",
    "\n",
    "import tensorflow as tf\n",
    "import numpy as np\n",
    "\n",
    "from sklearn.model_selection import train_test_split\n",
    "from sklearn.metrics import accuracy_score"
   ]
  },
  {
   "cell_type": "code",
   "execution_count": 97,
   "metadata": {},
   "outputs": [],
   "source": [
    "data = pd.read_csv('data/spirals.csv')"
   ]
  },
  {
   "cell_type": "code",
   "execution_count": 98,
   "metadata": {},
   "outputs": [
    {
     "data": {
      "text/html": [
       "<div>\n",
       "<style scoped>\n",
       "    .dataframe tbody tr th:only-of-type {\n",
       "        vertical-align: middle;\n",
       "    }\n",
       "\n",
       "    .dataframe tbody tr th {\n",
       "        vertical-align: top;\n",
       "    }\n",
       "\n",
       "    .dataframe thead th {\n",
       "        text-align: right;\n",
       "    }\n",
       "</style>\n",
       "<table border=\"1\" class=\"dataframe\">\n",
       "  <thead>\n",
       "    <tr style=\"text-align: right;\">\n",
       "      <th></th>\n",
       "      <th>x</th>\n",
       "      <th>y</th>\n",
       "      <th>xy</th>\n",
       "      <th>sinx</th>\n",
       "      <th>siny</th>\n",
       "      <th>x2</th>\n",
       "      <th>y2</th>\n",
       "      <th>label</th>\n",
       "    </tr>\n",
       "  </thead>\n",
       "  <tbody>\n",
       "    <tr>\n",
       "      <th>0</th>\n",
       "      <td>0.500000</td>\n",
       "      <td>0.500000</td>\n",
       "      <td>0.250000</td>\n",
       "      <td>0.938000</td>\n",
       "      <td>0.938000</td>\n",
       "      <td>0.250000</td>\n",
       "      <td>0.250000</td>\n",
       "      <td>0.0</td>\n",
       "    </tr>\n",
       "    <tr>\n",
       "      <th>1</th>\n",
       "      <td>0.509999</td>\n",
       "      <td>0.500150</td>\n",
       "      <td>0.255076</td>\n",
       "      <td>0.979264</td>\n",
       "      <td>0.938778</td>\n",
       "      <td>0.260099</td>\n",
       "      <td>0.250150</td>\n",
       "      <td>0.0</td>\n",
       "    </tr>\n",
       "    <tr>\n",
       "      <th>2</th>\n",
       "      <td>0.519991</td>\n",
       "      <td>0.500600</td>\n",
       "      <td>0.260307</td>\n",
       "      <td>0.998536</td>\n",
       "      <td>0.941081</td>\n",
       "      <td>0.270391</td>\n",
       "      <td>0.250600</td>\n",
       "      <td>0.0</td>\n",
       "    </tr>\n",
       "    <tr>\n",
       "      <th>3</th>\n",
       "      <td>0.529970</td>\n",
       "      <td>0.501350</td>\n",
       "      <td>0.265700</td>\n",
       "      <td>0.995437</td>\n",
       "      <td>0.944824</td>\n",
       "      <td>0.280868</td>\n",
       "      <td>0.251351</td>\n",
       "      <td>0.0</td>\n",
       "    </tr>\n",
       "    <tr>\n",
       "      <th>4</th>\n",
       "      <td>0.539928</td>\n",
       "      <td>0.502399</td>\n",
       "      <td>0.271259</td>\n",
       "      <td>0.970152</td>\n",
       "      <td>0.949862</td>\n",
       "      <td>0.291522</td>\n",
       "      <td>0.252404</td>\n",
       "      <td>0.0</td>\n",
       "    </tr>\n",
       "  </tbody>\n",
       "</table>\n",
       "</div>"
      ],
      "text/plain": [
       "          x         y        xy      sinx      siny        x2        y2  label\n",
       "0  0.500000  0.500000  0.250000  0.938000  0.938000  0.250000  0.250000    0.0\n",
       "1  0.509999  0.500150  0.255076  0.979264  0.938778  0.260099  0.250150    0.0\n",
       "2  0.519991  0.500600  0.260307  0.998536  0.941081  0.270391  0.250600    0.0\n",
       "3  0.529970  0.501350  0.265700  0.995437  0.944824  0.280868  0.251351    0.0\n",
       "4  0.539928  0.502399  0.271259  0.970152  0.949862  0.291522  0.252404    0.0"
      ]
     },
     "execution_count": 98,
     "metadata": {},
     "output_type": "execute_result"
    }
   ],
   "source": [
    "data.head()"
   ]
  },
  {
   "cell_type": "code",
   "execution_count": 99,
   "metadata": {},
   "outputs": [],
   "source": [
    "X = data.drop('label', axis=1).to_numpy()\n",
    "y = data['label'].to_numpy()"
   ]
  },
  {
   "cell_type": "code",
   "execution_count": 103,
   "metadata": {},
   "outputs": [],
   "source": [
    "X_train, X_test, y_train, y_test = train_test_split(X, y, test_size=0.2, random_state=42, shuffle=True)"
   ]
  },
  {
   "cell_type": "code",
   "execution_count": 162,
   "metadata": {
    "scrolled": false
   },
   "outputs": [
    {
     "name": "stdout",
     "output_type": "stream",
     "text": [
      "Epoch 1/100\n",
      "800/800 [==============================] - 0s 183us/step - loss: 0.7276 - acc: 0.4950\n",
      "Epoch 2/100\n",
      "800/800 [==============================] - 0s 102us/step - loss: 0.7074 - acc: 0.4950\n",
      "Epoch 3/100\n",
      "800/800 [==============================] - 0s 104us/step - loss: 0.6981 - acc: 0.5125\n",
      "Epoch 4/100\n",
      "800/800 [==============================] - 0s 107us/step - loss: 0.6938 - acc: 0.4900\n",
      "Epoch 5/100\n",
      "800/800 [==============================] - 0s 106us/step - loss: 0.6912 - acc: 0.5000\n",
      "Epoch 6/100\n",
      "800/800 [==============================] - 0s 103us/step - loss: 0.6894 - acc: 0.5375\n",
      "Epoch 7/100\n",
      "800/800 [==============================] - 0s 128us/step - loss: 0.6879 - acc: 0.5925\n",
      "Epoch 8/100\n",
      "800/800 [==============================] - 0s 113us/step - loss: 0.6869 - acc: 0.5987\n",
      "Epoch 9/100\n",
      "800/800 [==============================] - 0s 124us/step - loss: 0.6855 - acc: 0.5913\n",
      "Epoch 10/100\n",
      "800/800 [==============================] - 0s 94us/step - loss: 0.6842 - acc: 0.6037\n",
      "Epoch 11/100\n",
      "800/800 [==============================] - 0s 93us/step - loss: 0.6830 - acc: 0.6150\n",
      "Epoch 12/100\n",
      "800/800 [==============================] - 0s 115us/step - loss: 0.6816 - acc: 0.6075\n",
      "Epoch 13/100\n",
      "800/800 [==============================] - 0s 115us/step - loss: 0.6804 - acc: 0.6100\n",
      "Epoch 14/100\n",
      "800/800 [==============================] - 0s 115us/step - loss: 0.6789 - acc: 0.6050\n",
      "Epoch 15/100\n",
      "800/800 [==============================] - 0s 94us/step - loss: 0.6772 - acc: 0.6150\n",
      "Epoch 16/100\n",
      "800/800 [==============================] - 0s 118us/step - loss: 0.6758 - acc: 0.6187\n",
      "Epoch 17/100\n",
      "800/800 [==============================] - 0s 124us/step - loss: 0.6739 - acc: 0.6500\n",
      "Epoch 18/100\n",
      "800/800 [==============================] - 0s 120us/step - loss: 0.6720 - acc: 0.6388\n",
      "Epoch 19/100\n",
      "800/800 [==============================] - 0s 89us/step - loss: 0.6701 - acc: 0.6050\n",
      "Epoch 20/100\n",
      "800/800 [==============================] - 0s 91us/step - loss: 0.6677 - acc: 0.6150\n",
      "Epoch 21/100\n",
      "800/800 [==============================] - 0s 90us/step - loss: 0.6655 - acc: 0.6450\n",
      "Epoch 22/100\n",
      "800/800 [==============================] - 0s 88us/step - loss: 0.6629 - acc: 0.6550\n",
      "Epoch 23/100\n",
      "800/800 [==============================] - 0s 90us/step - loss: 0.6603 - acc: 0.6538\n",
      "Epoch 24/100\n",
      "800/800 [==============================] - 0s 89us/step - loss: 0.6573 - acc: 0.6525\n",
      "Epoch 25/100\n",
      "800/800 [==============================] - 0s 88us/step - loss: 0.6541 - acc: 0.6575\n",
      "Epoch 26/100\n",
      "800/800 [==============================] - 0s 91us/step - loss: 0.6512 - acc: 0.6500\n",
      "Epoch 27/100\n",
      "800/800 [==============================] - 0s 89us/step - loss: 0.6475 - acc: 0.6513\n",
      "Epoch 28/100\n",
      "800/800 [==============================] - 0s 89us/step - loss: 0.6439 - acc: 0.6637\n",
      "Epoch 29/100\n",
      "800/800 [==============================] - 0s 91us/step - loss: 0.6399 - acc: 0.6513\n",
      "Epoch 30/100\n",
      "800/800 [==============================] - 0s 90us/step - loss: 0.6356 - acc: 0.6650\n",
      "Epoch 31/100\n",
      "800/800 [==============================] - 0s 89us/step - loss: 0.6311 - acc: 0.6587\n",
      "Epoch 32/100\n",
      "800/800 [==============================] - 0s 88us/step - loss: 0.6258 - acc: 0.6837\n",
      "Epoch 33/100\n",
      "800/800 [==============================] - 0s 93us/step - loss: 0.6204 - acc: 0.6900\n",
      "Epoch 34/100\n",
      "800/800 [==============================] - 0s 90us/step - loss: 0.6143 - acc: 0.7025\n",
      "Epoch 35/100\n",
      "800/800 [==============================] - 0s 89us/step - loss: 0.6075 - acc: 0.6925\n",
      "Epoch 36/100\n",
      "800/800 [==============================] - 0s 87us/step - loss: 0.6002 - acc: 0.7000\n",
      "Epoch 37/100\n",
      "800/800 [==============================] - 0s 89us/step - loss: 0.5927 - acc: 0.7088\n",
      "Epoch 38/100\n",
      "800/800 [==============================] - 0s 91us/step - loss: 0.5847 - acc: 0.7200\n",
      "Epoch 39/100\n",
      "800/800 [==============================] - 0s 87us/step - loss: 0.5764 - acc: 0.7312\n",
      "Epoch 40/100\n",
      "800/800 [==============================] - 0s 91us/step - loss: 0.5671 - acc: 0.7763\n",
      "Epoch 41/100\n",
      "800/800 [==============================] - 0s 94us/step - loss: 0.5574 - acc: 0.8612\n",
      "Epoch 42/100\n",
      "800/800 [==============================] - 0s 86us/step - loss: 0.5478 - acc: 0.8800\n",
      "Epoch 43/100\n",
      "800/800 [==============================] - 0s 95us/step - loss: 0.5376 - acc: 0.8788\n",
      "Epoch 44/100\n",
      "800/800 [==============================] - 0s 109us/step - loss: 0.5273 - acc: 0.8775\n",
      "Epoch 45/100\n",
      "800/800 [==============================] - 0s 125us/step - loss: 0.5167 - acc: 0.8737\n",
      "Epoch 46/100\n",
      "800/800 [==============================] - 0s 122us/step - loss: 0.5055 - acc: 0.8788\n",
      "Epoch 47/100\n",
      "800/800 [==============================] - 0s 119us/step - loss: 0.4949 - acc: 0.8750\n",
      "Epoch 48/100\n",
      "800/800 [==============================] - 0s 105us/step - loss: 0.4834 - acc: 0.8775\n",
      "Epoch 49/100\n",
      "800/800 [==============================] - 0s 91us/step - loss: 0.4721 - acc: 0.8875\n",
      "Epoch 50/100\n",
      "800/800 [==============================] - 0s 107us/step - loss: 0.4608 - acc: 0.8988\n",
      "Epoch 51/100\n",
      "800/800 [==============================] - 0s 121us/step - loss: 0.4492 - acc: 0.8925\n",
      "Epoch 52/100\n",
      "800/800 [==============================] - 0s 118us/step - loss: 0.4380 - acc: 0.9013\n",
      "Epoch 53/100\n",
      "800/800 [==============================] - 0s 89us/step - loss: 0.4268 - acc: 0.8988\n",
      "Epoch 54/100\n",
      "800/800 [==============================] - 0s 99us/step - loss: 0.4155 - acc: 0.9000\n",
      "Epoch 55/100\n",
      "800/800 [==============================] - 0s 84us/step - loss: 0.4045 - acc: 0.8963\n",
      "Epoch 56/100\n",
      "800/800 [==============================] - 0s 126us/step - loss: 0.3937 - acc: 0.8913\n",
      "Epoch 57/100\n",
      "800/800 [==============================] - 0s 118us/step - loss: 0.3832 - acc: 0.8938\n",
      "Epoch 58/100\n",
      "800/800 [==============================] - 0s 105us/step - loss: 0.3722 - acc: 0.8925\n",
      "Epoch 59/100\n",
      "800/800 [==============================] - 0s 97us/step - loss: 0.3612 - acc: 0.9013\n",
      "Epoch 60/100\n",
      "800/800 [==============================] - 0s 132us/step - loss: 0.3505 - acc: 0.9050\n",
      "Epoch 61/100\n",
      "800/800 [==============================] - 0s 135us/step - loss: 0.3400 - acc: 0.9150\n",
      "Epoch 62/100\n",
      "800/800 [==============================] - 0s 97us/step - loss: 0.3304 - acc: 0.9137\n",
      "Epoch 63/100\n",
      "800/800 [==============================] - 0s 88us/step - loss: 0.3202 - acc: 0.9287\n",
      "Epoch 64/100\n",
      "800/800 [==============================] - 0s 145us/step - loss: 0.3109 - acc: 0.9300\n",
      "Epoch 65/100\n",
      "800/800 [==============================] - 0s 138us/step - loss: 0.3010 - acc: 0.9300\n",
      "Epoch 66/100\n",
      "800/800 [==============================] - 0s 90us/step - loss: 0.2930 - acc: 0.9362\n",
      "Epoch 67/100\n",
      "800/800 [==============================] - 0s 90us/step - loss: 0.2835 - acc: 0.9337\n",
      "Epoch 68/100\n",
      "800/800 [==============================] - 0s 98us/step - loss: 0.2752 - acc: 0.9413\n",
      "Epoch 69/100\n",
      "800/800 [==============================] - 0s 89us/step - loss: 0.2669 - acc: 0.9438\n",
      "Epoch 70/100\n",
      "800/800 [==============================] - 0s 99us/step - loss: 0.2589 - acc: 0.9600\n",
      "Epoch 71/100\n",
      "800/800 [==============================] - 0s 87us/step - loss: 0.2509 - acc: 0.9588\n",
      "Epoch 72/100\n",
      "800/800 [==============================] - 0s 90us/step - loss: 0.2431 - acc: 0.9638\n",
      "Epoch 73/100\n",
      "800/800 [==============================] - 0s 90us/step - loss: 0.2357 - acc: 0.9625\n",
      "Epoch 74/100\n",
      "800/800 [==============================] - 0s 100us/step - loss: 0.2288 - acc: 0.9638\n",
      "Epoch 75/100\n",
      "800/800 [==============================] - 0s 101us/step - loss: 0.2215 - acc: 0.9650\n",
      "Epoch 76/100\n",
      "800/800 [==============================] - 0s 98us/step - loss: 0.2150 - acc: 0.9650\n",
      "Epoch 77/100\n",
      "800/800 [==============================] - 0s 99us/step - loss: 0.2081 - acc: 0.9663\n",
      "Epoch 78/100\n",
      "800/800 [==============================] - 0s 104us/step - loss: 0.2018 - acc: 0.9675\n",
      "Epoch 79/100\n",
      "800/800 [==============================] - 0s 122us/step - loss: 0.1953 - acc: 0.9650\n",
      "Epoch 80/100\n",
      "800/800 [==============================] - 0s 135us/step - loss: 0.1896 - acc: 0.9663\n",
      "Epoch 81/100\n",
      "800/800 [==============================] - 0s 126us/step - loss: 0.1837 - acc: 0.9650\n",
      "Epoch 82/100\n",
      "800/800 [==============================] - 0s 138us/step - loss: 0.1775 - acc: 0.9663\n",
      "Epoch 83/100\n",
      "800/800 [==============================] - 0s 127us/step - loss: 0.1718 - acc: 0.9688\n",
      "Epoch 84/100\n",
      "800/800 [==============================] - 0s 118us/step - loss: 0.1662 - acc: 0.9688\n",
      "Epoch 85/100\n",
      "800/800 [==============================] - 0s 92us/step - loss: 0.1610 - acc: 0.9725\n",
      "Epoch 86/100\n",
      "800/800 [==============================] - 0s 90us/step - loss: 0.1563 - acc: 0.9688\n",
      "Epoch 87/100\n",
      "800/800 [==============================] - 0s 89us/step - loss: 0.1509 - acc: 0.9737\n",
      "Epoch 88/100\n",
      "800/800 [==============================] - 0s 90us/step - loss: 0.1462 - acc: 0.9812\n",
      "Epoch 89/100\n",
      "800/800 [==============================] - 0s 91us/step - loss: 0.1413 - acc: 0.9750\n",
      "Epoch 90/100\n",
      "800/800 [==============================] - 0s 91us/step - loss: 0.1376 - acc: 0.9737\n",
      "Epoch 91/100\n",
      "800/800 [==============================] - 0s 107us/step - loss: 0.1327 - acc: 0.9787\n",
      "Epoch 92/100\n",
      "800/800 [==============================] - 0s 120us/step - loss: 0.1285 - acc: 0.9775\n",
      "Epoch 93/100\n",
      "800/800 [==============================] - 0s 115us/step - loss: 0.1246 - acc: 0.9825\n",
      "Epoch 94/100\n",
      "800/800 [==============================] - 0s 89us/step - loss: 0.1204 - acc: 0.9850\n",
      "Epoch 95/100\n",
      "800/800 [==============================] - 0s 113us/step - loss: 0.1169 - acc: 0.9850\n",
      "Epoch 96/100\n",
      "800/800 [==============================] - 0s 118us/step - loss: 0.1131 - acc: 0.9900\n",
      "Epoch 97/100\n",
      "800/800 [==============================] - 0s 119us/step - loss: 0.1096 - acc: 0.9850\n",
      "Epoch 98/100\n",
      "800/800 [==============================] - 0s 115us/step - loss: 0.1062 - acc: 0.9850\n",
      "Epoch 99/100\n",
      "800/800 [==============================] - 0s 117us/step - loss: 0.1033 - acc: 0.9862\n",
      "Epoch 100/100\n",
      "800/800 [==============================] - 0s 120us/step - loss: 0.1000 - acc: 0.9875\n"
     ]
    },
    {
     "data": {
      "text/plain": [
       "<keras.callbacks.callbacks.History at 0x7fe535469a30>"
      ]
     },
     "execution_count": 162,
     "metadata": {},
     "output_type": "execute_result"
    }
   ],
   "source": [
    "tf.random.set_seed(42)\n",
    "np.random.seed(42)\n",
    "\n",
    "model = Sequential()\n",
    "model.add(Dense(7, activation='sigmoid'))\n",
    "model.add(Dense(7, activation='sigmoid'))\n",
    "model.add(Dense(1, activation='sigmoid'))\n",
    "\n",
    "model.compile(loss='binary_crossentropy', optimizer='adam', metrics=['acc'])\n",
    "model.fit(X_train, y_train, batch_size=16, epochs=100)"
   ]
  },
  {
   "cell_type": "code",
   "execution_count": 163,
   "metadata": {},
   "outputs": [
    {
     "data": {
      "text/plain": [
       "0.995"
      ]
     },
     "execution_count": 163,
     "metadata": {},
     "output_type": "execute_result"
    }
   ],
   "source": [
    "pred = model.predict(X_test)\n",
    "accuracy_score(y_test, pred.round())"
   ]
  },
  {
   "cell_type": "code",
   "execution_count": 168,
   "metadata": {},
   "outputs": [],
   "source": [
    "xx = np.linspace(4, -4, 100)\n",
    "yy = np.linspace(-4, 4, 100).T\n",
    "xx, yy = np.meshgrid(xx, yy)\n",
    "Xfull = np.c_[xx.ravel(), yy.ravel(), xx.ravel() * yy.ravel(), np.sin(xx.ravel()), \n",
    "              np.sin(yy.ravel()), xx.ravel() ** 2, yy.ravel() ** 2]"
   ]
  },
  {
   "cell_type": "code",
   "execution_count": 169,
   "metadata": {},
   "outputs": [],
   "source": [
    "y_pred = model.predict(Xfull)"
   ]
  },
  {
   "cell_type": "code",
   "execution_count": 170,
   "metadata": {},
   "outputs": [],
   "source": [
    "len(y_pred)\n",
    "im = y_pred.reshape(100, 100)"
   ]
  },
  {
   "cell_type": "code",
   "execution_count": 212,
   "metadata": {},
   "outputs": [
    {
     "data": {
      "text/plain": [
       "<matplotlib.image.AxesImage at 0x7fe53493ffd0>"
      ]
     },
     "execution_count": 212,
     "metadata": {},
     "output_type": "execute_result"
    },
    {
     "data": {
      "image/png": "[encoded data removed]",
      "text/plain": [
       "<Figure size 504x504 with 1 Axes>"
      ]
     },
     "metadata": {
      "needs_background": "light"
     },
     "output_type": "display_data"
    }
   ],
   "source": [
    "plt.figure(figsize=(7, 7))\n",
    "plt.scatter((data['x']+4)*10, 100-(data['y']+4)*10, c=data['label'], cmap='viridis')\n",
    "plt.imshow(-im)"
   ]
  },
  {
   "cell_type": "code",
   "execution_count": null,
   "metadata": {},
   "outputs": [],
   "source": []
  }
 ],
 "metadata": {
  "kernelspec": {
   "display_name": "Python 3",
   "language": "python",
   "name": "python3"
  },
  "language_info": {
   "codemirror_mode": {
    "name": "ipython",
    "version": 3
   },
   "file_extension": ".py",
   "mimetype": "text/x-python",
   "name": "python",
   "nbconvert_exporter": "python",
   "pygments_lexer": "ipython3",
   "version": "3.8.5"
  }
 },
 "nbformat": 4,
 "nbformat_minor": 4
}
